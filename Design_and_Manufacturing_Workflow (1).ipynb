{
  "nbformat": 4,
  "nbformat_minor": 5,
  "metadata": {
    "kernelspec": {
      "display_name": "Python 3",
      "language": "python",
      "name": "python3"
    },
    "language_info": {
      "codemirror_mode": {
        "name": "ipython",
        "version": 3
      },
      "file_extension": ".py",
      "mimetype": "text/x-python",
      "name": "python",
      "nbconvert_exporter": "python",
      "pygments_lexer": "ipython3",
      "version": "3.8.5"
    },
    "colab": {
      "name": "Design and Manufacturing Workflow.ipynb",
      "provenance": []
    }
  },
  "cells": [
    {
      "cell_type": "markdown",
      "metadata": {
        "id": "subject-trash"
      },
      "source": [
        "## **Design and Manufacturing Workflow**"
      ],
      "id": "subject-trash"
    },
    {
      "cell_type": "markdown",
      "metadata": {
        "id": "cloudy-italian"
      },
      "source": [
        "1. Create a quick paper mockup of your final prototype design (you may use a prior prototype if it still applies, but you may destroy it.). Once you have arrived at your desired architecture, proceed to unfold the prototype in a way that makes sense from the perspective of optimizing material usage, staying within any boundary limitations (size of a piece of posterboard, size of the cutter you will be using)."
      ],
      "id": "cloudy-italian"
    },
    {
      "cell_type": "markdown",
      "metadata": {
        "id": "polar-lawyer"
      },
      "source": [
        "The final prototype of our Razor Clam inspired foldable robot will consist of three sarrus mechanisms placed on top of one another. The sarrus mechanisms will be constructed from 8.5\" x 11\" black cardstock. The sarrus mechanisms have five holes on the top and bottom links. These holes will be used to attach 3D printed electrical housing and spring mounts. Figures 1a-1c depict a folded sarrus mechanism and two flattened sarrus mechanism (one physically drawn and one electronically drawn).  \n",
        "\n",
        "![](https://drive.google.com/uc?export=view&id=1T-czdL0g193dsuHQ7zsa8p2S6WmOctDO)\n",
        "\n",
        "<h0><center>**Figure 1a: Electronically Drawn Sarrus Mechanism**</center></h0>\n",
        "\n",
        "![](https://drive.google.com/uc?export=view&id=1JxxNfc6JNgqMDn2AdQlmDozen2yPE3YQ)\n",
        "\n",
        "<h0><center>**Figure 1b: Hand Drawn Sarrus Mechanism**</center></h0>\n",
        "\n",
        "![](https://drive.google.com/uc?export=view&id=1W9mQSL_e77eN1eUgZI9miwDFxlDqkJox)\n",
        "\n",
        "<h0><center>**Figure 1c: Folded Sarrus Mechanism (mounting holes were not cut out yet)**</center></h0>"
      ],
      "id": "polar-lawyer"
    },
    {
      "cell_type": "markdown",
      "metadata": {
        "id": "difficult-needle"
      },
      "source": [
        "2. Design the geometry of your robot in .dxf format. Convert the flattened pattern to dimensioned a Solidworks sketch. Include any mounting holes for motors, springs, or connectors. Use the Solidworks tutorial to create a hinged assembly of all parts of the design. Take a screenshot of the robot in its folded & assembled state. Flatten the assembly back to its original flattened state. Create a drawing from the assembly and use the solidworks export macro to export a yaml file (generic). Use the solidworks support functionality in foldable robotics to convert to a dxf."
      ],
      "id": "difficult-needle"
    },
    {
      "cell_type": "markdown",
      "metadata": {
        "id": "specialized-template"
      },
      "source": [
        "Although the final prototype will consist of three sarrus mechanisms stacked on top of one another, a solidworks assembly was created only using one sarrus mechanism. The sarrus mechanism created has mounting holes where 3D printed parts will attach to. These 3D printed parts will connect the three sarrus mechanisms together. Figures 2a and 2b depict a flattened and folded Solidworks model of our robots sarrus mechanisms. Two missing joints were present when using the in-class method of retrieving the yaml file and converting it into a dxf file. We realized that this is a bug within the Foldable Robotics code. Fgure 2c shows the dxf file created. \n",
        "\n",
        "![](https://drive.google.com/uc?export=view&id=1lSuxHAOsDJE6lO17XSMEL2gtLIrOVpUJ)\n",
        "\n",
        "<h0><center>**Figure 2a: Flattened Solidworks Sarrus Mechanism**</center></h0>\n",
        "\n",
        "![](https://drive.google.com/uc?export=view&id=16R5uSoGr1R790hh0pyZ8CVMpLqO1Zcmq)\n",
        "\n",
        "<h0><center>**Figure 2b: Folded Solidworks Sarrus Mechanism**</center></h0>\n",
        "\n",
        "![](https://drive.google.com/uc?export=view&id=1kI7VjQcs_HLFPDGx1j2BYc0xV74InpZs)\n",
        "\n",
        "<h0><center>**Figure 2c: .dxf File**</center></h0>"
      ],
      "id": "specialized-template"
    },
    {
      "cell_type": "markdown",
      "metadata": {
        "id": "amazing-prefix"
      },
      "source": [
        "Below is the Jupyter Notebook code used to convert the Solidworks generated yaml file to a dxf file."
      ],
      "id": "amazing-prefix"
    },
    {
      "cell_type": "code",
      "metadata": {
        "id": "fixed-novelty",
        "colab": {
          "base_uri": "https://localhost:8080/",
          "height": 353
        },
        "outputId": "6e9daeb9-d6aa-496e-d0ef-bde3843db0f0"
      },
      "source": [
        "import foldable_robotics\n",
        "from foldable_robotics.layer import Layer\n",
        "from foldable_robotics.laminate import Laminate\n",
        "import shapely.geometry as sg\n",
        "foldable_robotics.resolution=4"
      ],
      "id": "fixed-novelty",
      "execution_count": 1,
      "outputs": [
        {
          "output_type": "error",
          "ename": "ModuleNotFoundError",
          "evalue": "ignored",
          "traceback": [
            "\u001b[0;31m---------------------------------------------------------------------------\u001b[0m",
            "\u001b[0;31mModuleNotFoundError\u001b[0m                       Traceback (most recent call last)",
            "\u001b[0;32m<ipython-input-1-3c72cacac86e>\u001b[0m in \u001b[0;36m<module>\u001b[0;34m()\u001b[0m\n\u001b[0;32m----> 1\u001b[0;31m \u001b[0;32mimport\u001b[0m \u001b[0mfoldable_robotics\u001b[0m\u001b[0;34m\u001b[0m\u001b[0;34m\u001b[0m\u001b[0m\n\u001b[0m\u001b[1;32m      2\u001b[0m \u001b[0;32mfrom\u001b[0m \u001b[0mfoldable_robotics\u001b[0m\u001b[0;34m.\u001b[0m\u001b[0mlayer\u001b[0m \u001b[0;32mimport\u001b[0m \u001b[0mLayer\u001b[0m\u001b[0;34m\u001b[0m\u001b[0;34m\u001b[0m\u001b[0m\n\u001b[1;32m      3\u001b[0m \u001b[0;32mfrom\u001b[0m \u001b[0mfoldable_robotics\u001b[0m\u001b[0;34m.\u001b[0m\u001b[0mlaminate\u001b[0m \u001b[0;32mimport\u001b[0m \u001b[0mLaminate\u001b[0m\u001b[0;34m\u001b[0m\u001b[0;34m\u001b[0m\u001b[0m\n\u001b[1;32m      4\u001b[0m \u001b[0;32mimport\u001b[0m \u001b[0mshapely\u001b[0m\u001b[0;34m.\u001b[0m\u001b[0mgeometry\u001b[0m \u001b[0;32mas\u001b[0m \u001b[0msg\u001b[0m\u001b[0;34m\u001b[0m\u001b[0;34m\u001b[0m\u001b[0m\n\u001b[1;32m      5\u001b[0m \u001b[0mfoldable_robotics\u001b[0m\u001b[0;34m.\u001b[0m\u001b[0mresolution\u001b[0m\u001b[0;34m=\u001b[0m\u001b[0;36m4\u001b[0m\u001b[0;34m\u001b[0m\u001b[0;34m\u001b[0m\u001b[0m\n",
            "\u001b[0;31mModuleNotFoundError\u001b[0m: No module named 'foldable_robotics'",
            "",
            "\u001b[0;31m---------------------------------------------------------------------------\u001b[0;32m\nNOTE: If your import is failing due to a missing package, you can\nmanually install dependencies using either !pip or !apt.\n\nTo view examples of installing some common dependencies, click the\n\"Open Examples\" button below.\n\u001b[0;31m---------------------------------------------------------------------------\u001b[0m\n"
          ]
        }
      ]
    },
    {
      "cell_type": "code",
      "metadata": {
        "id": "undefined-personal"
      },
      "source": [
        "import foldable_robotics\n",
        "import foldable_robotics.dxf \n",
        "import numpy\n",
        "import shapely.geometry as sg\n",
        "from foldable_robotics.layer import Layer\n",
        "from foldable_robotics.laminate import Laminate\n",
        "import foldable_robotics.manufacturing\n",
        "import foldable_robotics.parts.castellated_hinge1\n",
        "import idealab_tools.plot_tris\n",
        "from math import pi, sin,cos,tan\n",
        "import idealab_tools.text_to_polygons\n",
        "foldable_robotics.display_height=200\n",
        "foldable_robotics.line_width=.5\n",
        "\n",
        "from foldable_robotics.layer import Layer\n",
        "from foldable_robotics.laminate import Laminate\n",
        "import foldable_robotics\n",
        "import foldable_robotics.dxf \n",
        "import foldable_robotics.manufacturing\n",
        "import foldable_robotics.parts.castellated_hinge1\n",
        "foldable_robotics.display_height=200\n",
        "foldable_robotics.line_width=.5\n",
        "\n",
        "import os\n",
        "import foldable_robotics.solidworks_support"
      ],
      "id": "undefined-personal",
      "execution_count": null,
      "outputs": []
    },
    {
      "cell_type": "code",
      "metadata": {
        "id": "mediterranean-graduate"
      },
      "source": [
        "def get_bodies(filename, layername, num_layers):\n",
        "    body = foldable_robotics.dxf.read_lwpolylines(filename,layer=layername, arc_approx = 10)\n",
        "\n",
        "    bodies = [Layer(sg.Polygon(item)) for item in body]\n",
        "    body = bodies.pop(0)\n",
        "    for item in bodies:\n",
        "        body ^= item\n",
        "    body = body.to_laminate(num_layers)\n",
        "    return body"
      ],
      "id": "mediterranean-graduate",
      "execution_count": null,
      "outputs": []
    },
    {
      "cell_type": "code",
      "metadata": {
        "id": "false-finance"
      },
      "source": [
        "def get_hinge_lines(filename,layername):\n",
        "    hinge_lines1 = foldable_robotics.dxf.read_lines(filename,layer=layername)\n",
        "    hinge_lines2 = foldable_robotics.dxf.read_lwpolylines(filename,layer=layername)\n",
        "    hinge_lines3 = []\n",
        "    for points in hinge_lines2:\n",
        "        hinge_lines3.append(points[:2])\n",
        "    hinge_lines = hinge_lines1 +hinge_lines3\n",
        "    return hinge_lines"
      ],
      "id": "false-finance",
      "execution_count": null,
      "outputs": []
    },
    {
      "cell_type": "code",
      "metadata": {
        "id": "opposed-willow"
      },
      "source": [
        "def hinge_lines_to_hinges(hinge_lines,hinge):\n",
        "    lam = Layer().to_laminate(len(hinge))\n",
        "    all_hinges = []    \n",
        "    for p3,p4 in hinge_lines:\n",
        "        all_hinges.append(hinge.map_line_stretch((0,0),(1,0),p3,p4))\n",
        "    all_hinges = lam.unary_union(*all_hinges)\n",
        "    return all_hinges"
      ],
      "id": "opposed-willow",
      "execution_count": null,
      "outputs": []
    },
    {
      "cell_type": "code",
      "metadata": {
        "id": "amino-reception"
      },
      "source": [
        "def get_cuts(filename,layername,thickness,num_layers):\n",
        "    cut_lines = foldable_robotics.dxf.read_lines(filename,layer=layername)\n",
        "    cut_lines += foldable_robotics.dxf.read_lwpolylines(filename,layer=layername, arc_approx = 10)\n",
        "    \n",
        "    cuts = []\n",
        "    for item in cut_lines:\n",
        "        cuts.append(Layer(sg.LineString(item)))\n",
        "    cuts = Layer().unary_union(*cuts)\n",
        "    cuts<<=thickness/2\n",
        "    cuts = cuts.to_laminate(num_layers)\n",
        "    return cuts   "
      ],
      "id": "amino-reception",
      "execution_count": null,
      "outputs": []
    },
    {
      "cell_type": "code",
      "metadata": {
        "id": "retained-thread"
      },
      "source": [
        "def get_holes(filename, layername,num_layers):\n",
        "    holes = foldable_robotics.dxf.read_circles(filename,layer='holes')\n",
        "    \n",
        "    holes2 = []\n",
        "    for center, radius in holes:\n",
        "        holes2.append(sg.Point(*center).buffer(radius))\n",
        "    holes_layer = Layer(*holes2)\n",
        "    holes_lam = holes_layer.to_laminate(num_layers)  \n",
        "    return holes_lam"
      ],
      "id": "retained-thread",
      "execution_count": null,
      "outputs": []
    },
    {
      "cell_type": "code",
      "metadata": {
        "id": "fantastic-entry"
      },
      "source": [
        "def hinge_width_calculator(desired_degrees,thickness):\n",
        "    theta = (180-desired_degrees)*pi/180\n",
        "    w=thickness/tan(theta)\n",
        "    return w"
      ],
      "id": "fantastic-entry",
      "execution_count": null,
      "outputs": []
    },
    {
      "cell_type": "code",
      "metadata": {
        "id": "crazy-button"
      },
      "source": [
        "def polys_to_layer(l1):\n",
        "    l1 = [sg.Polygon(item) for item in l1]\n",
        "    l11 = Layer(l1.pop(0))\n",
        "    for item in l1:\n",
        "        l11 ^= Layer(item)\n",
        "    return l11"
      ],
      "id": "crazy-button",
      "execution_count": null,
      "outputs": []
    },
    {
      "cell_type": "code",
      "metadata": {
        "id": "external-telephone"
      },
      "source": [
        "def output_pdf(filename,design,x,y,layers_separate = True):\n",
        "    design = design.translate(x,y)\n",
        "    design=design.scale(1/25.4,1/25.4)\n",
        "    design=design.scale(foldable_robotics.pdf.ppi,foldable_robotics.pdf.ppi)\n",
        "    if isinstance(design,Laminate):\n",
        "        if not layers_separate:\n",
        "            p=foldable_robotics.pdf.Page(filename+'.pdf')\n",
        "            for d in design:\n",
        "    #        d = design[0]\n",
        "                for item in d.exteriors()+d.interiors():\n",
        "                    p.draw_poly(item)\n",
        "            p.close()\n",
        "        else:\n",
        "            for ii,d in enumerate(design):\n",
        "                p=foldable_robotics.pdf.Page(filename+'{0:03f}.pdf'.format(ii))\n",
        "                for item in d.exteriors()+d.interiors():\n",
        "                    p.draw_poly(item)\n",
        "                p.close()\n",
        "\n",
        "    elif isinstance(design,Layer):\n",
        "        p=foldable_robotics.pdf.Page(filename+'.pdf')\n",
        "        for item in design.exteriors()+design.interiors():\n",
        "            p.draw_poly(item)\n",
        "        p.close()"
      ],
      "id": "external-telephone",
      "execution_count": null,
      "outputs": []
    },
    {
      "cell_type": "code",
      "metadata": {
        "id": "protecting-kingston"
      },
      "source": [
        "def build_layer_numbers(num_layers, text_size = None, prop=None):\n",
        "    text_size = text_size or 1\n",
        "    prop = prop or {'family':'Arial','size':text_size}\n",
        "    layer_ids = []\n",
        "    for ii in range(num_layers): \n",
        "    \n",
        "        l = idealab_tools.text_to_polygons.text_to_polygons('Layer '+str(ii),prop=prop)\n",
        "        layer_ids.append(l)\n",
        "    \n",
        "    layer_ids = [polys_to_layer(item) for item in layer_ids]\n",
        "    layer_id = Laminate(*layer_ids)\n",
        "    return layer_id"
      ],
      "id": "protecting-kingston",
      "execution_count": null,
      "outputs": []
    },
    {
      "cell_type": "code",
      "metadata": {
        "id": "laden-incidence"
      },
      "source": [
        "def build_web(design,keepout,support_width,jig_diameter,jig_hole_spacing,is_adhesive):\n",
        "    num_layers = len(design)\n",
        "\n",
        "    layer_id = build_layer_numbers(num_layers,text_size=jig_diameter)\n",
        "\n",
        "    design_outer = foldable_robotics.manufacturing.unary_union(design)\n",
        "    bb1= (design_outer<<jig_hole_spacing/2).bounding_box()\n",
        "    (x1,y1),p2 = bb1.bounding_box_coords()\n",
        "    w,h = bb1.get_dimensions()\n",
        "    w2 = round(w/jig_hole_spacing)*jig_hole_spacing\n",
        "    h2 = round(h/jig_hole_spacing)*jig_hole_spacing\n",
        "    \n",
        "    points = []\n",
        "    points.append(sg.Point(x1,y1))\n",
        "    points.append(sg.Point(x1+w2,y1))\n",
        "    points.append(sg.Point(x1,y1+h2))\n",
        "    points.append(sg.Point(x1+w2,y1+h2))\n",
        "    \n",
        "    layer_id = layer_id.translate(x1+jig_diameter,y1-jig_diameter/2)\n",
        "    placement_holes2 = Layer(*points)\n",
        "    placement_holes2<<=(jig_diameter/2)\n",
        "    sheet = (placement_holes2<<10).bounding_box()\n",
        "    placement_holes2=placement_holes2.to_laminate(num_layers)\n",
        "    sheet=sheet.to_laminate(num_layers)\n",
        "    \n",
        "    removable_scrap = calculate_removable_scrap(design,sheet,support_width,is_adhesive)\n",
        "    \n",
        "    web = (removable_scrap-placement_holes2)-layer_id\n",
        "    return web,sheet"
      ],
      "id": "laden-incidence",
      "execution_count": null,
      "outputs": []
    },
    {
      "cell_type": "code",
      "metadata": {
        "id": "referenced-cooper"
      },
      "source": [
        "def calculate_removable_scrap(design,sheet,width,is_adhesive):\n",
        "    '''this computes all removable scrap given a sheet, a design, and a clearance width'''\n",
        "    all_scrap = sheet-design\n",
        "\n",
        "    ru = foldable_robotics.manufacturing.not_removable_up(design,is_adhesive)\n",
        "    rd = foldable_robotics.manufacturing.not_removable_down(design,is_adhesive)\n",
        "    \n",
        "    removable_scrap_up = all_scrap-(ru<<width)\n",
        "    removable_scrap_down = all_scrap-(rd<<width)\n",
        "\n",
        "    removable_scrap = removable_scrap_up|removable_scrap_down\n",
        "    return removable_scrap"
      ],
      "id": "referenced-cooper",
      "execution_count": null,
      "outputs": []
    },
    {
      "cell_type": "code",
      "metadata": {
        "id": "severe-deadline"
      },
      "source": [
        "folder = 'C:/Users/amarine3/Design and Manufacturing Workflow/'                     \n",
        "input_filename = folder+'Sarrus Mechanism - Sheet1_Drawing View1.yaml'                            \n",
        "output_file_name = 'design.dxf'"
      ],
      "id": "severe-deadline",
      "execution_count": null,
      "outputs": []
    },
    {
      "cell_type": "code",
      "metadata": {
        "id": "foreign-briefs"
      },
      "source": [
        "round_digits = 2\n",
        "prescale=1000\n",
        "jig_diameter = 5\n",
        "support_width = 1\n",
        "kerf = .05\n",
        "jig_hole_spacing=20\n",
        "is_adhesive1 = [False]\n",
        "is_adhesive = [False,True,False,True,False]\n",
        "arc_approx = 10"
      ],
      "id": "foreign-briefs",
      "execution_count": null,
      "outputs": []
    },
    {
      "cell_type": "code",
      "metadata": {
        "id": "immune-parish",
        "scrolled": false
      },
      "source": [
        "foldable_robotics.solidworks_support.process(input_filename,output_file_name,prescale,round_digits)"
      ],
      "id": "immune-parish",
      "execution_count": null,
      "outputs": []
    },
    {
      "cell_type": "markdown",
      "metadata": {
        "id": "radio-gateway"
      },
      "source": [
        "3. Using a single-layer design approach, compute the design of your device in one layer, plotting each step along the way. This should include: a one-layer hinge design that fits your team’s need (with justification for material used, rotational needs, manufacturing method used, etc), mapping the hinge design to each joint in your joints layer of the dxf, subtracting the one layer hinge design from your body layer, and holes computed for any vertices."
      ],
      "id": "radio-gateway"
    },
    {
      "cell_type": "markdown",
      "metadata": {
        "id": "recorded-circus"
      },
      "source": [
        "Generating a perforated hinge for the single layer design."
      ],
      "id": "recorded-circus"
    },
    {
      "cell_type": "code",
      "metadata": {
        "id": "graphic-slide"
      },
      "source": [
        "radius = .01\n",
        "num_perforations = 5\n",
        "num_segments = num_perforations*2+1\n",
        "num_points = num_segments+1\n",
        "a=numpy.r_[0:1:num_points*1j]\n",
        "lines = []\n",
        "for ii in range(int(len(a)/2)-1):\n",
        "    p1 = sg.Point(a[2*ii+1]+radius,0)\n",
        "    p2 = sg.Point(a[2*ii+2]-radius,0)\n",
        "    lines.append(sg.LineString((p1,p2)))\n",
        "hinge = Layer(*lines)\n",
        "hinge<<=radius\n",
        "hinge = Laminate(hinge)\n",
        "\n",
        "\n",
        "w=hinge_width_calculator(150,1.1)\n",
        "hinge = hinge.scale(1,w)\n",
        "hinge.plot()"
      ],
      "id": "graphic-slide",
      "execution_count": null,
      "outputs": []
    },
    {
      "cell_type": "code",
      "metadata": {
        "id": "sealed-norwegian"
      },
      "source": [
        "NUMLAYERS = len(hinge)\n",
        "NUMLAYERS"
      ],
      "id": "sealed-norwegian",
      "execution_count": null,
      "outputs": []
    },
    {
      "cell_type": "code",
      "metadata": {
        "id": "fatal-singles"
      },
      "source": [
        "hinge.plot()"
      ],
      "id": "fatal-singles",
      "execution_count": null,
      "outputs": []
    },
    {
      "cell_type": "markdown",
      "metadata": {
        "id": "soviet-soldier"
      },
      "source": [
        "Generating main body of the design from the imported DXF."
      ],
      "id": "soviet-soldier"
    },
    {
      "cell_type": "code",
      "metadata": {
        "scrolled": false,
        "id": "confidential-forge"
      },
      "source": [
        "body = get_bodies(output_file_name,'body',NUMLAYERS)\n",
        "body = foldable_robotics.manufacturing.cleanup(body,.01)\n",
        "body.plot()"
      ],
      "id": "confidential-forge",
      "execution_count": null,
      "outputs": []
    },
    {
      "cell_type": "markdown",
      "metadata": {
        "id": "defensive-single"
      },
      "source": [
        "Perforated hinges at each joint line from the joint layer."
      ],
      "id": "defensive-single"
    },
    {
      "cell_type": "code",
      "metadata": {
        "scrolled": true,
        "id": "brazilian-combat"
      },
      "source": [
        "joint_lines= get_hinge_lines(output_file_name,'joints')\n",
        "joints = hinge_lines_to_hinges(joint_lines,hinge)\n",
        "joints = foldable_robotics.manufacturing.cleanup(joints,.001)\n",
        "joints.plot()"
      ],
      "id": "brazilian-combat",
      "execution_count": null,
      "outputs": []
    },
    {
      "cell_type": "code",
      "metadata": {
        "id": "allied-mongolia"
      },
      "source": [
        "cuts = get_cuts(output_file_name,'cuts',.02,NUMLAYERS)"
      ],
      "id": "allied-mongolia",
      "execution_count": null,
      "outputs": []
    },
    {
      "cell_type": "code",
      "metadata": {
        "id": "worldwide-synthetic"
      },
      "source": [
        "holes = get_holes(output_file_name,'holes',NUMLAYERS)"
      ],
      "id": "worldwide-synthetic",
      "execution_count": null,
      "outputs": []
    },
    {
      "cell_type": "markdown",
      "metadata": {
        "id": "alone-hollow"
      },
      "source": [
        "Generating holes at vertices to prevent collision."
      ],
      "id": "alone-hollow"
    },
    {
      "cell_type": "code",
      "metadata": {
        "id": "settled-solid"
      },
      "source": [
        "hole,dummy = foldable_robotics.manufacturing.calc_hole(joint_lines,w)\n",
        "hole = hole.to_laminate(NUMLAYERS)\n",
        "hole<<=.2\n",
        "hole.plot()"
      ],
      "id": "settled-solid",
      "execution_count": null,
      "outputs": []
    },
    {
      "cell_type": "markdown",
      "metadata": {
        "id": "correct-pittsburgh"
      },
      "source": [
        "End Result."
      ],
      "id": "correct-pittsburgh"
    },
    {
      "cell_type": "code",
      "metadata": {
        "scrolled": false,
        "id": "empirical-windsor"
      },
      "source": [
        "design = body- hole - joints - cuts - holes\n",
        "design.plot()"
      ],
      "id": "empirical-windsor",
      "execution_count": null,
      "outputs": []
    },
    {
      "cell_type": "markdown",
      "metadata": {
        "id": "municipal-round"
      },
      "source": [
        "Generating the keepout."
      ],
      "id": "municipal-round"
    },
    {
      "cell_type": "code",
      "metadata": {
        "scrolled": false,
        "id": "worth-packet"
      },
      "source": [
        "keepout =  foldable_robotics.manufacturing.keepout_laser(design)\n",
        "keepout.plot()"
      ],
      "id": "worth-packet",
      "execution_count": null,
      "outputs": []
    },
    {
      "cell_type": "markdown",
      "metadata": {
        "id": "mechanical-implement"
      },
      "source": [
        "Generating web and sheet generation."
      ],
      "id": "mechanical-implement"
    },
    {
      "cell_type": "code",
      "metadata": {
        "id": "legal-butter"
      },
      "source": [
        "web,sheet=build_web(design,keepout,support_width,jig_diameter,jig_hole_spacing,is_adhesive1)\n",
        "web.plot()"
      ],
      "id": "legal-butter",
      "execution_count": null,
      "outputs": []
    },
    {
      "cell_type": "code",
      "metadata": {
        "id": "proper-lying"
      },
      "source": [
        "sheet.plot()"
      ],
      "id": "proper-lying",
      "execution_count": null,
      "outputs": []
    },
    {
      "cell_type": "markdown",
      "metadata": {
        "id": "plastic-reporter"
      },
      "source": [
        "Because this is 1-layer, only single pass is required."
      ],
      "id": "plastic-reporter"
    },
    {
      "cell_type": "code",
      "metadata": {
        "id": "immediate-makeup"
      },
      "source": [
        "first_pass_scrap = sheet - design\n",
        "first_pass_scrap = foldable_robotics.manufacturing.cleanup(first_pass_scrap,.00001)\n",
        "first_pass_scrap.plot()"
      ],
      "id": "immediate-makeup",
      "execution_count": null,
      "outputs": []
    },
    {
      "cell_type": "markdown",
      "metadata": {
        "id": "complicated-treasure"
      },
      "source": [
        "Generating support."
      ],
      "id": "complicated-treasure"
    },
    {
      "cell_type": "code",
      "metadata": {
        "id": "multiple-lawyer"
      },
      "source": [
        "support = foldable_robotics.manufacturing.support(design,foldable_robotics.manufacturing.keepout_laser,support_width,support_width/2)\n",
        "support.plot()"
      ],
      "id": "multiple-lawyer",
      "execution_count": null,
      "outputs": []
    },
    {
      "cell_type": "markdown",
      "metadata": {
        "id": "moving-chamber"
      },
      "source": [
        "Combining the web, design and support into the supported design:"
      ],
      "id": "moving-chamber"
    },
    {
      "cell_type": "code",
      "metadata": {
        "id": "bacterial-calculator"
      },
      "source": [
        "supported_design = web|design|support\n",
        "supported_design.plot()"
      ],
      "id": "bacterial-calculator",
      "execution_count": null,
      "outputs": []
    },
    {
      "cell_type": "markdown",
      "metadata": {
        "id": "higher-performance"
      },
      "source": [
        "Plotting cut material final cut."
      ],
      "id": "higher-performance"
    },
    {
      "cell_type": "code",
      "metadata": {
        "id": "listed-outreach"
      },
      "source": [
        "cut_material = (keepout<<kerf)-keepout\n",
        "cut_material.plot()"
      ],
      "id": "listed-outreach",
      "execution_count": null,
      "outputs": []
    },
    {
      "cell_type": "code",
      "metadata": {
        "scrolled": true,
        "id": "chief-granny"
      },
      "source": [
        "final_cut = sheet - keepout\n",
        "final_cut = final_cut[0]\n",
        "final_cut.plot()"
      ],
      "id": "chief-granny",
      "execution_count": null,
      "outputs": []
    },
    {
      "cell_type": "markdown",
      "metadata": {
        "id": "expected-replacement"
      },
      "source": [
        "Plotting remaining material."
      ],
      "id": "expected-replacement"
    },
    {
      "cell_type": "code",
      "metadata": {
        "id": "bottom-blame"
      },
      "source": [
        "remaining_material = supported_design-cut_material\n",
        "remaining_material.plot()"
      ],
      "id": "bottom-blame",
      "execution_count": null,
      "outputs": []
    },
    {
      "cell_type": "markdown",
      "metadata": {
        "id": "aboriginal-protein"
      },
      "source": [
        "Plotting pieces resulting from cuts."
      ],
      "id": "aboriginal-protein"
    },
    {
      "cell_type": "code",
      "metadata": {
        "scrolled": true,
        "id": "international-boundary"
      },
      "source": [
        "remaining_parts = foldable_robotics.manufacturing.find_connected(remaining_material,is_adhesive1)\n",
        "for item in remaining_parts:\n",
        "    item.plot(new=True)"
      ],
      "id": "international-boundary",
      "execution_count": null,
      "outputs": []
    },
    {
      "cell_type": "code",
      "metadata": {
        "id": "conscious-terrorist"
      },
      "source": [
        "d3=design>>1\n",
        "for item in remaining_parts:\n",
        "    if not (item&d3).is_null():\n",
        "        break\n",
        "check = (item^design)\n",
        "print(check.is_null())"
      ],
      "id": "conscious-terrorist",
      "execution_count": null,
      "outputs": []
    },
    {
      "cell_type": "markdown",
      "metadata": {
        "id": "sharp-expert"
      },
      "source": [
        "Exporting 1-layer dxf."
      ],
      "id": "sharp-expert"
    },
    {
      "cell_type": "code",
      "metadata": {
        "id": "original-oxford"
      },
      "source": [
        "final_cut.export_dxf('single_layer_cut')"
      ],
      "id": "original-oxford",
      "execution_count": null,
      "outputs": []
    },
    {
      "cell_type": "markdown",
      "metadata": {
        "id": "cardiovascular-consequence"
      },
      "source": [
        "4. Using a 5-layer design approach, compute the same design of your device in five layers, plotting each step along the way. This should include: a five-layer hinge design that fits your team’s need (with justification for material used, rotational needs, manufacturing method used, etc), mapping the hinge design to each joint in your joints layer of the dxf, subtracting the 5-layer hinge design from the body laminate, holes computed for any vertices."
      ],
      "id": "cardiovascular-consequence"
    },
    {
      "cell_type": "markdown",
      "metadata": {
        "id": "touched-undergraduate"
      },
      "source": [
        "Generating a 5 layer castellated hinge."
      ],
      "id": "touched-undergraduate"
    },
    {
      "cell_type": "code",
      "metadata": {
        "id": "brazilian-poultry",
        "scrolled": true
      },
      "source": [
        "hinge = foldable_robotics.parts.castellated_hinge1.generate()\n",
        "w=hinge_width_calculator(150,1.1)\n",
        "hinge = hinge.scale(1,w)\n",
        "hinge.plot()"
      ],
      "id": "brazilian-poultry",
      "execution_count": null,
      "outputs": []
    },
    {
      "cell_type": "code",
      "metadata": {
        "id": "median-minneapolis"
      },
      "source": [
        "NUMLAYERS = len(hinge)\n",
        "NUMLAYERS"
      ],
      "id": "median-minneapolis",
      "execution_count": null,
      "outputs": []
    },
    {
      "cell_type": "code",
      "metadata": {
        "id": "continued-signal"
      },
      "source": [
        "body = get_bodies(output_file_name,'body',NUMLAYERS)\n",
        "body = foldable_robotics.manufacturing.cleanup(body,.01)\n",
        "body.plot()"
      ],
      "id": "continued-signal",
      "execution_count": null,
      "outputs": []
    },
    {
      "cell_type": "markdown",
      "metadata": {
        "id": "israeli-regular"
      },
      "source": [
        "Mapping hinge design."
      ],
      "id": "israeli-regular"
    },
    {
      "cell_type": "code",
      "metadata": {
        "id": "monetary-invasion"
      },
      "source": [
        "joint_lines= get_hinge_lines(output_file_name,'joints')\n",
        "joints = hinge_lines_to_hinges(joint_lines,hinge)\n",
        "joints = foldable_robotics.manufacturing.cleanup(joints,.02)\n",
        "joints.plot()"
      ],
      "id": "monetary-invasion",
      "execution_count": null,
      "outputs": []
    },
    {
      "cell_type": "code",
      "metadata": {
        "id": "official-expansion"
      },
      "source": [
        "cuts = get_cuts(output_file_name,'cuts',.02,NUMLAYERS)"
      ],
      "id": "official-expansion",
      "execution_count": null,
      "outputs": []
    },
    {
      "cell_type": "code",
      "metadata": {
        "id": "regulation-brave"
      },
      "source": [
        "holes = get_holes(output_file_name,'holes',NUMLAYERS)"
      ],
      "id": "regulation-brave",
      "execution_count": null,
      "outputs": []
    },
    {
      "cell_type": "markdown",
      "metadata": {
        "id": "precious-michael"
      },
      "source": [
        "Computting holes."
      ],
      "id": "precious-michael"
    },
    {
      "cell_type": "code",
      "metadata": {
        "scrolled": true,
        "id": "israeli-reading"
      },
      "source": [
        "hole,dummy = foldable_robotics.manufacturing.calc_hole(joint_lines,w)\n",
        "hole = hole.to_laminate(NUMLAYERS)\n",
        "hole<<=.2\n",
        "hole.plot()"
      ],
      "id": "israeli-reading",
      "execution_count": null,
      "outputs": []
    },
    {
      "cell_type": "markdown",
      "metadata": {
        "id": "protected-ethnic"
      },
      "source": [
        "5. Using the full design pipeline found on the website and discussed in class, compute the manufacturing geometry for a five-layer laminate, plotting each step along the way. This should include: web design, support design, non-removable scrap, connection check of all parts that result from the second-pass cut, and similarity check between design and removed final part."
      ],
      "id": "protected-ethnic"
    },
    {
      "cell_type": "markdown",
      "metadata": {
        "id": "utility-reference"
      },
      "source": [
        "Subtracting hole, cut, and joint geometries from the body."
      ],
      "id": "utility-reference"
    },
    {
      "cell_type": "code",
      "metadata": {
        "scrolled": false,
        "id": "ambient-arrival"
      },
      "source": [
        "design = body- hole - joints - cuts - holes\n",
        "design.plot()"
      ],
      "id": "ambient-arrival",
      "execution_count": null,
      "outputs": []
    },
    {
      "cell_type": "code",
      "metadata": {
        "id": "first-prescription"
      },
      "source": [
        "keepout =  foldable_robotics.manufacturing.keepout_laser(design)\n",
        "keepout.plot()"
      ],
      "id": "first-prescription",
      "execution_count": null,
      "outputs": []
    },
    {
      "cell_type": "markdown",
      "metadata": {
        "id": "collective-session"
      },
      "source": [
        "Web design"
      ],
      "id": "collective-session"
    },
    {
      "cell_type": "code",
      "metadata": {
        "scrolled": true,
        "id": "cardiac-roommate"
      },
      "source": [
        "web,sheet=build_web(design,keepout,support_width,jig_diameter,jig_hole_spacing,is_adhesive)\n",
        "web.plot()"
      ],
      "id": "cardiac-roommate",
      "execution_count": null,
      "outputs": []
    },
    {
      "cell_type": "code",
      "metadata": {
        "id": "still-frame"
      },
      "source": [
        "sheet.plot()"
      ],
      "id": "still-frame",
      "execution_count": null,
      "outputs": []
    },
    {
      "cell_type": "code",
      "metadata": {
        "id": "approximate-superior"
      },
      "source": [
        "second_pass_scrap = sheet-keepout\n",
        "first_pass_scrap = sheet - design-second_pass_scrap\n",
        "first_pass_scrap = foldable_robotics.manufacturing.cleanup(first_pass_scrap,.00001)\n",
        "first_pass_scrap.plot()"
      ],
      "id": "approximate-superior",
      "execution_count": null,
      "outputs": []
    },
    {
      "cell_type": "markdown",
      "metadata": {
        "id": "resident-korean"
      },
      "source": [
        "Support design."
      ],
      "id": "resident-korean"
    },
    {
      "cell_type": "code",
      "metadata": {
        "id": "grave-lodging"
      },
      "source": [
        "support = foldable_robotics.manufacturing.support(design,foldable_robotics.manufacturing.keepout_laser,support_width,support_width/2)\n",
        "support.plot()"
      ],
      "id": "grave-lodging",
      "execution_count": null,
      "outputs": []
    },
    {
      "cell_type": "code",
      "metadata": {
        "id": "shaped-consent"
      },
      "source": [
        "supported_design = web|design|support\n",
        "supported_design.plot()"
      ],
      "id": "shaped-consent",
      "execution_count": null,
      "outputs": []
    },
    {
      "cell_type": "code",
      "metadata": {
        "id": "weekly-hindu"
      },
      "source": [
        "cut_material = (keepout<<kerf)-keepout\n",
        "cut_material.plot()"
      ],
      "id": "weekly-hindu",
      "execution_count": null,
      "outputs": []
    },
    {
      "cell_type": "code",
      "metadata": {
        "id": "addressed-chile"
      },
      "source": [
        "final_cut = sheet - keepout\n",
        "final_cut = final_cut[0]\n",
        "final_cut.plot()"
      ],
      "id": "addressed-chile",
      "execution_count": null,
      "outputs": []
    },
    {
      "cell_type": "markdown",
      "metadata": {
        "id": "interpreted-circle"
      },
      "source": [
        "Full cut."
      ],
      "id": "interpreted-circle"
    },
    {
      "cell_type": "code",
      "metadata": {
        "id": "portuguese-immunology"
      },
      "source": [
        "remaining_material = supported_design-cut_material\n",
        "remaining_material.plot()"
      ],
      "id": "portuguese-immunology",
      "execution_count": null,
      "outputs": []
    },
    {
      "cell_type": "markdown",
      "metadata": {
        "id": "annual-scout"
      },
      "source": [
        "Connection check."
      ],
      "id": "annual-scout"
    },
    {
      "cell_type": "code",
      "metadata": {
        "id": "living-indonesia"
      },
      "source": [
        "remaining_parts = foldable_robotics.manufacturing.find_connected(remaining_material,is_adhesive)\n",
        "for item in remaining_parts:\n",
        "    item.plot(new=True)"
      ],
      "id": "living-indonesia",
      "execution_count": null,
      "outputs": []
    },
    {
      "cell_type": "code",
      "metadata": {
        "id": "selected-kuwait"
      },
      "source": [
        "d3=design>>1\n",
        "for item in remaining_parts:\n",
        "    if not (item&d3).is_null():\n",
        "        break\n",
        "check = (item^design)\n",
        "print(check.is_null())"
      ],
      "id": "selected-kuwait",
      "execution_count": null,
      "outputs": []
    },
    {
      "cell_type": "code",
      "metadata": {
        "id": "assigned-layer"
      },
      "source": [
        "if check.is_null():\n",
        "    supported_design.export_dxf('first_pass')\n",
        "    final_cut.export_dxf('second_pass')\n",
        "    \n"
      ],
      "id": "assigned-layer",
      "execution_count": null,
      "outputs": []
    },
    {
      "cell_type": "code",
      "metadata": {
        "id": "educated-possibility"
      },
      "source": [
        "w,h = supported_design.get_dimensions()\n",
        "p0,p1 = supported_design.bounding_box_coords()\n",
        "\n",
        "rigid_layer = supported_design[0] | (supported_design[-1].translate(w+10,0))\n",
        "rigid_layer.plot()"
      ],
      "id": "educated-possibility",
      "execution_count": null,
      "outputs": []
    },
    {
      "cell_type": "code",
      "metadata": {
        "id": "polish-welsh"
      },
      "source": [
        "l4 = supported_design[3].scale(-1,1)\n",
        "p2,p3 = l4.bounding_box_coords()\n",
        "l4 = l4.translate(p0[0]-p2[0]+10+w,p0[1]-p2[1])\n",
        "\n",
        "adhesive_layer = supported_design[1] | l4\n",
        "adhesive_layer.plot()"
      ],
      "id": "polish-welsh",
      "execution_count": null,
      "outputs": []
    },
    {
      "cell_type": "code",
      "metadata": {
        "id": "essential-atlas"
      },
      "source": [
        "first_pass = Laminate(rigid_layer,adhesive_layer,supported_design[2])\n",
        "if check.is_null():\n",
        "    first_pass.export_dxf('first_pass')\n",
        "    final_cut.export_dxf('final_cut')"
      ],
      "id": "essential-atlas",
      "execution_count": null,
      "outputs": []
    },
    {
      "cell_type": "code",
      "metadata": {
        "id": "lyric-premises"
      },
      "source": [
        "check.is_null()"
      ],
      "id": "lyric-premises",
      "execution_count": null,
      "outputs": []
    },
    {
      "cell_type": "markdown",
      "metadata": {
        "id": "going-curve"
      },
      "source": [
        "Exporting 5-layer DXFs:"
      ],
      "id": "going-curve"
    },
    {
      "cell_type": "code",
      "metadata": {
        "id": "fossil-reliance"
      },
      "source": [
        "rigid_layer.export_dxf('rigid_layer')\n",
        "adhesive_layer.export_dxf('adhesive_layer')\n",
        "final_cut.export_dxf('final_cut')"
      ],
      "id": "fossil-reliance",
      "execution_count": null,
      "outputs": []
    },
    {
      "cell_type": "markdown",
      "metadata": {
        "id": "precise-offering"
      },
      "source": [
        "6. Export your final cut files to .dxf or .pdf, depending on your need. You should export one file per layer as well as one final cut file(if using a laminate process)."
      ],
      "id": "precise-offering"
    },
    {
      "cell_type": "markdown",
      "metadata": {
        "id": "backed-headquarters"
      },
      "source": [
        "![](https://drive.google.com/uc?export=view&id=1eAjMtAMA1WtnvtoRONltmoouwO0kDXGc)\n",
        "\n",
        "<h0><center>**Figure 6a: Single-Layer .dxf File**</center></h0>\n",
        "\n",
        "![](https://drive.google.com/uc?export=view&id=1U5vZSmv7uNjHHDBDrjOgyyr9px9UelMn)\n",
        "\n",
        "<h0><center>**Figure 6b: Five-Layer Adhesive .dxf File**</center></h0>\n",
        "\n",
        "![](https://drive.google.com/uc?export=view&id=1GjR_hsVQBlxLJSutQzukx6boUkBVkBV6)\n",
        "\n",
        "<h0><center>**Figure 6c: Five-Layer Rigid .dxf File**</center></h0>\n",
        "\n",
        "![](https://drive.google.com/uc?export=view&id=1viyfRq0g6BoDbpCgmxWuvjoKTdDBgIQ8)\n",
        "\n",
        "<h0><center>**Figure 6d: Five-Layer Final .dxf File**</center></h0>"
      ],
      "id": "backed-headquarters"
    }
  ]
}