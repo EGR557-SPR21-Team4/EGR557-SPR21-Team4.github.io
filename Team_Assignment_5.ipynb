{
 "cells": [
  {
   "cell_type": "code",
   "execution_count": 1,
   "metadata": {},
   "outputs": [],
   "source": [
    "%matplotlib inline\n",
    "import numpy\n",
    "import matplotlib.pyplot as plt\n",
    "import scipy.optimize\n",
    "import math\n",
    "import pynamics\n",
    "from pynamics.system import System\n",
    "from pynamics.frame import Frame\n",
    "import sympy\n",
    "from pynamics.variable_types import Differentiable,Constant,Variable\n",
    "from pynamics.body import Body\n",
    "from pynamics.dyadic import Dyadic\n",
    "from pynamics.output import Output,PointsOutput\n",
    "from pynamics.particle import Particle\n",
    "import pynamics.integration\n",
    "plt.ion()\n",
    "from math import pi"
   ]
  },
  {
   "cell_type": "code",
   "execution_count": 2,
   "metadata": {},
   "outputs": [],
   "source": [
    "def length(v1):\n",
    "    v1 = numpy.array(v1).flatten()\n",
    "    l = (v1.dot(v1))**.5\n",
    "    return l"
   ]
  },
  {
   "cell_type": "code",
   "execution_count": 3,
   "metadata": {},
   "outputs": [],
   "source": [
    "def total_angle(v1,v2,v3=None):\n",
    "\n",
    "    v1 = numpy.array(v1).flatten()\n",
    "    if len(v1)==2:\n",
    "        v1 = numpy.r_[v1,0]\n",
    "        v3 = numpy.array([0,0,1])\n",
    "\n",
    "        v2 = numpy.array(v2).flatten()\n",
    "       \n",
    "    if len(v2)==2:\n",
    "        v2 = numpy.r_[v2,0]\n",
    "        v3 = numpy.array([0,0,1])\n",
    "\n",
    "    costheta = numpy.dot(v1,v2)\n",
    "    sintheta  = numpy.cross(v1,v2)\n",
    "    l_sintheta = length(sintheta)\n",
    "    neg = sintheta.dot(v3)\n",
    "    if neg<0:\n",
    "        neg = -1\n",
    "    else:\n",
    "        neg=1\n",
    "    theta = math.atan2(neg*l_sintheta,costheta)\n",
    "    return theta  "
   ]
  },
  {
   "cell_type": "code",
   "execution_count": 4,
   "metadata": {},
   "outputs": [],
   "source": [
    "def inner_angle(v1,v2):\n",
    "    \n",
    "    v1 = numpy.array(v1).flatten()\n",
    "    l1 = length(v1)\n",
    "    v2 = numpy.array(v2).flatten()\n",
    "    l2 = length(v2)\n",
    "    cost = numpy.dot(v1,v2)/l1/l2\n",
    "    t = math.acos(cost)\n",
    "    return t"
   ]
  },
  {
   "cell_type": "code",
   "execution_count": 5,
   "metadata": {},
   "outputs": [],
   "source": [
    "'Initialising points'\n",
    "\n",
    "p0_ini = 0,0\n",
    "p1_ini = 1,0\n",
    "p2_ini = 1.5,0.75\n",
    "p3_ini = 1,1.5\n",
    "p4_ini = 0,1.5\n",
    "p5_ini = -0.5,0.75\n",
    "\n",
    "\n",
    "'Putting points into an array'\n",
    "p_ini = numpy.array([p0_ini,p1_ini,p2_ini,p3_ini,p4_ini,p5_ini])\n",
    "\n",
    "'Naming points'\n",
    "point_text = ['p0','p1','p2','p3','p4','p5','p6','p7','p8','p9']"
   ]
  },
  {
   "cell_type": "code",
   "execution_count": 6,
   "metadata": {},
   "outputs": [],
   "source": [
    "'Appending order of the vectors to the list'\n",
    "\n",
    "vector_order = []\n",
    "vector_order.append((0,1))\n",
    "vector_order.append((1,2))\n",
    "vector_order.append((2,3))\n",
    "vector_order.append((3,4))\n",
    "vector_order.append((4,5))\n",
    "vector_order.append((5,0))\n",
    "\n",
    "'Putting them into an array'\n",
    "vector_order = numpy.array(vector_order)\n",
    "\n",
    "'Naming the vectors including q'\n",
    "vector_text = ['v0','v1','v2','v3','v4','v5','v6','v7','v8','v9','v10']\n",
    "\n",
    "'Calculating initial vectors'\n",
    "v_ini = p_ini[vector_order[:,1]]-p_ini[vector_order[:,0]]\n",
    "\n",
    "'Calculating length of the initial vectors'\n",
    "l_ini = [length(item) for item in v_ini]\n",
    "\n",
    "'Finding the mid point of the vector to label the vector'\n",
    "text_location = (p_ini[vector_order[:,1]]+p_ini[vector_order[:,0]])/2"
   ]
  },
  {
   "cell_type": "code",
   "execution_count": 7,
   "metadata": {},
   "outputs": [],
   "source": [
    "'Plotting the mechanism'\n",
    "\n",
    "def plot_mechanism(point_location,text_location=None):\n",
    "    \n",
    "    for item in vector_order:\n",
    "        plt.plot(*(point_location[item,:3].T),'ko-')\n",
    "    \n",
    "    'labelling points and vectors, when the midpoint is given'\n",
    "    if text_location is not None:\n",
    "        for item,text in zip(point_location,point_text):\n",
    "            ax.text(x=item[0],y=item[1],s=text)\n",
    "\n",
    "        for item,text in zip(text_location,vector_text):\n",
    "            ax.text(x=item[0],y=item[1],s=text)"
   ]
  },
  {
   "cell_type": "code",
   "execution_count": 8,
   "metadata": {},
   "outputs": [
    {
     "data": {
      "image/png": "[encoded data removed]",
      "text/plain": [
       "<Figure size 432x288 with 1 Axes>"
      ]
     },
     "metadata": {
      "needs_background": "light"
     },
     "output_type": "display_data"
    }
   ],
   "source": [
    "'Opening a figure window and plotting the mechanism'\n",
    "\n",
    "fig = plt.figure();\n",
    "ax = fig.add_subplot(111)\n",
    "'function call for plot_mechanism'\n",
    "plot_mechanism(p_ini,text_location)\n",
    "plt.show()"
   ]
  },
  {
   "cell_type": "code",
   "execution_count": 9,
   "metadata": {},
   "outputs": [],
   "source": [
    "global_q = False\n",
    "use_constraints = False\n",
    "system = System()\n",
    "pynamics.set_system(__name__,system)"
   ]
  },
  {
   "cell_type": "code",
   "execution_count": 10,
   "metadata": {},
   "outputs": [],
   "source": [
    "lA = Constant(1,'lA',system)\n",
    "lB = Constant(1,'lB',system)\n",
    "lC = Constant(1,'lC',system)\n",
    "lD = Constant(1,'lD',system)\n",
    "lE = Constant(1,'lE',system)\n",
    "lF = Constant(1,'lF',system)\n",
    "\n",
    "# mA = Constant(1,'mA',system)\n",
    "# mB = Constant(1,'mB',system)\n",
    "# mC = Constant(1,'mC',system)\n",
    "\n",
    "# g = Constant(9.81,'g',system)\n",
    "# b = Constant(1e1,'b',system)\n",
    "# k = Constant(1e1,'k',system)\n",
    "\n",
    "# preload1 = Constant(0*pi/180,'preload1',system)\n",
    "# preload2 = Constant(0*pi/180,'preload2',system)\n",
    "# preload3 = Constant(0*pi/180,'preload3',system)"
   ]
  },
  {
   "cell_type": "code",
   "execution_count": 11,
   "metadata": {},
   "outputs": [],
   "source": [
    "Ixx_A = Constant(1,'Ixx_A',system)\n",
    "Iyy_A = Constant(1,'Iyy_A',system)\n",
    "Izz_A = Constant(1,'Izz_A',system)\n",
    "Ixx_B = Constant(1,'Ixx_B',system)\n",
    "Iyy_B = Constant(1,'Iyy_B',system)\n",
    "Izz_B = Constant(1,'Izz_B',system)\n",
    "Ixx_C = Constant(1,'Ixx_C',system)\n",
    "Iyy_C = Constant(1,'Iyy_C',system)\n",
    "Izz_C = Constant(1,'Izz_C',system)\n",
    "Ixx_D = Constant(1,'Ixx_D',system)\n",
    "Iyy_D = Constant(1,'Iyy_D',system)\n",
    "Izz_D = Constant(1,'Izz_D',system)\n",
    "Ixx_E = Constant(1,'Ixx_E',system)\n",
    "Iyy_E = Constant(1,'Iyy_E',system)\n",
    "Izz_E = Constant(1,'Izz_E',system)\n",
    "Ixx_F = Constant(1,'Ixx_F',system)\n",
    "Iyy_F = Constant(1,'Iyy_F',system)\n",
    "Izz_F = Constant(1,'Izz_F',system)\n",
    "\n",
    "tol = 1e-12 #tolerance\n",
    "\n",
    "tinitial = 0\n",
    "tfinal = 10\n",
    "fps = 30\n",
    "tstep = 1/fps\n",
    "t = numpy.r_[tinitial:tfinal:tstep]"
   ]
  },
  {
   "cell_type": "code",
   "execution_count": 12,
   "metadata": {},
   "outputs": [],
   "source": [
    "N = Frame('N')\n",
    "A = Frame('A')\n",
    "B = Frame('B')\n",
    "C = Frame('C')\n",
    "D = Frame('D')\n",
    "E = Frame('E')\n",
    "F = Frame('F')"
   ]
  },
  {
   "cell_type": "code",
   "execution_count": 13,
   "metadata": {},
   "outputs": [],
   "source": [
    "qA,qA_d,qA_dd = Differentiable('qA',system)\n",
    "qB,qB_d,qB_dd = Differentiable('qB',system)\n",
    "qC,qC_d,qC_dd = Differentiable('qC',system)\n",
    "qD,qD_d,qD_dd = Differentiable('qD',system)\n",
    "qE,qE_d,qE_dd = Differentiable('qE',system)\n",
    "qF,qF_d,qF_dd = Differentiable('qF',system)"
   ]
  },
  {
   "cell_type": "code",
   "execution_count": 14,
   "metadata": {},
   "outputs": [],
   "source": [
    "system.set_newtonian(N)\n",
    "A.rotate_fixed_axis_directed(N,[0,0,1],qA,system)\n",
    "B.rotate_fixed_axis_directed(A,[0,0,1],qB,system)\n",
    "C.rotate_fixed_axis_directed(B,[0,0,1],qC,system)\n",
    "D.rotate_fixed_axis_directed(C,[0,0,1],qD,system) \n",
    "E.rotate_fixed_axis_directed(D,[0,0,1],qE,system)\n",
    "F.rotate_fixed_axis_directed(E,[0,0,1],qF,system)"
   ]
  },
  {
   "cell_type": "code",
   "execution_count": 15,
   "metadata": {},
   "outputs": [],
   "source": [
    "'Vectors defined along their lengths'\n",
    "\n",
    "vN = 0*N.x + 0*N.y + 0*N.z\n",
    "vA = vN + lA*A.x\n",
    "vB = vA + lB*B.x\n",
    "vC = vB + lC*C.x\n",
    "vD = vC + lD*D.x\n",
    "vE = vD + lE*E.x\n",
    "vF = vE + lF*F.x"
   ]
  },
  {
   "cell_type": "code",
   "execution_count": 16,
   "metadata": {},
   "outputs": [],
   "source": [
    "'initial values'\n",
    "\n",
    "initialvalues = {}\n",
    "initialvalues[qA]=90*pi/180\n",
    "initialvalues[qA_d]=0*pi/180\n",
    "initialvalues[qB]=90*pi/180\n",
    "initialvalues[qB_d]=0*pi/180\n",
    "initialvalues[qC]=180*pi/180\n",
    "initialvalues[qC_d]=0*pi/180\n",
    "initialvalues[qD]=90*pi/180\n",
    "initialvalues[qD_d]=0*pi/180\n",
    "initialvalues[qE]=90*pi/180\n",
    "initialvalues[qE_d]=0*pi/180\n",
    "initialvalues[qF]=180*pi/180\n",
    "initialvalues[qF_d]=0*pi/180\n",
    "\n",
    "statevariables = system.get_state_variables()\n",
    "ini = [initialvalues[item] for item in statevariables]"
   ]
  },
  {
   "cell_type": "code",
   "execution_count": 17,
   "metadata": {},
   "outputs": [
    {
     "data": {
      "text/plain": [
       "'Centre of mass'"
      ]
     },
     "execution_count": 17,
     "metadata": {},
     "output_type": "execute_result"
    }
   ],
   "source": [
    "'Centre of mass'\n",
    "\n",
    "# Acm=vN+lA/2*A.x\n",
    "# Bcm=vA+lB/2*B.x\n",
    "# Ccm=vB+lC/2*C.x\n",
    "# Dcm=vC+lD/2*D.x\n",
    "# Ecm=vD+lE/2*E.x\n",
    "# Fcm=vE+lF/2*F.x"
   ]
  },
  {
   "cell_type": "code",
   "execution_count": 18,
   "metadata": {},
   "outputs": [],
   "source": [
    "'angular velocity'\n",
    "\n",
    "wNA = N.getw_(A)\n",
    "wAB = A.getw_(B)\n",
    "wBC = B.getw_(C)\n",
    "wCD = C.getw_(D)\n",
    "wDE = D.getw_(E)\n",
    "wEF = E.getw_(F)\n",
    "wFA = F.getw_(A)\n",
    "\n",
    "'Derivative of vectors'\n",
    "vend_effector = vF.time_derivative(N,system)\n",
    "\n"
   ]
  },
  {
   "cell_type": "code",
   "execution_count": 19,
   "metadata": {},
   "outputs": [
    {
     "ename": "NameError",
     "evalue": "name 'pAcm' is not defined",
     "output_type": "error",
     "traceback": [
      "\u001b[1;31m---------------------------------------------------------------------------\u001b[0m",
      "\u001b[1;31mNameError\u001b[0m                                 Traceback (most recent call last)",
      "\u001b[1;32m<ipython-input-19-d4d4e0d8cea4>\u001b[0m in \u001b[0;36m<module>\u001b[1;34m\u001b[0m\n\u001b[0;32m      8\u001b[0m \u001b[0mIF\u001b[0m \u001b[1;33m=\u001b[0m \u001b[0mDyadic\u001b[0m\u001b[1;33m.\u001b[0m\u001b[0mbuild\u001b[0m\u001b[1;33m(\u001b[0m\u001b[0mF\u001b[0m\u001b[1;33m,\u001b[0m\u001b[0mIxx_F\u001b[0m\u001b[1;33m,\u001b[0m\u001b[0mIyy_F\u001b[0m\u001b[1;33m,\u001b[0m\u001b[0mIzz_F\u001b[0m\u001b[1;33m)\u001b[0m\u001b[1;33m\u001b[0m\u001b[1;33m\u001b[0m\u001b[0m\n\u001b[0;32m      9\u001b[0m \u001b[1;33m\u001b[0m\u001b[0m\n\u001b[1;32m---> 10\u001b[1;33m \u001b[0mBodyA\u001b[0m \u001b[1;33m=\u001b[0m \u001b[0mBody\u001b[0m\u001b[1;33m(\u001b[0m\u001b[1;34m'BodyA'\u001b[0m\u001b[1;33m,\u001b[0m\u001b[0mA\u001b[0m\u001b[1;33m,\u001b[0m\u001b[0mpAcm\u001b[0m\u001b[1;33m,\u001b[0m\u001b[0mmA\u001b[0m\u001b[1;33m,\u001b[0m\u001b[0mIA\u001b[0m\u001b[1;33m,\u001b[0m\u001b[0msystem\u001b[0m\u001b[1;33m)\u001b[0m\u001b[1;33m\u001b[0m\u001b[1;33m\u001b[0m\u001b[0m\n\u001b[0m\u001b[0;32m     11\u001b[0m \u001b[0mBodyB\u001b[0m \u001b[1;33m=\u001b[0m \u001b[0mBody\u001b[0m\u001b[1;33m(\u001b[0m\u001b[1;34m'BodyB'\u001b[0m\u001b[1;33m,\u001b[0m\u001b[0mB\u001b[0m\u001b[1;33m,\u001b[0m\u001b[0mpBcm\u001b[0m\u001b[1;33m,\u001b[0m\u001b[0mmB\u001b[0m\u001b[1;33m,\u001b[0m\u001b[0mIB\u001b[0m\u001b[1;33m,\u001b[0m\u001b[0msystem\u001b[0m\u001b[1;33m)\u001b[0m\u001b[1;33m\u001b[0m\u001b[1;33m\u001b[0m\u001b[0m\n\u001b[0;32m     12\u001b[0m \u001b[1;31m#BodyC = Body('BodyC',C,pCcm,mC,IC,system)\u001b[0m\u001b[1;33m\u001b[0m\u001b[1;33m\u001b[0m\u001b[1;33m\u001b[0m\u001b[0m\n",
      "\u001b[1;31mNameError\u001b[0m: name 'pAcm' is not defined"
     ]
    }
   ],
   "source": [
    "'Calculating Inertia'\n",
    "\n",
    "IA = Dyadic.build(A,Ixx_A,Iyy_A,Izz_A)\n",
    "IB = Dyadic.build(B,Ixx_B,Iyy_B,Izz_B)\n",
    "IC = Dyadic.build(C,Ixx_C,Iyy_C,Izz_C)\n",
    "ID = Dyadic.build(D,Ixx_D,Iyy_D,Izz_D)\n",
    "IE = Dyadic.build(E,Ixx_E,Iyy_E,Izz_E)\n",
    "IF = Dyadic.build(F,Ixx_F,Iyy_F,Izz_F)\n",
    "\n",
    "BodyA = Body('BodyA',A,pAcm,mA,IA,system)\n",
    "BodyB = Body('BodyB',B,pBcm,mB,IB,system)\n",
    "#BodyC = Body('BodyC',C,pCcm,mC,IC,system)\n",
    "BodyC = Particle(pCcm,mC,'ParticleC',system)"
   ]
  },
  {
   "cell_type": "code",
   "execution_count": null,
   "metadata": {},
   "outputs": [],
   "source": []
  }
 ],
 "metadata": {
  "kernelspec": {
   "display_name": "Python 3",
   "language": "python",
   "name": "python3"
  },
  "language_info": {
   "codemirror_mode": {
    "name": "ipython",
    "version": 3
   },
   "file_extension": ".py",
   "mimetype": "text/x-python",
   "name": "python",
   "nbconvert_exporter": "python",
   "pygments_lexer": "ipython3",
   "version": "3.7.9"
  }
 },
 "nbformat": 4,
 "nbformat_minor": 4
}
