{
  "nbformat": 4,
  "nbformat_minor": 0,
  "metadata": {
    "colab": {
      "name": "Data Collection and Experimental Validation",
      "provenance": [],
      "collapsed_sections": []
    },
    "kernelspec": {
      "name": "python3",
      "display_name": "Python 3"
    },
    "language_info": {
      "name": "python"
    }
  },
  "cells": [
    {
      "cell_type": "markdown",
      "metadata": {
        "id": "9004NseDSZXP"
      },
      "source": [
        "# **Data Collection and Experimental Validation**"
      ]
    },
    {
      "cell_type": "markdown",
      "metadata": {
        "id": "ZoYNAEoNSlRQ"
      },
      "source": [
        "The purpose of this assignment is to collect data on our system and compare against the results estimated from prior simulations. The team constructed a working prototype of a Razor Clam inspired robot using cardstock sarrus mechanisms, servo actuators, energy storing springs, mechanical hardware, a microcontroller, a motor driving circuit, and 3D-printed parts. Using this prototype, the team was able to test the systems functionality, holding force, and overall success. \n",
        "\n",
        "The following report will analyze the effect that link stiffness has on holding force. To do this, the team used three different robotic sarrus mechanisms with different link stiffnesses (one-layered cardstock, two-layered cardstock, and three-layered cardstock). The team anchored each sarrus mechanism in between two walls and attached additional weights to the sarrus mechanism until the system could no longer support the weight and slips. \n",
        "\n",
        "The goal of this project is to create a robotic mechanism capable of scaling vertical walls, similar to the motion of a razor clam. As a result, each robotic sarrus mechanism will be anchored to a wall at different times, therefore carrying the weight of itself and the other two robotic sarrus mechanisms. In order to accomplish this, each robotic sarrus mechanism must be able to hold and pull the weight of the overall system (all three robotic sarrus mechanisms or 0.4 lbs). The results of these physical tests were then compared to prior dynamics and kinematics simulations."
      ]
    },
    {
      "cell_type": "markdown",
      "metadata": {
        "id": "xa5kfC7bSpRq"
      },
      "source": [
        "## **Detailed Procedure**"
      ]
    },
    {
      "cell_type": "markdown",
      "metadata": {
        "id": "dCaySLwsauGN"
      },
      "source": [
        "#### **Prototype Assembly:**"
      ]
    },
    {
      "cell_type": "markdown",
      "metadata": {
        "id": "av1EBrxyS4AT"
      },
      "source": [
        "1. Gather the following parts: \n",
        " - Three SG90 Servo Motors\n",
        " - One Arduino Nano\n",
        " - USB Connector\n",
        " - Laptop\n",
        " - One PCA9685 Servo Driver Breakout Board\n",
        " - One 9V Battery\n",
        " - One Battery Clip\n",
        " - One 5V Power Supply\n",
        " - One Barrel Jack\n",
        " - Four Female-to-Female Cables\n",
        " - Six Springs\n",
        " - Three 6\" Strings\n",
        " - Nine Pieces Double-Sided Tape\n",
        " - Six Magnets\n",
        " - Twelve M3 x 18mm screws\n",
        " - Six M2 x 10mm screws\n",
        " - Three 3D Printed Part Bundles\n",
        " - Three Cardstock Sarrus Mechanisms\n",
        "\n",
        "2. Assemble the three sarrus mechanisms as shown in Figure 1a. The final single robotic sarrus mechanism assembly is shown in Figure 1b.\n",
        "\n",
        "![](https://drive.google.com/uc?export=view&id=1SKHcQtpYRvGMKveqZtDJpQmMC4oJu1af)\n",
        "\n",
        "<h0><center>**Figure 1a: Single Robotic Sarrus Mechanism Assembly**</center></h0>\n",
        "\n",
        "![](https://drive.google.com/uc?export=view&id=1txXdaJNoxE9Gy3N3WY1sZnvQR05qvW5R)\n",
        "\n",
        "<h0><center>**Figure 1b: Final Single Robotic Sarrus Mechanism Assembly**</center></h0>\n",
        "\n",
        "3. Connect the three sarrus mechanisms together using the built in magnets as shown in Figure 1c. The final full robotic sarrus mechanism assembly is shown in Figure 1d.\n",
        "\n",
        "![](https://drive.google.com/uc?export=view&id=1Py_vA8cJ0Sctx_wQud01Jtc0MRl287rf)\n",
        "\n",
        "<h0><center>**Figure 1c: Full Robotic Sarrus Mechanism Assembly**</center></h0>\n",
        "\n",
        "![](https://drive.google.com/uc?export=view&id=1eBTzk_t7a2ipZ2LCw2NMtvoQdZRaVitL)\n",
        "\n",
        "<h0><center>**Figure 1d: Final Full Robotic Sarrus Mechanism Assembly**</center></h0>\n",
        "\n",
        "4. Wire the electronics as shown in Figure 1e. **Note:** Although the wiring diagram shows two servo motors connected to servo headers 3 and 8 of the PCA9685 servo driver breakout board, the current design uses three servo motors currently programmed to run on servo headers 13-15 of the servo driver breakout board.\n",
        "\n",
        "![](https://drive.google.com/uc?export=view&id=1_o0-izJvFzygZ9fImpf2TlREJfVldciL)\n",
        "\n",
        "<h0><center>**Figure 1e: Wiring Diagram**</center></h0>\n",
        "\n",
        "5. Upload the following Arduino code to the arduino nano using your computer, a USB connector, and the following code: \n",
        "\n",
        "    <codeblock> #include \"HCPCA9685.h\"  \n",
        "    <codeblock> #define I2CAdd 0x40 \n",
        "\n",
        "    <codeblock> HCPCA9685 HCPCA9685(I2CAdd); \n",
        "\n",
        "    <codeblock> int M1CW = 2;  \n",
        "    <codeblock> int M1CCW = 3;  \n",
        "    <codeblock> int M2CW = 6;  \n",
        "    <codeblock> int M2CCW = 7;  \n",
        "    <codeblock> int M3CW = 10;  \n",
        "    <codeblock> int M3CCW = 11; \n",
        "\n",
        "    <codeblock> void setup() \n",
        "\n",
        "    <codeblock> {\n",
        "\n",
        "    <codeblock> HCPCA9685.Init();  \n",
        "    <codeblock> HCPCA9685.Sleep(false); \n",
        "\n",
        "    <codeblock> pinMode(M1CW, INPUT);    \n",
        "    <codeblock> pinMode(M1CCW, INPUT);    \n",
        "    <codeblock> pinMode(M2CW, INPUT);    \n",
        "    <codeblock> pinMode(M2CCW, INPUT);    \n",
        "    <codeblock> pinMode(M3CW, INPUT);    \n",
        "    <codeblock> pinMode(M3CCW, INPUT);    \n",
        "    <codeblock> }\n",
        "\n",
        "    <codeblock> void loop() \n",
        "\n",
        "    <codeblock> {\n",
        "\n",
        "    <codeblock> if (digitalRead(M1CW)==HIGH)  \n",
        "    <codeblock> {  \n",
        "    <codeblock> delay(100);  \n",
        "    <codeblock> HCPCA9685.Output(13, 0, 2000);   \n",
        "    <codeblock> delay(100);    \n",
        "    <codeblock> }  \n",
        "\n",
        "    <codeblock> else   \n",
        "    <codeblock> {  \n",
        "    <codeblock> HCPCA9685.Output(13, 0, 0);   \n",
        "    <codeblock> }\n",
        "\n",
        "    <codeblock> if (digitalRead(M1CCW)==HIGH)  \n",
        "    <codeblock> {  \n",
        "    <codeblock> delay(100);  \n",
        "    <codeblock> HCPCA9685.Output(13, 0, 10);   \n",
        "    <codeblock> delay(100);  \n",
        "    <codeblock> }  \n",
        "\n",
        "    <codeblock> else  \n",
        "    <codeblock> {  \n",
        "    <codeblock> HCPCA9685.Output(13, 0, 0);   \n",
        "    <codeblock> }\n",
        "\n",
        "    <codeblock> if (digitalRead(M2CW)==HIGH)  \n",
        "    <codeblock> {  \n",
        "    <codeblock> delay(100);  \n",
        "    <codeblock> HCPCA9685.Output(14, 0, 2000);   \n",
        "    <codeblock> delay(100);  \n",
        "    <codeblock> }  \n",
        "\n",
        "    <codeblock> else  \n",
        "    <codeblock> {  \n",
        "    <codeblock> HCPCA9685.Output(14, 0, 0);   \n",
        "    <codeblock> }\n",
        "\n",
        "    <codeblock> if (digitalRead(M2CCW)==HIGH)  \n",
        "    <codeblock> {  \n",
        "    <codeblock> delay(100);  \n",
        "    <codeblock> HCPCA9685.Output(14, 0, 10);   \n",
        "    <codeblock> delay(100);  \n",
        "    <codeblock> }\n",
        "\n",
        "    <codeblock> else  \n",
        "    <codeblock> {  \n",
        "    <codeblock> HCPCA9685.Output(14, 0, 0);   \n",
        "    <codeblock> }\n",
        "\n",
        "    <codeblock> if (digitalRead(M3CW)==HIGH)  \n",
        "    <codeblock> {  \n",
        "    <codeblock> delay(100);  \n",
        "    <codeblock> HCPCA9685.Output(15, 0, 2000);   \n",
        "    <codeblock> delay(100);  \n",
        "    <codeblock> }\n",
        "\n",
        "    <codeblock> else  \n",
        "    <codeblock> {  \n",
        "    <codeblock> HCPCA9685.Output(15, 0, 0);  \n",
        "    <codeblock> }\n",
        "\n",
        "    <codeblock> if (digitalRead(M3CCW)==HIGH)  \n",
        "    <codeblock> {  \n",
        "    <codeblock> delay(100);  \n",
        "    <codeblock> HCPCA9685.Output(15, 0, 10);  \n",
        "    <codeblock> delay(100);  \n",
        "    <codeblock> }\n",
        "\n",
        "    <codeblock> else  \n",
        "    <codeblock> {  \n",
        "    <codeblock> HCPCA9685.Output(15, 0, 0);   \n",
        "    <codeblock> }   \n",
        "      \n",
        "    <codeblock> }"
      ]
    },
    {
      "cell_type": "markdown",
      "metadata": {
        "id": "VlIrK5BTa_Ey"
      },
      "source": [
        "#### **Test Setup:**"
      ]
    },
    {
      "cell_type": "markdown",
      "metadata": {
        "id": "ontAp-iPbGAe"
      },
      "source": [
        "The team used a wooden box as the testing enviroment to simulate a crevice/pipe. The three robotic sarrus mechanisms were modified using additional cardstock layers to change the mechanisms joint stiffness (single-layered, double-layered, and triple-layered). Each robotic sarrus mechanism was tested to find the maximum holding force based on joint stiffness. This was done by attaching different weights to the three contracted robotic sarrus mechanisms. Figure 2a shows the test setup with annotations. \n",
        "\n",
        "![](https://drive.google.com/uc?export=view&id=1qwYcXx-POx2s3YBHBs62N3NkzEYLU6zb)\n",
        "\n",
        "<h0><center>**Figure 2a: Test Setup**</center></h0>"
      ]
    },
    {
      "cell_type": "markdown",
      "metadata": {
        "id": "UrsTegqRbS7l"
      },
      "source": [
        "#### **Test:**"
      ]
    },
    {
      "cell_type": "markdown",
      "metadata": {
        "id": "aaAYvcaPbV-q"
      },
      "source": [
        "A total of five tests were executed in order to confirm the systems functionality. Three tests were focused on the holding force of each robotic sarrus mechanisms with different joint stiffnesses. The fourth test confirms that the system can support the weight of itself while climbing, and the final test confirms that the system is able to translate up a vertical wall.  \n",
        "\n",
        "The first three tests related the holding force versus the joint stiffness of the three single robotic sarrus mechanisms. The team built three sarrus mechanisms, each with different stifnesses (single-layered cardstock, double-layered cardstock with double sided tape as an adhessive layer, and triple-layered cardstock with double sided tape as an adhessive layer). A 0.01 lbs hook was attached to the magnet on the bottom of each robotic sarrus mechanism. A plastic bag was attached to the hook and additional 0.004 lbs screws were slowly added into the container until the sarrus mechanism could no longer support the weight. \n",
        "\n",
        "The fourth test used the results from the previous three tests to determine the best joint stiffness to use for our system. We found that the triple-layered cardstock held over 0.4lbs (the weight of all three robotic sarrus mechanisms). To confirm this, we attached all three robotic sarrus mechanisms together as shown in Figures 1c and 1d with the triple-layered sarrus mechanism on top. We then setup the system in the testing enviroment and contracted the top most link. We confirmed that the triple-layered cardstock allowed us to hold the weight of the system. This is beneficial because each robotic sarrus mechanism will be anchored to a wall at different times, therefore carrying the weight of itself and the other two robotic sarrus mechanisms. \n",
        "\n",
        "For the final test, we replaced all of the cardstock with triple-layered cardstock to test the systems motion. We put the entire system back in the testing enviroment and simulated the motion of a razor clam successfully. The robotic system was able to slowly translate up the vertical walls. \n",
        "\n",
        "From these series of five tests, our team gained valuable information on the system. The team was able to demonstarte a successful design which mimics the motion of a razor clam. The team alos determined the physical effects of joint stiffness on holding force of the robot. When the joint stiffness of our system is weak (single-layered cardstock), the normal force exerted on the systems links is distributed through the beding of the links. This results in a small holding force. From this, we conclude that our system needs a joint stiffness that resists link bending. On the other hand, too large of a joint stiffness will require a stronger motor to contract. A demo of our testing is shown in the video below: "
      ]
    },
    {
      "cell_type": "code",
      "metadata": {
        "colab": {
          "base_uri": "https://localhost:8080/",
          "height": 321
        },
        "id": "-V_PdnARcG5R",
        "outputId": "35a716ab-4afe-4f19-dba5-cf9c721f3667"
      },
      "source": [
        "from IPython.display import YouTubeVideo\n",
        "YouTubeVideo('nkYR3_ss3Z4')"
      ],
      "execution_count": 1,
      "outputs": [
        {
          "output_type": "execute_result",
          "data": {
            "text/html": [
              "\n",
              "        <iframe\n",
              "            width=\"400\"\n",
              "            height=\"300\"\n",
              "            src=\"https://www.youtube.com/embed/nkYR3_ss3Z4\"\n",
              "            frameborder=\"0\"\n",
              "            allowfullscreen\n",
              "        ></iframe>\n",
              "        "
            ],
            "text/plain": [
              "<IPython.lib.display.YouTubeVideo at 0x7f8265683390>"
            ],
            "image/jpeg": "[encoded data removed]"
          },
          "metadata": {
            "tags": []
          },
          "execution_count": 1
        }
      ]
    },
    {
      "cell_type": "markdown",
      "metadata": {
        "id": "M2cp5I2gJ-FA"
      },
      "source": [
        "**Note:** this video does not import in full screen mode. This link will direct you to a full screen video: https://youtu.be/nkYR3_ss3Z4"
      ]
    },
    {
      "cell_type": "code",
      "metadata": {
        "colab": {
          "base_uri": "https://localhost:8080/",
          "height": 321
        },
        "id": "Cw67fUxB1Bzz",
        "outputId": "edcd4ed2-a1f2-4cee-ff4c-17f6b1e83800"
      },
      "source": [
        "from IPython.display import YouTubeVideo\n",
        "YouTubeVideo('WUIpOEZQvYM')"
      ],
      "execution_count": 2,
      "outputs": [
        {
          "output_type": "execute_result",
          "data": {
            "text/html": [
              "\n",
              "        <iframe\n",
              "            width=\"400\"\n",
              "            height=\"300\"\n",
              "            src=\"https://www.youtube.com/embed/WUIpOEZQvYM\"\n",
              "            frameborder=\"0\"\n",
              "            allowfullscreen\n",
              "        ></iframe>\n",
              "        "
            ],
            "text/plain": [
              "<IPython.lib.display.YouTubeVideo at 0x7f826143c650>"
            ],
            "image/jpeg": "[encoded data removed]"
          },
          "metadata": {
            "tags": []
          },
          "execution_count": 2
        }
      ]
    },
    {
      "cell_type": "markdown",
      "metadata": {
        "id": "uMb9l08_1ICM"
      },
      "source": [
        "**Note:** this video does not import in full screen mode. This link will direct you to a full screen video: https://youtu.be/WUIpOEZQvYM"
      ]
    },
    {
      "cell_type": "markdown",
      "metadata": {
        "id": "cgb8v5W2brS0"
      },
      "source": [
        "#### **Results:**"
      ]
    },
    {
      "cell_type": "markdown",
      "metadata": {
        "id": "Uy0rkXRdbvkN"
      },
      "source": [
        "The results of the first three tests are shown in Figure 4a. The plot shows a linear output. As the link stiffness increases, the weight held also increases. The results shown in simulation are shown in Figure 4b. The simulations match up with the physical data. \n",
        "\n",
        "![](https://drive.google.com/uc?export=view&id=1csj2wbUVFrBBjHXKR6H8um0Qqq36qnwF)\n",
        "\n",
        "<h0><center>**Figure 4a: Stiffness vs Holding Force Test Results**</center></h0>\n",
        "\n",
        "![](https://drive.google.com/uc?export=view&id=1GAgV0oKzDWCWd22SS9o12brrS0oVErSL)\n",
        "\n",
        "<h0><center>**Figure 4b: Stiffness vs Force Simulation Results**</center></h0>"
      ]
    },
    {
      "cell_type": "markdown",
      "metadata": {
        "id": "eYKGiF9gbl0g"
      },
      "source": [
        "## **Discussion**"
      ]
    },
    {
      "cell_type": "markdown",
      "metadata": {
        "id": "G8Iu4P8-byr8"
      },
      "source": [
        "1. What do you consider the top five sources of error in your data collection experiment?\n",
        "\n",
        "    The top five sources of error include: \n",
        "\n",
        " - non-perfect sarrus link lengths lead to uneven contraction/expansion of the sarrus mechanisms.\n",
        "\n",
        " - servo motors do not have the same current draw due to manufacturing tolerances which leads to uneven forces pushing against the walls.\n",
        "\n",
        " - 3D printed spring housing is rough and may cause extra friction when contracting and expanding the sarrus mechanism. \n",
        "\n",
        " - The force of friction is not constant due to real world imperfections in the cardstock and testing enviroment (foam). \n",
        "\n",
        " - Our team had to use foam to make the distance between the testing enviroment walls suitable for the specific size of our system; this lead to uneven amounts of normal and frictional forces.  \n",
        "\n",
        "2. What steps did you take to reduce the error?\n",
        "\n",
        "    To reduce the errors, the team: \n",
        "\n",
        " - layered and clamped the cardstock on top of one another using clamps and then used a blade and ruler to perfectly cut the sarrus mechanisms using a stensil.\n",
        "\n",
        " - added current limiting to the motors using the PCA9685 servo driver breakout board. \n",
        "\n",
        " - sanded down the 3D printed parts until the motion was smooth.\n",
        "\n",
        " - tried using cardboard to reduce the distance between the walls of the testing enviroment rather than foam.\n",
        "\n",
        "3. What was difficult to control?\n",
        "\n",
        "    It was very difficut to control the frictional forces of our testing enviroment because of the imperfections in the cardstock, foam, cardboard, and wooden walls. As a result, the test data will never be 100% accurate. \n",
        "\n",
        "4. How would you improve your testing setup or procedure next time?\n",
        "\n",
        "    To improve future testing data accuracy, our team would need to select materials with better known friction values and less imperfections. The materials should also be flat and even with little imperfections. The foam and wood that we used had many dimples, uneven contact points, and rough areas. \n",
        "\n",
        "5. How well does your data mirror your simulated results? What is similar, what is different?\n",
        "\n",
        "    The data gathered from the physical experiments is similar to that shown in simulations. Both the simulation and real world data are linear, meaning that as stiffness increases, the holding weight of the system increases. Although the linear pattern is similar, the values differ between the two. This could be caused by real-world imperfections, inaccurate stiffness constants, and innacurate friction coefficients used in the simulation. \n",
        "\n",
        "6. Is it possible to add a modeling element which models/captures discrepencies between these two results? What element if added to your simulation what have the biggest impact on its fidelity?\n",
        "\n",
        "    The simulation that was ran only includes the simplist test of joint stiffness versus force. The main goal of this simulation was to lead the team in the right direction when selecting the appropriate joint stiffness. Our team could further improve the simulation by adding more accurate friction models and factoring in link deformablity over time.\n",
        "\n",
        "7. What additional equations and parameters would you need in order to add this element?\n",
        "\n",
        "    To improve our simulation, our team would need to add more variables and points to our simulated model. This would allow the team to simulate deformability in the links when forces are applied. The team would also need to gather physical characteristics of the materials we are using in our physical design. More accurate stiffness and friction values would make the simulation more optimized. This information can be gathered through cantilever beam testing, and physics tests to gather information on the friction of the mechanism and the walls. "
      ]
    }
  ]
}
