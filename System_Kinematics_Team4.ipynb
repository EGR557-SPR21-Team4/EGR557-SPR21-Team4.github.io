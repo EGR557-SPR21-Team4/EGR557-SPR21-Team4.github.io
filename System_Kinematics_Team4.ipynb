{
  "nbformat": 4,
  "nbformat_minor": 5,
  "metadata": {
    "colab": {
      "name": "System Kinematics.ipynb",
      "provenance": [],
      "collapsed_sections": []
    },
    "kernelspec": {
      "display_name": "Python 3",
      "language": "python",
      "name": "python3"
    },
    "language_info": {
      "codemirror_mode": {
        "name": "ipython",
        "version": 3
      },
      "file_extension": ".py",
      "mimetype": "text/x-python",
      "name": "python",
      "nbconvert_exporter": "python",
      "pygments_lexer": "ipython3",
      "version": "3.7.9"
    }
  },
  "cells": [
    {
      "cell_type": "markdown",
      "metadata": {
        "id": "adequate-record"
      },
      "source": [
        "1. Create a figure (either in python, in a vector-based drawing program like inkscape or illustrator, or as a solidworks rendering) of your system kinematics."
      ],
      "id": "adequate-record"
    },
    {
      "cell_type": "markdown",
      "metadata": {
        "id": "opened-wilderness"
      },
      "source": [
        "![](https://drive.google.com/uc?export=view&id=1Z0t8McPsNTXCOzi8-_knKtP2BPVten1L)\n",
        "\n",
        "<h0><center>**Figure 1a: Sarrus Mechanism Kinematics Model**</center></h0>"
      ],
      "id": "opened-wilderness"
    },
    {
      "cell_type": "markdown",
      "metadata": {
        "id": "C7WSwc6jMUWA"
      },
      "source": [
        "| Length | Measurement (inches) |\n",
        "| --- | --- |\n",
        "| L0 | 1.00 |\n",
        "| L1 | 1.00 |\n",
        "| L2 | 2.00 |\n",
        "| L3 | 1.00 |\n",
        "| L4 | 1.00 |\n",
        "| L5 | 2.00 |\n",
        "\n",
        "<h0><center>**Table 1a**: Kinematics Model Lengths</center></h0>"
      ],
      "id": "C7WSwc6jMUWA"
    },
    {
      "cell_type": "markdown",
      "metadata": {
        "id": "matched-alignment"
      },
      "source": [
        "2. Make the device in paper or cardboard. You need an up-to-date model if it has changed from your individual assignments. The paper model should dimensionally match your code."
      ],
      "id": "matched-alignment"
    },
    {
      "cell_type": "markdown",
      "metadata": {
        "id": "Bcle68F6Lyj1"
      },
      "source": [
        "A prototype of our system was made using cardstock and the dimsensions from table 1a. Note that the blue cardstock represents our systems electronics hosuing. The team also created a CAD model to further explain the systems motion."
      ],
      "id": "Bcle68F6Lyj1"
    },
    {
      "cell_type": "markdown",
      "metadata": {
        "id": "PjKZiB5g7tTp"
      },
      "source": [
        "![](https://drive.google.com/uc?export=view&id=1vF3FDDpPDOoug_63z4D0QH-Sv8FplckD)\n",
        "\n",
        "<h0><center>**Figure 2a**: Cardstock Prototype</center></h0>"
      ],
      "id": "PjKZiB5g7tTp"
    },
    {
      "cell_type": "markdown",
      "metadata": {
        "id": "3z572NZD96Uh"
      },
      "source": [
        "![](https://drive.google.com/uc?export=view&id=1lDRbgeCE0FwXcunwHq8IgW-OqHHbCh5X)\n",
        "\n",
        "<h0><center>**Figure 2b**: CAD Model</center></h0>"
      ],
      "id": "3z572NZD96Uh"
    },
    {
      "cell_type": "markdown",
      "metadata": {
        "id": "86jLcTHtEd6E"
      },
      "source": [
        "3. Using a pynamics-based script, develop a kinematic model for your device."
      ],
      "id": "86jLcTHtEd6E"
    },
    {
      "cell_type": "markdown",
      "metadata": {
        "id": "qWVmsc9dOq2F"
      },
      "source": [
        "Show plots inline and ensures that pynamics is installed."
      ],
      "id": "qWVmsc9dOq2F"
    },
    {
      "cell_type": "code",
      "metadata": {
        "id": "exclusive-brazil",
        "colab": {
          "base_uri": "https://localhost:8080/"
        },
        "outputId": "e0ea65b5-8ed3-41b6-826a-668165410cf9"
      },
      "source": [
        "!pip install pypoly2tri idealab_tools foldable_robotics pynamics"
      ],
      "id": "exclusive-brazil",
      "execution_count": 1,
      "outputs": [
        {
          "output_type": "stream",
          "text": [
            "Requirement already satisfied: pypoly2tri in /usr/local/lib/python3.7/dist-packages (0.0.3)\n",
            "Requirement already satisfied: idealab_tools in /usr/local/lib/python3.7/dist-packages (0.0.22)\n",
            "Requirement already satisfied: foldable_robotics in /usr/local/lib/python3.7/dist-packages (0.0.29)\n",
            "Requirement already satisfied: pynamics in /usr/local/lib/python3.7/dist-packages (0.0.8)\n",
            "Requirement already satisfied: imageio in /usr/local/lib/python3.7/dist-packages (from idealab_tools) (2.4.1)\n",
            "Requirement already satisfied: shapely in /usr/local/lib/python3.7/dist-packages (from foldable_robotics) (1.7.1)\n",
            "Requirement already satisfied: matplotlib in /usr/local/lib/python3.7/dist-packages (from foldable_robotics) (3.2.2)\n",
            "Requirement already satisfied: numpy in /usr/local/lib/python3.7/dist-packages (from foldable_robotics) (1.19.5)\n",
            "Requirement already satisfied: ezdxf in /usr/local/lib/python3.7/dist-packages (from foldable_robotics) (0.16)\n",
            "Requirement already satisfied: pyyaml in /usr/local/lib/python3.7/dist-packages (from foldable_robotics) (3.13)\n",
            "Requirement already satisfied: scipy in /usr/local/lib/python3.7/dist-packages (from pynamics) (1.4.1)\n",
            "Requirement already satisfied: sympy in /usr/local/lib/python3.7/dist-packages (from pynamics) (1.7.1)\n",
            "Requirement already satisfied: pillow in /usr/local/lib/python3.7/dist-packages (from imageio->idealab_tools) (7.0.0)\n",
            "Requirement already satisfied: pyparsing!=2.0.4,!=2.1.2,!=2.1.6,>=2.0.1 in /usr/local/lib/python3.7/dist-packages (from matplotlib->foldable_robotics) (2.4.7)\n",
            "Requirement already satisfied: kiwisolver>=1.0.1 in /usr/local/lib/python3.7/dist-packages (from matplotlib->foldable_robotics) (1.3.1)\n",
            "Requirement already satisfied: python-dateutil>=2.1 in /usr/local/lib/python3.7/dist-packages (from matplotlib->foldable_robotics) (2.8.1)\n",
            "Requirement already satisfied: cycler>=0.10 in /usr/local/lib/python3.7/dist-packages (from matplotlib->foldable_robotics) (0.10.0)\n",
            "Requirement already satisfied: mpmath>=0.19 in /usr/local/lib/python3.7/dist-packages (from sympy->pynamics) (1.2.1)\n",
            "Requirement already satisfied: six>=1.5 in /usr/local/lib/python3.7/dist-packages (from python-dateutil>=2.1->matplotlib->foldable_robotics) (1.15.0)\n"
          ],
          "name": "stdout"
        }
      ]
    },
    {
      "cell_type": "code",
      "metadata": {
        "id": "induced-arctic"
      },
      "source": [
        "%matplotlib inline"
      ],
      "id": "induced-arctic",
      "execution_count": 2,
      "outputs": []
    },
    {
      "cell_type": "markdown",
      "metadata": {
        "id": "2opmz-PFOz-W"
      },
      "source": [
        "Import all required packages."
      ],
      "id": "2opmz-PFOz-W"
    },
    {
      "cell_type": "code",
      "metadata": {
        "id": "cathedral-fishing"
      },
      "source": [
        "import pynamics\n",
        "from pynamics.frame import Frame\n",
        "from pynamics.variable_types import Differentiable,Constant\n",
        "from pynamics.system import System\n",
        "from pynamics.output import Output,PointsOutput\n",
        "import pynamics.integration\n",
        "import sympy\n",
        "import numpy\n",
        "import matplotlib.pyplot as plt\n",
        "plt.ion()\n",
        "from math import pi\n",
        "import scipy.optimize\n",
        "import math as m"
      ],
      "id": "cathedral-fishing",
      "execution_count": 3,
      "outputs": []
    },
    {
      "cell_type": "markdown",
      "metadata": {
        "id": "-rG-vu98O82O"
      },
      "source": [
        "Create a pynamics system where the mechanism is located."
      ],
      "id": "-rG-vu98O82O"
    },
    {
      "cell_type": "code",
      "metadata": {
        "id": "spread-healthcare"
      },
      "source": [
        "system = System()\n",
        "pynamics.set_system(__name__,system)"
      ],
      "id": "spread-healthcare",
      "execution_count": 4,
      "outputs": []
    },
    {
      "cell_type": "markdown",
      "metadata": {
        "id": "wHSdiZKDO-nM"
      },
      "source": [
        "Declare all length constants based on table 1a."
      ],
      "id": "wHSdiZKDO-nM"
    },
    {
      "cell_type": "code",
      "metadata": {
        "id": "canadian-median"
      },
      "source": [
        "#This block of code declares and store constants in SI units\n",
        "l0 = Constant(1,'l0',system) #defines the lengths (in inches) of each frame (1:1 ratio of paper model)\n",
        "l1 = Constant(1,'l1',system) \n",
        "l2 = Constant(2,'l2',system)\n",
        "l3 = Constant(1,'l3',system)\n",
        "l4 = Constant(1,'l4',system)\n",
        "l5 = Constant(2,'l5',system)"
      ],
      "id": "canadian-median",
      "execution_count": 5,
      "outputs": []
    },
    {
      "cell_type": "markdown",
      "metadata": {
        "id": "Rts4hpBSPJL7"
      },
      "source": [
        "Create the differentiable state variables, cooresponding to the joint angles."
      ],
      "id": "Rts4hpBSPJL7"
    },
    {
      "cell_type": "code",
      "metadata": {
        "id": "formal-stationery"
      },
      "source": [
        "#This block of code creates dynamic state variables for the angles shown in our kinematics model\n",
        "q0,q0_d,q0_dd = Differentiable('q0',system) #angle between N and A frames\n",
        "q1,q1_d,q1_dd = Differentiable('q1',system) #angle between A and B frames\n",
        "q4,q4_d,q4_dd = Differentiable('q4',system) #angle between E and F frames\n",
        "q5,q5_d,q5_dd = Differentiable('q5',system) #angle between N and F frames"
      ],
      "id": "formal-stationery",
      "execution_count": 6,
      "outputs": []
    },
    {
      "cell_type": "markdown",
      "metadata": {
        "id": "U_k0eSsuPSZu"
      },
      "source": [
        "Initial guess for starting positions."
      ],
      "id": "U_k0eSsuPSZu"
    },
    {
      "cell_type": "code",
      "metadata": {
        "id": "endless-psychology"
      },
      "source": [
        "#This block of code sets the initial guess for the mechanisms starting position (in radians) and velocity (in m/s)\n",
        "initialvalues = {}\n",
        "initialvalues[q0] = 155*pi/180  #optimal angle is 135 but change to 155 to show the code solving successfully\n",
        "initialvalues[q0_d] = 0*pi/180\n",
        "initialvalues[q1] = -90*pi/180  #optimal angle is -90\n",
        "initialvalues[q1_d] = 0*pi/180\n",
        "initialvalues[q4] = 90*pi/180   #optimal angle is 90\n",
        "initialvalues[q4_d] = 0*pi/180\n",
        "initialvalues[q5] = 45*pi/180   #optimal angle is 45\n",
        "initialvalues[q5_d] = 0*pi/180"
      ],
      "id": "endless-psychology",
      "execution_count": 7,
      "outputs": []
    },
    {
      "cell_type": "markdown",
      "metadata": {
        "id": "I2AkUJ_PPWPf"
      },
      "source": [
        "Retrieve state variables in the order they are stored in the system."
      ],
      "id": "I2AkUJ_PPWPf"
    },
    {
      "cell_type": "code",
      "metadata": {
        "id": "removed-portugal"
      },
      "source": [
        "#This block of code orders the initial values in a list in such a way that the integrator can use it in the same order that it expects the variables to be supplied\n",
        "statevariables = system.get_state_variables()\n",
        "ini0 = [initialvalues[item] for item in statevariables]"
      ],
      "id": "removed-portugal",
      "execution_count": 8,
      "outputs": []
    },
    {
      "cell_type": "markdown",
      "metadata": {
        "id": "BV-pYsBpPcr0"
      },
      "source": [
        "Create the main reference frames, with one cooresponding to each rigid link."
      ],
      "id": "BV-pYsBpPcr0"
    },
    {
      "cell_type": "code",
      "metadata": {
        "id": "distinguished-mills"
      },
      "source": [
        "#This block of code initializes frames\n",
        "N = Frame('N')\n",
        "A = Frame('A')\n",
        "B = Frame('B')\n",
        "E = Frame('E')\n",
        "F = Frame('F')"
      ],
      "id": "distinguished-mills",
      "execution_count": 9,
      "outputs": []
    },
    {
      "cell_type": "markdown",
      "metadata": {
        "id": "pG-vTb8cPjrS"
      },
      "source": [
        "Declare N as the Newtonian (fixed) frame."
      ],
      "id": "pG-vTb8cPjrS"
    },
    {
      "cell_type": "code",
      "metadata": {
        "id": "approved-front"
      },
      "source": [
        "#This block of code sets N frame as the newtonian frame (see kinematic diagram from above)\n",
        "system.set_newtonian(N) "
      ],
      "id": "approved-front",
      "execution_count": 10,
      "outputs": []
    },
    {
      "cell_type": "markdown",
      "metadata": {
        "id": "A0Y9-TjkPmuS"
      },
      "source": [
        "Rotate frames about their z-axes so they align with the correct rigid link."
      ],
      "id": "A0Y9-TjkPmuS"
    },
    {
      "cell_type": "code",
      "metadata": {
        "id": "rolled-timothy"
      },
      "source": [
        "#This block of code shows frame rotation in the Z direction\n",
        "A.rotate_fixed_axis_directed(N,[0,0,1],q0,system)  #the A frame rotates about the N frame in the Z direction (0,0,1) by q0 degrees\n",
        "B.rotate_fixed_axis_directed(A,[0,0,1],q1,system)  #the B frame rotates about the A frame in the Z direction (0,0,1) by q1 degrees\n",
        "F.rotate_fixed_axis_directed(N,[0,0,1],q5,system)  #the F frame rotates about the N frame in the Z direction (0,0,1) by q5 degrees\n",
        "E.rotate_fixed_axis_directed(F,[0,0,1],q4,system)  #the E frame rotates about the F frame in the Z direction (0,0,1) by q4 degrees"
      ],
      "id": "rolled-timothy",
      "execution_count": 11,
      "outputs": []
    },
    {
      "cell_type": "markdown",
      "metadata": {
        "id": "g3vjPrlzPtfy"
      },
      "source": [
        "Define vectors for each of the joint locations. "
      ],
      "id": "g3vjPrlzPtfy"
    },
    {
      "cell_type": "code",
      "metadata": {
        "id": "directed-lindsay"
      },
      "source": [
        "#This block of code defines the points needed to create the mechanism \n",
        "pNA = 0*N.x + 0*N.y    #pNA (point NA) position is 0 units in the direction of N reference frame's x direction (0*N.x) and y direction (0*N.y)\n",
        "pAB = pNA + l0*A.x     #pAB position is pNA's position plus l0 units in the direction of ref frame A's x direction \n",
        "pBE = pAB + l1*B.x     #pBE position is pAB's position plus l1 units in the direction of ref frame B's x direction\n",
        "pNF = l5*N.x + 0*N.y   #pNF position l5 units in the direction of ref frame N's x direction and 0 units in N's y direction\n",
        "pFE = pNF + l4*F.x     #pFE position is pNF's position plus l4 units in the direction of ref frame F's x direction\n",
        "pEB = pFE + l3*E.x     #pEB position is pFE's position plus l3 units in the direction of ref frame E's x direction\n",
        "\n",
        "points = [pNA,pAB,pBE,pEB,pFE,pNF]     #list of points used for plotting"
      ],
      "id": "directed-lindsay",
      "execution_count": 12,
      "outputs": []
    },
    {
      "cell_type": "markdown",
      "metadata": {
        "id": "zdouzGmxQJ4Y"
      },
      "source": [
        "Create all the vector equation constraints."
      ],
      "id": "zdouzGmxQJ4Y"
    },
    {
      "cell_type": "code",
      "metadata": {
        "id": "exceptional-median"
      },
      "source": [
        "#This block of code defines the closed loop kinematics (vectors) of the sarrus mechanism.\n",
        "#Constraint 1:\n",
        "eq_vector = pEB - pBE   #vector from pEB to pBE\n",
        "#Constraint 2:\n",
        "eq_vector1 = pBE - pNA  #vector from pBE to pNA"
      ],
      "id": "exceptional-median",
      "execution_count": 13,
      "outputs": []
    },
    {
      "cell_type": "markdown",
      "metadata": {
        "id": "3wNuVBuYQMbQ"
      },
      "source": [
        "Convert the vector constraints into scalar equations that can be solved."
      ],
      "id": "3wNuVBuYQMbQ"
    },
    {
      "cell_type": "code",
      "metadata": {
        "id": "successful-train"
      },
      "source": [
        "#This block of code defines the systems constraints based on the vectors listed above\n",
        "eq = []\n",
        "\n",
        "eq.append(((eq_vector).dot(eq_vector))-l2**2)  # (eq_vector) . (eq_vector) = l2**2 -> dot product of a vector with itself gives square of it's length\n",
        "eq.append(((eq_vector).dot(N.x))-l2)           # (eq_vector) . (N.x) = l2 -> dot product of a vector with the unit vector gives the length of the vector\n",
        "eq.append((eq_vector1).dot(N.x))               # (eq_vector1) . (N.x) = 0 -> dot product of vectors perpendicular to each other gives 0\n",
        "\n",
        "eq_d=[(system.derivative(item)) for item in eq]\n",
        "eq_dd=[(system.derivative(item)) for item in eq_d]"
      ],
      "id": "successful-train",
      "execution_count": 14,
      "outputs": []
    },
    {
      "cell_type": "markdown",
      "metadata": {
        "id": "kH-De_e8QUZy"
      },
      "source": [
        "Identify independent and dependent variables."
      ],
      "id": "kH-De_e8QUZy"
    },
    {
      "cell_type": "code",
      "metadata": {
        "id": "quiet-essex"
      },
      "source": [
        "#This block of code defines the dependent and independent values\n",
        "qi = [q0]\n",
        "qd = [q1,q4,q5] #number of items in qd should equal the number of constraints above"
      ],
      "id": "quiet-essex",
      "execution_count": 15,
      "outputs": []
    },
    {
      "cell_type": "markdown",
      "metadata": {
        "id": "WUbfOgyYQZ-e"
      },
      "source": [
        "For dependent variables, create an initial guess and create a copy of symbolic constants dictionary and add the initial value of qi to it."
      ],
      "id": "WUbfOgyYQZ-e"
    },
    {
      "cell_type": "code",
      "metadata": {
        "id": "thirty-genesis"
      },
      "source": [
        "#This block of code recalls and stores link lengths or constants declared earlier\n",
        "constants = system.constant_values.copy() \n",
        "defined = dict([(item,initialvalues[item]) for item in qi])\n",
        "constants.update(defined)"
      ],
      "id": "thirty-genesis",
      "execution_count": 16,
      "outputs": []
    },
    {
      "cell_type": "markdown",
      "metadata": {
        "id": "IhMQhuRBQlr2"
      },
      "source": [
        "Substitute constants in equation."
      ],
      "id": "IhMQhuRBQlr2"
    },
    {
      "cell_type": "code",
      "metadata": {
        "colab": {
          "base_uri": "https://localhost:8080/"
        },
        "id": "4S5wDSK7QkEM",
        "outputId": "73c7efe2-ce9c-4046-ec3b-c66b24a0c712"
      },
      "source": [
        "eq = [item.subs(constants) for item in eq]\n",
        "print(eq)"
      ],
      "id": "4S5wDSK7QkEM",
      "execution_count": 17,
      "outputs": [
        {
          "output_type": "stream",
          "text": [
            "[-2*(-sin(q4)*sin(q5) + cos(q4)*cos(q5))*(-0.422618261740699*sin(q1) - 0.90630778703665*cos(q1)) - 2*(sin(q4)*cos(q5) + sin(q5)*cos(q4))*(-0.90630778703665*sin(q1) + 0.422618261740699*cos(q1)) - (-0.90630778703665*sin(q1) + 0.422618261740699*cos(q1))*sin(q5) - (-0.422618261740699*sin(q1) - 0.90630778703665*cos(q1))*cos(q5) - (-0.90630778703665*sin(q5) - 0.422618261740699*cos(q5))*sin(q1) - (0.422618261740699*sin(q5) - 0.90630778703665*cos(q5))*cos(q1) - (0.422618261740699*sin(q5) - 0.90630778703665*cos(q5))*cos(q4) - (0.90630778703665*sin(q5) + 0.422618261740699*cos(q5))*sin(q4) + 1.6904730469628*sin(q1) - 4.90630778703665*sin(q4)*sin(q5) - 0.422618261740699*sin(q4)*cos(q5) - 0.422618261740699*sin(q5)*cos(q4) - 0.845236523481399*sin(q5) + 5.6252311481466*cos(q1) + 4.90630778703665*cos(q4)*cos(q5) + 2*cos(q4) + 5.8126155740733*cos(q5) + 7.6252311481466, 0.422618261740699*sin(q1) - sin(q4)*sin(q5) + 0.90630778703665*cos(q1) + cos(q4)*cos(q5) + cos(q5) + 0.90630778703665, -0.422618261740699*sin(q1) - 0.90630778703665*cos(q1) - 0.90630778703665]\n"
          ],
          "name": "stdout"
        }
      ]
    },
    {
      "cell_type": "markdown",
      "metadata": {
        "id": "joXueOXxQqp8"
      },
      "source": [
        "Convert to numpy array and sum the error."
      ],
      "id": "joXueOXxQqp8"
    },
    {
      "cell_type": "code",
      "metadata": {
        "id": "established-salad"
      },
      "source": [
        "#This block of code converts to numpy array and sums the error\n",
        "error = (numpy.array(eq)**2).sum()"
      ],
      "id": "established-salad",
      "execution_count": 18,
      "outputs": []
    },
    {
      "cell_type": "markdown",
      "metadata": {
        "id": "thorough-blanket"
      },
      "source": [
        "4. Select or Solve for a valid initial condition that represents the system in the middle of a typical gait, when it is both moving and when forces are being applied to it."
      ],
      "id": "thorough-blanket"
    },
    {
      "cell_type": "markdown",
      "metadata": {
        "id": "fmALHvQiRD9Z"
      },
      "source": [
        "Convert to a function that scipy can use. Sympy has a “labmdify” function that evaluates an expression, but scipy needs a slightly different format."
      ],
      "id": "fmALHvQiRD9Z"
    },
    {
      "cell_type": "code",
      "metadata": {
        "id": "laughing-broad"
      },
      "source": [
        "#This block of code converts to a function that scipy can use \n",
        "#Sympy has a \"labmdify\" function that evaluates an expression\n",
        "#Scipy uses a different format\n",
        "f = sympy.lambdify(qd,error)\n",
        "\n",
        "def function(args):\n",
        "    return f(*args)"
      ],
      "id": "laughing-broad",
      "execution_count": 19,
      "outputs": []
    },
    {
      "cell_type": "markdown",
      "metadata": {
        "id": "LYGi16mARJOp"
      },
      "source": [
        "Take the derivative of the equations to linearize with regard to the velocity variables."
      ],
      "id": "LYGi16mARJOp"
    },
    {
      "cell_type": "code",
      "metadata": {
        "id": "amended-astronomy",
        "colab": {
          "base_uri": "https://localhost:8080/"
        },
        "outputId": "41d8e234-7f37-4874-b854-4c82399e2b78"
      },
      "source": [
        "#This block of code solves for the desired mechanism (orange) givin the initial guesses (blue)\n",
        "#An incorrect initial guess was used on purpose to visualize that the system was solved correctly\n",
        "guess = [initialvalues[item] for item in qd]\n",
        "result = scipy.optimize.minimize(function,guess)\n",
        "\n",
        "if result.fun>1e-3:\n",
        "    raise(Exception(\"out of tolerance\"))\n",
        "print(\"Tolerance:\", result.fun)\n",
        "\n",
        "ini = []\n",
        "for item in system.get_state_variables():\n",
        "    if item in qd:\n",
        "        ini.append(result.x[qd.index(item)])\n",
        "    else:\n",
        "        ini.append(initialvalues[item])"
      ],
      "id": "amended-astronomy",
      "execution_count": 20,
      "outputs": [
        {
          "output_type": "stream",
          "text": [
            "Tolerance: 7.359495135748648e-12\n"
          ],
          "name": "stdout"
        }
      ]
    },
    {
      "cell_type": "markdown",
      "metadata": {
        "id": "eI84-OvmUeNv"
      },
      "source": [
        "Code solved for the desired mechanism (orange) given the initial guesses (blue). Purposely input a wrong initial guess for one angle so that it is easy to visualize that the system solved correctly."
      ],
      "id": "eI84-OvmUeNv"
    },
    {
      "cell_type": "markdown",
      "metadata": {
        "id": "healthy-regulation"
      },
      "source": [
        "5. Plot the system in this position."
      ],
      "id": "healthy-regulation"
    },
    {
      "cell_type": "markdown",
      "metadata": {
        "id": "KCfqacHcS4rl"
      },
      "source": [
        "Create a plot of the optimized points defining the mechanism."
      ],
      "id": "KCfqacHcS4rl"
    },
    {
      "cell_type": "code",
      "metadata": {
        "colab": {
          "base_uri": "https://localhost:8080/",
          "height": 313
        },
        "id": "XkRzflDsUQTc",
        "outputId": "72dd774f-3888-4358-8b96-1fb811abe20b"
      },
      "source": [
        "points = PointsOutput(points, constant_values=system.constant_values)\n",
        "points.calc(numpy.array([ini0,ini]))\n",
        "points.plot_time()"
      ],
      "id": "XkRzflDsUQTc",
      "execution_count": 21,
      "outputs": [
        {
          "output_type": "stream",
          "text": [
            "2021-03-30 17:41:37,840 - pynamics.output - INFO - calculating outputs\n",
            "2021-03-30 17:41:37,843 - pynamics.output - INFO - done calculating outputs\n"
          ],
          "name": "stderr"
        },
        {
          "output_type": "execute_result",
          "data": {
            "text/plain": [
              "<matplotlib.axes._subplots.AxesSubplot at 0x7f9b9ad38890>"
            ]
          },
          "metadata": {
            "tags": []
          },
          "execution_count": 21
        },
        {
          "output_type": "display_data",
          "data": {
            "image/png": "[encoded data removed]",
            "text/plain": [
              "<Figure size 432x288 with 1 Axes>"
            ]
          },
          "metadata": {
            "tags": [],
            "needs_background": "light"
          }
        }
      ]
    },
    {
      "cell_type": "markdown",
      "metadata": {
        "id": "7i9-sIGjEJOd"
      },
      "source": [
        "Solving for the internal Jacobian by converting the constrain equations into vectors (resulting in independent and dependent equations). Next, we take the derivative of those constraint equation vectors and solve for the internal input/output Jacobian."
      ],
      "id": "7i9-sIGjEJOd"
    },
    {
      "cell_type": "code",
      "metadata": {
        "id": "chicken-pioneer",
        "colab": {
          "base_uri": "https://localhost:8080/"
        },
        "outputId": "69bebfbc-d054-443d-da78-9330f69ebfd7"
      },
      "source": [
        "#The following blocks of code find the internal jacobian\n",
        "eq_d = sympy.Matrix(eq_d)            #turn constraint equations into a vector\n",
        "\n",
        "qi = sympy.Matrix([q0_d])            #turn qi and qd into sympy vectors\n",
        "qd = sympy.Matrix([q1_d,q4_d,q5_d])\n",
        "\n",
        "AA = eq_d.jacobian(qi)               #take partial derivative of constraints with respect to independent and dependent variables\n",
        "AA.simplify()\n",
        "BB = eq_d.jacobian(qd)\n",
        "BB.simplify()\n",
        "J = -BB.inv()*AA                     #solve for internal input/output Jacobian\n",
        "J.simplify()                         #we can use the simplify function provided by sympy to shorten the expression\n",
        "J"
      ],
      "id": "chicken-pioneer",
      "execution_count": 22,
      "outputs": [
        {
          "output_type": "execute_result",
          "data": {
            "text/plain": [
              "⎡            ⎛ l₀⋅sin(q₀)      ⎞            ⎤\n",
              "⎢           -⎜──────────── + l₁⎟            ⎥\n",
              "⎢            ⎝sin(q₀ + q₁)     ⎠            ⎥\n",
              "⎢           ─────────────────────           ⎥\n",
              "⎢                     l₁                    ⎥\n",
              "⎢                                           ⎥\n",
              "⎢-l₀⋅(l₃⋅sin(q₄ + q₅) + l₄⋅sin(q₅))⋅sin(q₁) ⎥\n",
              "⎢───────────────────────────────────────────⎥\n",
              "⎢         l₃⋅l₄⋅sin(q₄)⋅sin(q₀ + q₁)        ⎥\n",
              "⎢                                           ⎥\n",
              "⎢          l₀⋅sin(q₁)⋅sin(q₄ + q₅)          ⎥\n",
              "⎢          ───────────────────────          ⎥\n",
              "⎣          l₄⋅sin(q₄)⋅sin(q₀ + q₁)          ⎦"
            ]
          },
          "metadata": {
            "tags": []
          },
          "execution_count": 22
        }
      ]
    },
    {
      "cell_type": "markdown",
      "metadata": {
        "id": "nt8oXg2spMie"
      },
      "source": [
        "Note: this may take some time to calculate due to the complexity of the system "
      ],
      "id": "nt8oXg2spMie"
    },
    {
      "cell_type": "markdown",
      "metadata": {
        "id": "binding-guidance"
      },
      "source": [
        "6. From your biomechanics-based specifications, define one or more force vector estimates (one for each end effector) that the system should be expected to experience.\n",
        "\n",
        "**Assumptions:**\n",
        "\n",
        "*   force of gravity is pulling the system down\n",
        "*   normal force against walls when sarrus mechanism is contracted\n",
        "*   frictional force will oppose the force of gravity\n",
        "\n",
        "The average mass of a razor clam is 0.0462 kg. As a result, the force of gravity on the robot clam will be 0.453 N. Based on prior research we know that the average acceleration of a razor clam is 0.01 m/s^2. We assume that our systesms will be made from cardstock and climb a wooden coefficient of friction will be 0.25. Assuming the sarrus mechanism has a normal force of 0.5 N on the walls, the frictional force of the system will be 2*(0.5*0.25) = 0.25 N. \n",
        "\n",
        "**Note:** we multiply by two in order to take into account both sides of the sarrus mechanism making contact with the crevice walls."
      ],
      "id": "binding-guidance"
    },
    {
      "cell_type": "markdown",
      "metadata": {
        "id": "racial-float"
      },
      "source": [
        "7. Calculate the force or torque required at the input to satisfy the end-effector force requirements"
      ],
      "id": "racial-float"
    },
    {
      "cell_type": "markdown",
      "metadata": {
        "id": "oUt65jZSEAs7"
      },
      "source": [
        "Solving for the dependent variables qd:"
      ],
      "id": "oUt65jZSEAs7"
    },
    {
      "cell_type": "code",
      "metadata": {
        "colab": {
          "base_uri": "https://localhost:8080/"
        },
        "id": "NdaI6ApTEEuE",
        "outputId": "4a5f70da-4a23-4d7a-cb89-1dfb5874aa37"
      },
      "source": [
        "qd2 = J*qi\n",
        "qd2"
      ],
      "id": "NdaI6ApTEEuE",
      "execution_count": 23,
      "outputs": [
        {
          "output_type": "execute_result",
          "data": {
            "text/plain": [
              "⎡                  ⎛ l₀⋅sin(q₀)      ⎞            ⎤\n",
              "⎢           -q_0_d⋅⎜──────────── + l₁⎟            ⎥\n",
              "⎢                  ⎝sin(q₀ + q₁)     ⎠            ⎥\n",
              "⎢           ───────────────────────────           ⎥\n",
              "⎢                        l₁                       ⎥\n",
              "⎢                                                 ⎥\n",
              "⎢-l₀⋅q_0_d⋅(l₃⋅sin(q₄ + q₅) + l₄⋅sin(q₅))⋅sin(q₁) ⎥\n",
              "⎢─────────────────────────────────────────────────⎥\n",
              "⎢            l₃⋅l₄⋅sin(q₄)⋅sin(q₀ + q₁)           ⎥\n",
              "⎢                                                 ⎥\n",
              "⎢          l₀⋅q_0_d⋅sin(q₁)⋅sin(q₄ + q₅)          ⎥\n",
              "⎢          ─────────────────────────────          ⎥\n",
              "⎣             l₄⋅sin(q₄)⋅sin(q₀ + q₁)             ⎦"
            ]
          },
          "metadata": {
            "tags": []
          },
          "execution_count": 23
        }
      ]
    },
    {
      "cell_type": "markdown",
      "metadata": {
        "id": "jnNQwYv0FT-w"
      },
      "source": [
        "Now we can create a substitution dictionary to replace all occurrances of dependent variables)"
      ],
      "id": "jnNQwYv0FT-w"
    },
    {
      "cell_type": "code",
      "metadata": {
        "colab": {
          "base_uri": "https://localhost:8080/"
        },
        "id": "hnZgZ8fwFcb3",
        "outputId": "c4f146bf-8222-4716-add3-123f0477a271"
      },
      "source": [
        "subs = dict([(ii,jj) for ii,jj in zip(qd,qd2)])\n",
        "subs"
      ],
      "id": "hnZgZ8fwFcb3",
      "execution_count": 24,
      "outputs": [
        {
          "output_type": "execute_result",
          "data": {
            "text/plain": [
              "⎧              ⎛ l₀⋅sin(q₀)      ⎞                                            \n",
              "⎪       -q_0_d⋅⎜──────────── + l₁⎟                                            \n",
              "⎨              ⎝sin(q₀ + q₁)     ⎠          -l₀⋅q_0_d⋅(l₃⋅sin(q₄ + q₅) + l₄⋅si\n",
              "⎪q_1_d: ───────────────────────────, q_4_d: ──────────────────────────────────\n",
              "⎩                    l₁                                 l₃⋅l₄⋅sin(q₄)⋅sin(q₀ +\n",
              "\n",
              "                                                     ⎫\n",
              "                                                     ⎪\n",
              "n(q₅))⋅sin(q₁)          l₀⋅q_0_d⋅sin(q₁)⋅sin(q₄ + q₅)⎬\n",
              "───────────────, q_5_d: ─────────────────────────────⎪\n",
              " q₁)                       l₄⋅sin(q₄)⋅sin(q₀ + q₁)   ⎭"
            ]
          },
          "metadata": {
            "tags": []
          },
          "execution_count": 24
        }
      ]
    },
    {
      "cell_type": "markdown",
      "metadata": {
        "id": "80lFzLsRF8oa"
      },
      "source": [
        "Then we pick an end-effector"
      ],
      "id": "80lFzLsRF8oa"
    },
    {
      "cell_type": "code",
      "metadata": {
        "id": "kXnYoMv_GALu"
      },
      "source": [
        "pout = pAB"
      ],
      "id": "kXnYoMv_GALu",
      "execution_count": 25,
      "outputs": []
    },
    {
      "cell_type": "markdown",
      "metadata": {
        "id": "QxAJunjyGm98"
      },
      "source": [
        "Solving for vout:"
      ],
      "id": "QxAJunjyGm98"
    },
    {
      "cell_type": "code",
      "metadata": {
        "colab": {
          "base_uri": "https://localhost:8080/"
        },
        "id": "hXAXs5vcGqqu",
        "outputId": "ffc93a2e-ae50-4962-eb33-c7c8c9cc8d61"
      },
      "source": [
        "vout = pout.time_derivative()\n",
        "vout = vout.subs(subs)\n",
        "vout"
      ],
      "id": "hXAXs5vcGqqu",
      "execution_count": 26,
      "outputs": [
        {
          "output_type": "execute_result",
          "data": {
            "text/plain": [
              "l0*q0_d*A.y"
            ]
          },
          "metadata": {
            "tags": []
          },
          "execution_count": 26
        }
      ]
    },
    {
      "cell_type": "markdown",
      "metadata": {
        "id": "0qwoWouGH3Df"
      },
      "source": [
        "Solving for Force and Torque of the system:"
      ],
      "id": "0qwoWouGH3Df"
    },
    {
      "cell_type": "code",
      "metadata": {
        "id": "aGCU9e4PpSRP",
        "colab": {
          "base_uri": "https://localhost:8080/"
        },
        "outputId": "cf73e9c7-a2d1-4a43-b864-d095529b9829"
      },
      "source": [
        "#This block of code defines the force at the end-effector based on data from the biomechanics research conducted by the team\n",
        "F_end = numpy.array([0.5, 0.25, 0]).T #force vector on end effector\n",
        "F_inp = J.T.dot(F_end)\n",
        "F_inp"
      ],
      "id": "aGCU9e4PpSRP",
      "execution_count": 27,
      "outputs": [
        {
          "output_type": "execute_result",
          "data": {
            "text/plain": [
              "                                                       ⎛ l₀⋅sin(q₀)      ⎞\n",
              "                                                   0.5⋅⎜──────────── + l₁⎟\n",
              "  0.25⋅l₀⋅(l₃⋅sin(q₄ + q₅) + l₄⋅sin(q₅))⋅sin(q₁)       ⎝sin(q₀ + q₁)     ⎠\n",
              "- ────────────────────────────────────────────── - ───────────────────────\n",
              "            l₃⋅l₄⋅sin(q₄)⋅sin(q₀ + q₁)                        l₁          "
            ]
          },
          "metadata": {
            "tags": []
          },
          "execution_count": 27
        }
      ]
    },
    {
      "cell_type": "code",
      "metadata": {
        "id": "ccwEblMDpsIS",
        "colab": {
          "base_uri": "https://localhost:8080/"
        },
        "outputId": "dc5e613a-e380-42b9-f90d-c625c443cb89"
      },
      "source": [
        "#This block of code solves for the max torque at the end-effector \n",
        "t_end = J.T*F_end\n",
        "t_end"
      ],
      "id": "ccwEblMDpsIS",
      "execution_count": 28,
      "outputs": [
        {
          "output_type": "execute_result",
          "data": {
            "text/plain": [
              "array([[-0.5*(l0*sin(q0)/sin(q0 + q1) + l1)/l1,\n",
              "        -0.25*l0*(l3*sin(q4 + q5) + l4*sin(q5))*sin(q1)/(l3*l4*sin(q4)*sin(q0 + q1)),\n",
              "        0]], dtype=object)"
            ]
          },
          "metadata": {
            "tags": []
          },
          "execution_count": 28
        }
      ]
    },
    {
      "cell_type": "markdown",
      "metadata": {
        "id": "continuing-patrick"
      },
      "source": [
        "8. Estimate the velocity of the end-effector in this configuration. Using the Jacobian, calculate the speed required by the input(s) to achieve that output motion."
      ],
      "id": "continuing-patrick"
    },
    {
      "cell_type": "code",
      "metadata": {
        "id": "-Q1ByzpQp3XK",
        "colab": {
          "base_uri": "https://localhost:8080/"
        },
        "outputId": "3bb56f31-9901-470d-b9b3-050b932a0c3e"
      },
      "source": [
        "#This block of code defines the speed at the end-effector based on data from the biomechanics research conducted by the team\n",
        "v_max = sympy.Matrix([0,20.3,0])\n",
        "qA_d_max = J.T*v_max\n",
        "qA_d_max"
      ],
      "id": "-Q1ByzpQp3XK",
      "execution_count": 29,
      "outputs": [
        {
          "output_type": "execute_result",
          "data": {
            "text/plain": [
              "⎡-20.3⋅l₀⋅(l₃⋅sin(q₄ + q₅) + l₄⋅sin(q₅))⋅sin(q₁) ⎤\n",
              "⎢────────────────────────────────────────────────⎥\n",
              "⎣           l₃⋅l₄⋅sin(q₄)⋅sin(q₀ + q₁)           ⎦"
            ]
          },
          "metadata": {
            "tags": []
          },
          "execution_count": 29
        }
      ]
    },
    {
      "cell_type": "markdown",
      "metadata": {
        "id": "declared-certification"
      },
      "source": [
        "9. Finally, using the two estimates about force and speed at the input, compute the required power in this configuration"
      ],
      "id": "declared-certification"
    },
    {
      "cell_type": "code",
      "metadata": {
        "id": "tNSYPWzMqWBK",
        "colab": {
          "base_uri": "https://localhost:8080/"
        },
        "outputId": "8df6dc1b-6e7b-48b4-ee7c-2d7186bcdc6f"
      },
      "source": [
        "#This block of code solves for the required power needed to produce the motion\n",
        "P_max = F_inp*qA_d_max\n",
        "P_max"
      ],
      "id": "tNSYPWzMqWBK",
      "execution_count": 30,
      "outputs": [
        {
          "output_type": "execute_result",
          "data": {
            "text/plain": [
              "⎡                                        ⎛                                    \n",
              "⎢                                        ⎜                                    \n",
              "⎢                                        ⎜  0.25⋅l₀⋅(l₃⋅sin(q₄ + q₅) + l₄⋅sin(\n",
              "⎢-20.3⋅l₀⋅(l₃⋅sin(q₄ + q₅) + l₄⋅sin(q₅))⋅⎜- ──────────────────────────────────\n",
              "⎢                                        ⎝            l₃⋅l₄⋅sin(q₄)⋅sin(q₀ + q\n",
              "⎢─────────────────────────────────────────────────────────────────────────────\n",
              "⎣                                                  l₃⋅l₄⋅sin(q₄)⋅sin(q₀ + q₁) \n",
              "\n",
              "                   ⎛ l₀⋅sin(q₀)      ⎞⎞         ⎤\n",
              "               0.5⋅⎜──────────── + l₁⎟⎟         ⎥\n",
              "q₅))⋅sin(q₁)       ⎝sin(q₀ + q₁)     ⎠⎟         ⎥\n",
              "──────────── - ───────────────────────⎟⋅sin(q₁) ⎥\n",
              "₁)                        l₁          ⎠         ⎥\n",
              "────────────────────────────────────────────────⎥\n",
              "                                                ⎦"
            ]
          },
          "metadata": {
            "tags": []
          },
          "execution_count": 30
        }
      ]
    },
    {
      "cell_type": "markdown",
      "metadata": {
        "id": "traditional-contributor"
      },
      "source": [
        "# Discussion"
      ],
      "id": "traditional-contributor"
    },
    {
      "cell_type": "markdown",
      "metadata": {
        "id": "entitled-magic"
      },
      "source": [
        "1. How many degrees of freedom does your device have? How many motors? If the answer is not the same, what determines the state of the remaining degrees of freedom? How did you arrive at that number?\n",
        "\n",
        "Our mechanism has has only one degree of freedom. The links will be constrained to allow the output to translate in the y direction. We modeled the mechanism with one sarrus link, but our final design will consist of three. In order to achieve a climbing motion, we need to move each sarrus link individually. As a result, we will be moving our mechanism with three motors (one for each sarrus link)."
      ],
      "id": "entitled-magic"
    },
    {
      "cell_type": "markdown",
      "metadata": {
        "id": "meaning-employer"
      },
      "source": [
        "2. If your mechanism has more than one degree of freedom, please describe how those multiple degrees of freedom will work togehter to create a locomotory gait or useful motion. What is your plan for synchonizing, especially if passive energy storage?\n",
        "\n",
        "Our system has only one degree of freedom in the y direction. When the motor is running, the y distance between links A and B decreases and the x distance between pBC and pEF will increase. As shown in the video above, when the motor is active the sarrus link expands in the x direction making contact with the outer walls of a crevice. The frictional force with the walls will prevent the sarrus link from slipping. The outer most sarrus links are used to lock into the walls of a crevice. The middle sarrus link is used to increase the distance between the two outer sarrus links. As one of the outer sarrus links locks into place, the middle link will expand in the y direction, and the other outer link will lock. As a result, the device can manipulate each of the sarrus links contraction and extension to create a translation in the y direction, similar to that of a razor clam. A motor will control the input of the three sarrus links. A spring will be used to extend the sarrus links and the motor will be used to contract them."
      ],
      "id": "meaning-employer"
    },
    {
      "cell_type": "markdown",
      "metadata": {
        "id": "first-bridges"
      },
      "source": [
        "3. How did you estimate your expected end-effector forces?\n",
        "\n",
        "After revising our concept, our team’s robot kinematics was modeled after the razor clam. We used prior research on the biomechanics of a razor clam to determine speed, forces, etc. The primary difference between the bioinspired animal and the robot is the razor clam burrows into sand while the team’s robot is climbing vertically between two surfaces. The top, or end effector, of the robot would be moving vertically with only gravity as the opposing force. The end effector force can be expressed in the simulation as a function of velocity due to ‘Force = Mass * Acceleration’, whereas acceleration is substituted for given velocity over time."
      ],
      "id": "first-bridges"
    },
    {
      "cell_type": "markdown",
      "metadata": {
        "id": "similar-national"
      },
      "source": [
        "4. How did you estimate your expected end-effector speeds?\n",
        "\n",
        "We found the velocity of the end effector through the python simulation shown above. The geometric relationships for angular speed lead us to determine the output velocity at a specific input. We estimated velocity values based on the values we determined from the biomechanics assignment. From this research we found that the razor clam can move upward a distance of 5mm anywhere from 1.6 to 7.5 seconds. We took the average of this speed and used it as a reference. \n"
      ],
      "id": "similar-national"
    }
  ]
}