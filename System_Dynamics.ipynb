{
  "nbformat": 4,
  "nbformat_minor": 0,
  "metadata": {
    "colab": {
      "name": "System Dynamics",
      "provenance": [],
      "collapsed_sections": [],
      "authorship_tag": "ABX9TyOR+SoQF5K1H7T2AvCddTnq",
      "include_colab_link": true
    },
    "kernelspec": {
      "name": "python3",
      "display_name": "Python 3"
    },
    "language_info": {
      "name": "python"
    }
  },
  "cells": [
    {
      "cell_type": "markdown",
      "metadata": {
        "id": "view-in-github",
        "colab_type": "text"
      },
      "source": [
        "<a href=\"https://colab.research.google.com/github/EGR557-SPR21-Team4/EGR557-SPR21-Team4.github.io/blob/main/System_Dynamics.ipynb\" target=\"_parent\"><img src=\"https://colab.research.google.com/assets/colab-badge.svg\" alt=\"Open In Colab\"/></a>"
      ]
    },
    {
      "cell_type": "markdown",
      "metadata": {
        "id": "DrQ3fdi5qXvk"
      },
      "source": [
        "## Dynamics I\n"
      ]
    },
    {
      "cell_type": "markdown",
      "metadata": {
        "id": "CKJgveYFR1BZ"
      },
      "source": [
        "The Dynamics model below represents one of three sarrus mechanisms from our system. The red frame represents the Newtonian frame and the black frames represent the frame joints. Figure 3a shows all of the points and vectors needed to create our system. All of the vectors are relative to the Newtonian frame shown in red.\n",
        "\n",
        "![](https://drive.google.com/uc?export=view&id=1WGMy-oskfulGSYSXEImoDG69Q70OPvkV)\n",
        "\n",
        "<h0><center>**Figure 1a: Sarrus Mechanism Dynamics Model**</center></h0>\n",
        "\n",
        "| Rigid Body | Mass (kilograms) | Legth (meters) |\n",
        "| --- | --- | --- |\n",
        "| A | 0.0004 | 0.0508 |\n",
        "| B | 0.0002 | 0.0254 |\n",
        "| C | 0.0002 | 0.0254 |\n",
        "| D | 0.0004 | 0.0508 |\n",
        "| E | 0.0002 | 0.0254 |\n",
        "| F | 0.0002 | 0.0254 |\n",
        "\n",
        "<h0><center>**Table 1a**: Dynamics Model Lengths and Masses</center></h0>"
      ]
    },
    {
      "cell_type": "markdown",
      "metadata": {
        "id": "a9m0ndpBcAGX"
      },
      "source": [
        "Show plots inline and ensures that pynamics is installed."
      ]
    },
    {
      "cell_type": "code",
      "metadata": {
        "id": "l7rxx4P4Rzmd"
      },
      "source": [
        "%matplotlib inline"
      ],
      "execution_count": 1,
      "outputs": []
    },
    {
      "cell_type": "code",
      "metadata": {
        "id": "exclusive-brazil",
        "colab": {
          "base_uri": "https://localhost:8080/"
        },
        "outputId": "f9956162-b124-4683-bc6c-7b506f493739"
      },
      "source": [
        "!pip install pypoly2tri idealab_tools foldable_robotics pynamics"
      ],
      "execution_count": 2,
      "outputs": [
        {
          "output_type": "stream",
          "text": [
            "Requirement already satisfied: pypoly2tri in /usr/local/lib/python3.7/dist-packages (0.0.3)\n",
            "Requirement already satisfied: idealab_tools in /usr/local/lib/python3.7/dist-packages (0.0.22)\n",
            "Requirement already satisfied: foldable_robotics in /usr/local/lib/python3.7/dist-packages (0.0.29)\n",
            "Requirement already satisfied: pynamics in /usr/local/lib/python3.7/dist-packages (0.0.8)\n",
            "Requirement already satisfied: imageio in /usr/local/lib/python3.7/dist-packages (from idealab_tools) (2.4.1)\n",
            "Requirement already satisfied: numpy in /usr/local/lib/python3.7/dist-packages (from foldable_robotics) (1.19.5)\n",
            "Requirement already satisfied: matplotlib in /usr/local/lib/python3.7/dist-packages (from foldable_robotics) (3.2.2)\n",
            "Requirement already satisfied: pyyaml in /usr/local/lib/python3.7/dist-packages (from foldable_robotics) (3.13)\n",
            "Requirement already satisfied: ezdxf in /usr/local/lib/python3.7/dist-packages (from foldable_robotics) (0.16)\n",
            "Requirement already satisfied: shapely in /usr/local/lib/python3.7/dist-packages (from foldable_robotics) (1.7.1)\n",
            "Requirement already satisfied: scipy in /usr/local/lib/python3.7/dist-packages (from pynamics) (1.4.1)\n",
            "Requirement already satisfied: sympy in /usr/local/lib/python3.7/dist-packages (from pynamics) (1.7.1)\n",
            "Requirement already satisfied: pillow in /usr/local/lib/python3.7/dist-packages (from imageio->idealab_tools) (7.1.2)\n",
            "Requirement already satisfied: pyparsing!=2.0.4,!=2.1.2,!=2.1.6,>=2.0.1 in /usr/local/lib/python3.7/dist-packages (from matplotlib->foldable_robotics) (2.4.7)\n",
            "Requirement already satisfied: python-dateutil>=2.1 in /usr/local/lib/python3.7/dist-packages (from matplotlib->foldable_robotics) (2.8.1)\n",
            "Requirement already satisfied: kiwisolver>=1.0.1 in /usr/local/lib/python3.7/dist-packages (from matplotlib->foldable_robotics) (1.3.1)\n",
            "Requirement already satisfied: cycler>=0.10 in /usr/local/lib/python3.7/dist-packages (from matplotlib->foldable_robotics) (0.10.0)\n",
            "Requirement already satisfied: mpmath>=0.19 in /usr/local/lib/python3.7/dist-packages (from sympy->pynamics) (1.2.1)\n",
            "Requirement already satisfied: six>=1.5 in /usr/local/lib/python3.7/dist-packages (from python-dateutil>=2.1->matplotlib->foldable_robotics) (1.15.0)\n"
          ],
          "name": "stdout"
        }
      ]
    },
    {
      "cell_type": "markdown",
      "metadata": {
        "id": "Wl6E9lFHcExQ"
      },
      "source": [
        "Import all required packages."
      ]
    },
    {
      "cell_type": "code",
      "metadata": {
        "id": "cQsl0Xz1l0IT"
      },
      "source": [
        "#This block of code imports the necessary modules created by Daniel M. Aukes\n",
        "import pynamics\n",
        "from pynamics.frame import Frame\n",
        "from pynamics.variable_types import Differentiable,Constant\n",
        "from pynamics.system import System\n",
        "from pynamics.body import Body\n",
        "from pynamics.dyadic import Dyadic \n",
        "from pynamics.output import Output,PointsOutput\n",
        "from pynamics.particle import Particle\n",
        "import pynamics.integration\n",
        "import sympy\n",
        "import numpy\n",
        "import matplotlib.pyplot as plt\n",
        "plt.ion()\n",
        "from math import pi\n",
        "from pynamics.constraint import Constraint \n",
        "import scipy.optimize"
      ],
      "execution_count": 3,
      "outputs": []
    },
    {
      "cell_type": "markdown",
      "metadata": {
        "id": "4q2EE7z6cRu6"
      },
      "source": [
        "Create a pynamics system where the mechanism is located."
      ]
    },
    {
      "cell_type": "code",
      "metadata": {
        "id": "76Qzdu-_l4tT"
      },
      "source": [
        "#This block of code create a new system object and set that system as the global system within the module so that other variables can use and find it\n",
        "system = System()\n",
        "pynamics.set_system(__name__,system)"
      ],
      "execution_count": 4,
      "outputs": []
    },
    {
      "cell_type": "markdown",
      "metadata": {
        "id": "zTJnZr4uA65K"
      },
      "source": [
        "1. Scale: Ensure your system is using SI units. You should be specifying lengths in meters (so millimeters should be scaled down to the .001 range), forces in Newtons, and radians (not degrees), and masses in kg. You may make educated guesses about mass for now."
      ]
    },
    {
      "cell_type": "markdown",
      "metadata": {
        "id": "LikKVYGTedrw"
      },
      "source": [
        "Declare all constants using SI units."
      ]
    },
    {
      "cell_type": "code",
      "metadata": {
        "id": "os7WUH_CmKh7"
      },
      "source": [
        "#This block of code declares and store constants\n",
        "l0 = Constant(0.0508,'l0',system) #defines the lengths (in meters) of each frame (1:1 ratio of paper model)\n",
        "l1 = Constant(0.0254,'l1',system) #1in ~ 0.0254m\n",
        "l2 = Constant(0.0254,'l2',system)\n",
        "l3 = Constant(0.0508,'l3',system)\n",
        "l4 = Constant(0.0254,'l4',system)\n",
        "l5 = Constant(0.0254,'l5',system)\n",
        "\n",
        "mA = Constant(0.04,'mA',system) #defines the mass (in kg) of each frame \n",
        "mB = Constant(0.002,'mB',system) #1g ~ 0.001kg\n",
        "mC = Constant(0.002,'mC',system)\n",
        "mD = Constant(0.04,'mD',system)\n",
        "mE = Constant(0.002,'mE',system)\n",
        "mF = Constant(0.002,'mF',system)\n",
        "\n",
        "g = Constant(9.81,'g',system) #defines gravity (in m/s^2)\n",
        "b = Constant(0,'b',system)  #defines damping coefficient (in kg/s^2)\n",
        "k = Constant(0,'k',system)  #defines spring coefficient (kg/s^2)\n",
        "\n",
        "preload0 = Constant(0*pi/180,'preload0',system) #defines the spring preload to establish neutral point of frame (radians)\n",
        "preload1 = Constant(0*pi/180,'preload1',system)\n",
        "preload2 = Constant(0*pi/180,'preload2',system)\n",
        "preload3 = Constant(0*pi/180,'preload3',system) \n",
        "preload4 = Constant(0*pi/180,'preload4',system)\n",
        "preload5 = Constant(0*pi/180,'preload5',system)\n",
        "preload6 = Constant(0*pi/180,'preload6',system)\n",
        "\n",
        "Ixx_A = Constant(2,'Ixx_A',system) #defines the inertia (kg*m^2) of each frame \n",
        "Iyy_A = Constant(2,'Iyy_A',system)\n",
        "Izz_A = Constant(2,'Izz_A',system)\n",
        "Ixx_B = Constant(1,'Ixx_B',system)\n",
        "Iyy_B = Constant(1,'Iyy_B',system)\n",
        "Izz_B = Constant(1,'Izz_B',system)\n",
        "Ixx_C = Constant(1,'Ixx_C',system)\n",
        "Iyy_C = Constant(1,'Iyy_C',system)\n",
        "Izz_C = Constant(1,'Izz_C',system)\n",
        "Ixx_D = Constant(2,'Ixx_D',system)  \n",
        "Iyy_D = Constant(2,'Iyy_D',system)\n",
        "Izz_D = Constant(2,'Izz_D',system)\n",
        "Ixx_E = Constant(1,'Ixx_E',system)\n",
        "Iyy_E = Constant(1,'Iyy_E',system)\n",
        "Izz_E = Constant(1,'Izz_E',system)\n",
        "Ixx_F = Constant(1,'Ixx_F',system)\n",
        "Iyy_F = Constant(1,'Iyy_F',system)\n",
        "Izz_F = Constant(1,'Izz_F',system)"
      ],
      "execution_count": 5,
      "outputs": []
    },
    {
      "cell_type": "code",
      "metadata": {
        "id": "nmXvvCVBpLFW"
      },
      "source": [
        "#This block of code specifies the precision of the integration \n",
        "tol = 1e-12"
      ],
      "execution_count": 6,
      "outputs": []
    },
    {
      "cell_type": "code",
      "metadata": {
        "id": "ZPBo9Uj1ptEE"
      },
      "source": [
        "#This block of code defines variables for time that can be used throughout the script\n",
        "tinitial = 0\n",
        "tfinal = 17\n",
        "fps = 30\n",
        "tstep = 2/fps\n",
        "t = numpy.r_[tinitial:tfinal:tstep]"
      ],
      "execution_count": 7,
      "outputs": []
    },
    {
      "cell_type": "markdown",
      "metadata": {
        "id": "OUUxPvZTgQLw"
      },
      "source": [
        "Create the differentiable state variables, cooresponding to the joint angles."
      ]
    },
    {
      "cell_type": "code",
      "metadata": {
        "id": "YWxLASYAp26c"
      },
      "source": [
        "#This block of code creates dynamic state variables for the angles shown in our kinematics model\n",
        "q0,q0_d,q0_dd = Differentiable('q0',system) #angle between N and A frames\n",
        "q1,q1_d,q1_dd = Differentiable('q1',system) #angle between A and B frames\n",
        "q2,q2_d,q2_dd = Differentiable('q2',system) #angle between B and C frames\n",
        "q3,q3_d,q3_dd = Differentiable('q3',system) #angle between C and D frames\n",
        "q4,q4_d,q4_dd = Differentiable('q4',system) #angle between D and E frames\n",
        "q5,q5_d,q5_dd = Differentiable('q5',system) #angle between E and F frames"
      ],
      "execution_count": 8,
      "outputs": []
    },
    {
      "cell_type": "markdown",
      "metadata": {
        "id": "3qB38zZhgWTe"
      },
      "source": [
        "Initial guess for starting positions."
      ]
    },
    {
      "cell_type": "code",
      "metadata": {
        "id": "R8Amps5KrNpd"
      },
      "source": [
        "#This block of code sets the initial guess for the mechanisms starting position (in radians) and velocity (in m/s)\n",
        "initialvalues = {}\n",
        "initialvalues[q0] = 0*pi/180  #optimal angle is 0\n",
        "initialvalues[q0_d] = 0*pi/180\n",
        "initialvalues[q1] = 45*pi/180  #optimal angle is 45\n",
        "initialvalues[q1_d] = 0*pi/180\n",
        "initialvalues[q2] = 90*pi/180  #optimal angle is 90\n",
        "initialvalues[q2_d] = 0*pi/180\n",
        "initialvalues[q3] = 45*pi/180   #optimal angle is 45\n",
        "initialvalues[q3_d] = 0*pi/180\n",
        "initialvalues[q4] = 45*pi/180   #optimal angle is 45\n",
        "initialvalues[q4_d] = 0*pi/180\n",
        "initialvalues[q5] = 90*pi/180   #optimal angle is 90\n",
        "initialvalues[q5_d] = 0*pi/180"
      ],
      "execution_count": 9,
      "outputs": []
    },
    {
      "cell_type": "markdown",
      "metadata": {
        "id": "6k6wXtkHgZmM"
      },
      "source": [
        "Retrieve state variables in the order they are stored in the system."
      ]
    },
    {
      "cell_type": "code",
      "metadata": {
        "id": "EGf3m81ZsVur"
      },
      "source": [
        "#This block of code orders the initial values in a list in such a way that the integrator can use it in the same order that it expects the variables to be supplied\n",
        "statevariables = system.get_state_variables()\n",
        "ini = [initialvalues[item] for item in statevariables]"
      ],
      "execution_count": 10,
      "outputs": []
    },
    {
      "cell_type": "markdown",
      "metadata": {
        "id": "MmNaGz1Ugd15"
      },
      "source": [
        "Create the main reference frames, with one cooresponding to each rigid link."
      ]
    },
    {
      "cell_type": "code",
      "metadata": {
        "id": "6Aa10-12siLM"
      },
      "source": [
        "#This block of code initializes frames\n",
        "N = Frame('N')\n",
        "A = Frame('A')\n",
        "B = Frame('B')\n",
        "C = Frame('C')\n",
        "D = Frame('D')\n",
        "E = Frame('E')\n",
        "F = Frame('F')"
      ],
      "execution_count": 11,
      "outputs": []
    },
    {
      "cell_type": "markdown",
      "metadata": {
        "id": "WoKALeIJghCV"
      },
      "source": [
        "Declare N as the Newtonian (fixed) frame."
      ]
    },
    {
      "cell_type": "code",
      "metadata": {
        "id": "oYtDDV29sqP1"
      },
      "source": [
        "#This block of code sets N frame as the newtonian frame (see kinematic diagram from above)\n",
        "system.set_newtonian(N) "
      ],
      "execution_count": 12,
      "outputs": []
    },
    {
      "cell_type": "markdown",
      "metadata": {
        "id": "123c2lFYgjwP"
      },
      "source": [
        "Rotate frames about their z-axes so they align with the correct rigid link."
      ]
    },
    {
      "cell_type": "code",
      "metadata": {
        "id": "31fj__pAss98"
      },
      "source": [
        "#This block of code shows frame rotation in the Z direction\n",
        "A.rotate_fixed_axis_directed(N,[0,0,1],q0,system)  #the A frame rotates about the N frame in the Z direction (0,0,1) by q0 degrees\n",
        "B.rotate_fixed_axis_directed(A,[0,0,1],q1,system)  #the B frame rotates about the A frame in the Z direction (0,0,1) by q1 degrees\n",
        "C.rotate_fixed_axis_directed(B,[0,0,1],q2,system)  #the C frame rotates about the B frame in the Z direction (0,0,1) by q2 degrees\n",
        "D.rotate_fixed_axis_directed(C,[0,0,1],q3,system)  #the D frame rotates about the C frame in the Z direction (0,0,1) by q3 degrees\n",
        "E.rotate_fixed_axis_directed(D,[0,0,1],q4,system)  #the E frame rotates about the D frame in the Z direction (0,0,1) by q4 degrees\n",
        "F.rotate_fixed_axis_directed(E,[0,0,1],q5,system)  #the F frame rotates about the E frame in the Z direction (0,0,1) by q5 degrees"
      ],
      "execution_count": 13,
      "outputs": []
    },
    {
      "cell_type": "markdown",
      "metadata": {
        "id": "eX3wutfaglEl"
      },
      "source": [
        "Define vectors for each of the joint locations. "
      ]
    },
    {
      "cell_type": "code",
      "metadata": {
        "id": "lM8QERDyugdD"
      },
      "source": [
        "#This block of code defines the points needed to create the mechanism \n",
        "pNA = 0*N.x + 0*N.y    #pNA (point NA) position is 0 units in the direction of N reference frame's x direction (0*N.x) and y direction (0*N.y)\n",
        "pAB = pNA + l0*A.x     #pAB position is pNA's position plus l0 units in the direction of ref frame A's x direction \n",
        "pBC = pAB + l1*B.x     #pBC position is pAB's position plus l1 units in the direction of ref frame B's x direction\n",
        "pCD = pBC + l2*C.x     #pCD position is pBC's position plus l2 units in the direction of ref frame C's x direction\n",
        "pDE = pCD + l3*D.x     #pDE position is pCD's position plus l3 units in the direction of ref frame D's x direction\n",
        "pEF = pDE + l4*E.x     #pEF position is pDE's position plus l4 units in the direction of ref frame E's x direction\n",
        "pFtip = pEF + l5*F.x   #pFtip position is pEF's position plus l5 units in the direction of ref frame F's x direction"
      ],
      "execution_count": 14,
      "outputs": []
    },
    {
      "cell_type": "markdown",
      "metadata": {
        "id": "aqpasp7agxy-"
      },
      "source": [
        "Compute center of mass for each of the frame locations. "
      ]
    },
    {
      "cell_type": "code",
      "metadata": {
        "id": "7uavQDOmu4zl"
      },
      "source": [
        "#This block of code defines the centers of mass of each link (halfway along the length of each frame)\n",
        "pAcm=pNA+l0/2*A.x  #pA (link A) position is pNA's position plus one half of l0 units in the direction of ref frame A's x direction\n",
        "pBcm=pAB+l1/2*B.x  #pB (link B) position is pAB's position plus one half of l1 units in the direction of ref frame B's x direction\n",
        "pCcm=pBC+l2/2*C.x  #pC (link C) position is pBC's position plus one half of l2 units in the direction of ref frame C's x direction\n",
        "pDcm=pCD+l3/2*D.x  #pD (link D) position is pCD's position plus one half of l3 units in the direction of ref frame D's x direction\n",
        "pEcm=pDE+l4/2*E.x  #pE (link E) position is pDE's position plus one half of l4 units in the direction of ref frame E's x direction\n",
        "pFcm=pEF+l5/2*F.x  #pF (link F) position is pEF's position plus one half of l5 units in the direction of ref frame F's x direction"
      ],
      "execution_count": 15,
      "outputs": []
    },
    {
      "cell_type": "markdown",
      "metadata": {
        "id": "-yI-Yp1Bg6rW"
      },
      "source": [
        "Compute angular velocity for each of the joint locations. "
      ]
    },
    {
      "cell_type": "code",
      "metadata": {
        "id": "I6GfF8QSw_7_"
      },
      "source": [
        "#This block of code computes and returns the angular velocity between frames\n",
        "wNA = N.getw_(A)\n",
        "wAB = A.getw_(B)\n",
        "wBC = B.getw_(C)\n",
        "wCD = C.getw_(D)\n",
        "wDE = D.getw_(E)\n",
        "wEF = E.getw_(F)"
      ],
      "execution_count": 16,
      "outputs": []
    },
    {
      "cell_type": "markdown",
      "metadata": {
        "id": "vQl29i-hBl53"
      },
      "source": [
        "2. Define Inertias: Add a center of mass and a particle or rigid body to each rotational frame. You may use particles for now if you are not sure of the inertial properties of your bodies, but you should plan on finding these values soon for any “payloads” or parts of your system that carry extra loads (other than the weight of paper)."
      ]
    },
    {
      "cell_type": "markdown",
      "metadata": {
        "id": "UI5EZVYghDIs"
      },
      "source": [
        "Compute the inertia dynamics of each body and defines a rigid body on each frame."
      ]
    },
    {
      "cell_type": "code",
      "metadata": {
        "id": "CBdd_BMKxl5F"
      },
      "source": [
        "#This block of code compute the inertia dynamics of each body and defines a rigid body on each frame\n",
        "IA = Dyadic.build(A,Ixx_A,Iyy_A,Izz_A)\n",
        "IB = Dyadic.build(B,Ixx_B,Iyy_B,Izz_B)\n",
        "IC = Dyadic.build(C,Ixx_C,Iyy_C,Izz_C)\n",
        "ID = Dyadic.build(D,Ixx_D,Iyy_D,Izz_D)\n",
        "IE = Dyadic.build(E,Ixx_E,Iyy_E,Izz_E)\n",
        "IF = Dyadic.build(F,Ixx_F,Iyy_F,Izz_F)\n",
        "\n",
        "BodyA = Body('BodyA',A,pAcm,mA,IA,system)\n",
        "BodyB = Body('BodyB',B,pBcm,mB,IB,system)\n",
        "BodyC = Body('BodyC',C,pCcm,mC,IC,system)\n",
        "BodyD = Body('BodyD',D,pDcm,mD,ID,system)\n",
        "BodyE = Body('BodyE',E,pEcm,mE,IE,system)\n",
        "BodyF = Body('BodyF',F,pFcm,mF,IF,system)"
      ],
      "execution_count": 17,
      "outputs": []
    },
    {
      "cell_type": "markdown",
      "metadata": {
        "id": "p_x0r09yB42S"
      },
      "source": [
        "3. Add Forces: Add the acceleration due to gravity. Add rotational springs in the joints (using k=0 is ok for now) and a damper to at least one rotational joint. You do not need to add external motor/spring forces but you should start planning to collect that data."
      ]
    },
    {
      "cell_type": "markdown",
      "metadata": {
        "id": "vkCosqHVh1sb"
      },
      "source": [
        "Adding the forces: note that in this section damping and stiffness are 0, so only the input torque and gravity cause changes to the system dynamics."
      ]
    },
    {
      "cell_type": "code",
      "metadata": {
        "colab": {
          "base_uri": "https://localhost:8080/"
        },
        "id": "wWgdBhvy0u00",
        "outputId": "07e9fd8b-354e-45ee-9f36-379ced10ad5c"
      },
      "source": [
        "#This block of code adds forces and torques to the system with the generic \"addforce\" method.\n",
        "#The first parameter supplied is a vector describing the force applied at a point or the torque applied along a given rotational axis. \n",
        "#The second parameter is the vector describing the linear speed (for an applied force) or the angular velocity(for an applied torque)\n",
        "system.addforce(-b*wNA,wNA)\n",
        "system.addforce(-b*wAB,wAB)\n",
        "system.addforce(-b*wBC,wBC)\n",
        "system.addforce(-b*wCD,wCD)\n",
        "system.addforce(-b*wDE,wDE)\n",
        "system.addforce(-b*wEF,wEF)"
      ],
      "execution_count": 18,
      "outputs": [
        {
          "output_type": "execute_result",
          "data": {
            "text/plain": [
              "<pynamics.force.Force at 0x7f8383032b50>"
            ]
          },
          "metadata": {
            "tags": []
          },
          "execution_count": 18
        }
      ]
    },
    {
      "cell_type": "code",
      "metadata": {
        "id": "vEouZsnh1Ubu",
        "colab": {
          "base_uri": "https://localhost:8080/"
        },
        "outputId": "eefc39e6-2bc1-4f40-cef2-f9b0c520dba9"
      },
      "source": [
        "#This block of code adds spring forces\n",
        "#The first value is the linear spring constant\n",
        "#The second value is the “stretch” vector, indicating the amount of deflection from the neutral point of the spring.\n",
        "#The final parameter is the linear or angluar velocity vector (depending on whether your spring is a linear or torsional spring)\n",
        "system.add_spring_force1(k,(q0-preload1)*N.z,wNA)\n",
        "system.add_spring_force1(k,(q1-preload2)*A.z,wAB)\n",
        "system.add_spring_force1(k,(q2-preload3)*B.z,wBC)\n",
        "system.add_spring_force1(k,(q3-preload4)*C.z,wCD)\n",
        "system.add_spring_force1(k,(q4-preload5)*E.z,wDE)\n",
        "system.add_spring_force1(k,(q5-preload6)*F.z,wEF)"
      ],
      "execution_count": 19,
      "outputs": [
        {
          "output_type": "execute_result",
          "data": {
            "text/plain": [
              "(<pynamics.force.Force at 0x7f83830282d0>,\n",
              " <pynamics.spring.Spring at 0x7f8383028210>)"
            ]
          },
          "metadata": {
            "tags": []
          },
          "execution_count": 19
        }
      ]
    },
    {
      "cell_type": "code",
      "metadata": {
        "id": "dM4Gd7Ry2U3-"
      },
      "source": [
        "#This block of code globally applies the force of gravity to all particles and bodies\n",
        "system.addforcegravity(-g*N.y)"
      ],
      "execution_count": 20,
      "outputs": []
    },
    {
      "cell_type": "markdown",
      "metadata": {
        "id": "GO_UeFhGCCos"
      },
      "source": [
        "4. Constraints: Keep mechanism constraints in, but follow the pendulum example of double-differentiating all constraint equations.\n",
        "If you defined your mechanism as unattached to the Newtonian frame, add enough constraints so that it is fully attached to ground (for now). you will be eventually removing these constraints."
      ]
    },
    {
      "cell_type": "markdown",
      "metadata": {
        "id": "p5fAB6Kdip-M"
      },
      "source": [
        "Create all the vector equation constraints."
      ]
    },
    {
      "cell_type": "code",
      "metadata": {
        "id": "bBt0U5H22pqO"
      },
      "source": [
        "#This block of code defines the closed loop kinematics (vectors) of the sarrus mechanism.\n",
        "#Constraint 1:\n",
        "eq_vector=pFtip-pNA\n",
        "#Constraint 2:\n",
        "eq_vector2= pDE-pCD\n",
        "#Constraint 3:\n",
        "eq_vector3= pEF-pBC\n",
        "#Constraint 4:\n",
        "eq_vector4= pDE-pNA"
      ],
      "execution_count": 21,
      "outputs": []
    },
    {
      "cell_type": "markdown",
      "metadata": {
        "id": "j0OyEeoBis-2"
      },
      "source": [
        "Convert the vector constraints into scalar equations that can be solved."
      ]
    },
    {
      "cell_type": "code",
      "metadata": {
        "id": "wjZqd5fa2y_W"
      },
      "source": [
        "#This block of code defines the systems constraints based on the vectors listed above\n",
        "eq = []\n",
        "\n",
        "#pFtip and pNA have to be on the same point\n",
        "eq.append((eq_vector).dot(N.x))\n",
        "eq.append((eq_vector).dot(N.y))\n",
        "\n",
        "#pDE and pCD must have the same y coordinate in the N frame\n",
        "eq.append((eq_vector2).dot(N.y))\n",
        "#pEF and pBC must have the same y coordinate in the N frame\n",
        "eq.append((eq_vector3).dot(N.y))\n",
        "\n",
        "#pDE and pNA must have the same x coordinate in the N frame\n",
        "eq.append((eq_vector4).dot(N.x))\n",
        "\n",
        "\n",
        "eq_d=[(system.derivative(item)) for item in eq]\n",
        "eq_dd=[(system.derivative(item)) for item in eq_d]"
      ],
      "execution_count": 22,
      "outputs": []
    },
    {
      "cell_type": "markdown",
      "metadata": {
        "id": "kH-De_e8QUZy"
      },
      "source": [
        "Identify independent and dependent variables."
      ]
    },
    {
      "cell_type": "code",
      "metadata": {
        "id": "quiet-essex"
      },
      "source": [
        "#This block of code defines the dependent and independent values\n",
        "qi = [q1]\n",
        "qd = [q0,q2,q3,q4,q5] #number of items in qd should equal the number of constraints above"
      ],
      "execution_count": 23,
      "outputs": []
    },
    {
      "cell_type": "markdown",
      "metadata": {
        "id": "WUbfOgyYQZ-e"
      },
      "source": [
        "For dependent variables, create an initial guess and create a copy of symbolic constants dictionary and add the initial value of qi to it."
      ]
    },
    {
      "cell_type": "code",
      "metadata": {
        "id": "thirty-genesis"
      },
      "source": [
        "#This block of code recalls and stores link lengths or constants declared earlier\n",
        "constants = system.constant_values.copy() \n",
        "defined = dict([(item,initialvalues[item]) for item in qi])\n",
        "constants.update(defined)"
      ],
      "execution_count": 24,
      "outputs": []
    },
    {
      "cell_type": "markdown",
      "metadata": {
        "id": "IhMQhuRBQlr2"
      },
      "source": [
        "Substitute constants in equation."
      ]
    },
    {
      "cell_type": "code",
      "metadata": {
        "colab": {
          "base_uri": "https://localhost:8080/"
        },
        "id": "4S5wDSK7QkEM",
        "outputId": "7bfe8a48-c297-4439-d8cf-eeab96e3021c"
      },
      "source": [
        "eq = [item.subs(constants) for item in eq]\n",
        "print(eq)"
      ],
      "execution_count": 25,
      "outputs": [
        {
          "output_type": "stream",
          "text": [
            "[0.0254*((-sin(q3)*sin(q4) + cos(q3)*cos(q4))*sin(q5) + (sin(q3)*cos(q4) + sin(q4)*cos(q3))*cos(q5))*((-0.707106781186548*sin(q0) - 0.707106781186547*cos(q0))*cos(q2) - (-0.707106781186547*sin(q0) + 0.707106781186548*cos(q0))*sin(q2)) + 0.0254*((-sin(q3)*sin(q4) + cos(q3)*cos(q4))*cos(q5) + (-sin(q3)*cos(q4) - sin(q4)*cos(q3))*sin(q5))*((-0.707106781186548*sin(q0) - 0.707106781186547*cos(q0))*sin(q2) + (-0.707106781186547*sin(q0) + 0.707106781186548*cos(q0))*cos(q2)) + 0.0254*((-0.707106781186548*sin(q0) - 0.707106781186547*cos(q0))*sin(q2) + (-0.707106781186547*sin(q0) + 0.707106781186548*cos(q0))*cos(q2))*(-sin(q3)*sin(q4) + cos(q3)*cos(q4)) + 0.0254*((-0.707106781186548*sin(q0) - 0.707106781186547*cos(q0))*cos(q2) - (-0.707106781186547*sin(q0) + 0.707106781186548*cos(q0))*sin(q2))*(sin(q3)*cos(q4) + sin(q4)*cos(q3)) + 0.0508*(-sin(q2)*sin(q3) + cos(q2)*cos(q3))*(-0.707106781186547*sin(q0) + 0.707106781186548*cos(q0)) + 0.0508*(sin(q2)*cos(q3) + sin(q3)*cos(q2))*(-0.707106781186548*sin(q0) - 0.707106781186547*cos(q0)) + 0.0254*(-0.707106781186548*sin(q0) - 0.707106781186547*cos(q0))*sin(q2) + 0.0254*(-0.707106781186547*sin(q0) + 0.707106781186548*cos(q0))*cos(q2) - 0.0179605122421383*sin(q0) + 0.0687605122421383*cos(q0), 0.0254*((-sin(q3)*sin(q4) + cos(q3)*cos(q4))*sin(q5) + (sin(q3)*cos(q4) + sin(q4)*cos(q3))*cos(q5))*((-0.707106781186547*sin(q0) + 0.707106781186548*cos(q0))*cos(q2) - (0.707106781186548*sin(q0) + 0.707106781186547*cos(q0))*sin(q2)) + 0.0254*((-sin(q3)*sin(q4) + cos(q3)*cos(q4))*cos(q5) + (-sin(q3)*cos(q4) - sin(q4)*cos(q3))*sin(q5))*((-0.707106781186547*sin(q0) + 0.707106781186548*cos(q0))*sin(q2) + (0.707106781186548*sin(q0) + 0.707106781186547*cos(q0))*cos(q2)) + 0.0254*((-0.707106781186547*sin(q0) + 0.707106781186548*cos(q0))*sin(q2) + (0.707106781186548*sin(q0) + 0.707106781186547*cos(q0))*cos(q2))*(-sin(q3)*sin(q4) + cos(q3)*cos(q4)) + 0.0254*((-0.707106781186547*sin(q0) + 0.707106781186548*cos(q0))*cos(q2) - (0.707106781186548*sin(q0) + 0.707106781186547*cos(q0))*sin(q2))*(sin(q3)*cos(q4) + sin(q4)*cos(q3)) + 0.0508*(-sin(q2)*sin(q3) + cos(q2)*cos(q3))*(0.707106781186548*sin(q0) + 0.707106781186547*cos(q0)) + 0.0508*(sin(q2)*cos(q3) + sin(q3)*cos(q2))*(-0.707106781186547*sin(q0) + 0.707106781186548*cos(q0)) + 0.0254*(-0.707106781186547*sin(q0) + 0.707106781186548*cos(q0))*sin(q2) + 0.0254*(0.707106781186548*sin(q0) + 0.707106781186547*cos(q0))*cos(q2) + 0.0687605122421383*sin(q0) + 0.0179605122421383*cos(q0), 0.0508*(-sin(q2)*sin(q3) + cos(q2)*cos(q3))*(0.707106781186548*sin(q0) + 0.707106781186547*cos(q0)) + 0.0508*(sin(q2)*cos(q3) + sin(q3)*cos(q2))*(-0.707106781186547*sin(q0) + 0.707106781186548*cos(q0)), 0.0254*((-0.707106781186547*sin(q0) + 0.707106781186548*cos(q0))*sin(q2) + (0.707106781186548*sin(q0) + 0.707106781186547*cos(q0))*cos(q2))*(-sin(q3)*sin(q4) + cos(q3)*cos(q4)) + 0.0254*((-0.707106781186547*sin(q0) + 0.707106781186548*cos(q0))*cos(q2) - (0.707106781186548*sin(q0) + 0.707106781186547*cos(q0))*sin(q2))*(sin(q3)*cos(q4) + sin(q4)*cos(q3)) + 0.0508*(-sin(q2)*sin(q3) + cos(q2)*cos(q3))*(0.707106781186548*sin(q0) + 0.707106781186547*cos(q0)) + 0.0508*(sin(q2)*cos(q3) + sin(q3)*cos(q2))*(-0.707106781186547*sin(q0) + 0.707106781186548*cos(q0)) + 0.0254*(-0.707106781186547*sin(q0) + 0.707106781186548*cos(q0))*sin(q2) + 0.0254*(0.707106781186548*sin(q0) + 0.707106781186547*cos(q0))*cos(q2), 0.0508*(-sin(q2)*sin(q3) + cos(q2)*cos(q3))*(-0.707106781186547*sin(q0) + 0.707106781186548*cos(q0)) + 0.0508*(sin(q2)*cos(q3) + sin(q3)*cos(q2))*(-0.707106781186548*sin(q0) - 0.707106781186547*cos(q0)) + 0.0254*(-0.707106781186548*sin(q0) - 0.707106781186547*cos(q0))*sin(q2) + 0.0254*(-0.707106781186547*sin(q0) + 0.707106781186548*cos(q0))*cos(q2) - 0.0179605122421383*sin(q0) + 0.0687605122421383*cos(q0)]\n"
          ],
          "name": "stdout"
        }
      ]
    },
    {
      "cell_type": "markdown",
      "metadata": {
        "id": "joXueOXxQqp8"
      },
      "source": [
        "Convert to numpy array and sum the error."
      ]
    },
    {
      "cell_type": "code",
      "metadata": {
        "id": "established-salad"
      },
      "source": [
        "#This block of code converts to numpy array and sums the error\n",
        "error = (numpy.array(eq)**2).sum()"
      ],
      "execution_count": 26,
      "outputs": []
    },
    {
      "cell_type": "markdown",
      "metadata": {
        "id": "fmALHvQiRD9Z"
      },
      "source": [
        "Convert to a function that scipy can use. Sympy has a “labmdify” function that evaluates an expression, but scipy needs a slightly different format."
      ]
    },
    {
      "cell_type": "code",
      "metadata": {
        "id": "laughing-broad"
      },
      "source": [
        "#This block of code converts to a function that scipy can use \n",
        "#Sympy has a \"labmdify\" function that evaluates an expression\n",
        "#Scipy uses a different format\n",
        "f = sympy.lambdify(qd,error)\n",
        "\n",
        "def function(args):\n",
        "    return f(*args)"
      ],
      "execution_count": 27,
      "outputs": []
    },
    {
      "cell_type": "markdown",
      "metadata": {
        "id": "LYGi16mARJOp"
      },
      "source": [
        "Take the derivative of the equations to linearize with regard to the velocity variables."
      ]
    },
    {
      "cell_type": "code",
      "metadata": {
        "id": "amended-astronomy",
        "colab": {
          "base_uri": "https://localhost:8080/"
        },
        "outputId": "d1e3ece8-beff-4580-eb4d-ffd3fe784966"
      },
      "source": [
        "#This block of code solves for the desired mechanism (orange) givin the initial guesses (blue)\n",
        "#An incorrect initial guess was used on purpose to visualize that the system was solved correctly\n",
        "guess = [initialvalues[item] for item in qd]\n",
        "result = scipy.optimize.minimize(function,guess)\n",
        "\n",
        "if result.fun>1e-3:\n",
        "    raise(Exception(\"out of tolerance\"))\n",
        "print(\"Tolerance:\", result.fun)\n",
        "\n",
        "ini = []\n",
        "for item in system.get_state_variables():\n",
        "    if item in qd:\n",
        "        ini.append(result.x[qd.index(item)])\n",
        "    else:\n",
        "        ini.append(initialvalues[item])"
      ],
      "execution_count": 28,
      "outputs": [
        {
          "output_type": "stream",
          "text": [
            "Tolerance: 7.559382801190848e-33\n"
          ],
          "name": "stdout"
        }
      ]
    },
    {
      "cell_type": "markdown",
      "metadata": {
        "id": "DwewQF9_CLQD"
      },
      "source": [
        "5. Solution: Add the code from the bottom of the pendulum example for solving for f=ma, integrating, plotting, and animating. Run the code to see your results. It should look similar to the pendulum example with constraints added, as in like a rag-doll or floppy."
      ]
    },
    {
      "cell_type": "code",
      "metadata": {
        "colab": {
          "base_uri": "https://localhost:8080/"
        },
        "id": "OyZDsOM53lKe",
        "outputId": "46892951-84cf-4267-cd95-f126efbed800"
      },
      "source": [
        "#This block of code calculates the symbolic expression for F and ma\n",
        "f,ma = system.getdynamics()"
      ],
      "execution_count": 29,
      "outputs": [
        {
          "output_type": "stream",
          "text": [
            "2021-03-31 09:01:35,335 - pynamics.system - INFO - getting dynamic equations\n"
          ],
          "name": "stderr"
        }
      ]
    },
    {
      "cell_type": "code",
      "metadata": {
        "colab": {
          "base_uri": "https://localhost:8080/"
        },
        "id": "AclbZ7YV36UW",
        "outputId": "189c5789-b40f-4da2-e7a4-a8bcd699f1d9"
      },
      "source": [
        "#This block of code solves the system of equations F=ma plus any constraint equations that have been added above. \n",
        "#It returns one or two variables. \n",
        "#func1 is the function that computes the velocity and acceleration given a certain state.\n",
        "#lambda1(optional) supplies the function that computes the constraint forces as a function of the resulting states\n",
        "#The below function inverts the mass matrix numerically every time step.\n",
        "func1,lambda1 = system.state_space_post_invert(f,ma,eq_dd,return_lambda = True)"
      ],
      "execution_count": 30,
      "outputs": [
        {
          "output_type": "stream",
          "text": [
            "2021-03-31 09:01:37,460 - pynamics.system - INFO - solving a = f/m and creating function\n",
            "2021-03-31 09:01:37,502 - pynamics.system - INFO - substituting constrained in Ma-f.\n",
            "2021-03-31 09:01:52,447 - pynamics.system - INFO - done solving a = f/m and creating function\n",
            "2021-03-31 09:01:52,449 - pynamics.system - INFO - calculating function for lambdas\n"
          ],
          "name": "stderr"
        }
      ]
    },
    {
      "cell_type": "code",
      "metadata": {
        "colab": {
          "base_uri": "https://localhost:8080/"
        },
        "id": "WthjDDVW4YPA",
        "outputId": "6ee875fc-e59e-4a4c-b6b6-1b5b9518dd5d"
      },
      "source": [
        "#This block of code integrates the function calculated above\n",
        "states=pynamics.integration.integrate(func1,ini,t,rtol=tol,atol=tol, args=({'constants':system.constant_values},))"
      ],
      "execution_count": 31,
      "outputs": [
        {
          "output_type": "stream",
          "text": [
            "2021-03-31 09:01:52,477 - pynamics.integration - INFO - beginning integration\n",
            "2021-03-31 09:01:52,480 - pynamics.system - INFO - integration at time 0000.00\n",
            "2021-03-31 09:01:54,986 - pynamics.integration - INFO - finished integration\n"
          ],
          "name": "stderr"
        }
      ]
    },
    {
      "cell_type": "markdown",
      "metadata": {
        "id": "l8jbHPQ1jfqZ"
      },
      "source": [
        "Create a figure that shows how the state variables evolve over the time of the simulation. In other words, plot how are the links rotating over time."
      ]
    },
    {
      "cell_type": "code",
      "metadata": {
        "id": "HHqfHCZB43fu",
        "colab": {
          "base_uri": "https://localhost:8080/",
          "height": 281
        },
        "outputId": "513befc0-b07e-4545-c9be-301aaa386389"
      },
      "source": [
        "#This block of code calculates and plots a variety of data from the previous simulation\n",
        "plt.figure()\n",
        "artists = plt.plot(t,states[:,:6])\n",
        "plt.legend(artists,['q0','q1','q2', 'q3', 'q4', 'q5'])"
      ],
      "execution_count": 32,
      "outputs": [
        {
          "output_type": "execute_result",
          "data": {
            "text/plain": [
              "<matplotlib.legend.Legend at 0x7f8382cb1e50>"
            ]
          },
          "metadata": {
            "tags": []
          },
          "execution_count": 32
        },
        {
          "output_type": "display_data",
          "data": {
            "image/png": "[encoded data removed]",
            "text/plain": [
              "<Figure size 432x288 with 1 Axes>"
            ]
          },
          "metadata": {
            "tags": [],
            "needs_background": "light"
          }
        }
      ]
    },
    {
      "cell_type": "markdown",
      "metadata": {
        "id": "X9cuzEaSjmxn"
      },
      "source": [
        "Prepare an animation of the mechanism's motion and show some of the frames."
      ]
    },
    {
      "cell_type": "code",
      "metadata": {
        "id": "XloPSWyt5FjO",
        "colab": {
          "base_uri": "https://localhost:8080/",
          "height": 313
        },
        "outputId": "6943fb79-0411-40b3-e49a-92f37340be64"
      },
      "source": [
        "#This block of code calculates and plots the motion of the system\n",
        "points = [pNA,pAB,pBC,pCD,pDE,pEF,pNA]\n",
        "points_output = PointsOutput(points,system)\n",
        "y = points_output.calc(states)\n",
        "points_output.plot_time(20)"
      ],
      "execution_count": 33,
      "outputs": [
        {
          "output_type": "stream",
          "text": [
            "2021-03-31 09:01:55,409 - pynamics.output - INFO - calculating outputs\n",
            "2021-03-31 09:01:55,479 - pynamics.output - INFO - done calculating outputs\n"
          ],
          "name": "stderr"
        },
        {
          "output_type": "execute_result",
          "data": {
            "text/plain": [
              "<matplotlib.axes._subplots.AxesSubplot at 0x7f8380119610>"
            ]
          },
          "metadata": {
            "tags": []
          },
          "execution_count": 33
        },
        {
          "output_type": "display_data",
          "data": {
            "image/png": "[encoded data removed]",
            "text/plain": [
              "<Figure size 432x288 with 1 Axes>"
            ]
          },
          "metadata": {
            "tags": [],
            "needs_background": "light"
          }
        }
      ]
    },
    {
      "cell_type": "code",
      "metadata": {
        "colab": {
          "base_uri": "https://localhost:8080/",
          "height": 183
        },
        "id": "AwsW6C0hlvJS",
        "outputId": "56b6c9cb-2238-452d-e98f-48a3986928e0"
      },
      "source": [
        "#This block of code produces a figure of the animations end position using matplotlib\n",
        "points_output.animate(fps = fps,movie_name = 'render.mp4',lw=2,marker='o',color=(1,0,0,1),linestyle='-')"
      ],
      "execution_count": 34,
      "outputs": [
        {
          "output_type": "execute_result",
          "data": {
            "text/plain": [
              "<matplotlib.axes._subplots.AxesSubplot at 0x7f83830a5590>"
            ]
          },
          "metadata": {
            "tags": []
          },
          "execution_count": 34
        },
        {
          "output_type": "display_data",
          "data": {
            "image/png": "[encoded data removed]",
            "text/plain": [
              "<Figure size 432x288 with 1 Axes>"
            ]
          },
          "metadata": {
            "tags": [],
            "needs_background": "light"
          }
        }
      ]
    },
    {
      "cell_type": "markdown",
      "metadata": {
        "id": "982sHnv-jwx4"
      },
      "source": [
        "Plot an animation of the mechanism."
      ]
    },
    {
      "cell_type": "code",
      "metadata": {
        "id": "SYWrE6Hd5bSm",
        "colab": {
          "base_uri": "https://localhost:8080/",
          "height": 308
        },
        "outputId": "b8344c44-2b75-41f6-e1e5-3f48a01bfcbb"
      },
      "source": [
        "#This block of code animates the figure above\n",
        "from matplotlib import animation, rc\n",
        "from IPython.display import HTML\n",
        "HTML(points_output.anim.to_html5_video())"
      ],
      "execution_count": 35,
      "outputs": [
        {
          "output_type": "execute_result",
          "data": {
            "text/html": [
              "<video width=\"432\" height=\"288\" controls autoplay loop>\n",
              "  <source type=\"video/mp4\" src=\"data:video/mp4;base64,AAAAHGZ0eXBNNFYgAAACAGlzb21pc28yYXZjMQAAAAhmcmVlAADLzW1kYXQAAAKuBgX//6rcRem9\n",
              "5tlIt5Ys2CDZI+7veDI2NCAtIGNvcmUgMTUyIHIyODU0IGU5YTU5MDMgLSBILjI2NC9NUEVHLTQg\n",
              "QVZDIGNvZGVjIC0gQ29weWxlZnQgMjAwMy0yMDE3IC0gaHR0cDovL3d3dy52aWRlb2xhbi5vcmcv\n",
              "eDI2NC5odG1sIC0gb3B0aW9uczogY2FiYWM9MSByZWY9MyBkZWJsb2NrPTE6MDowIGFuYWx5c2U9\n",
              "MHgzOjB4MTEzIG1lPWhleCBzdWJtZT03IHBzeT0xIHBzeV9yZD0xLjAwOjAuMDAgbWl4ZWRfcmVm\n",
              "PTEgbWVfcmFuZ2U9MTYgY2hyb21hX21lPTEgdHJlbGxpcz0xIDh4OGRjdD0xIGNxbT0wIGRlYWR6\n",
              "b25lPTIxLDExIGZhc3RfcHNraXA9MSBjaHJvbWFfcXBfb2Zmc2V0PS0yIHRocmVhZHM9MyBsb29r\n",
              "YWhlYWRfdGhyZWFkcz0xIHNsaWNlZF90aHJlYWRzPTAgbnI9MCBkZWNpbWF0ZT0xIGludGVybGFj\n",
              "ZWQ9MCBibHVyYXlfY29tcGF0PTAgY29uc3RyYWluZWRfaW50cmE9MCBiZnJhbWVzPTMgYl9weXJh\n",
              "bWlkPTIgYl9hZGFwdD0xIGJfYmlhcz0wIGRpcmVjdD0xIHdlaWdodGI9MSBvcGVuX2dvcD0wIHdl\n",
              "aWdodHA9MiBrZXlpbnQ9MjUwIGtleWludF9taW49MjUgc2NlbmVjdXQ9NDAgaW50cmFfcmVmcmVz\n",
              "aD0wIHJjX2xvb2thaGVhZD00MCByYz1jcmYgbWJ0cmVlPTEgY3JmPTIzLjAgcWNvbXA9MC42MCBx\n",
              "cG1pbj0wIHFwbWF4PTY5IHFwc3RlcD00IGlwX3JhdGlvPTEuNDAgYXE9MToxLjAwAIAAAA+gZYiE\n",
              "ADf//vbw/gU2O5jQlxHN6J0zH78VuLo0N73OAAADAAA33OZE/sqTBubAAALgAAnhEVltNs4hQ8wD\n",
              "Z7QNAoLzst+pDZir6YwjKE/z8j/eiIrkKU+ITrvEX5njP///FjIsxBiBDTh2ovqZi/zlWs2bxJok\n",
              "kxcKb6E1cRA1LGvg6FwIp1dtB8upNVJqk6KNm+h/nggKYxX82x2ZhDMrvY0IqTrb6dAD6aI/1FPd\n",
              "KI1WuxEnehmLllelWN7hZYTEz621cWZ9am3VJMCbcpbrQZ00UAUWD4hR5dJ/kLAfh/LOqWLfloDE\n",
              "H5iT2DEsWbgZSh5QLmsMjSSGrU8KbvoDACfQoJ0O/18pK0ZyYfaRZidO/b5SeY4IRiBfJK2vIQZ6\n",
              "hqKrdg+0UvMx3G6nNMH1kqn/NEd9n5K8Y7/vxsXQN150WI/qZZt25H0EFDjTki96nADaaFr15/49\n",
              "LNK339wxEfwXWYmnlZeQB3hRihT69frg6MimqjyxgbW/m7HQromxvWye8ueu0FpgjjmrUuMjRS+o\n",
              "YZRca/UK9UOWVkxEa97nr4nv0ORSJ2tRkQIg8/MwLARYRLSo5h1ZeV8dz2q/vNUAjy/vYU8ZxUXW\n",
              "3NghqjFP5CghF4zlF+GtezrZOEj8mMros7eM8B0wOum3e+05FKlQSNhK74nbXuK8zRzGGNGrbCXe\n",
              "lDI8BXfEbpItEQ3F3Mu5gSqwajJ38eWSdav39rtKwReaTTcSdrw2/VEl2KJwkkPZJSVolYBz0fK9\n",
              "P133oblxU9c/lkM94+fPXkugY////CSlAHIZMnj6MDecp95T92Dxo1SjP1ApejzlAs15EeuksZPn\n",
              "VUf/5Vu4m9QaV86Af8TL6D51GENDsxnH5vH39HDI8cc8F5EFHhMxhec27QKmUQKQ3NXnjNEImXbp\n",
              "8H1P3B9wtWLwOZasGi1hAgFS4seHWEOwoO+pzxFo6+nMfj8hH8s803evSyfwgqJAUT+NpfHEsUto\n",
              "WSAyd492tB6ZcXDWw27yaXKf+db6Fhg38PHaFQOwTtsbI/n/TPnVAmEYIUDU92rmXGeSmQm6ffv0\n",
              "uar/SZ9QpjClLmc6P54ycOdAwo0lxp1rkWaY08XYzh4+6ao45MstYzW2Cl68EmDMeP/UPtQAKHyK\n",
              "G4rfFVZEFWhcQGpDUtR/EV+6jLkRqUzeAb7g7Hnwp7xBSaw7z9mcWf+sv6vRxD4RnDhXk/rRJSHO\n",
              "K56kRaNSI/yqgNemICM3wz2Klg9ugSZA52TIqiLPcaOZGcHYD8vY+HRBHSkrppSdXMsTf0myxSBD\n",
              "mQBHX++KEL8/RLHiysy3cSDoRKNqFKUVacFFx7V2oL5xqKZ/rzrhLQHidGzk2HGut2ENWDeAfQ+x\n",
              "ZVfozPAYBIooAh3Ing1KacwfTKesxeU7rgcNJ9JxQikxfhTPtOg2j+y96acAaGP7FZxnDxycbCRW\n",
              "auwZ7aTyV4ae0rdcQQVAc27K9mVNYKfCuwxqpff0/TUoerRLwcw+O6Ssnq1BjRWh8DXv1Q1+5tAa\n",
              "fOOpDYlxFaFRa7XAd1MGb7/w97hY0LsXh1RmIeUuw+TlNkurEcsIT713XjScmg6xyQsiO3JGvs18\n",
              "Lm189NnURCL5tnPTsY9LnjAWAzL5LrFC2iDAeXIg123n2ndZAVZruiZmpikLB7uVxnw4wPK5fCzp\n",
              "xpB91sE9l6MCrx2E0Enfu8983bAUDGirBTrIj8o9w7Nom3GOR5NsCaQLteovp7abgGOuwFpmfgI1\n",
              "YKO8j5tZjkrMY0ezr2gf/yBz8f/+kcZyvYTlP0bWYgJ1cH2SrTcCZdE+dby8iKQey26hEmn8U4YI\n",
              "DtjOcWB61towE6fG9ed50maU0DRSkSk/KgsJlh2fijxpFSRcyiFM6GEqGfDQE3o50XUkLLT62fMq\n",
              "YuXjf58XmzjwKT3T+F8PjzTV6+uh7OmE8HGagltptC27UpZ001x7bV0k+QimI9i6CBrHQfn3EZxd\n",
              "DuWM0e8duPvCCYiRVq/LuuaQQL/Wz+YfTsnb+0DSNqV/26GRXb45uYlaRKLfa4VpL4h+nOuXQDKz\n",
              "8AEc1C8A9/Ehoza9xpkj3lb/EIRDtGIypUEJk6K7SIh5RlwWJxhSeiKQIq5y3m6dDSxJ0vYPvBeZ\n",
              "marjRAVUaptxkRI9p8yzIr/4Bo9+ogfYYNkUicnwL8PWeHy89ZyWJARdIAA+UNBgce9dnTdMF+D5\n",
              "/0vT8ZcZzGOe7awT61DdtwhtkJxUglvwpNBIUBJKodJAsbfRC2GOJxBNqredWA9sqG23fA3GLbs7\n",
              "DuoTqYfkGbu5KFsh2sMJTo/XLxM1LmWU21cy8NXsBksCrQDLt0p97KLPhMtPzYuFeoN3RW8dLl4v\n",
              "P73jyl2UsPLMywc6WxLycXAGmqZnQM+mocYrQLqP36BKlDjPuXBeCvdZxGSizKAF2S9TzYt7Gl8F\n",
              "uCyE2a3z8NpHnF6ITaqEitgrT2HoyeUJTxl2s6jUzzvNuKubpMxwMmFybuaXzZwuECt8uK8OEw6w\n",
              "kg1ERlzEAbe8k+SCbljHhJ3wBEumvNe0BwQ0gtwbXpnjY4b2jV7yW3i2m8J4Mc5Tdb+M7Cu3iNBv\n",
              "3Tna9mxjZiwVGwGJLJvve/6ESOsbDtm7KUdbnIvcFTvc2LXIv53AASwJ9+LpoR0eT4qAIuwYxXxI\n",
              "idIamKWLMmZT0VMIYsWPc74inzJ3zGQ8t8mik7TowhsN3zrYrqTluJ/aC7SbAsVAtgy7xKpkVVhr\n",
              "XlfmmknBBSPTiSO+WXgTm5NXQ9G+GcY80gakNGfm18DiVJm6gNCeaxV1+oetXR6MHezgBoLbS2ip\n",
              "Brcp5t+/0/udvhbSLxc0zCSPtY+Vh3kl1C4GX9Kte+9c2pyiOe2Pev7N25XEZrrjr8AJj+JtmYbf\n",
              "ps6FPq8m99vUkkunKeswKu8O5geJVPiNBIXubfH55VzJoPzrDQAqurkr3NYxbrw11WLLAOxgVZ2I\n",
              "ElDBGIlX4IhFzrkW8uYvSXW9xbsrjMsM9c7X+g22KXlubbcKyNqK9UWDBvFCNPazjNmPfH0zmxF2\n",
              "Gj7h2DOCyKtQklCo2cJ0TnLQXo4u4SBubY6lF8urar60j/4H4OUaD8XMa/2x+OQD0rl2+EBwb5bi\n",
              "9UEsQkya2lJPyK1TEAokUzCcnpW9MpAt8EICP3IjreXTt+SI2Bj/6ioCrDoD6z3PAluHxcwmC7/6\n",
              "083oisJfrM8dWc9wfOCKYJjkGlhYhtZySdFA1zn6SQwtAq7/KUe8SqfG/iQvc2+PzysIbkHtQKFj\n",
              "JzurvyLbSnRgYgGA+lGcU7Ne8MCe8z+ID2yWB6cJVyLd39hN0HpZm4wKLqf4Opdtjynrt/JYgrVX\n",
              "6iytCABexsLK+Wa8FdyfEAA+SeQsWhZt4pD5k0IoRgzLWa3c8GlBepazOwgJT67fxjJ/Orw9mrIV\n",
              "D//KD67n82QrlYt8kk+9vN1bcqY9e+xcxoA6GtgkPKzVoR2x0a0jEY8P55m9sa4jFkMX/unJfmgM\n",
              "J9PRaF0Ltv46eAtbg8p5EMed6Z7MHbCanBndpSb1bmSuDCX6SmkiX+0JSRjJS5vRYruN+iccgvmg\n",
              "yQUwiSKmTCiv7Aq4SEkv+lRZpDXESsxRhPe2/ywURZXdK1U1lh4hOQYNzQYDQnDpDfNHekLIDiUG\n",
              "EUZA1k3Qu8ATO+QvCf9i3n6lTsuNJfr0QHfuit0nKlJb6huD21eyLh3xj3nU/A2AyWJj7Xmj1YGa\n",
              "uyMjh3aZ6jICa87LEeIEIlrZHJUYibZJLZKOch8mlf6kpVP34skp96u91lhotcsn1gEFEIPCEXVW\n",
              "C/T7ABrqrbxYbZJXRYiPazAr4vzy5W8K3IZVMwv3LieAAkYf5s/ysEjh/EVcGZ8TvaLZc16TvJiW\n",
              "GIHvDHtIEfg7TKvvAJTySHv6N1Ne9z0PIqsjmWhIN3BSz57KIhxhFLxmDzIgaq0CvEsu1B+xpNLT\n",
              "eaAStVahRL3Z+Dm2T0ZiyjyG25+rVnQlvA4VrJaJJE/7t4ZcOVBBuTMf5CrWPb/caRKIrHFQH+mW\n",
              "AKEBOY6UpqKs0VpTp6nH/wdqCUl53USv9GabQ94hxokwcI9Z4xARRlgfaMe49fvJcUNAxGhmMCZ9\n",
              "00IKnsv7BpOE/Dchn7ot1Kp6t1GmyjkpOsudocANYijCfyYcaDvpUam1lKMWlPSVf0OLHBZgtxaS\n",
              "ZDmBb9gVk16lf+/bPJbwpr1cwWp/94JIuaRJN1JI2ZUxrgAO6vFMGbGhVf6G5MLQZTNoV6vR8JlL\n",
              "Z/N1spB95uysT4lWUC6YJv4Gkn/+lgVZDwF7DfNP9MxG+GAWZ/LkkN2VYZixdeZA1Bi2i4PiVBNu\n",
              "QhzsHG0Qt4sBFGeQaKUcPAGa94i5gR0HqihD08bTlLsTxA/FOTdDMZs79WGvBfscAZa/EGcnCzwW\n",
              "IkSNQrnG2U53mww85MXv6/V8JoQoZQMxTl3QY7Ts3bHUtiwqLhMv9+e81zaJNL2elyaOtal+PeI0\n",
              "Nk6GeHXo6Yawle3pxZCCKqNb5Uhceas/aO10EXz/KiSFoKHGBBlHJBQIvPcRLaHanfgmMD4LseB4\n",
              "5ECK806/klXsukRIRr5QfZ5ABc78/2Zi3KNptgV4MONAU3EzmeCCs5Q+O3yXrC/1WeXRpRraeGuZ\n",
              "aHTyKgViP4yharBXOAlQe5bLHKH1BMBe267lUCPJ3en4ilp6X/OmyFr8DY0pcL9k8o1xbTE0+kvx\n",
              "gNnAB8xV0wc96oamdI4VzdPvdgs2oQgrdyBKMUWsTgfrma1JUWjeTOCNV3YD8njEmnpmF3sACL4E\n",
              "pLgHaXi9X8cjy1rRRWUR/W3857CKfJeOF+JMaEkrXvJloT2hZ/3sEFs8fsGcMhbjsXJeOyKrOpJ5\n",
              "PSNBVR8RmH3kS1wZ6eFIN2OOFAus1duzcav8NsTnHvrdWhDCiRXHlUQoCA/8g5K9G5/gxXPR8aft\n",
              "7KJCOuqV0owd7KqxRWh+/qbHAvFtU20B0nMRd4oopzSYkuUZV9BbFBJffQc1xe8luvn3dkDriN/k\n",
              "25FAli48t4AENzwhDETeoKsjv9DhEzLYmp9aYVxtTyTU8TIFA/REAVqN8TCa5WxSZzRrInHEQgS5\n",
              "IPqmy4hZCtmty02ZnfKmuB4ddj5ZVGrzt9c6n8jcCnqc5Bl85wZKd7OUoAe8o85blw6uC5YLV1ZO\n",
              "74++E4W0sxGKM7g8M4iwjGf8COl+t6zAS8xsbGyvr0fUH7pM+HILCqG8Hn/T3kG3zOWC7GgKSOT5\n",
              "289CIQIfXegWkQVfHpTKnU3X7xv0nQtNXjDDMvpHMn/JxN/PSAwm+hQ2ssXfpG2fCDQX7IGgY4AO\n",
              "kAAAAwACnwAAAD5BmiRsQ3/+p4QAHEZOSAPqMebVnO7dZugQfkWpzGsQYISv/XS1DMMupU9vKd8q\n",
              "3Up+mCoV8oWDZjdBzTR6cAAAABBBnkJ4hX8AE+lHSTGdmLWhAAAADQGeYXRCfwADtbMXakAAAAAL\n",
              "AZ5jakJ/AAADAfMAAACJQZpoSahBaJlMCG///qeEADD8DdIA5jNpWxF/AElA9kz0rmTLXypkvPqy\n",
              "+PiVCb1LDCj03ZMS0xVAgj8z5w1He/0RZzbTavEkSxQq799+vVsQSiiHRx5VWM5B6B+KsDpwHFMx\n",
              "9twT2wwYWwTcmIF74OTV/mMSpdelJmDt2r7YSsrq4JyeEHCaOuEAAAAXQZ6GRREsK/8AE+Ldk11Q\n",
              "ABWs9uTD5nsAAAARAZ6ldEJ/AAR1pPYVa+pD9mkAAAANAZ6nakJ/AAO28ZQ+YAAAAJtBmqxJqEFs\n",
              "mUwIb//+p4QAMjF6wAJcIa7DsACoG65YlREUXUV4VF6PteB9BChdEsDYd7SejJrM34M1SIxzW7v2\n",
              "xCERR78YvC5v/fxs3vpNOK665VrE5f5MaJ1QD8CvbHcKfd+uhxRtzVNUCK0f2UeMvNpAqsJIA91H\n",
              "ttKzr2qcKJEmae3R3CIJ5XT1oBJoY+1IyXlAmJ9hWJ9PGgAAABZBnspFFSwr/wAUdpHTYmCulxtH\n",
              "/qLhAAAADQGe6XRCfwADtbMXakAAAAARAZ7rakJ/ABnHkrpKyNnBdGAAAADbQZrwSahBbJlMCGf/\n",
              "/p4QAMOpFQANvxBIp4jkGcJVZJ3gnzT5AGmtvIqJYJMKbV2WOColMGg1O6eJGYnGyJWRXW4fLDlW\n",
              "uBG1jNuCy58bymmg8IQeNlTeuNQ8JXf2b1JProRYTlDiW9OLBRRBC7jyc+4o+bE4ZOJ+fotmo9Pi\n",
              "Rh1sPYsoeg3nFsYRnGn/rmF+0nuoQ2QEiDYI4hvx9TvciLcFSh7Q5G706naxRy2qLv3BGFFFycqp\n",
              "k6Pcif/kSRccoWxq8wm6XpmKnKFmo3JQajuy7MBLvRCSB8b1AAAAHkGfDkUVLCv/ABPuTgjcf5DO\n",
              "Dt6xEnVLmlqE4JDpgQAAABYBny10Qn8AGb8+sJrIpU/a000PgG9BAAAAGgGfL2pCfwAZx5K6Ts1h\n",
              "DViCKn/h4aRCcKCAAAAAsEGbM0moQWyZTAhn//6eEADJ88hCWwbeVf0ZyGDnXQdxpp2pDrISMO1R\n",
              "Pj0jNsw/TvT09CShW3BE+a52fjKm1BhC3wNJhHEXL0hNJo7kbtgxo2LsoWFm2p33umtJjBRMIW5q\n",
              "45Jsp/G6xAzKOeQzzgynRj/OG3/o2YU/D6I0QJPZ1QxOc8hbKj+XKwLP0OVO+lKhqKC7bFoJzL6U\n",
              "XpM9zb70FPdBRW2+CWdgmZ57DPmAAAAAHUGfUUUVLCv/ABPuTgjcc61Tmh54ql73I212Xp0xAAAA\n",
              "FgGfcmpCfwAZx5K6SsjatxL/MqL4HHAAAABeQZt0SahBbJlMCGf//p4QAL6Ph2wHG2cAklBKboO5\n",
              "lqIu5f7qf2J+60Dnanxd9oDIiyOssbZef52oexJLPmn/oW6SnMfYDjUgy5aeqWNXtUt1TIKoUFfb\n",
              "WWWVvgcLgAAAAPxBm5VJ4QpSZTAhn/6eEAC+wfngA6NSb8nz+qqfdy8Ue3XxoeuNH3Ae2Pcqd7ob\n",
              "HtpubQ38wdNRJQYJuj4DgafBGxO+K1K2RWqfRkSJAFJuYt9LiWPFaLtYRGO29enULvZQQG8w/sK2\n",
              "iYz3++Y0eI93KvJ7bjPhLpdID77XXfTmJeXmW3DKX1PXl43K5DI+JXKspD9TF9y5OCciIiB7REYK\n",
              "Nl0ShBJutBwLIIUgjQU1UZl6h1Y8uj49c3+eNhMO1NxTTiZhz5RiWyFJejTlIxDjUiAfkzcErGXH\n",
              "DiIlU2rX7r685MKL//hEHvep4nM9hq2eXPpSSBDQi1qgSXcAAAEEQZu3SeEOiZTBTRMM//6eEADD\n",
              "qTRwDV8VHzOmRvQoL8Stvp1SPgBt2YM5UdzyrMVGLnb4LteeySia6d3YFioEnpTD9+arhQsVcRxJ\n",
              "uqIDk9gJK4SoXCNoeeyUwzJmdMDAxtdg/0CWHmP5j7wAUXqexSzRP7DuLwdIb3awPl3aV6e8TcqY\n",
              "f6R0DFaMWUs6hp8eLAC4zEgyY688msR0fcBPjP8tuZkt4+hRcr/60HoxRgGYSFFbftqBKYnnpIUC\n",
              "kjwiCK1XRQjjf+2t7ALcJZa7yjpqWz7ngwIWOkEhiGiEGIdAvjWTzobYV/kNeOcIAQ4P7KkUqvmx\n",
              "ODAR6Spo2dHPx0vjER8AAAAdAZ/WakJ/ADJCZBoWBhaiohKgQI6+wIdH268gCykAAACfQZvZSeEP\n",
              "JlMFPDP//p4QAXX3frBociKVrqoYLi6tQKmAOkU4kSQgZT4ALe5Gwe4h+JlLje7ZpFBbr5MSY/Fp\n",
              "falsfc/JD4iKQiH8Mw2yYhW3IHkH3cpuwtQic7UVdQ+kxejdsQD6KGSZa7g6Ds1fYMXkdxGdutkU\n",
              "BPHESkwc2II7H8uQ9rT8ALB4CzijonlYIZVXiHxEeW2SMv2YoHHBAAAAFwGf+GpCfwBPvOH2c46U\n",
              "CCnBDBQZO6bMAAABGUGb+0nhDyZTBTwz//6eEADDzSdgBt3K53eKTqxSNa7Eh4GU/4htwbPmn5WM\n",
              "3fcs6i5HkVFBVKFqAVFG6ycHFXaNS4bgOGiuFliVHgu885Pycfc9kbuoNaIQsVsEF+NjpIosPdrB\n",
              "tbUZkMPQEaMGUiIDS2O8JPfYtGbuN+a89VhdBTyqCFnxjc/G8j6FNwLywba5bpgAAAMAAWH3IGXD\n",
              "Qiu8upTPDjKIZzoCom+pkqS7QCFqesdh3KYxIKIEN976V3CkYKBb4Rd6O6hcv0i30xpLPeRnRLfz\n",
              "yE7q2CJDdfEKAFB2GqJJjMqLn8kPECZlIoRoNyHbgcUhPlrNzATVgNHc/p3NNAuxgS6FbHPK5p6S\n",
              "SH/qB0LgfQ5pAAAAGAGeGmpCfwAaYVx7Sv2djQh/kJfzGqwjAgAAAN5Bmh1J4Q8mUwU8M//+nhAA\n",
              "vsH54AOikifwPZgIbZSdseve0uGEjksCLDRINFXF5/Ftp+vR03Z4JY5YevAbkdNltD+BFJfYAAG1\n",
              "/FnRQ4etFECbljU4i6GAU2Eecdnb3bPbaU43b21FbRIGK5J0D4leEVCwaPZ00tahiWlPAJCTxXQI\n",
              "mBF92L3pbu89QR3obm1ig17MClwYfhblLSxXPtYjGmekcu0WsH7Gac/2P3WgBRBvYvFUNPDlQmVf\n",
              "fG8IUkJpkOlvuomkb3ABMw7fUw5lgSbBJl4jWyJR1PZVAxcAAAAXAZ48akJ/ABJheml+msG4YkVI\n",
              "BWpwIwMAAAEfQZo/SeEPJlMFPDf//qeEAF/9lSe6798h44AisqEzpnMTnmZVHptUwy0wdX2dbzba\n",
              "C9+iLH7vWE24c+vJYLfg16N0UeUngxFvPT+rITXNlZmMOYJRW/K9Daim3UKyqOq7KwbeWZ7Lcdud\n",
              "vSfyomKjiWF5zgwHWjubon6Jfw/fLNgEzmQV5WUIhRX9qjhh3eLMQ1LeckPbjaoQSN5YQXV5QMkf\n",
              "63kKzdcCsuSx4LteKVe+L4/wRlATonuXy/tyCqtSAILVAGiBp7K1MZ6othshE6hBbDbRnzbDyBW3\n",
              "AEddp5DXUcIOSB43+fHhTJUxcQ0duTMK/eC9lwxYHbdmOgOHnPPuI4zgyWOwNlAi1pWw2mWZDkgF\n",
              "Fql9mOnDWIvKYg4AAAAWAZ5eakJ/ADOCwcrfUXsSdsuTcvAjTAAAAPpBmkFJ4Q8mUwU8N//+p4QA\n",
              "MjFyQAoEFVYmCO4BYg1oPNEqkCzFH0XR7FhGlVFa+qZgLTGnD9bYyeBevzbqgr2hH+wn7pM7NJdM\n",
              "6mFotgNGGhf3qh5Q+3IKx/g9A3Z0fPaFTvdrCsGFPXR0iWIqM+jxv1SbxV2A8suOSIcnWqyy1NsR\n",
              "45rwD62kfb2QTKB4DeZQhyxjCLqVbBiE/VRfLQi1DgaUE+gdHd4GxxmsmukbqfZR/jp0xp4nGN+9\n",
              "Q/RAPFNtXrCCtlYswVsbDY21amiiLYgrBs9bvJkmGBrsQy5ggEUnDs3sZ6UmIYMJTDuz+IN+XM7s\n",
              "cZlfajlbAAAAFwGeYGpCfwAZy965DVbqu7bvlVcdzwbgAAABR0GaZEnhDyZTAhv//qeEADIseOAI\n",
              "qa1d1BaFsqnDol00bok652A0fKp4a6zTPLBWv5NBf5PTo44+M6vCL4NtieySya6t7X6fAjNzvhye\n",
              "T4HK9deHE0KUUjzuaQiRR+Y4fi14yUcTCl2jgr3QpXoMwsnS9YXV+YzQRRFaFIEuD3KX1YI/u2i2\n",
              "IjF7PUMk5eotVWOoLoF64aOoD/DD+Ov7m2v+81FcuktasAaqQpB8ldLp31Cw0mtbaUUG4BXRaz8P\n",
              "U8ZDH+LEVzGd3wjc3hxYH5wGU1ANu5lK3sHTQbotDgmydaSqvuqbZaQ74v4vNE1MVI/5Y+lqO33f\n",
              "JxBgzbBK3Etptx9hYN+X/rRqiwfW/hsGTOE5WxiHS9XXoC/TSJE3+QIl8LW78q8+YSgqyduCPGbe\n",
              "jHt2OC4OrmepPiDMjVcHgUUDHpEB8QAAABtBnoJFETwr/wAT5qcbzvTwZsHXQfkuqFgw2UAAAAAT\n",
              "AZ6jakJ/AAju4KTpptPR0zR4oQAAAHlBmqVJqEFomUwIb//+p4QAMjFyQAoEMO3jbHOmEJTFruYO\n",
              "TWAeQbrGlghb/f6wI6Aqt2we041G2DjXwd+HtgoFyzD1KFW5uY+NNlWtdeWS6AxzO8evPYy3dhl/\n",
              "bl+Hntd8lVf4/5IWB1YHsEhXLwKCF9otXPCR2CthAAABvEGayUnhClJlMCG//qeEADIseOAI0M5E\n",
              "KcV2rIDAimDoMeTiSOPt/H8xm7YEFVctL2dzuxSsZHt0UJk8C9fm3VBX5Ca5ExTabR1PJXRNLnDl\n",
              "zOTNuXqj2cnLmDeCq01afD9IfLtXpaeuuFBxb6SW5RrZb/0Y36VW/fTt5sVb8LFJTQAAAwAWQP3b\n",
              "Tuiw6uYopV+GojGuHlD78yWP6s5hAInzNH8t2EBtg5tb9/RB45E5ZoWWBvBvj9ZXyCFByZF+/P1B\n",
              "Ywbh4fz5BAm7NDIUVTL7eC1axv0zImyThoYypwPYoevLRVLGoGLHgFn77RXqbOuj+b9xmMV0VtJx\n",
              "29fdgoaDJXUdt15/o4k6o+c+TgvFqrlQm12PPukkiL+2fLOA3jKLmJP8aGKjclGC4889/yOEpLex\n",
              "nQ8I4gNEpCEKEqx53/TDhwRA8Tyc6xUF1Rcs8alyt8xYHVdf7Ae238kOQAADmzK3PBo5l/XQ6aMd\n",
              "8VGFrgBGfI17ASRkUmVAtiVXHB0ScGRB2vJZ53Idi5E0lomyHm27lo0BjtRRjw+xXU/BfEjM2Y4J\n",
              "oHcmbLQeQtn/nKObG7aSfCDaUVSBgQAAACtBnudFNEwr/wAT6wDRH8XgO7BbekZdBZFd26AD3+b8\n",
              "vUFj3oUkL62kVcYNAAAAHAGfBnRCfwAaXz6wlSSJioFaxx1Z/F6UNY0DofMAAAAcAZ8IakJ/ABnH\n",
              "jpnZZpCkQcE+ySpdyUIPNTfUEAAAAa1Bmw1JqEFomUwIb//+p4QAMizN4AE+1GSHGYQOBNLE25Cc\n",
              "B0IYlqFnWAfotBGHM91MMA5mKtrCOldMKCGWk/I5Q0p5ndivCEiCIoTJ4F6/NuqCv5inx5PXH+d/\n",
              "e5XaljTBxtocwY4H70O6AEUFqNr24femzAgeHHYKm2y8n1Eysq78g4MsXkZJgBlxIGuUDkWioBLN\n",
              "6N0bdtNFE4cMDiINNSyatKCoOsDxGfK9Pbsh3yrFddTCJQhThkYEbUKTsUqAxrIsnCWOZLT2yeaP\n",
              "kde6Zgz5Xqm9A4aWtnmzLfEsDu/v4dCQ2l4PhVkY+BP02X9ehEdmdRaK7WpASebCLZZqfYLQ6ozl\n",
              "HXBkkrKChbqUrKZpWLb0iCFd6QiN01buw66Up5P4RP34Hx4vFb9+DwwXlMm3wrQyQmkmlJ/j4sJo\n",
              "pIDu2ihdgHm529ONWy2Tz46dGwg7poOix/rqS5AeMyM9Q+RZGqszHzAusJSAzRRYdPmFkrtp6aJz\n",
              "L+PlwMSJivgt+sd3Fk3CGIysnm3KAAADAAAjgrE4/hvqFsiYF3nU1COSPXv5E4TXMTgG/1kAAAAn\n",
              "QZ8rRREsK/8AJ7xXcofPO7iVk/fFRBnMWUElqayRmlfjvxxQ/0GfAAAAHQGfSnRCfwAzNToi63Ff\n",
              "mirHgkneJKTg+91PDErYAAAAFAGfTGpCfwAEd21oSo1Y7sec1zX7AAABgEGbUEmoQWyZTAhv//6n\n",
              "hAAyLHjgCKpXUfjUlAHmStQOnVv4RK9olPvVnhgO0+0AI2pXZvlwlj49R8a+DbYnsksmureVG+57\n",
              "dKO2bWbmubhjiIFKgBqqtyz7QL/Eqcr7p6AsGQqzm7OXdvDI0Iyx4SuUOwltB8wOU+yGs4Oe3Ekx\n",
              "I8wpwgPds4jlwivo+4Z2HbFqM7pKvH4+C9TQ9k8A35pYXA9c6sBi+j9gMFg5tPr7/m3lpLKhCW+o\n",
              "HQGvZkTMdgeNPJHqXZoQwrCQQruS577+MdFBiE5AAh5xctfOipU1vVVg3IWvMKLF2AvGrNR6IT5e\n",
              "rtrFAp/sTiu0bD8KWZdTrWXy0i7xiyQQfyFqrRCBEPrvIAPNeoFhZwIxp1Ae1vgH4tkqV0nKc/AU\n",
              "Ji/cpqEtdr7lh210ZibSv+Bne/IF5mvaqj5ElI7dgaIPwtwOkwjYC8FIvoPNQ1RrfdP7+Q1P3xM1\n",
              "MSDMHYWaOxhtCVX2BRmzYtVZukdRMVZ068fllQAAABtBn25FFSwr/wAUcqrYR18qsD2pdFSrpD8A\n",
              "toEAAAAVAZ+PakJ/ADTCqcHc/bgmtDwq3sqAAAAB/EGblEmoQWyZTAhv//6nhAAyMAMSAL+erTDr\n",
              "F3TF3gqRFN4ySeItDbUght7//9IHNmn8RMsZGx4k148N6Y9Lai2xk8C9fm3VBX9CT4F8gc+b7fRj\n",
              "crerw5rUTiTDOmBtuJCbKTVoQCNfJ3rHaKegLz/PK7JosMLZ3Bb3/6pv0fUQmHR1x3XUzTEPSMfi\n",
              "CQv8WPOGZ4/U3Mml9bdYJnj3u2npRpUj4axINWLm40URqES/WLKiRc81jk4wLUvR7d1UWBGwVRQR\n",
              "CSHr/t376mEdyiJz/oL+jPQZDGgmFHvsK2GnWZq6max6GK3zxRzNVI9D2V2yT+Y7DcNGkzjXh25R\n",
              "4yKQtwDu76PMZoPd4B6swHxsuTaWp3bET3a9IONSwVPTLvsXTk96iPAINnF3jgZMeG5p0lVc5b4g\n",
              "WabtnZPptAgGKeg7Et4+CV7E43jWWdXqjmW6hNLBF1IaiZXB5N5VzivCshUqyv1B7au3DyasrdYw\n",
              "eV0M7LKnZcqrr7s4bCz7/bkZ0gwUIfcHaaK+B4c9JH/JoOUvxOKQVdUva+ABkTtAiVlzGJiaGjLs\n",
              "xuJ2BlAZAUDeoVcoWCQ8ACcjyAOOT/eK1BE6GCO//Ft7MsJ03LuPXRHHs4H0jgskaM4s+kOxxfLI\n",
              "3oFndziTsbw+qQNBUtEOfdzBsUWUytr2ccAAAAAjQZ+yRRUsK/8AE+5NC5S+W8kb4Aj4qkwdmFDx\n",
              "jbf9AQt6hU0AAAAbAZ/RdEJ/AAkrSernxZBKUDF3XosINhi/oc5AAAAAFQGf02pCfwAI7uBZdIuu\n",
              "4U3Uau9ibgAAAcZBm9hJqEFsmUwIb//+p4QAMjfu+OQMSYY8sAIx28Krd9XO0ibk4rJ1D35U8DsZ\n",
              "zgXTijTFoIJ5ESmTiPI9vYxS76aqnlxFdu5Jjbho0ElGU2Kqd9PjjbrMBont1YP+rFtmElwjiL5M\n",
              "MAQsVjaJXN6H/yvGowY985ewrcpXKeCP1nH/J2ugwa8ooAt/2zqjKg3QDZFh1pvo2AAAG6DJ0VHX\n",
              "iDkUdi/kmA749qm4y/YPdrDlSOEZWQJNFBwT7KOe6w1Riv7RY0DTKZXEAC3wZjK3rOj6Vse5xQu7\n",
              "rCsItVkBEO3u6fgOyDk9AAAHOKQCqP7jweLZe5efJd0m5ryd3teN+7yNrEX1sbN4tQOjyj1hGf+D\n",
              "ZRCr9fQtlPA5FVUCH4b2C5Ut3NRrAJ2lK192INVE2RQirydIY2z41B1LMdB0QgKtls+2FCpLHMWE\n",
              "gxVIDl3wjC+GBQ+SYw7UwfRn4shzeQ5oCPmQU3KnSFOT9vRtd7ZpW7F3CNTT4uj1Ln8JrmIzZ8kk\n",
              "unrajsLuOXwx5hn5q8Jclt5meWXveDNr7lluao/I6hkIAl8Cfaxdh1HECd1zqrR/XGzPsYt2WJTK\n",
              "fEccEqd+n7Y5AAAAKEGf9kUVLCv/ACc2PmIA5kDBultasyD9ZZx5t38aek4/fqR8GhrYekAAAAAb\n",
              "AZ4VdEJ/ADLcF6Oz+weYksuXmNdLD2fP2kg5AAAAGAGeF2pCfwASXcUgdyQUNs2REyagzso44QAA\n",
              "AVNBmhtJqEFsmUwIb//+p4QAYnhPNHoDFiq17dQACMmLU1mS4hSyEjn6go6vndZmUyyIk7L6f+rt\n",
              "ngVU8BWa+p+yWmKw/jfEfeb+Oe5DVpzCpCe+Ouc2vhH1gh6zFLNDJwNOAJHMEZr31fOb2CJQ5vNg\n",
              "TNiqbl0hKxjIeDzpu45wyizXsLQAAAMACAfCGAABrrJ4sVpNsmb45Pj3ZWhlFnyHe2mLLnxbFcvW\n",
              "KKeda0QLziIv1RchgmVj8p5yfiQLClNkcqRHFYkl76Ace8R1AABGat9arwYUbIR7guG5t0BPrLHk\n",
              "3zHIVueVufD2Ha1zKnOUg+BHzaxY1Wi6iE3XMYJmuaCkl4czo5zlV3z2PHsnUg8Cuioftv0e1uil\n",
              "94Nn3d6+45cFNgIsKYQkaWd2fA5NWg9n17gTVPHg8ymv9H8DJKpeVOWKpBswYvSBgq9St+vTRPgA\n",
              "AAAcQZ45RRUsK/8ADi17D9yNcKkzmv3wulUy1mcEPQAAABgBnlpqQn8ADTPI4p7glTvq2U2dxipA\n",
              "YEAAAAJAQZpfSahBbJlMCG///qeEADIv+ym5y1rZVACMjhZW01laAvJwqoh6LGshly6Z5MNhkdar\n",
              "ILpx4eUgvtIzNa0/e8HvtxNbyo1WA5nXq4s1K9A3wbbE9klk11b2v0+A+Qt3FLGZpkAerWla+qmJ\n",
              "ASaFIxLuoSU2k1ydDGg1IL8YIv9cRWCaoHtdAjmFjwkGD9OxAaQMpF5MeIQhWCxNAPQI3bTfUtaP\n",
              "ANVIduTLJrDXEgRZM1GYX7ZvidiDqM+svJlyx+XczgVuzMOKtM/oSrGKZ9sNrOhk6/17p8RsJxS7\n",
              "u2kUGIv2iovOnGTZ1iU4DQhdZQ1RJXsh0WE4MV7fqnxSLOBB4MISF3mNBSyu6K3g31T7vTH7iHef\n",
              "YmDyVLnHd3bTAoypnHMxwDdPaT9w2UkZMZ6OLdDZ6GnX6lwhcy2TITClGu7Px5zR6rJOAd+DGQjh\n",
              "fIyTnCOuoL06fn7KJG528zxIfOft6tMxzM6rLZsdJTBEZhytwPts2fGiOR0CQqgzOi2eIw0NW3UG\n",
              "PuwmHRZ0h3503TzNjoC1hqmVR9V92qudesGf7CNbWmr3wAjOCIenxpMBez13jXvB2uBqq+Uao0vD\n",
              "Nz8IU4lvzkGrjBTPm2worE+bWp0Sa6Hm9fWXZDFHsS6l71iscWuGIoMUJYSlru38d+bUqReGTLZE\n",
              "ULoxpuYwqd4PEBZW0Bi/TfuZantt9va3qjRMmqJ5F80PIPu3OvxoCxaawM9nr0OUySoesVkpuNsW\n",
              "81NEDIK+7DP4ExWhAAAAMkGefUUVLCv/ACc1Q34yE1gAIAUYwgZLvHtJLQ/5C3pojqjFDHZJMKOK\n",
              "4/8IfBi6eKSBAAAAGgGenHRCfwAzkzboC6c53BY2DQMpnN93WAZUAAAAFgGenmpCfwAI7uDSOjXj\n",
              "hFgXwJzfmLAAAAHrQZqDSahBbJlMCG///qeEADI36Ut6oVYPgBx7ThPH4LtPi6rDnHmbphVXxz93\n",
              "03oXgbZGLYUZj61y3ynnDS1ymihMmQDz8oay29n6fAf5RZgCUEQKqPUQ9fhPkF8cz6FSIx/tdaxc\n",
              "JF+56TvHAExJDIgxckZ1R9kXNmOK5Gz7Xtd54tO/bDKTv3+SEFiyjaplB2u7qr0JL97bOfIu3sJq\n",
              "Mq04rnky1sNNS3+iLh75Kmim++10BCKKTQjOlekRzXfE1QFZmG8uLcoYQC6x74AzS7rNM9iaBRVg\n",
              "px7g2PHcPqbd7fMozY/IW+Yjfw8Kk6A0nU9WEgzKr/SrRxIohIx538E+KPvRgIF9f4gOTw2Lj4zI\n",
              "aOFh24HtcWxtF0Ld1ebiWHPld1hn5jROW+d0TTi3z0NuaC5pqDPIXW9/5O/QzHUByCFLBrMv0+yk\n",
              "dupSXpXzwRev08NzDsNWS3ZpaVvoM0ucfkBOPIVXkU30dAydDFUv/klVh4WSmZxrtlS5jwyb6rO6\n",
              "d/x88sgG+75OGEKuQQbNvjZWWq/RUBKQH+IH2MU/5UZWFSAYmFc0cCuV7pe7qWIBIuAXB7DTjrKm\n",
              "9Apu6eg6iAEi21hXqqWgovpX/t8iN3g8JDmTwbdpO/MpC609a0G6eQrSo3vY7c0AAABKQZ6hRRUs\n",
              "K/8AJlJzeBauIgBCGBd12d7CKwVOs4LP6zzRxhl7LYexV2x33JIxk1GUqdAL2WglGQDIYG3FRr/y\n",
              "E13rxkeRiyEmMGAAAAAcAZ7AdEJ/AE+06LFyzO9P0rXfq0/C9doQDMwtoQAAABUBnsJqQn8AT5mm\n",
              "sM0fbXDNsEjV4+AAAAHdQZrHSahBbJlMCG///qeEADIuq8QlzVlYmwA49ZZV8hIs6Kn/8O76BLhb\n",
              "UZStcw4y3ZdXWtjN1KTvFOfdTo/Mw8ob7iENK7g6noKFMMkcRBqsn/6XU7SAe+CF4zDDBSeTjjga\n",
              "+4Vx0Mu1tu2GqbUW9qWU8iw2FmbQpa6LZgNeeYlTdJArWaLgY7/ha9zT1iMoELrv7vDQVZi1ZlEW\n",
              "xlFa2tGcwNhHY3tJrt0v1J5887nJl8ZmrhrVrhcJBXpcxlPVEvU3lD2bS6v3F2hmYRUz7tYFFnYH\n",
              "WMQwqWtWmSmVqMINvsA4LovZ7R3OgX2NiUGGYwmaH0+w1L8Eosnjx9TYvooQJM6kgIQarK4u5/Ic\n",
              "4bSf/54vAKlh8FH3UFP7QzXDIh7XmmQaChIXHrghKTgKbgrSZL9CoAZMxMpx/D19ltrvEc4OpmIE\n",
              "cYyIFCc4P2zlECLUow+bO6dABuSdi4LNJxzfHBYk3W9OQltxv4xnSa2dRKw6SNpGbjMBA4V7EitG\n",
              "zhP5vSUseiPhyDn+UNSsy9fy5hp/0kaDKAhOQYaSQr+iyB0fPtG0oHMZ6XZjQC/MTwBFybQ3hI94\n",
              "gisFptZB+Dpit40YlO3BsrFPRLBZu0WUmVGWs6kSV86ROSihAAAAJkGe5UUVLCv/ACjlhk95SmwA\n",
              "hTF3EzIfQ+QPHzNX9aHZwNCUMkG9AAAAGQGfBHRCfwA0vfwTWX85XTzDbaTWrE6If4EAAAAUAZ8G\n",
              "akJ/ABJheKkyqC2Qm2FZVekAAAHkQZsLSahBbJlMCG///qeEADDmo2lfWeNzABxN4NaZa4sfKsiE\n",
              "fRQjT53gKiECpXGMy/yhSgKPSosgQ53cRAnpiSfwOVX7nN5+I+EnAcPHH6fNE3/l1cFpPUCGG+Dw\n",
              "K35EK1DXKo44KdEcVyZjrOgoJPmG4j6sLUKRMoIb5t+1ZVftoIbnDQhFw9sfdfGL048u6+aHH9UU\n",
              "Gy5BiC3wM8al91IWU+zqL2IXsEvZsYNcPxftyT2v1UUDcBRAhBJN6hzFfs1/2OhsIIbQdtRfCCpx\n",
              "Ud7tpuDNCTZaywxCQgSvs3iX3mA47/F2Uw7i7Q+C4UCV1v40TCY5+zl0Wh2lAWoAzJhDwflP6l0B\n",
              "yiYkO8flEw8f0j6ZDKSW23gLVZbsrCeX2tlJcUklQ8kLsGEXbPgFs5wkGi139Hvjj+fOeNOdYgW4\n",
              "/or1MytMs1iZddFtVwQ4wmMuJPhS7LX+PIgI8oVEY39XoLbg3ijrZge35R+PZ8XV9SdKyHaljNG8\n",
              "rzBXaE5Jgzj4WGmWfwF9Ck/3CnXVPSuO/PGhXfyIuAfHHzX1YzvcbPED8LJtQGY3C3JpmID9Tinl\n",
              "yA/rhsJJ9Cm3FRmj/Rxe2o7KpDnXhmJMmTEQBPVoicQzd0iD4zolPNjRm7IK0tfdlgAAACRBnylF\n",
              "FSwr/wAnNA+8Z5YAJsj0jGaBHlj155+F4kIKxHE1hvQAAAARAZ9IdEJ/AAa/zmH2Zi/2UuEAAAAd\n",
              "AZ9KakJ/ADLZEUPRUAIUo2wTK6Jru7Llme6G+9AAAAG8QZtPSahBbJlMCG///qeEADJ62/oRCbx6\n",
              "+/+3AlpWCHTCQEjqr8Xg7DFLUuO+g8BY3QxKhFPk86PnTaOkl82oAqGpSSIlCY38BQ8CXeaVaXZQ\n",
              "v92iFODuD/U0msf0ZbODMybKTDKzjhMncAggao12Ev7d78A8tTkopWUNAWwQmHfD1cmBqiseo84W\n",
              "SJbj59PlkCapVozwHKb7tU0GX/E9m4nsloCYt7hvfvNnr+92WB+33ZsowZLIQzM3LQOT5EE5dvmM\n",
              "fu0ZbkSbwT401DTzU4TeBvZ1ocbN2qnnotjE6jbf9AqkgUjhPwcZ1dM95YlDB4vVVwPx4MTczBAe\n",
              "I4vvhtHBwC5lPRfZxEif6N3u0op3CHIiyRXynW5PcLZG5PFgHKAPztVbY9iPysZ343lIp6JaGYh+\n",
              "HPnuVLOIWogq/E9cL8KDVJrc5l9PficNeVmnmU1WLv7y61tIjXYhxBqatFw4Cfhqclx+va23WROd\n",
              "hkVsCIutRlT+ssLSCoBs+dQEPqqGb5cN5DToR3gUsd4PbaInrfbfcsnjpVfVIXAkrH4qk6Jyc+D5\n",
              "u10YbVkaWzOMZ5TbPmsDDQAP8j0gAAAAQ0GfbUUVLCv/ACjtbIC4AK6bn8zTShRFIZaxZY7sBHls\n",
              "oiRWYTNksLZYBAf8ECN3lU9MceMhW3CCdabBSnE3HogAUEEAAAAOAZ+MdEJ/AAbCY58ZLOEAAAAU\n",
              "AZ+OakJ/AAcUJvm/SqHoSBAW8bkAAAGcQZuTSahBbJlMCG///qeEADEgVpiOcaAIIfKKAR89fVaW\n",
              "Ax/sdvgm1KLxXeZm5zp0aSe8smOeTOEBycJWetAQXV4BeISpjA8/GGspu5b3wESfnruQmLiJe8dP\n",
              "J6NBOTcz7UzRZkpF3vy0RhNcC5LLqHkDZDLjfngJTw5jLuH9mbsIxTuJQV/eAO0iGhZwPrXnHsbW\n",
              "92r4Wm1X9O2RXcJ4iGKtqYa3qgiZ4FVl/3/P1B2xMFFQvrWQ8htvihi7xjzxlT0/gVul3Nxf6tFz\n",
              "rQEXyWrdG5OsOtE9IA3tP2W4hM4wkZ+OwnWmCg8PFsF3KGW0LxMULDILn2hgBzz1xIZJbvq3R2wX\n",
              "ekziuGj7x1d9A+xSrPGhfAJ8zttXVT+0qv9Dgyo+I5HhDgeRy0TJ1V/ONRvmqvxaXYAZileNMZqN\n",
              "MsNhtzgHvipeQYZMtIfOqiyhhH6cbqFP3zpD8sJuEZ1Gjmir/Ad+T/S5tkO7KsZXc8uwuRmByLhn\n",
              "hBBqaJykVNZ0Qf6En7zHHuF6EGbRla1JNcUIFB/F0aoJpqtOmAAAADBBn7FFFSwr/wAnzoIgBCb8\n",
              "jwM8EOZAIys5nK0rMIsbO0XQAitWprjf9qLciAoBUVsAAAAUAZ/QdEJ/ADOTOFTYRYzHe9fL8R8A\n",
              "AAANAZ/SakJ/ABPvjFnFBAAAAZdBm9dJqEFsmUwIb//+p4QAMSOKVggBYKs348TAEPe2J00qRqNC\n",
              "XttOuy9QQSMG7xz9YdSJn1uCPC9fJLZL30rxTbFTGB5+MNZTc4XAiVylDGQQLXIUtPGlo83HUDz7\n",
              "lHrzSOukYulsuUsCH0rokyMqH0qPKUfzhs0KwQjoFIuSwkvk384e3n4b9rMqYVHMDWoSmFJvQKIY\n",
              "4d6W++jCge57Xin+xWqW7OqQ7qen+hjW3ybmqoI6McaB+Ijg7tuH7vtqjp23Ah0cUXgVJBbHb0FU\n",
              "sbcPUmV3/lxyjqUlcLxKSX5gLa1N7nx6izNPSx7sATIIYcFN4xpOovS9SzECZA1aaYCPX5l/Ql+2\n",
              "jK5Xz/U8XTkr/2FoTZrYveAPs3cQfClV8FSOIZhGdga9RTvSmBDcog50oCZTZbnHQ7xTZrjCjhFP\n",
              "R4DznvMZeCwXgjkVIjCH61C2VTREYPMw/Gpg6kXgK8srh2k92a1xyvzQQL46uPoqZ46Ip5CXotI2\n",
              "WeyG4mvnm9irUz8wahn1vHoUjypxHNqMywY5KAAAAEBBn/VFFSwr/wAnrhRFgAIcvdmSHDQqQbbL\n",
              "8/xQU6HULtXxC9uOA1C46v2cEdQ2FKpak4wgp8z/7oQNu8L38BWxAAAAEAGeFHRCfwATqYa0NgW+\n",
              "doAAAAAZAZ4WakJ/ADOCvzp93zvDRDKjbzJ2oggIeQAAAeFBmhtJqEFsmUwIb//+p4QAMSOKVggB\n",
              "GVwcfnr5aj3EGYFRPaG0B8hV2TdPUkRtgpiGlNRO+wZ5i/OU5dKXN1tXtUUkSlDmYw1405pn/kHt\n",
              "aeoiu+9UdJP/NZlyzLJz5eMA+PJk66/QgZMiYowBL+ToE8LeAoXvAvpJOcPXBu3lyL6rE17tWLDl\n",
              "9t2dobaYW0lWlSqInz1Q9GdYpqdNfYZsTQXnvAfOFJWnMn1k8RqmFpzLy1ufJdRdSscbE24C3Jx5\n",
              "DnbR/fp+4D89Kjyh98ja1LXy6eaqf6kS31E8otpwhvrrRROBK28Jany4mjuV8iBRl6r5HgZGMmSP\n",
              "Km2Y+/4ni6OzPQczuCN8y6ITz+bCa7/6RtmRU1Hr557gMDhj5M21pJjhthGTs+P2kptgZF9hZO9M\n",
              "u/7k919GnOLX9yKG+FRCoOcaEX3MTWkxyPZWbWVgJbvueEP5jg5feOO72sHayAxYqOfmLMW2WHny\n",
              "eyoeT92eHgubiEJenVmL1M0GPd4K1pHQxfH7jxSqVKVlbq/Pb1j6WxJkhz3L7zHHJDYuBYOoRK77\n",
              "iyeKXKGJ2GtR1viI0ziQnKpllwGvkSyLsg27+mYIx5nMFxaBy9QsmgZVX8XoNnELzPtiIj+8P5cH\n",
              "o29BAAAAfUGeOUUVLCv/ACc76FpEwATgzb8RyaWmkUcUqcBB8mSTzcMy8dqDVX7+o2/NJ454IRfA\n",
              "7B6immiaK8EtICo6WAbS1gDG+Z/BBpJQ2uCQrmZ4uzy7hxnhEtW3HuRU0WFDIdmi1QB851va4TW3\n",
              "6SQt5yMUqRigd8CrkhsuEKXsAAAAJwGeWHRCfwAZJAy0kTAGSthHiZNJ8mm0O4vTGPKABrYX4PLv\n",
              "6HgR8QAAACgBnlpqQn8AM18E0qADZ/nmTi7Q95JnrH/sJk03DIouQYxsnxWaedI+AAAB10GaX0mo\n",
              "QWyZTAhv//6nhAAw8ZLgBYfNV+VZAkrzhsL3PqwPxO6HJdK/t2jltZ6oEnpPbXxCT6EN+fJ6Avt5\n",
              "31VfAMG9HKA74Fb8iFahrlUcb+YMVyIxUpztsCfyRVXJCpV49/6aQEc5GIYVbn4lZywwMsu8wQkM\n",
              "kq3e1oUCtCHKAVBCxdPW1xusYJZV5x32juMaMpEHy5TKRhsrchQnl8scxM5ANEvSkDV7tdNHIXW7\n",
              "9gmE9rujCLVHK9SFGpLTR/nrjgel1wEDuHL0mB6+skaHPHECxTp47dmtqMrHdlqtzjMM6yzy7VJO\n",
              "0NNhMbhW8ecJY0bAFGV9Q3ULqvHViJzKNSVIE0QXGA+wCZk6xIlBJdzKZzbVFDp/RKqjyTvFoRdk\n",
              "15HErahqjw5lQs6YKIIpfzweOAGr+kouaUuJ3znjq2Glg7whmHODGWbWORDbZqy5yeBzNVxiH4iY\n",
              "9zqx4ABHv6AHPsDzrZwXbbpHxnoVYIEYYz0suG6+nEpcHDUU8rFZzJxgXFQqVKeRjcMubvkyxu0b\n",
              "9rFdmMI3498bjrEXYZ/3fPMFzv5e6lASgYpF+FtTWjo8MtxUg6L+4Nv8bhGnIxZM7VpmdcArpR43\n",
              "ticIhf7ukGBifQAAAE5Bnn1FFSwr/wAmUnN2piRL4ANnd3InMPQ5z/ajXXNzdY6mhVqOzMM0wylr\n",
              "2EmdEWWhe55sL4yRqb3lljj5rHXiBxZl9s8H/5AZmWB5Q2cAAAAXAZ6cdEJ/ABrBaU/hAfRpZ8Im\n",
              "0868TPgAAAAXAZ6eakJ/ACfA/CrvP2EPSq6CHl6ApJwAAAH5QZqDSahBbJlMCG///qeEADEjij9c\n",
              "AVvS4URZSVKWHrmO9UOztra2LSkGonfYWm/8BEerpWNpqGZ9ttba2V7FnzAOfegJCa/9Z64UWFBF\n",
              "8ffEh7DJrPSZ1/Ka3GfTnIRngT7L+llWnfwRUEIBl3z+wPiUmfhMnq73bPmYYOrw7fSp71fqbzHr\n",
              "Q/07U7vDMJ4fqo2i8kLrDOhysrS9CTbPKvT+qIbAAKtZ0n+jKSaVRixTFMyzYLZUuCvhMio7bs0M\n",
              "io9Cg9u8JxLfj6nWyJcHPuus2jDcCwKkvLDNOPCT8mH8BkHgaaNnNHlIzH5/62KayrDN/DaKHjtL\n",
              "wLxH+CGIJt1hmcZK6Z86RFop3L8kH6kCvh3PwGy9A8YliD44Ci67a3giyrBL7IUkEkH1t2W+ZRXO\n",
              "fECPUjXLzYqCyzdfyYUE8qJZ1LrER8tmd88P6dMRFXFlwPt7Z0TvaYlVzG3T9VIIwSPBAqayGw6S\n",
              "zw/XOnxGMvoxjzoDuaRBdr0X5a7jUXSiS+yIuRxnd6z2TtItND6bV1nep8KHt9RZTTPAOMULIWlZ\n",
              "IESW69nsic1qsIwYj2kyYFLjLwtQPoBBDE/07427ebbZDw/CASunR3l3v2cqJHptIDw0wJlf5gk0\n",
              "KGl324C9VP2mNhM78qGtc+l3PSZhveweWPOtoQAAAHhBnqFFFSwr/wAnPAYEEsAF0fofYptQxSnM\n",
              "RbUUeMvm2x4JWZZGFB+bmOiGU29sKwUsyfX/uaFabdyG7StZFWFdqB5y8Sz4gPuzLjeDomiYeX7A\n",
              "O1wAXQK/bik4zF4ILNkwoRXDU6Q8wmL9tAuVShiZFiIaglBCg8IAAAAhAZ7AdEJ/ADN+f6atkPQj\n",
              "lyjXLr61WXzc+N2Ci3z3uSyhAAAANQGewmpCfwAyb7gAIdF2ZvRAgYT0goMyw7eGceYnD28rJExp\n",
              "UFQOsTC5LrPsoT/EsOy/2YM+AAAB4kGax0moQWyZTAhv//6nhAAxI4oPoAQHcg16mC2l8z4HcZzh\n",
              "Kc+hSWBrGfr5CcIvFSX3ocJnTu5TjgO8CqH2miZMEZigwOiPUok2NOqKCUJ6XPJTvphNQ0yyu68w\n",
              "tK5/z74E43Nx1tqEbG+LWSVFIVgbWzFWfdI20emOOAgXmmSz5kPozcVkFoSu3IeEA/LQ/+HBD7ja\n",
              "dwgC8YNiDMrLzsvrYH6+nklpbuHvUvZQMxhd+kCgL6mCzu277alIhSB013PQELicu3Zn2YY2gJe9\n",
              "Xxu9MiLlko71OMoNh9HIJkmjWR5m+HmjCRCT8dY/NRD+Dxs1esVu0d08AN7iq1602hcklVNwapDh\n",
              "rClT2sDV5WyMgzTUIps9/zEPnVg6HKgiACduVFAI4M/o8KKLy0GusSd4AaQB6wbSgTMGSKe5RwKD\n",
              "VfGWTuT9U44nCCK4bjI4quUqG3HQUQ9Qlj2xSkdLaSbjBiXqdoGeuPLcHL/lMDN8FuKSuWN670kd\n",
              "pBozqqfgTsj1EEHW9iyjWffxtghEJCh1ukAsR4Ec2r++09pzm4V+KiwnyghZQ6hz+q8BfBTbGuMb\n",
              "Yzklt3tw5/XWosdqlmANi39IR+J/8lgKqBnNx7dkaJYNAX1I5YkarZzK/5CSWySBAAAAc0Ge5UUV\n",
              "LCv/ACfOJiADm/RN9kWOd+/yrHwvwY0usfl5XdSPKWjQsOozxexwdWPI8Z9x+NQJ8OY70lL5bbJK\n",
              "m4wl3kpENWZAlT+LPQW64a5n8A5oANr7o3ZyyzFtiWc+xTli6G7CBxNVLwYrLe9JVm5h47sAAAAi\n",
              "AZ8EdEJ/ADOTOFSj1u8mNhX2uc8tU79aSHBo10rXb3AN6QAAADkBnwZqQn8AGSe6gEgYBmVqQV3o\n",
              "FpWoeOfq4jgaTT+wZQAAGaAAHIAIWV8bFYUqRvNRD/+O4pTmiRsAAAHdQZsLSahBbJlMCG///qeE\n",
              "ADEjig+gA/t7rI7Yq2UlQtZQ4GnGH7mbc6ayreRjdIwXf/4PTywaiEqVO7ORHBwhiKFS+vWRtGuc\n",
              "aikbjGT2eYDP1rOhs0t900DmLf6wMLWYayyXpNr3ts+qWyBAyaw+Bs/5Jji6vqgUXiuJmOVLc+qU\n",
              "PVVXijEresBlXFmoOs6bEH6QSjxqBa5qRFhvAFGDdSaSZWR7nmsFkCPaRsKG3rfDSU5CLTXcap00\n",
              "K0LFn8YHYjkNK/OM0xIyI4CgqUCO89e+RUOFA3Y24pTTCHKP4YzIRgsGb2NMNWtFHPqbUMyO+Ly4\n",
              "+jgjOl64HER/jn6ljKNHdS+MxkBGyYFP3NBN6pw3ZwC7BwGVXWrkVwNAtRj7Fnk6kwSCv1Sd1j0r\n",
              "qjDYk3tcHrVqAZ1ltL34MkjUeth24i+JzAHOq2Na5PWiqB2bTTfMoRBjzoB0ZFXAilHjKghQgZwF\n",
              "nX7Q92dw0I/iy/y+e1IZ4tspZaryURRojzW13x3wDTLUMF5Ykl969ZzN6mB8KAeWKAjza//YvzXT\n",
              "+IWHRu+ezb/w/ooR1dVluzTGvKz9zT1/Rf8sfsyH6Aljc7yUYby9/xMDSnJMxIXRwdFp8IAYfns0\n",
              "/wggDIeAAAAASEGfKUUVLCv/ACfOJiAE1doV+cWWI83C7St701SDbtGLVL9KwK2af9FkTTBsIni7\n",
              "3HVAoTyYlVQgfy7xnD0WABcBOI9jKNQpIAAAACIBn0h0Qn8AM5M4VLDx2jDqx8MugsNAo8weCoME\n",
              "pK4E/RlRAAAAOQGfSmpCfwAycFSAD9rGD6/W33o/IKDMsO3hnHmJvXKcKVHNRO27ZEet9xzM16K/\n",
              "5HwLbUXOlScD5gAAAa9Bm09JqEFsmUwIb//+p4QAMSOKD6AEKqsCUs4o+cb9FbaNM19nanWroMq+\n",
              "/w0SykrojJj/rpLW0v6p0Yv15W7dRNys6vshgjTKoNiuqJO4a1B/MjuQ5wr1Ve2eqNnFqAFgxIJ+\n",
              "fiXBHyMbjFRBSRZl2SB6Z8TecKl8T5GD6BCPSEd7R72Au/VMUMpI1n5JqSU5D21P7HHO92LTDpve\n",
              "dM+vkaRQ6MINpu2ohl9Tia8qDgtm5toPaGWpXPb09NI4M+V8BZGlyZSHDNA7f0o2NBBhbUNnU1/r\n",
              "sPwKVXO7GWGbvbiF3x0TETsJrpgQ+mSglpvETUVEiXgevgidsx0UI2rmBV1j5iaBQYX33sM5puMr\n",
              "kv1YqbU7H3rO8rwiZum857rQddCdtX08goQ3B4u8yjdz/h0k1eMJnA70CzAtaeZs5PTIzXdfsZ6r\n",
              "QA4iqDEt1oL6AgYrp6Asfo4c3Dh+6jwaYhO/mSuddKtIFCea0uhlBxlPJ+ztN2ctA/CixoW/roUj\n",
              "aTn6QBup8uxNqO5BpJRVxrcqslV3GrDqP9vGUApbcbD33lxeIDpbh9ho0IgtvQAAAGpBn21FFSwr\n",
              "/wAnsMVV0kqdmCSZWEuADvUPCfGlkMUT1KLYSJgIGrYDoAjrEMt0LUT0LGOJQst11N3afNpEFrja\n",
              "QlEUo0gj5lYjkb5dxxjFVNA1MW5/nXp3q4NXIzzTckL6ZmKDdZX00GVBAAAAHQGfjHRCfwAzkzhU\n",
              "rS8q1z35cyZLgNJMsm/bBPHzAAAASwGfjmpCfwAyHzUnyH7UlAABMIE3QnfbWsuj77vbQQmzTLlB\n",
              "s8wRo+rFGAALNAACBgAA+AADlwAnxAO2+xCrr+yQ0NxWshGel5D8gQAAAa5Bm5NJqEFsmUwIb//+\n",
              "p4QAMSOKOPZ270m1LiAEqE6sVN2mTG7DD/Fd2un1B4aIrnY8y5OT9kfWkxi7SCkNG+zPJxIbptJQ\n",
              "z79u+chQJauvWg5kbX+GoMRPz48vOEL492LyN14H0Q4PfKOYXAuLZ3E65tnaNofyQuGl/isXtqdm\n",
              "OeDdoXiWahYUsdPnrtW89IIuf+f1YhEEDb9+YlfwL926SJga9dPOLaRqrt6lAIB/gRTjRtv9yXq8\n",
              "0oWZ+krxrxyDFUIdW6otOx+NbTZ3TGqB4C6rwW+VzOIgOiJ9x6ahgo3AgAgBpyZM+RFMWiZ3S7jD\n",
              "dZKOOpv4nQJ2MGAiD5jqKsJtQaM7XinxiQ3Y2UhnGqPnmKB1GlT/QH0Kr7Jcfun5TdSz74zPO+jf\n",
              "ebE8U6IO7qYXT42W3HcKO4FiJJZkIu3yiR+jRZ/h5QMjwOJTcMoYHOcKqVAF4zss3GHDJ6EsJDcT\n",
              "UJA5SWRTvB6yEHM6Hdh9urx1HbdVVT5kdJWGr2FIT7HQshTWxazdaZmX/NSAKfO3oZcmsXyIP8iw\n",
              "Y1p8OeaA8c+f7zDpkWMYz1fIAAAAcEGfsUUVLCv/ACfNUxyYanK2hl8pPBQAJSSuOsZtXq82Ejaa\n",
              "nwXWVngDCZvByEoNuFzBlzlx+3Zuj15U4ll4MmDI0dGaTrmQv5ylbhinqgyn3AO832z097cN/AFn\n",
              "iAkHHp5qmhuT8X45cRDquzZhAVsAAAAjAZ/QdEJ/ADOTOohAftu2xlgz8IT5pCED+KbZlfQP6COw\n",
              "A6cAAABCAZ/SakJ/ABjeq4AE73tD9bYxoZZzGuSwrEyhouQuD1mb+w2dLWqg6Jy9NkcIpj6bGzti\n",
              "ciFoV2VgfMfSu+X5gMqAAAAB5UGb10moQWyZTAhv//6nhAAxP9+AT2mUcl6wuLfKk+xRIDzrDCfZ\n",
              "3U5HUqvPDMc7r21SnbmPCzmrd1ft6kZFExuqeiSSezBdMBPGExvj8Lt+CMD41Mi5gLSZ+WH+VipV\n",
              "7enWx/Yvd6ed3dcrjb763p/GuiLaqPRJSFEVLvllCAzgYAB9LTGGUeMe2pYoMBZBfjHQqWpSXplz\n",
              "hDUR83L0NV6QTBZaLVAyXLGwx2IRkKy9byvll9DkBrcHnEHz42oax7zE/jFDefo0cXVD7/a9OPvk\n",
              "r8HxHgF3x/K0Iuf8CDDMiSM2iPRASxa85AZZJkc1Mbv5DJ8TZlA++WAhDPbAbdEdzg8yzHRSdz/7\n",
              "MTfJjwH9ITg2HUjalv1Q2gjm1W3SuRw6mcs3wkV2giaq5dTZZW+XqOgdbiKCBBn1b7RdGQihQf6v\n",
              "hf40xyj7eaRioCbXKAXw1uqNQiGxh5f1Xf9NPHMnpU2b7ZQngjIso1JCvojNWOWVw0iAKjAd8Amu\n",
              "mnOd+SWmvgwk0o+0YDuzLdzoKEOvAzJ7INk9+40z6Kk+lVtmel7XqkbchdhHH4KObx2LvxU5sbDe\n",
              "yXeIYBlnmUPzEoQg51mM227+2FnyyMGRhjpqENQZU0S0XpmaO89vc8qVCTMg1s7gAAAAc0Gf9UUV\n",
              "LCv/ACfNUT1GVXvq9vaO8g9RFAB8+pzvOBBsQP8Rb9EaPHcS7uK+GX27H33RjAa0VGn6agXrCHWS\n",
              "/0WtMv/LjGXnV9mvtWkzw+0ghUA9T777ZdhSnDk3dSAP8bJnzY7uK0fKWK6W898DeGTGaEEAAAAi\n",
              "AZ4UdEJ/ADOTOFTYy50k1sU1+BkW1t2RSImYyEwctsYDpgAAAEIBnhZqQn8AGT8JSAE1Rrg3Bi5x\n",
              "UcJfkFBmWHbwzjzE4W6yt0bsHdL27r/Jr5Ep1KoMsc+VmnsaeqFEhcvWKqrCAgcAAAIWQZobSahB\n",
              "bJlMCG///qeEADEiR3IKhVONmDjLptl3AqGiYYSPfBhKjpS3Lj66/ZqadQzSbZ4OFzJiPLGHTNX5\n",
              "fzPxuwMaEldiStEpWyQLnO3ti2JBDSH3yyBA3Z7slxYsYzy0OE+5TTVcyIcW2/BCL5JQJRuvyYiO\n",
              "JakTN53Tog2IfJGCvkdufh+fV1Jew19X5wIYKNVP2bSx4aX77WZ/TWYJvcIw5RmWuxhktR9gG5yH\n",
              "rbxbYaLJTYPn1+3W9+Pa+d+Z8ZccfQXY84pca3c6UZR2dtdT8l5Vp9/fIKx5LJ9ny/aaveoMv1bU\n",
              "CnQoIqC6dfccfE3pK7llIzOtKRVyEwggBBRtRHUeFTHhMTmb0fIO3fdVpclfjVeUWHJv5iuD4F7n\n",
              "lxEPAce6QeY5EWvDmRTYOEKYN0cm54nGnbbZ2sszLG9kdZblKlNrCG5P8NteVUbKuqmRNeJR3QyF\n",
              "b3SVG0h4Yoj3YFY3pHT9zWSYw/tTOAldeKCWRLH1KWhs6lpZoPvm1aHt8ZeZixc1t3t4va4s18WS\n",
              "eLn/ExPzbii8+828hyKuuyPZJ7DjcNOYGSBxYXPaz5CBN8E1wtmdBMokgkvvAhYfqzLmfCPLMVew\n",
              "tc48rkbpGQC4zALsJFKnw32jAK8iMxrAFZB9Zn9uJk4433tsIKjZvGHhq3+6iukcSJysxVxCuTWy\n",
              "NW06jCyYlUHJFS7g7BSBAAAAjkGeOUUVLCv/AB5gPqQgds4gCa1IxABOu60Z91GVbQN3J06wUqtI\n",
              "AJYC+3Wb8rL+Py3myP1HUqtP5AXqFgtAzl8RBRoGFwh4FpU8/4+GysqREtAZpqZLrQYxPrOteqoN\n",
              "Ck/W30A19w2MX7FFoYJdVviHhIp5h7TYA8J255EU9s+aB1DD6zn/B781Vn8A6YAAAAAdAZ5YdEJ/\n",
              "ABlt3gqu370b9f9vHB98qRsRIjO8BQUAAAAYAZ5aakJ/ABsHkzwpFGVz63e51YnyGsGBAAAB4kGa\n",
              "X0moQWyZTAhv//6nhAAmo+U/9aV+OnNYRNjJ+sAIxtBvoRy3IFg+C7nqkLcCXmXYKs+T33kF7g4V\n",
              "yX7Vvxw2967NnYj0iPBWuoOtCY3Z8qExUog6tLiHnga/wLB+6K6z66tWxNX8sJoLvIW5GbsH+YL1\n",
              "gyP9vAhkiDJwBF3kerlv7alC6Ki9KxnBkqt8ZdJQ+QetYrbvlROkZEt4NzFItrtMjI1AvZY35EOV\n",
              "2Sxr1CmerzHUurQIDHgTASLo4BrMKobiB2o2R9W3JdpiJj8qofdWt4iDMD/4PkD44HHKQboYv41Y\n",
              "TKuXXy3cGTWDy2RfHunQ1AlHFldnibuN7hIzfwU6FEKPpstWmGuQWTbln2cu/EguSJrVKaZfdKB/\n",
              "VxWOkseZlRDWB3zCcQjFlj95eA2vIluTAmhxK/52D5/ZXM07eF4s+168tB7Dfa9dPx4HHpkKlsN8\n",
              "ybsd8Soa4JYaWGUoSGTI3mP3SS3W59uweAZefLAh80sCAC3u4RjiE1NylvfHiMNU9MNh0aiq+PCB\n",
              "NU9PPIJcpWEqDjlOARUkESh1+PlQTpHphLI2OdIVF7vAMCF3PepKcMwCytyL3xVCs9gHPmlLlDP5\n",
              "XJoe45y1FFhhXejafihEle0ZVbX2yyQJAAAAfUGefUUVLCv/ABUOSpZFHvFEXsgBbq85dtvnPz/i\n",
              "gjkY/A36KVH18zWsp7kZC4kmSXIjCR7o5iifh9PcUX0qxnxblBkpG0O0xPwdZBs6yW8XLqrcYE9t\n",
              "Pq3BSGQ4UX/DsTSF0W8ppvwaom1DR3uvLhTjbiLgbjC7Yjt7egHHAAAAMAGenHRCfwAa/0hFCAy8\n",
              "v/wAfLD4PA7qwBRKbW73Df4VexcBBpSzg3C4kdtUMCA6YAAAAC0Bnp5qQn8AGwedIKXDuAAD/edJ\n",
              "VE2nvBvtodOipEwV0n7QreXsXYYbwXKQZcAAAAIzQZqDSahBbJlMCG///qeEACe4rSD9Ol/ZWngE\n",
              "I1Ve2gobWThqzYJY7PXe/Ootdtsns/Vh7tYyMtmVc4c/TlqcrZWCg3XPCF6IVHIA1fjDhniskEAe\n",
              "IRJOjKZbQx4AIk1Chfiu+sFKHLGDoXf4c6Slm4WX/U01CHgOeFL/PqUS1FKWLTQJbG853/VUKcvc\n",
              "LEM9atc89dfB/dVHUpL/lh+q60wZU1wCpklLdJ9toiiNw+pZfj6gXkVng41aIHARoOKxZyF0jnOE\n",
              "ESXRVn4B0vAJSiH5UWNAydLGZ4kyaqZdNc/8MMBo4XZPq8MKVGFxn3rAW51eUORqCKOF8kjvcmTE\n",
              "Kd3q6/7+qva05s3W1Cvin3FXU/vRJngGtF9q7UmhPZuEzt/QP7xQZk6eY7a6HDSo+svPb+JydXLZ\n",
              "4ueLwMEZdYpCTWuwK3JQvAT+Klpc1x/tOQ+6b2v937f6AMUhfbPPfCmkXQn54qOXmRDmwbBBM5qT\n",
              "SGrchyxx4H3uSevmmPLzxQI9hhDY+71B8yGOvwjzfKZtTDWAGXh5rptIW370nnPKBSN61CRh9r0K\n",
              "BzyBvpt0T54EvDJfi7raMo2Xbk/KLVq0bDjPOVOSUG3i4J6s61ZBIsQwLyo+bsfDog1/sJJdHUK2\n",
              "UP/mAPSYgJXzwcWne3n63ikLU8bycAUW4NeTLfSxe+cqceNEf/xBBUs5IOLFoDFpLkiW4iivDNV/\n",
              "R74PIcvgT9vRzOOECaLvUp/SNrMS2z0AAABpQZ6hRRUsK/8AFHU0NAARBUV4PwAlYj9IXkATXjxG\n",
              "qzx+ZZTt8nkcXHpB7Lih9/UTaKvAyckcpchR9DYaUKmmZf2qTiwQ8QXcssme/eO6j7NqfuxG5f6P\n",
              "zhDjK21t87BCDUeN7HI84MPSAAAAMQGewHRCfwAZxLxioc0lN955SqKhYucw1qjACZPfItpoi2pv\n",
              "bku1YeKc/ABNtOmjnpEAAAAoAZ7CakJ/ABnMcnMAAf7zmW1wlFbXcyJfO20pEocmnYvy2AbJszIG\n",
              "zAAAAdJBmsdJqEFsmUwIb//+p4QAGRcIbYAOQ5kE+MnhVCJv0HRTuN2PgEeB28ShCXzw82ktRF79\n",
              "ajfJe736xTg8Qo4oYnDPx2pqd55US9B/Iuf8ctlimRpjUrofO+Pb+Vi3h7tXaEzINl7aytDFA1uq\n",
              "muKPG+HM1tEKqEz+0JEPXisRKHQuSOtZ2l8OrIBVbmQPTJ0hJvW7z5zOic/mabNcDFm3dC84lebx\n",
              "gx6PJC6uYx/gbfwGTYnDXkzrKKYnbF9OPGhDDixiRUi1ZSuXP3mIUVdtFN+P1HpDzNQ793IprTaQ\n",
              "Q8SwOBhE2DRv79PU8mB8vF71q6jmp5dwMpi8zo+tDdNn9xPqq41Znww0/0Or7q3mlbXOki9T9wiA\n",
              "NB1sRhrV5xcAhonJFv3QLvlYMyQnuEYvjI/Ijye63se4P7oTXO27DXmxdkgoj5jFP8iAf6uFLMwn\n",
              "J1zZy7qfbUHAb4wOb28sB5iUIi4NS1yGBp03s72tLBk8TVzak6JgM/g9PXVGfKu/hsfXTLCElZtf\n",
              "O2xtubuA8WJJZtQQUcHNs9GE0lItV17E+caNbfwmyWS+CxjPWJWESMUPgR6LUOsDRpqUUeccAUai\n",
              "ECvDrrtZr2/18x1QAtMFAAAAdUGe5UUVLCv/ABRmK2Z+Zmk9mQ3qFpBk9MG5qI3lMSLlcm4TW4AU\n",
              "+fyjhiz8/h7Uy/ShAJ1k8aJBhFSMeZ+t3VgBw9kqR2i5ZBm66wIRV3Dd9kq6BWDy8ldNBVLgXE6X\n",
              "HlELnjK6ciwvFxwh04Fmg+nuHhAUkQAAABwBnwR0Qn8AGcS8hU+DV/Yye1OxZzKbqziKgG9BAAAA\n",
              "MwGfBmpCfwAZLHI+T+zfeGFnehxAB3ruA5cD3jHpn0RqeEYLFvnDiBK1I8G+7SZrwlYrYQAAAb9B\n",
              "mwlJqEFsmUwUTDf//qeEABkxOTSJgh9uQAtZgco70AofbQKaceBKWoEsnzBWW28VVJhHK9wKOj2b\n",
              "mg9O+k0OgJ6C/M2Guq6sN5XF8qC0WEWiu90EDbXBeHVYsrjLyUgjXk7Xpm5cJqUsQ0DU+TXuQ+Wa\n",
              "+MCHd51nw6lAQ4qzir0++/4lGOgbTZn789tUsqygbLR21Jy+qTK1TCKSl6GfzMdsdwx93qeGEKJS\n",
              "fsn01DWB/qFCfOuUEN6Zoifv/Ng4RkZNc/rRtdBRU66P2lJMhQuYlVOm83febfzdkVOspxH8nsIK\n",
              "RIIMJu0sNYGukPqg+j5mont1gZtdsZVq5IA0fgaT8xg5/aGJHXXrL/s4SOdimQzHVmUUK48SZrsR\n",
              "FzrpUPAiXVvNfYOiKKMrMg+753VeAi0Q3E9tdeM28gGXgtv/OX+0P5uD9jSxerLh7QnSh6PnekmT\n",
              "4DTDEUHmQCtqz8qV6I0FHmD6SDiKXUldxVDIHwKIfoO98bw6EtDQRJFhh4VezmRWqUxRDb4HjZKK\n",
              "T+WfN4MtHuCR5ZcK/8wP5DukyuuBrnXQ9tL65hzCIfx/fVC2D9FJzd08DE9VCpgAAAAtAZ8oakJ/\n",
              "ABmck3D31l6faaEadYnz++KYWHc0a2OZtAOOOQ7EC3FicYZ6WAz4AAABu0GbLUnhClJlMCG//qeE\n",
              "ABkb+NCGYBoM4qcstcxQdzefxYcG9E0a5VBPszPZEV4KhYsRrZZ/fyiYoP5Ko8xGn0LwnXdS9edF\n",
              "ebwDksqnv3u2jet80E0Ry7GLd59ZldHSTEwL6nN2Hr0bZZ9ZGz80QtS+BnG8KnEq+SUr6VXbgCLQ\n",
              "CFXmE40KparcBi0g2d3odTSEV2w8pFr0akydTmmCLP331GFU6+rmzUlnxQ6xWcFZvJqmEB6dZGWL\n",
              "aCGqoCg4QkI+onMqLDh9ZuK12CFMNkOtJKecBlabNbdW1Bu1sLJM6P3Lq7I/IgnXitlkklc+QZAd\n",
              "pg/7w1srrE0ZxBbYFUSdB/P/eqRWT2YVSWDC08UoW2JrZi+LdNzk/NJOUS1f8ObZ8gQ2U7IInJar\n",
              "hRlbBlxX0KOh8S5a424uTWW6enwAf8Cvsw2h3WyWoLNy86xz0L6pRBfnqEHaSrlvtRldT+eGcgzO\n",
              "CQV+Tpx8Cs1+uOkrR7fhvwouABVV94qzszN+FUYkG10REsMqVErTD3+6JsT5LB12vfQkPTAM/0z1\n",
              "0Yb1iT5LMgjM+h8j6HT00dICTvxzn/53qmvl6TphAAAAkkGfS0U0TCv/ABUGUiwyx1NS8qADX+46\n",
              "kuI30/uMecLLyBy9S1juLcSesCpO7GIEO3tHLm2QaQx2SCJNaTQx8yYRAy2xl1PJPBICWEFvpDNc\n",
              "j/CnJu149FkFYBIXcl4yhb0ky38jw+Yko8x8BcFXAsodaXwT4HGNJPnP25/awJCaqdm2a1myJ1gj\n",
              "fD/ivAfZy4E3AAAAKwGfanRCfwAa/0lMpBp1m0uLSTFpuP/FKAtX8t0eF0sVOuoySlJK3nHhwXEA\n",
              "AAA3AZ9sakJ/ABnMcjUynJBU58sf8oFL0ZD2hQAezhAVBe60QyPlgY+J82s/+VxO3DKiKSMyzUSB\n",
              "vQAAAfNBm3FJqEFomUwIb//+p4QAGT/vXebYyCqOhsALUoJ8PF1Pm8/8KTKkE/bP2dcpSWi04dW3\n",
              "n46CkfFOVSjvh2LNhWsci7JRSCkZcenY0mbqP6QAfeFBodXd3mvC1+KYtSiies+7aOeq3erDMiHU\n",
              "PdF6gP3RMKseeDeOmwo2ITa5lKvZgnM007C3UpWtyohJbtiQkPAt9qYvulvieXueAgwXOj29ZXDJ\n",
              "9v5hbGBQqtM3hUuRvI0rSQQtOERJQKDHRXSKG+9Q0JjdbJyfg66JF9NTh6PA+PZhwAAlm7D6HhIQ\n",
              "lFmiKvxT7vtxyNnkMHOOostwRcYHRzBupKugA3PuR//QCUUu6QaegAtDNB15pHk8fkeg3qf0vjLl\n",
              "fqnuuF8JrPROOzNbhgTvMoakn4eOT+eTGozCCiF6cw3YjlX2xhrCBao9YTBaM123PZOS7HJ5H1Cm\n",
              "TOWyK3C+pgxiqaVlp0/9z+YXA349u6iZZ8LEQPvzP5aJry4EsVBPw5V8MdxbRuboY/ixtUO+3PQj\n",
              "3wjl5sRpn2oNTHUzYFRMYZVjCrUu5a6yHJPBQmGbylLmfEr5imsOCvjE8bU80OIPJQMka3PakY3l\n",
              "s0RUPULwhk4Wfipto8wgoa92gXYbARfl323T0k+pwmUZ985oot5Kx5WCW1AmeCkhAAAAe0Gfj0UR\n",
              "LCv/ABR2kKyC/qoAATPhSbIEtEuMvGMcN8RZbUYfsuy1r8bZ1b4inWXWeaunzqC314elBrKIfIv4\n",
              "7rL9wwwU2oqnFluF+vuWif/rGM/JPl/LCPmcNOF4TtKFdd4afJj0F5cg+GXrbEAq/u2fuv4vRgtc\n",
              "H3+hYQAAACgBn650Qn8AGl8rRIbxs3EincJK70AORUymkUyapO5dGAzCd5p2ZALKAAAAOQGfsGpC\n",
              "fwAZzHJOGGXI/NTZ+RHpxTv5ZwRc0W7I5S0C1eobBiwSGTb1LPwAh/bB2JuiV0Z5EGMm4AAAAhJB\n",
              "m7VJqEFsmUwIb//+p4QAGT4TypsRJASgAVAe+P9usa4iWq79kSEpVruNJNbVw7pF4Uvp8KgPacYp\n",
              "7+6t6tO9816aONER0oPUG14Gs8w7AA/f6yNheHdoAdZdf3tshSJRoafLH0PxxINhv/q1f5LW/6vX\n",
              "8Jyj15Mm4YkoYIfKKpEqAi1aktyFIV+EPtZq0/KP5moYKkLwUUFFrcqgJReq22cyRw7qMuD7+08J\n",
              "HLnifulXE/pIIV/50B8yJN4d9CPeZl3006WKhHzeTkXg6dHlK+JNoSDQfTzxcZm/oJTKxz/DWjHV\n",
              "Y/KG+o1uXXmQ88IV7yQKVv/8umV33u7xNfQHUpdaoeZyJgeNgSlXvrHQow57JDfHv8ADirox+1HH\n",
              "6EuRsfu3p1U8BdeMKuYHoRUKyrZTAceUaDgoMtxhAdC3rsiiuPmn1MhTrxXxnThQm8Svyb2JgFTY\n",
              "EqvdH0zRWDtVBM5B7nsJTC+pp005ipH3MZH5LDSedMykksbM5jg/73Yw802ekkr+rHePj75BHDaY\n",
              "v8rrdqLfXz2kVgzA6EgigJbwfl+M/287PZy2py8Mswe5udQVe2C3URp+ur3gM++B55FlBHjc8K2H\n",
              "k7gaNEhxTqvlF2KinqYeuH6YV1F28ne+/g3WUEZJ1l0ZRhOPZZqDvbWZXf29LgFMbAdX1ZaM5ubi\n",
              "c63KicxTM/+pvzSa+B0oIQAAALBBn9NFFSwr/wAT7DPpAAk/b7snk121wt5lQ6ceLnVF8zMW3A4x\n",
              "9OpW5hpRMoqRN/R7f9ML5GwklezmQdHICe4AUOIqduppfoDu3LccMN0EMjls7FXKni6R/Ft5vaOW\n",
              "lZt6qJhPJAhUvMBokdP75cE4L6KkUs6N6cwNCf30cv3YItdgbwa8caV4I3CoJnVsVRTmTSNU/TRX\n",
              "3I24JwPwSRA9dWw7wnCrvipALRp8PR+GVAAAAF0Bn/J0Qn8AGml3iPJsb72dOc8yoaTwUvnAATjI\n",
              "sZjkWXb5ZaJrM+quGpKACGTdDNE8JkbHOmEwwGvefhs5AaPvkSxV8RDIafupA2gBBjEKBQ35dmln\n",
              "d/liAmrUA4AAAABRAZ/0akJ/ABpr5ShZQAfzDdHxvIzRO1kKeQBccfBm32ZBltLYulOg1NjvqRSC\n",
              "J8NySAQnUbcpFDWHnTpYa3WLts5LqYiH1y8rc7dkILD6jD1hAAABwEGb+UmoQWyZTAhv//6nhAAY\n",
              "hGmkfo8AGuNNyvYa+FBAZq3kYNEXa89klE107xZyXcLGFCoKmyRTdYBDmsZGOMYue43MZHBFNwCU\n",
              "hku5qUDnySRwb7EHb+IvdsSsOjelBqf3/ybEqibYn+2ucYEPAfZq4ToOBseR51E49VDuss2l19Mp\n",
              "xYKxPGEqPY6cWFoNg3/9kv4/bFFzyMZFAKZjVElCKhPygk+JloFoUwzHEwwwctxvFO6IA+D9hGwf\n",
              "f+zsxdM0K+rJNxqDtLukNpo77KqEW7CubvADajX1UweR+i8yWNGFJiAYjNGcXIXQ8uMuQkW5sZYq\n",
              "oitl+shk46x7lvIY1NMKPyhuicqqpAalUQxMr35irFvGfFfCh1hB4x/w0C84h8u0b0b0G0eUyVOp\n",
              "xzwDCT9qpol+qS7InG8dEW5Pr7AcR5lxoChBY9QyDk0ebF9mE7H4qiv03PFfMx+q/A7M0npcVI6k\n",
              "gSirlfrHKyheWOKnMms8sxl4t5XfzjvDiIueFr5iVmR8BHZ7z5PFveBPAy4catCIrc8OMNpVUvm/\n",
              "hc2k3cHvq1xB1rfX3YW1R9voETZI1u4MmCc13hE2YpgAAAEjQZ4XRRUsK/8AE+I6y/I9eWDpygAT\n",
              "mL0W4tO9N1g1D5fIXljh4gfhHFCp5wLYSXz921xgc4iPI82g8pPppGyMCRIjsmgHHp4xwxdudrIV\n",
              "+5JemAkO5ovySFz3EA6qiwAWAUqaCtoWsbcuxNwVcvM8LcY80YghYmpm6iESnSCM5E4zIJOfmlT3\n",
              "45dz1AEE2tD3EtK0N6+TKPWSADtQB4GyKByKqrNzryrEvzldB3zvHuhsLpzjmPVNk/gxvSoxCiX0\n",
              "7wMTveNlX0DRaH/6isR7+X5KEW86Mo3KtHKJ5pWqqoDcJRKthrVAhQvK3QIvECHSRd1hDAwm7hm3\n",
              "01yp8esiiGgJd+Ri9q7CvWVwH7BtuDkqnuXneYAXCbZ6d+up+LNrMnLLAAAAPAGeNnRCfwAaIda1\n",
              "SdRbmrN05ePcAJGeLmVkXBoE2LP8pwmP1GArrxvzUGo+sXBfpcSDy2xYeMogmexnwQAAADwBnjhq\n",
              "Qn8AGiHW36j3MwsXSODIyfTXrnHuf/ZWaXloZSP35jqGgehKzPFCvx8CySVkUio2NFMqbZT56UEA\n",
              "AAIJQZo9SahBbJlMCG///qeEABh8N/FkgBbP/5+4eqWNsGfQST5TYKiDQXKlmSpzLwsPu3DTq4Lj\n",
              "6fOGv+gjW5mbHRv5wtpLeSgoZO5Lcm8AcEmrU7vvsxng5hZPTU4dgMtBc7IG+mSnd7rfmU49p1cY\n",
              "PUCqHDlXUipj4PHnv5qd9vObsK8uAqRLUxtUAmFn0VQ0/C+b228x9PijlNDE3KhkejpJAw0QRzn7\n",
              "an95Wd5aJfxnNhResY5klc1XRaZOCH7/t8kUeaAQNox4G9aMV6Aoik5tZxyD5Kqaeo+tCkqqEorf\n",
              "RkGga6hnNBaiLUJHwayZjUO22bzcG8LMdtIZ/sLabyo0u/liaUVjyFUlC6DcfBVW562jRPE8F4ZG\n",
              "cSkG3h7/G/Xy+2IjolzxoyPXqsR681oaMBIDC7Jj0jfzEVgaFGV6Buw8qofiDtqHTNOdpNznyRj6\n",
              "s1lr5AeTSLvXsLIYHz3lE6K/2q+vNF7dhlYgHMZstSSMUhJOm/Bi9rFqzJ0XOdqfN1/+HgyBG933\n",
              "EYzsyp8EaaRzmtsA0EKlcdK6s9pggtPTOV7b8qtKeosKuD5OisgRfRVOOb4/cK6u4IdLO5kAppi0\n",
              "vTr7yv6bVt71FYaS7hjDHB3qY2dePp0HQxjS5Q0htfzlxtHqNoMAAA+kHWnkN3QYdbKNiyDnzNCO\n",
              "NiU0QmMKJSMQg5sAAACzQZ5bRRUsK/8AE+wsYGD9VM2bxG/oy8QoA2+LjcheEdXgP3AB3uceqATi\n",
              "CHqT0QPX53/ft+IGRFFuabBJar/RaJMz365zrAS7aw4AvlmwLshtUGT2+fESbhzoS/dO9lRney+y\n",
              "R83dNZpor0yOPuR39oPv0c+RN//cJ+eP3Uw7P0/AuLJN0de/ZaUC1CX4t1NXdatuZKzv5amovEZb\n",
              "/kgoWs4RSN9r0W5XbZl0KPUJCZa2FlAAAABqAZ56dEJ/ABnEvLAAA7jvn7yIlOLU8cEd3iB3y323\n",
              "uHppDIstvPrlnQdRys/S3RoMsLiLC6F4yzaQhLC3U2MXcWxLNVM4dVUXY6TW8ke7NSH+BU94woGa\n",
              "R9IyN4C7HpWDMn0IldVl4RxBwQAAAFkBnnxqQn8AGTfcABci7Zs9sEZjgjDrb2FleLCXBw3uabs0\n",
              "LNW2H7n/8ilxPRPR1ENeymxuitO+UcsUTwhZZHarpv9zdYFcedn0aVA4CsXCfhxIAsWO331BAwAA\n",
              "AgVBmmFJqEFsmUwIb//+p4QAGHpJILzZ0GAmJjVmUL/pzcII1phVbVI61jq26bgFjV5cTs7fOx3z\n",
              "iiHMU97wUVyYNRVnw/aUGtELnZFRezwQFVej3P9v+GJ4xRHRFVTVFKxmtOGzdURyQbd782JmR9dV\n",
              "sP82G5bze4DMpiwTnzVQfC28LNGTe6eQN4ie1W3yEoeVrF4iP4zFBwdvHRQ8Tz89cD7TAMoFaQWO\n",
              "yLoqSBMHOxkCC2v5+kNfISLCt4EEG0SFv2ofe2049IcRATYuMvE2ry6W/pB9VFLkj2KZAadFYW0n\n",
              "plr6d8TmWfW7qORVVG3Hwcs6KJFpwuW0QWzjJS75DxTd7POvKYHlNF73bgCQK692PmjFc44xg0wn\n",
              "F7lotJ/0nvDqfXedFrCr74msS42acPx/5VqLCIYAUT87XLzRkt/qRlObjeYp1Oxi2KTsX1ThzpPR\n",
              "CqijVv9+HZHawygBFahnb1R03hAO+Nn+yqwMhKNhIBqFG0isK2Etv57xHKN7hZmFk4LPEDVXeyq/\n",
              "wM4vaAJPRHdoBLO6VDDalhwlD2GIVQ45PiuVzEFbbTjOF9Dbl54NW+PGGpmZcrALjsscCBz5e/4/\n",
              "xvpcAsMp9q4SkbNrVYXIYGshkfSAkES3lLc0kVqHaXZabhUXeeDVvq43ibifX7o/5HSF8ZeVXxSw\n",
              "/2t1VBGwAAAA4EGen0UVLCv/ABQ7cpXvmwAzZ10t4FNvZN8/PiFspxL7smpcedBK9WWe0VEqaRjr\n",
              "0BnS1GXTCQB2NyWBifkzFj/8yVEA1rBWzDKhSBl/Mu3XrmQo4TySLjsf2i/gH0rtKl/pVGL7qFU6\n",
              "TCkiOe0YIfpQOvxZORVQt9qwjjT9VFzkJ8190dCOT+fvN//cpNzSE1fQS3m5+OUIr/yCSxjyTINt\n",
              "iB9QnX6JQBltwvEEZmMjrVlN4LZuKI3Ob1p2T8aSISa75inzVffZLCvfm5lwz6yJUP2JixdF3TvF\n",
              "gSZzAHHAAAAAbgGevnRCfwAaIdaNp7G/1wEaJ0Hox5d/fbe97mptPtAAH/yrc2NwlAwNnz7Ln2bc\n",
              "Tx93vkEqqQ05LzYAAAMAAAMAAAMAAAMAAAMAAAMAAMPNhO5PVxaDGTp9AZ828AczeCuDj5XOE3UD\n",
              "rqIRVTFhAAAAcgGeoGpCfwAaIdaesReWr/huvXxn6wcQUQMtE/vQbk22WMSJzfrFZIegzdvfvxAk\n",
              "3sK7IWdf/IyPW1b/e7824FQklqX2wagI4jNmyajKahQLw38+/AHSw2D8NV6RlosBbxxOrlhdradH\n",
              "qzJSFcy51yAJeAAAAeZBmqNJqEFsmUwUTDf//qeEABif6P07rzMUnCiCsusyyP7jPQ3IzFWc06HH\n",
              "gCHgXM2TZOO72V5M8knEyxh6w0UkRO9/WLu7ADAnPBd/mjOpZ+wZMuJp7vF9uv1J9+0z5R0X1SHI\n",
              "eRWjsUYNLBJ4t5f4Znj/ghEDvAdQhssFq2Gc6XO2Ik00My8JhnVu+vGLa8w5N6ks/Ee246YJr8jF\n",
              "KdHfHbZoYwRLWMFh0/hvdjzSSIwzObJlh54jldrLHoH9tULuzccZo8If3n7Acl8Koxx/KxEiZCD6\n",
              "9oXd+L3kjzfb2DdcdX2IUvEYNNBBf4k/SUC1IScZ86SWIKxhTz2dPwqOCeniMi/bZUfnX8u9BYic\n",
              "HOOWGKAGYXapbXY91jaNYLxOuP1KHyY4wUUYYqQDZvpsVgT2ME+IkiHgDML90HupfF0jxkdAqhCh\n",
              "U7UXa/W2sixQJtgDO1CnhbnQV/PZOL87ubEL54ggE2fJLeyxyJJ+z0g1n35LxVZWz4gO6iqdEr3w\n",
              "igyXZXsUJEd1Dpu4kCAo3hzQcxpJ6M4zRLMnCqKAWScBRtM7jPBXB4JQock0UYVrAZiSAhjHN/bj\n",
              "iP3JL9SO3dGqPzOaEt4oxugWISUH/DKMf/lvD1edY+Ef6KVresxj5sMsekEAAABYAZ7CakJ/ABoh\n",
              "1p8KYomGziIa6egMGDjkAJPxjvcac3iLKkid/ZKvIfMbt+hhv5bOXraGY5U93C9vdbd5hFixdxWx\n",
              "IlyWIa+3Evx4Ym2F5o3jHeEC0dgOmAAAAfNBmsdJ4QpSZTAhv/6nhAAYn+j6Mm/6InsOERb1dPB2\n",
              "jIDdjhxcy2rAFaafdcBpzmGSYkkgxoyktZeJTjwc3nykL8BlNLvznaGfK9+AzQlhUTXhuG5CXhdE\n",
              "RAhW6aimJHmRz3gA7CgTIMICaSGbl16v1XNSy6Vida4XfVHkTZo70StyTZ3HtzHg587UL7Y35aak\n",
              "Oc93h0FCz2l9g0wcdK5lH5pRqdBrGb/M/HGm0VifY/1AFW91lakJzxr6SiM2ZtsmqM5BmzL/Up+y\n",
              "cL7TZx04tzxS8eQt8VvPFRCmVccpqBGHVQIbjuh+zB0B/Qa9aAjQf1q5bKcyEt5sLv8hZi2Txiju\n",
              "/DvUB+yfacSjwC+AFe06JOmExWYtR1AZWfZKDZiTwgiEYJ/f25J1fpse31E9HVV6wM8RW0/VJNor\n",
              "Zaqeui6lXrd+Su9/b/pQ/wJPqwkbbJ9kZlycdKDzqbUuAp5P2IIfLIweca1B3/kO1BVFiHIWhvMr\n",
              "+arq/+j+43L7qEbIjWBAPx1gC0VrKgpC7DbtElpz+cZCb0FNe0//fjKySyPf27sRwDusRto/7vU6\n",
              "dD2o+iVAbchBi1Si2xwSp1/6gr82Rqgf3X0IOsDggUZGnnSyyjXFZlqPV5CKhg5xY1UylPdKOsc0\n",
              "g6SO5LH7fVxzzYKRAAAA0UGe5UU0TCv/ABQ7c2BBMEO6Ylge40ReSoca0kbRBNRRmcZd5NU27Qq/\n",
              "pmSUrILKaEX72Wr+6yoRjvQhmpdgBLlctmTqq/0JpcUyT6rUnx4y9tyMWcnVdcnbcDyWyFY/J8n9\n",
              "bxPfrUwmI/B1/JNPCQE223QE65XQdyUPajuYDNnWD8yFTYQdyHJmVnPOP+7nE52TqOM9lrEDfOBp\n",
              "YwKfx6GcBEWRcCmbAzuEDw+fHWFkNh3zY9ef8uT2mOrlqO++yln6Sc/mTnlMZJSRwIaNxLjhAAAA\n",
              "PQGfBHRCfwAaX0b8YLD5ZJ4Vds91g1f1/jIgBCDzJsvS1ARCizUM8i4K8FqXojkWRKJ+Mt12g3U4\n",
              "E1aIZ8EAAABRAZ8GakJ/ABpnm4EbEP49s0Y5LrGNdZS0x2CxHgAg1x8x+o/eqfq04dDcLbTmxAus\n",
              "g30so/QLHORPjIy0dWamfIXwYlQsUYwZPLUgBu6qMGzBAAAB2EGbC0moQWiZTAhv//6nhAAX/3mv\n",
              "chsXOqO6n9joU/GxFYe+3xIHjmEjgBbMmI+EDFANvXOnDhVmRRq1I2tGbt3aQHjTaQ+j3/h6rdVe\n",
              "98U37hwar8AqNm1v32xYB4GlQyPmTL0ZyZ2mUPTVQZ+VvVf9x6aqtbfFg2/TwZWBetG1C5yNKJK3\n",
              "+u94rrYNAqfiVUJHB8B+1t0AT2K5aMd9U3fbnpUi+tOiQTqPcLgFgOmdYVVl33/H5F8hBJXoaoz1\n",
              "fFT26X1QmVqmBQdE/NZPIoS9saxZTItfXs2fxWhVW5Azm7dLzA9r+LsYAh7Kn3f55RkGjCTJZdFF\n",
              "kbuq8JXiglNRcHW/KT26QbeHECi5vC8A6g7mdyIFI5h2zeXf+OxVt4t/HCSbB9JmRssWqAdSt3I8\n",
              "tQX8rk743m+J+e4LiXbU3ZGvTQWu1SeHJny3a01Q5iUs6+cvAiQr/w9Dgvx8unIvsb/EBvfmDBXA\n",
              "XXW76h1IRxPYNYdooMJYnYi+L9PEYtoLfWsidFIqAm/35BAE9eTXUhxV7HAE9AbJKepKr5gdNqMs\n",
              "CHvlaaI7t/DwZwO5lzTMyUihJffWX2KmKx8DXujxyJuagwX7KC2IbkNNPIP9yoghPbbTz8wAAACt\n",
              "QZ8pRREsK/8AFH5QCmVQ+POrD70lsWwbIbkWpVWN9Rfp6x8O/bJTcAHsRHHePFFMHDqf3J69q6PN\n",
              "wKCllZVYasipoiGHlqGF26ebi/xgX21HDLjdzY6cgE6nJ04b19m+GC3x8QrrayYZcbGPgcOoxIWG\n",
              "1AGB6BnRL3OVYOJlIAgkUVZzyA+E+2zlpgSZ/yOUplrUptNOygHE47zjO2NFtb8ezYh1PTrsf8Uo\n",
              "UEAAAABvAZ9IdEJ/ABpfSTH2b2LFtzSwlaudIsmPgWzswATPIsN6p+FWHjdZ7W39j4egfluddKAS\n",
              "sf8FRFrgck4ZLsNC9lYSyeliOJy7x5mIH0e0yJnPcUPE2j0dZiIVVuWvzpBGROu15P8AbysGXDPz\n",
              "LCDhAAAAdgGfSmpCfwAaZ51UmFD8dxtNkkRYawAql24XQom7XY+GX6Ak/Gy6v0RH1cVetezPl+wQ\n",
              "G8RwP8jAU6YMawVrmeqKlNw8k3EnMQhauWNBY20u6o2LotLy9V39ZIyrlX5iXo4lSoMtD/bC81QM\n",
              "Twxt51VGI0cmCPgAAAGBQZtMSahBbJlMCG///qeEABifxwAOOE2/K+vEUj2NmbhSkAxw6I8yosZD\n",
              "Zx5UooYes7PLEpOFXQX0FfsNfblSCcld4L/2XjEnI3cgEZxkhKYhDCeHeeeQOteADuc8ghCVHpUx\n",
              "MYTsZp9oSJO6n7Vgi/uEtdRc+S/bEu/BZNQhu6td7amlSpXdXvXfbUadjs7iU0bQMV/rE2pY/SI4\n",
              "IgZLWeVu+4LA5R9KiPbWD5m4Pjvn5ZnMjTv6qv0tRG9ir2OsbwdKxz0OqWb0/wxlMJ/sNzm7zN4C\n",
              "7ArWbdDfucM44X8p07rDAQvS14AhRRYZFf8c/03k2uWVDV/1Tb05ylNkiHdUDmjXFQ6MJMc8gTcw\n",
              "EMu24vCQRliCt8E4ry+2+bbXmKn6lgiWDJCGIPnpJ22X7ya26H00InYoA6upbM3n5XXfPczaxQ9D\n",
              "v1jvdEiZ7ODLsSBE6RFwWrAkLAoJKyqVclTdqhyAT4bbHyzAG8tJKB6ZNNFF3PVxClLaXUP+wsSD\n",
              "DgAAAdVBm3BJ4QpSZTAhv/6nhAAMi5S/wGS31+yAA4GV4uuvV4ijjll6pUfVe/lT3Lkjn419Wd2e\n",
              "hX1pev0Oq/IlHqYVNH2h99oJyYbWQbDbB4pZDfeDgbKkueECmh5LQF966XD/57JZO3E5hutbUeEm\n",
              "j7yICeBsSA/cnM85zqR1aw92WPfRph71iWAqWp8Uej7uwu7fKE/gDcsRB2kinRS9vOwmni7TwBfV\n",
              "MOKUKWPUBA/szQtt83wYb86IqmGAKHxzfK7iDD9YSASQ5Bsdrgf+n4NgJqTjtzskLckMt8fpelXC\n",
              "zSDEfl5QARTmUHj44KAokwGqi4a63D11Q0OlKMJkK6Umo60FYRDSD6prTAFdWVmzcbCiCtHZbS7q\n",
              "0s7eQKBZacZ2sJ5Zu1olZNmC7iKEe7yITH54WqZfQRe1cx0rABYqLSzy4FBXETl7mI6h5RuCW+gk\n",
              "ED+yqway1/uFmk/vTpK+VNDHm7YMdOyroV2/IIITj8wnElFmwRGOMdHbmeBsgGpFNwmVaWFCePr6\n",
              "Bau9Ma7JXVTnDo6Z77B07+elbcRfPN3Xn2wiHmlAZXRdeZHm4zOFIdrmVvCfFRhmvUSAEP4B5tqS\n",
              "TtOB6G4ckV3GOGgbXTMc7nAdAAAAgEGfjkU0TCv/ABR82Lt8ojyH8jKABKLhryrWZuX0LZBOwsPK\n",
              "bh+jY3uTYWRp69nCcgWpjT2cWwwMEWGuLQKf05J5IxYclW7JbU6dx8V/3MPB/H7+WOjdrI5WH6mG\n",
              "ufNpeasLkXa655xYSg2d9KxDbRFCtVRN8DKmr4twY2VRsFbBAAAAQQGfrXRCfwAaXzpp77sUmKYM\n",
              "QARBinKda7xgvg1GlVyi4l4vTpGRvIWRlqsuARAP2qWhx/KKUqFA/NsSi/O+22JhAAAAQQGfr2pC\n",
              "fwAaZ4v4HNl/fQAa/q4aqXISTkEchvRPIoAA/P6D3fdnstICp3c4Y0aSA14FaruaX0x5Z5IwFIOL\n",
              "UjZUAAABzUGbtEmoQWiZTAhv//6nhAAMjYBxbJMOpADdDuy9etl+s7PODTYRHdUj+RgikTZxBN1U\n",
              "h3VzjRrP+nTd9MFwocgUzzV4o3HoK7sK/Q1xNKVjytX0PGJWqAGKTCD4GazUNZzjsZJYZVnMU6EF\n",
              "aGlYKNNOeQVDX/tDcSmjVhbTgKDQfXeN6QquO0j6aJ2Wd7lx8f/QcKLUllv6ymMJChfVRRFLap3w\n",
              "qOg3dcYLpVL++61Nic+3+VKlnTeVsCT/JhTbDc6bxw2mjYgCOeidxB4t9b59IWRG16fglk5XYp1o\n",
              "CBkizCl3TdjnXQAtp7vwYKf+bspyS+uKSq5kPgoEus6huUBlq/yohiKfjne5yA5HlZETpz/tNiWJ\n",
              "m+i6/z4r/G49WqnEq55UFl015nIL6bbYIfrOnjUosVxs3710KhxLUfgBAxDhdOzi6xLO9i935/dS\n",
              "Fl8vm5+W7AyJW6MVezRMPKNNUDPZVa7sD50X/LCSuYAWWLPiGUuSJLGAyG6vxFYZyI0PXtmuuJRf\n",
              "Axe4rI2vcphLAMJQHaoCubjUSh7MhB7pZ2ClfNRPxUapFVtr45sAYJ0BCccPgL4pu4SNLMrZK560\n",
              "zR6hSBdTSArBAA7oAAAAo0Gf0kURLCv/ABR+TGz3xHLbMAHc52ibg5uPEHeccNsXEVTYJLi4ryh+\n",
              "SBpZ7fD4cRLrR1uLxmr1olpKd2p9zOhDfzWPq7VreWm3Uj5af8txtwNKsGPeXKUkYn7o9tfz0u/k\n",
              "9n8T40fj8yVQsN29/5wZtd5HunJoNrpQ9mHjLSS5GYPJmHqm1yYPhumdTCX3yiEOLgxluCALFmJw\n",
              "d5Z04qKeA1cAAABDAZ/xdEJ/ABpfN16rw3PzWgANi7z/1GiFhl2QYWMAGycuoX0xYsX2AMBKA69M\n",
              "Jh2TCHdc1pG4+iItNE6Xwxkjw2CVgAAAAEYBn/NqQn8AGmeL9/MET5ROk1ACCmTvl2JDbf8lAdEW\n",
              "g9nIKdhNFWsh4nq71ftBuLC4FNYwRG0r7sn9MCvqfUDYX3v0MCtgAAABxUGb+EmoQWyZTAhv//6n\n",
              "hAAMi6eMGPOPqkysoNOhmxQx6LYgPNkhAgAG20Ch/oo3uLNRMNV4WOIeoamtx6G87l+BcUIGRVx5\n",
              "mzmhI3bM9BdNWRhS2P8zc2J5yo+Zzf0Fv3M2JMofPkRr5njMxbETqIuBZJtHr91bXa4MLh20TAda\n",
              "x0+vK/ZTHEEbzxaJk7eKt+lfXHOcfCR8NmUmYArOHUYOUmMYzX5w3dwMwPU5BxQglLFojh29r3sq\n",
              "2F3k4nU2BIzgX63QHNXkmGyGi3PUgzsmSTeB862xKE/UupwxDBglb2rDaRlbGl41yzSrxu0ImdcP\n",
              "R17RHkSAoMhdXF4AnhUCicc8vzR77y26cgre1IW11wfkggAoUCM6m3piPpyyuJ4B66IHS/lvsu3n\n",
              "XFbrSiNA8YJfazOlY0PsQXGv+8IC0FuwSaPPsBaADYOE6qVaznQ8mvvs2kQ2kVKERF21JVFzV7V1\n",
              "fTp5EUd2llMde4z00gYnr4D/cg6vcXCo0NB7Juop5+wfQZ5FRp+m9YcHQegHmTc1ALUpzSzB21VZ\n",
              "epPIvQHmO+iMm7v5savvE67bpt5h028QQoc9G0myDNEIjoLDPOIWNQAAAJpBnhZFFSwr/wAUfkyv\n",
              "/b0UvTAB3SU3/F4mWCw2IZBHl1WM6S8lHmcRriqGy8fbaCaD15kn1UsLsq0apvi+t/tfakL1656J\n",
              "IdswxNhtehqX+h5y0bnpq9JcLLo9TOZ7PKIbu7ODebhM322vhCB4e8eLAZU43/XEKk16bGvgdOmo\n",
              "rN7eJO0GnGH1uzVfa7Js+CAT59adkLschMccAAAATQGeNXRCfwAaXzgMBN2SABDniooeADK4sg52\n",
              "vIqVEpMoowKN6q5Dj1aP8zbk2MCUnPT/jw8aDB9U7TMoYNmxKr4QDxXLBBqvmOJNLIHzAAAARgGe\n",
              "N2pCfwAaZ4uqUAfQAbKZuO+jqmXDcQUn+2/SHEolVEt1ro2CZfzdP9TuuR3eDpQjVO3PeXJSveH+\n",
              "bBy1jkIxjlaEBN0AAAHFQZo8SahBbJlMCG///qeEAAw9JJCcK+5DYvdUd1Q6u2ThAAWl0ve/AEDI\n",
              "iZCjf+Zd3Qcany/OtlAaqSOBP2ggQfIRXT6sXbghFhQhCH8B5oL4saBvWNzaAEgeIrcpyvJHLP5I\n",
              "2uItSGy2nkUml73cKoRayPdpqljyYmhsRuzGxfKr6oceA3sLA0dcqboeTxta68wBVifHKwpOhSRv\n",
              "3dx4a3++SuCeLpa1Kmf21R9pUOzti9D7WNNP/4SJrRVcpXrG0MJhY/BgPdk8Wlr/Chz4c2EwGbC6\n",
              "kP5nYZwzcTcZQaR9v6G8kRnVx+/MLvrz/HVu2uEY7/MFVKnc+gTONZQMARxPx0zR+FO+tGIXnvFn\n",
              "yzBL7aYubiqstovPvQgTqNcbST0EMS1vwIQbrBiTNR0h2HgPnDhUCGymeKwYuX+D/brYjDLbB7YK\n",
              "vwZqtTl3SblJPZhKra+PDEsE5xMQM+wQwJsLKpm7xSQIvgnB/Pq5j4gfsx48+dI9djzdfDhBmUZh\n",
              "ysAAAAMAPAQZIDngdPZ25k/aKBwDkNiA8Y5piOB/ozaHb/04aCOWtPA35jhCqqgXUG0i+dis7oiE\n",
              "lJ9IU3niauzLDiygAAAAqkGeWkUVLCv/ABR+TSkQJUBY3/Qz3v5veBPBFUd00tKd56evQAqzONyh\n",
              "nFhyZPmShePsqU3n4+KVE8jA4D8PFkbEsCyRFHxDy5yvMZJwl4BPW+fSAajURHOK/b+tC0WXQn09\n",
              "yKNb4dvm07XOyjLvPIcHB1Z7xt7QXR7JMK/cKvEAi4rJ4fd4htj8fVqEUknbt6/4Em32GIqE6/eK\n",
              "J2icgkda1fTjaj0NkeLbAAAAPAGeeXRCfwAaXzpvJ7ggAG0jcd1AAVUPi6b/ytnt916XcrouA5ZP\n",
              "zyX82Twvk22FPtncsG/2Cn+L0fNHpAAAAIYBnntqQn8AGmeItNbWdAA/kCzEz52JcI/k8jrMe1As\n",
              "oBjTalNOfjCTwTxnA2jCcyNzHUCkxduLyTif8BUvCmmACMnbAAW6LQAMQOoAACwGwbkb3bcGQcbj\n",
              "93li37vPZ0+us+p56B+nnM/lop3GFPr3HXZCDypsL8Cj9GVoHqHqn3Nvi8X6iwAAAcVBmmBJqEFs\n",
              "mUwIb//+p4QADD0kkKuqAGJF0xO5PhCOaSMtbd5UujejaqDVhNE/+NL2tq66GxyN3HaWaTJtqSzb\n",
              "HyaM8MYPZBGVegoTsbaZF/nZSKiHkMkIqF9EuIIPr5wjeiBXaBAI9Que9rhsrHE0IbR6bhB3iQ16\n",
              "ji40WMBOPxrCrZf3FFTkzfqfsCO4nRmlTG0h4dB+MRJGQw+uGeX21SDHRyx05aKzy0zi00Mhde48\n",
              "FZnVb67SBrBvDpoYKRZq5M3g1VqH4G6SKYJJaW4k2/DX89Qgfqy7KZa4sn+fRooN31DOZoDkP/QX\n",
              "OCHQZimGvJB2EGZPKHr+t2npivdy8TsZu04n1RZJTZArhMI21iu5G3vbsK+BDRCUtuRIn7mJJeZG\n",
              "1E2/mzB7pbl1wZih990Z3QsKf15PIDI2ggnFDGMsh36QJErvqUA4CqdIe81QRfyS4z/kI2w7eSCm\n",
              "p8YN7b0//Ua4FReMYDbDvi2r5l+gj8P0wRTnmXKEXkFfspYKk8FlI484104XeZsKaDpxpTFSrxl+\n",
              "HiJVtTACOaNAPrpH+8mHpncpHUyMALUKjoVzSlTjqAmT04ShujcCKa/nYY3XQx8AAACdQZ6eRRUs\n",
              "K/8AFH5NKRAktEqmh1tLLzttC/cpnNgzBnOK3nAAtHy1kPQuxuWgQz0/eMkTV+AHXbUBuHeyqhJ7\n",
              "jGg+OtIsz5W4lO8oN/JGLaVXgp/8lOiNR73ne3M1GMF5WMJNo4DD0ZPRjeZDRuxQHyOFvsatSPTp\n",
              "VBu+gUcmxfXzJNnCVKCQThCzCL2zvLBgkpUfFDO7VCY/jz0hLwAAAGABnr10Qn8AGl86b73PACas\n",
              "UxP64ewHWmMa4QN3ZF27E6xhYUsje+JjsADDZvAP9VG33fiR7y5MliFrajC0V1PVCpV9jW8tVunL\n",
              "Bza8nhEw7vtQG8uDywfYcl2ntSYAScAAAABxAZ6/akJ/ABpnjm/4UABbMUq4cXT08PhzPUHeoe2Q\n",
              "yC7uOaU177U5v3v3IScyFl0GQJJZYLVpkqEwB7o1c/2X7RMgXN7WK3esT7xFIMS+Q7kSmzMpeKHU\n",
              "914oXciLo66tTjJN02k1qDB3WgMU3i5wf4EAAAHTQZqkSahBbJlMCG///qeEAAxP9H6SNImy1RgU\n",
              "RRH9xnnQRwWvd2GFxK2QaPgAau1WlsejlEZm0/1lxXXICg9/4ayKPTi5479I4K0fhkkpspgJ3IAC\n",
              "5UaLV/Xanw3vcWCAIxXqOtK2lMs7j4vrBtORePt4nflYuNk6iNXd6NXA1rMQxmKM3St0KUuzjTeP\n",
              "nJkIHAnpslEmqjdSmmdujXN75S7bxnpCZntqOwEquveNxynJJx71+0IHaZYr/IYr1k801ZLMNMJa\n",
              "ZzG4a/VtMxLEamSiGu9n6O3tn6HvowoHGLQ5EaYV9QrkBTNwm2cZq6ox2nTVlWXjU8SE4cOBVoI0\n",
              "MaOFPwJ+K75cidgKKHwbSuGRPfPT54F8EK9kZ3kogPLFOnCXIoxnETcW+U1cUpgCaqvQOlSXv+Hx\n",
              "C1huLCCIeCarCIcPrq0nM3act4yR55sRflygI8CBs8GkqEhnKrDRl8foEzeHTadRMXVckjIkdo7x\n",
              "kJkyM4X/SKVl4oySRoz5QiUGQe4T1InVIdrwAgwSjk/Z0I8H962WNUBzk4PBunt1ORCKfn1omFpU\n",
              "ytqek32sLrZaPnDrbWV7wVziU8HC87odm/HySOkWgXPiStS6VPvgLOAAAADOQZ7CRRUsK/8AFH5N\n",
              "KRAluWCCWiQ55AWIXGRfpbhnDPsIQmzaEObCd9qGZA0s01auXnO38nJWwqbBbAD7FK5lONhWSnbW\n",
              "H9aVp4/5ZQEyCR3iPnWtE/Tc9h8Q2kFJXcZT4E4/9pgBv7eWeQ1OqrdNf9PAVNtZZ1owRRO/TyN6\n",
              "t1XL1qUxAvm7UxI1W1odo36Bu4SPYtzviONFpLqlg43c3LJ0/Vl/f+VcgamJKF66ZDdXeyTPOZnv\n",
              "1804GDQ0B6YdVZAWcFLjul1FcWwj4EEAAABXAZ7hdEJ/ABpfOm+0YtRX8VLMspHukhwAG1HircDe\n",
              "1LgeGziqc1Gzs7q3mkmHAsdIPZ0vW2qM4gMnqRHcmgmh+PsFppf1IkVeAN8xTbayL64IzkUxiCvg\n",
              "AAAAXgGe42pCfwAaZ45v6G0qitTrcMVfh1cH0ADXx+NcLLyanE7d48oQi8VozzrISgKGGNRBCOUD\n",
              "TA6MX3CE5UqSfs3VpzM21CPEr8mD1uyil+kuuWB0LpHQJXHkE38RZYEAAAHqQZroSahBbJlMCG//\n",
              "/qeEAAxPCeadmydbfHRKJJaaSMNoTW0WnLpJC67rIDjCdD1MlQXPy63n23rDnmjD88oboixqrb99\n",
              "3Et93O2ubVMtBqqhiOx2wTSn4hhY3lVcBCXz5I2rqSIzlUnOBIxIq7qdlYj2CozbaYo3mYsbPDFo\n",
              "B7yJilzQDdpdA55r05YfxtJDrQPbVFvJUSBV1pPsSAM2LOm50vQIMVi6q0rMuxK82pgq/WjcrD+3\n",
              "izZ8MspYfirgol8oXxCnmW8HyW8VCr0Yiu+WHFMNT5G8SdUsOZIYoeVpW0Qs4Q5ChZnkkNEzOkxz\n",
              "FqL0rmgXM+NvAVT0y90gQ1POQrk65ZOY7fPzCVycVc93VqfkWoTvnFdwt8m9cjxhEWe6OI4//GMg\n",
              "CbBnfMaY9t+AlSX/6LYJ48e0lWc+PLtOX9StVPNgILFtGw62dndAqlPTFYT//Dej8XRWZyTiF7xV\n",
              "VPVC67db6LWwgBZAMbbgjhkQ2lddwkc8DJ3dz6e4GWi5d3Emk0ZhKPMG4KvwZ5adTnnapdtaX2TI\n",
              "Zif7rER2Tnl6tDiRPnejUsaK4JfzdNyfyX9nIuX9T0D5XPgOTUDkbF+y6Vog6Zs/j94zd7IV9J3M\n",
              "CjLO/r8YMZ/H0iIaocyp6flSsPML8wAAAMJBnwZFFSwr/wAUfkz6kKi65GwAjBZRRvL4jPMKz+HE\n",
              "5fboJgOJhPiaR9VtR3zTWE6ATUGUwj9ttNRsepKrhavOaICIc1Z1G/SA+W4lSgJF6NqREUorXiow\n",
              "OEqYYfWNeAIMPcGl38Hf/dBxzCuZtYLyPdBttIIi0pf6Luk4eVW8Yz1aCGHS/RmtjsfEbcN+x7el\n",
              "AwwdAaM5jivOzZVXIwKgoV66OHTNh139NI9pK0e1AXEVpZ0sA3UciEepfLjxOjNJJwAAAGoBnyV0\n",
              "Qn8AGl86ZaLplgnwPpWXW3GkAIRGE41WUqJFRtYNT0pOM/tOiNhe8c2V/djWDOYdkbWLLwlXO1yY\n",
              "0kXG62Mji68CbaOefEPPzxOVrWpjjs7omG2JaxoOcLtkLpII0D+UDFJ8gGFBAAAAZAGfJ2pCfwAa\n",
              "Z45v4eckerluE6fJTKAZSYKIAQoj+EoIBwGjlo8Ja5M72TJhCmTQXIlpGgWGoPXtqzQO6ARen0jK\n",
              "DkoWZW/WhtpfQ5o1Q6fpMfboiT7jORd9KWgkk4C8fEJNKSAAAAFdQZsqSahBbJlMFEw3//6nhAAG\n",
              "bsCO1IvcNySgkR6U5KCDPfkJNtJaAjEVF9qtGP6w+9meM8fK3YbbGjYD5qjeYtF1aP9yGgrnRySy\n",
              "yMGhZHUJWnIfh9+DuyDInGP6XV+ogwuJxsIT+RIDGMMwyVUyXMC1DjxRp/wq+GAzE3Hu2ppIfbLE\n",
              "2kpRHiW4bOOvg+VH/ihLyyIlSTlJUnbC5CublRr4DaBqtC7YxDlvFlNvV6lAcrENDWkZKLykCrTu\n",
              "tEN6OsffIa6OkIQ3/shyK4y6x+Rgah29bGFfMj30DyYkqKROoWwzTEQqevaMkujJMb/L75pzTAoD\n",
              "/z5fmS7Tc08U07Veb0NYIygTXIfb3G4wMOBWK25GfZxfj1/U5sqDS8gtU3EocXUjnAxkEBCmgHy8\n",
              "kTmzpeCcbmvu5kgdjMMIn7JrBhbTMoJbqVaOlxX3MSSvPy1hbeqIxt5lv/fB/gAAAHUBn0lqQn8A\n",
              "Gmvekh6yseeploGD3CACIEMQjAYCrb48wnUHasIrLUouUHDJhJCeD/Wt79ptt9Yt+n09PBG13yCd\n",
              "UD2meeJIyiQn2/AkHsj7CWakvzsEUrEc7ymYWE/JfPnzLiM3KOc42LhXQa4AF0ihjkwABv0AAAHe\n",
              "QZtOSeEKUmUwIb/+p4QABneE8lNW14P0uIuksAEX/6xett6T2MMZ4RThOSQFPt5C00M7lpL2utI6\n",
              "AhRpEjz2ShgiUGCGoGYvH7hnUTPdKSdRAWjBe7fI+iBtiVA2BDu55+vzJE8sC22/mH0O7OBYuIX4\n",
              "DuHEQjIFY0ZiRNNpHjAwtmraxtvdtJzJ7oeTaXlPq67vf0NqDh7PI0KqbaIJjLou7EqaRhhmQTIl\n",
              "dlHSv965vgR4VBOG6Uh5En729KVP+lvOYQp4HtoWd/noC6b59KPfuH+bLiDJlJZ6LKeuxSfrrIGu\n",
              "Le7Ao4J5ighXj6BoXB+sV1NANiACwrxZWwe7k0IanuWWplFd506wEs0IkUXsx/x4RfNnYEGW0qVt\n",
              "ZTiymQdg7wUV3ZxbQ0y6iFltzGUili9dEaUa+xitjh2AQjoitxmn5ADc8uXZRZFowLpLJzJbUywY\n",
              "fejPDUiYzdi5Sf4r/C8/Z1m4QZY4p8Hcl4KVuiIOGoALDvnxia5ZezQ2Z3Ro61wHXdtdMOX2iUvA\n",
              "vB5DIUzLbERPVCJaRVtuXHlC8jyizD3g7SJcsBPXdhlx4EwCxL/Mqt4I62XplWjY0NN9XL57Okaq\n",
              "JUTrMLnARZ+7jgEat59l7XbVmJfEXAAAAMhBn2xFNEwr/wAUfNkdESzQPcG+GEj1L6MwAd3cmibZ\n",
              "Dk4zDuSUEGp3N/TF2gtRfktsKJB4jJJ70inhyGDbI22xQ0XFh0oJ1jVfqR/OE06scrpXjY2RIXqQ\n",
              "DSjPAKPMdDrgwR3DQYnwwDQ2VLC0lcrQu86UT8Tw0SPSJKPvZoFtv//BRVDcb+2d+CZxlmmYJGPr\n",
              "8pikpisvIbJZM/18ZHaX8vbjvw+e4BKKSZklcQHIWu6qL/qCI6kiac5T/JgPywHPfrvM7edzVgAA\n",
              "AGYBn4t0Qn8AGl86cDU5z7DmLW3GY2AvcAIUxS63ianO6ffru8iy0XLD5+btsIYPOhD2Tv++KE0L\n",
              "P0U3LycRUHR9CcwgiiyZLeBtkFP6PhGzQ6qgxndZyyCBrdiFXetHD80O1NyAgYEAAABqAZ+NakJ/\n",
              "ABpnjm/m5qQSX0pFPWMW2zHAB6on2mT5fPQH/dmxrhy5SDGcQWnY8ga6mEA2UVipr5ppwoRW0+Hk\n",
              "ree/qsB+o/ZiCzwdv6gUupv+h9mb+UaSiWhCWykAYGcglviNRcSrrOJ3yQAAAbhBm5JJqEFomUwI\n",
              "b//+p4QABkXQs61L6f5rAC0nPCdb/sZs/hrH+CwfoPRswYOBnvhIoJfp0qrQa7kmNuGjQSUZTYql\n",
              "35aWLa4ADqnaLzSQnNOarrk7LfZqmbwDKjrrToe9SXW/e8IUxxbQ7qcIbdes6CqAgcSvYjLLVZ0F\n",
              "CfT17Q0Oyf+JwqT/imy1TKE+j1xvPNuLU+7aJU6Mgk3EtMiU6smKYKhK0XbkPNI7tTuBlJwRPxag\n",
              "tfo0PtyaSI33iDq+n92f84CnBRGSzF8jAo/dGgV785ohJQUe+3T8wBYj9/ghCcBeqK0lOi3CdhXg\n",
              "jlcN8TUrhy4hIuRG3juopMJUxBIR1y/eLGAHg5VSScMCcXSwDOF4prNcrp0lDbRGqxRqolE+zqL6\n",
              "0xCr0E2xIioik2YE/vgQsgAQvewtXmnb/ie1cfNpVCvIt7+muTiONGqFHt0JPWJr1xRrzmkIabgw\n",
              "ybC3gYnplhIKPafjJ2gh8NhhharwtUXW3PvCO6pllgwio7i7nqLvKM318uXqwiJLP1uP2FklNiS1\n",
              "RtvKolyKcvSBm5PFMD20hDjLiqhDUmhAIp6CIn03dQAAAMNBn7BFESwr/wAUfkz6jVqMWhs04oIA\n",
              "JuRXEGDK/t74ktlPbfEp65D7WXR9uCGfJc7gGlbMeRbPYq4foRIIFlXSJYemB/r8A+k8nS/zSuqg\n",
              "/DBjhxaYVdVK75YjZGNHbkv5/H5Zkf4Py8pT0Ag+G0AYzMFpMCL3LTriAOmtQ69HQiDFOUucv3La\n",
              "Inggk4Q077s92WpTuCi5e4ozmPfqTxcOBoH4Bipuqfdktlh/QEnGtpaGmLnsElPOVN8xsyKEGH+o\n",
              "tmAAAABmAZ/PdEJ/ABpfOZNPmx9i7jv4AE5OEYCdSEWoqtH/ixjKGON2qqKpRy4Q6+zcH8XmBffW\n",
              "Tej3ZddUhlC7d7iD1Tzk0jjIpWoO63HELFHhGvU8fXfeJ5LvNUtkvMNPAybCETBUAKqAAAAAYwGf\n",
              "0WpCfwAaZ42TZZ2WQTRy5qYAAStsQF8l5drP4okVT4E48/P6g4t/8aTAKUZ8YxTvc0H3Dku3IngA\n",
              "JwIHu176uIAPXtAB8dpyfDs2dZyl/T3C9rJ0x2kB88n12yAyHjtZQQAAAgVBm9ZJqEFsmUwIb//+\n",
              "p4QABkb7NBaDOfzrHHGIihvtYYBfnd3EA1BBO6qJ9e+MGo95WoEaIG6uKj4mhU0YbwCSqABRCQMH\n",
              "CVMxVf2Fd7uC9zD7Z6nlBhVTmRlDy3mpRVGAvVOw9Frbqsxoe7YH6ITPJSzYDC7A8TW2ptoP/vB6\n",
              "FvKm+gljmxD4PVwaVFVV0KsiA1zrMgnNu1cZ55pxuVZIGzu+9GtZ16W589xsuJZQON1zkT5rDD3E\n",
              "aLCrTK5XNHxly6aBFaJ7dc5ffz3AGRlMnSJPG7a1CAmCBKXprB6zsomcmpSFtMb1xmoLdRrqrN1K\n",
              "/1LSUrMzajEyTqeizunbJAfETqk9DYw2Qx0q4EO77yVOdifaB03AnMhLqSa6ta5yZ69TlO0O2TaH\n",
              "5sA0u+V2Vztz2EXeZDWmVIj1SvIFIslAufxoiV4sEEGgxpqfArWsZaJySY8xuJLF5y9LeJ/NAYaf\n",
              "vgv5imVl/e9LyIBtqAeVlhLrtxGDJHtIVANXvfySHcJ3D6JMMERurN+Db8SFr/+tzFH31v8rzADK\n",
              "w4S3XuCYhinYsy8WZAaVyOAMARMZkrzZS+v0XG82jXlSdEPqgmr2c+VJVr/QKvfRScbNKoiBCg01\n",
              "kV18fzCGCQRJANiCrsEDxg/ncHONybCZJTsmC51P4ijALmRFjr++EVTsw25UH7aAAAAAs0Gf9EUV\n",
              "LCv/ABR+TPqSX2iUkLYD9AAlCk1KmYoY5hlWbPlAw47Sb18cY5IzBn+jB2vd+G/HcalUkXISvFaP\n",
              "evUeV2tB1N9p1/IGMex5hQvShrqs83WFc9Wwlf0f/lu2kVTPVRmXHythCGr3bya5GbvFtASc5dVS\n",
              "eGzqQlL7PeqSl3aCOmMFNz1IIpj3MSMRh+48SRHYYb8oDpgySy/aTWwL7Yr5omFL/eYTjIHD4Djb\n",
              "PS1BAAAAbwGeE3RCfwAaXzmNw234F9wAgADJcjOlJ7+4DILM+ejJlQIuw40DElZgYioZBhn6v2ca\n",
              "MgcC64RV1OyvtZt/hBNX7dCiRSITto99OYT9ShYDGe8aIWTOnddVftPXsznMZ7cIM9CH1adQHZ6K\n",
              "PVs5uQAAAHYBnhVqQn8AGmeNiva3ucPxr/zACdJdF9+r+0h1ge127tQa6JVcpFb8Jx//VWGRMdMu\n",
              "O27R53DZN0oLAnoV/qfs0a8YjpMxvqfzX084+fXNvRjKYYK08gKRFtnW8id2NdYgXivnXGU+22el\n",
              "9QCWSAZKMi1NbgVsAAAB3UGaGkmoQWyZTAhv//6nhAAGT9k6ftTLvhcBAjjZRxz61lSltgHi0t1v\n",
              "B1lvgIiLvcl3S0NTnaMBBn/V4Cr7QNIQhTzPJQ2nimET7Jf3jOnGpV2J4lKOCZIJ02pZXFAzXc4h\n",
              "cTFWJRtmQC0G5T9c0MLapjmyXJc4Nx/FlhIWfG8IvcyZUAdEUhUBnXNKcfzfpeQAN7Iml+xFZMqT\n",
              "koRVPeTHtIoYSMruQ04OSlM+OgBOM+9rDv4w8050ejnpcoq30X6K8sfP6z27JT4jP/8sxR7NJ4Oy\n",
              "eNj3i69yFj2oQnzrfV4TXu1TzF6fCaYGtTpJktJM+VoLVUoAIBZZOZQsGcXAJd74JLMv/rZ5/m2d\n",
              "3TQtDGEUjSDiv7gIyZAspY+CWq6gkHe+XRqnUOPj1JPCc/uZDWNMK1cd/FvAzAVpJO5ZA+e6wB7W\n",
              "4gMUgtDcbeEiBQr8AcUazvcSB8+rBG/XrQXu+Svmc+der326da6IQifSsS4QcYsI6JXb4O+luF/b\n",
              "ulV3ukz9d6exjsgTETrFByE0/dDvafct2sG7tl8/PUcOUp+uOPi2R1BZYuOvDgS+ZXbIMjTsHivR\n",
              "SZqKoBgEk1zddWDngXb1o4qE1DBi6sutbPEDSr/QQfqFr4OFFQAAAMpBnjhFFSwr/wAUfkz6f5H0\n",
              "+SgAFag5ob2GPsjeb2B0ToV1xyYOwU9IE+wMcgaCvdLtT9cN5BM/RRDSBYcOb7qGC2e7p8SM9x8G\n",
              "f88Jk+tZ9pS1PytqFTUA5OzpDCtnHC9SZHxy0FqEPMxx2QZuw2XhxnLSapG0xkQCoFXjjMlOGaeT\n",
              "FuuHpjxDgyp6w/KQZFZmy01hpXhE1l2h4qOLd3fxQi2NGE3VXCJwcpOLrRke/7WVTQaO2/uEAVHu\n",
              "gz2KiHWt5V0UvHZl3pGBAAAAUgGeV3RCfwAaXzmS2EXbPLshxBwcAAIAFyyP8PzdvetVDtI6Gqjy\n",
              "smm4Aux/Po1hJiMAJEnF8a+Mbkf4kI2zV1d6v0HHuCEblAz5HOAc9D50BNwAAABcAZ5ZakJ/ABpn\n",
              "jY1x5m+6rhsiDcf7993TdJ5JOv3DPs8jLIoGfv5dcJ1P+gHdsxPGVnj/rh//MrCAEoQsTuhV+Ob3\n",
              "GUzqmiPNTdNV+Zc5v3f9xq4zqjLTmtqghL0AAAHIQZpeSahBbJlMCG///qeEAAYfDkYg6ej4VkxE\n",
              "Ker0x+BL5GbYZOwDlb2Mxg3/KVRL+GM19h2jwJtBLTBYshYR6uq2smcNxncbBTqNEZZMkkrTQCZJ\n",
              "9kOxE5y1S+HHxAUzdLUVf69/Hw3hPF8wbvgAWxVQD0ULdmL6o4O4WH60nWLaT+FltMMCZ+Yaipe5\n",
              "jGkVS5c4L8mAkqVGJ3kuxjSm0XtOPuExL5ozwBI8hmcHVT1TzSSF72LlAYqg0TTi6+/75NGD21Rn\n",
              "z0HeedDeoPr3imIB100nfIjNJH+8IhJBiy9SXahTltT7bRdcwbNj/Yj5cGYRwaOh0Hlddu0hQRvN\n",
              "PVbpeV7hsc2DF2xt0jO3THFGChfx9EXqimRcKl46Kp7WUM8zFUDXmi5AlOEtUnOb5jFAisXlutM4\n",
              "9PGoEgqKpI/gjJwEUzaSSD+85F6pWSA/F+Q/5tbuSuAP2Zy7kd8Si4jaKspTOYKfIm05GXjnyKzB\n",
              "lOG80vmUo8suG4ydtBJn4JgnM96zfjrddZMbIDgqkV1zxvZ6wUmPPLdXnNTfjTfd8uE9tO44JhGW\n",
              "ihFLweM64a3MH2WePlwVhIrz3j2iEvTb0hgIetsgAAAA2UGefEUVLCv/ABR+TPgHvJhYIHv6hyt4\n",
              "GXfy5lGcM+iDqTq9ojm4Qs+1XNNWX6KqVa3IYTtwUYruN/xrUhfry+b1uN9cxS2n+97ev8BVP5jW\n",
              "S9UsyHvhsYBy/soqmwJcDO7OHozqYuA3gMWeS3wXpp09Zm8ILUTOJWzst/bB+zfA64GcAbTzKQON\n",
              "H2uQyMeXiCTum8mR4FVbC8IepbH9qaheawOOCZFF3jScsB/hl2Z4CoPTZrZ7oKtzu/HpeDeE0Pu8\n",
              "SkOY7DZBRPQXOuzLGEEF3eMAwv/Ec1MAAABSAZ6bdEJ/ABpfOY3PrMxv/1/f617PIjM0dKaS8/+s\n",
              "AAANiqQPUafqZDY922fDoAQFY5x0ni69Sp4dSwgXSSiSioKrJzEVzxPK78mChdfaND73pQAAAEwB\n",
              "np1qQn8AGmeNjXEC2NfrJmQABttE71W8tUDXifta788wAABERjsbj9WWq3t93U8wvOCGVOtIFag8\n",
              "p4ktC8SUlZbhu4Za/2USTlpgAAABn0GagkmoQWyZTAhv//6nhAAGJ4TzV9smz3ojW6D5xkn6Pwg0\n",
              "oVceY2ABw6VC+R7KHZCt7VHB9ioU5Oo/ZfrWTJOK9pJC2jag6srdCcm4GLjMST42IYr7aT1V/mG9\n",
              "CUg/PMl6ALEONdV1XCFtV+SJAy/2kTLXHnuYLwr2gId/wxUGsw5tMimM5T9VS5XjtyojJfEn6jin\n",
              "7+cddNjb46BCKBJiJiY5JpG0e/Toq1N9+YlnPZWqJWrqiL61FLJM6Qg+pegcfdwC01hga4g3Fftq\n",
              "gRaD+7msEpTHTVXaQQ/EIGgvsuUrg/Wcb2kJ/aoCR41NRP9ehVYxaOrZSA1Tx7TQzAXIByENbF7b\n",
              "IsawiMjLlikWWwK07+duUcHuxiOmWkLHGr4XRoUjrGi0Qm3h9zuoo63cfsYbmI7YVYYwBp53b6KI\n",
              "toVNEWPaV5fLcWmfRObdTDv5b5I95rJvqQhfrYl5d6NkYg0IkgzmRWD2SEfD1bn9kQ9kjUEU5FRR\n",
              "nopGxUvr0D8K1n3609eDnpjucFfsN21S/a1EuodqBf49RMWHP5AAAACgQZ6gRRUsK/8AFH5M80g9\n",
              "0XDy7xhcuIj2MvZVYkIeWi3QwAnOKffcqNK1HMmzfC+hsMoL3Tc5kbtS5Lc6Xj2p/uij5/752Roh\n",
              "3TuRpW93lbehgVOzFvb2ZC+iWA+6LsOuRzzpM7t5uvbUi19/6AIRXomXmf5YNhzQza3fMIBV16Dp\n",
              "Ql8zQy0TU5X7yG5zKiPp84zZ8i7Nb8CethuCskruBQAAAHsBnt90Qn8AGl85cutmBk3vuZ4UbQK2\n",
              "k76tiQR9V4AINcfMDEfRbtbegWjf5Mv2TJwvTaQrgOlGpJzmOs+QzdKB7tdpJ9C43VUfF3HLS6Fl\n",
              "Fsee9IBlzyc4YdjO9aEQC1p36JUBMiXyQsnEsYe5eQQswvPeAyd0lAJlAasAAABcAZ7BakJ/ABpn\n",
              "jVWPvJJoeaXpWFsPeDZWmUvlzUS+xw9TKzRyIMIASur0/TAcvv9I3zXFj4GipKGz6D6FanG0nhuD\n",
              "RlB11wQzE0PzN2CheL+u7io1RhWeMxoFHBEAAAFPQZrFSahBbJlMCG///qeEAAM26Db14jLidLum\n",
              "KABdUnztYlhrvwGK8Gn3+CLTIoAwjaw6vj7KbWEEYwIWHDCoGKfRVE1FbjSMUdI1nkL5MP6SaX7c\n",
              "c7WewzYEqItQWNlY9xf965AvuFSQrIyVT70WqrZB2CDcOA31zcmWdRP1IOYswNPJo/xz6gFn6swE\n",
              "EXigOcKgLvKNKyIbXx35ihSJ2u2+9wIZd5p81TvlS3lH0Mj6Dsy1cq1Ci0zHEl4wzYmD+NQXiFWo\n",
              "m5X/a/mT8JHGKx31IIn6VgSJdEkfltXSH/2cbZ6b3ixb7aqMTeowjv/oRtoK+41T/flScrXGkrBt\n",
              "xkw9qqnH1gZClSpxB/t9mchP+zTJqRyeWgG1+/XJoGYevkAORWKJeqAkiW7AVK1D1sMrBb8iUODb\n",
              "2l/+XwTz5iH3fU0IoD3G+7Etbs8Tp8AAAACOQZ7jRRUsK/8AFH5M41up3kGx1VQdnBnZ6WMYCOyu\n",
              "KiCGhuIt5YnBkBqbp0pLVSACcxK7shmpDCu+07+urmxu7BZBfKl+X5nmJPmXRu8vr1THgLUomldZ\n",
              "qPDQ5NMYkdzj0bupiQQHeXZEfQij/8Q4+sdny4eGf+9UTLKBVzM6NhYUwUpS+kyNVcyP22uHpQAA\n",
              "AIYBnwRqQn8AGmeNJuo94I1wjhAJj5WykVQ4APb9RrRy3B2EZOrxYTkx2EnRb/Y/DaztX6SnDwh0\n",
              "lNfcfb86UENAFljAmoaRAl/tHZvDwfwglagufgCDqgqwhY4JQRSqBb8NQU4yx2Xe7XYqwf1iKUEO\n",
              "uaYPtA84iorHERawLw5E80miFISMWQAAAeBBmwlJqEFsmUwIb//+p4QAAzbpTQFtE9awAC5AlXVP\n",
              "K6bgxeWCZefPzoCUf4zt40r3FJr7bPLvgUCRKq2/4A2nUHDymBURJwnewTmvllbbJ0QG2+VmdKD4\n",
              "NJAoMjluS4eeiUs4xOAk7rV5YPU+0VPwYdoMUsqUGKDiQF+BsEO0zPqVFY+9OP+0IXiUhzT/Ngpv\n",
              "79t44ocNFMIEYA75C7KICT8smR6lq5oy2MWx9+qdzld7LGgpthzHay9202S45SHmqX0hhLwM5hU8\n",
              "nBntetfiwXrXkkNU03G73FAsiDioKkTr+Rxigh7IBavHyPzmSTZVTxdxLQenfj6+kKhA3FVBMbD4\n",
              "x1kcQcdZCY20RirVlJMaupZ5uQrLCr0k3jCOhzAqYsrMXY7TqMTUnuYLk4+b6jxCYRJyyHI5PrKG\n",
              "Yx3D2DwWuPEllUDYhXCpJtxIJ2nNHmf38WNSdgZWq8TSSOuU3q9/InKYErdt9jhakOKm7q9ez20j\n",
              "FMOf1MpjD2y/G3cRVTn8nQB1iDlM47CldsYUe58YN0fyqn0HBEs7fjQNAyeChgFuRGFqx/4gltHf\n",
              "+Mjr7RN94srZ+Bmts++om14tabgM/w3VB6he5WpbTOY5J0J1l/BM76xJS72Hsry8ScEAAACwQZ8n\n",
              "RRUsK/8AFH5M41up48SYjWct1Tg4F7cTrxgAhZv4CkdP5M62CI1Aj8GorWA8ZtBoyT0D9oodCRa0\n",
              "k49G9jTBBkziZHoYqmz0vdsnLRA+dvSlZUinmSp1AJtJ9D6gWPivljARC4j3h4UzcpSVo6LfGGeZ\n",
              "8CfYCB3ms6rhLBJSciFXYhZ3Xo8dHdJuf5Gxjf6QnwACh8emA7sBNJXqqojZxFtQeD5PwjFvogs2\n",
              "xF0AAABvAZ9GdEJ/ABpfOSalqhbxkQbkeAD/xMGYB8eYR28BM3+vLfT8dkYc6hcHlpkdksE/YZt8\n",
              "AXD1MT/nlQs1x53b17GQAOOtpyLqXRs89iIo+u7tBxUKcHc7LeNQyu3ghVAGQJE9LCdqGnmLQUQL\n",
              "hQlbAAAAewGfSGpCfwAaZ40m6i/T4k3tO3CFAAJ0zDavmZsZzx/RzOYQhgWVMZYprwLYU0AFd4OY\n",
              "jW9sz0VDq2xD2GVQ3szuI+KJp0M7GnavRkad3cSYv5djWRgniP9D2GGArQJP2b0J8kSd/P64PAJH\n",
              "0WJJ6m447Y2RbACtWwDjgAAAAWRBm01JqEFsmUwIb//+p4QAAyf8xVPiXlfEU1upK/8f5oKNV5RK\n",
              "dnLShALD+4C6OAEO0OQLy7008NbtXW+23vZ8Bk1fqjtKTs+7JLqqs0Ti2WwbkAvDwIx6yFZ4VWjY\n",
              "5PEoAlH7PgJO9ivQ08yyMgXCql/XD4BfQ/H2yyHu2QBxVjyae1AIch/69gIeERKUYwwosKzf5rAx\n",
              "35vp6Gt3qGlFY0ZRX5VJgJoKDeZG3JLNwJGCLVLt8M1xDPhFfJMF4eMFMwdPLaLbTpRlB6fTS9Wk\n",
              "g4lddLLXu1uvWeVee41VaovSFDdgcM8lHAxsacq2oHWAfz9RZFkgiC/yVfCIncFm3jCJv0drFy0o\n",
              "F5Mj+x7xqIhLam36xwZ6FVdAduCEDSWWaUmmJPRKlIKJag4F0XnwLL8WRwkWeCkbD2PocVxj8L2O\n",
              "uujkffBAn4EL4llauLQRqGXs7sQJo1gLE7eud1oNk30ehQAAAOtBn2tFFSwr/wAUfkzjW6kd7zxA\n",
              "fi8fDXACqjWeTS//EXefGZtHZ2F3s/7J54pWl5F5cF0MDVh7ONNDwQhbNQnTtKaGyKIepCkHoVCP\n",
              "I0NTeniambVRABMrnoyDECkDqDT/RkP/VSjbrOZ1Q1hM7JhyT6nuUSdxjhaz9VrV2ib5AX4LEeMJ\n",
              "C6grzNlBmQqxUD8/HdYIs90sdRaCvzRqzw/4BZoTpil1q+ygkMdV1VtYQWMoqlOwuZgbDvB9B8H0\n",
              "5oyXxNZ5TKGRkbGk5MhfZ9hWKLmm9X6QZf1GU1UTayx2ZfuvZ7tT45Q+EC7gAAAAdQGfinRCfwAa\n",
              "XzkmpZW4bRC8YAGxiAAXcLKp8ClNh+5QRJPcRKVmIXU6QsylBsQNgSCeAI/BWSF2qR9ZF4igbc1m\n",
              "zIAHSuOyVLU+nIMvkKbu4zoTfIHBnNnX3kuQtKGMTmndIDW9e3Oh46KBVnU/x9LW+ZYBxwAAAH4B\n",
              "n4xqQn8AGmeNJuou0coZxbrO5ZL3J7w6p2+slls0QAeyqc2+PEdcZM9ZLu355wK9BiGHIDlTXXOR\n",
              "5t67F/YTOKe7WghR3ZqqNL2bqkvd4vJ7wJgRNa/DIJPpAzxzpC7CnPoxRE91NahE1MJdE56yL7VB\n",
              "HZ5Rl2/qmuSYAj8AAAFKQZuRSahBbJlMCG///qeEAAMnwnk3RANyiFFQdzOCcTnDZq5qCq6s+NLR\n",
              "Hqzq8/STInslY6CvPuHAWGj97qTtZJNCQ3D2wjmJ9/4hdW29G580swk9la30WeooMduezHz4JDFF\n",
              "cj4dM5pkhRjKj1kgescpmsnRQh3idkwez9jK0vQEnzsADWluwDfLodbzyC5XwKdJ3PcJp1TPcWuA\n",
              "I+nbUHqrj3jX4KVnuqn1CKVc+Pp9h/LAtBbB7sjvCD6wm8C/e61NUx2T3oW5+NPJijwKmsYPcrpp\n",
              "+hXCzvo+CN3600ijD4lhIvdmLTwtjlSR87PAREKmsKtMD0Qy2xVKz7V7ollIaRAhexFS/sIt/kzK\n",
              "UXUUlQq3gkn8YicNCrQqdQrLFx/12BG+dHGXGrVbEu3JX9gn3b8dExl1gQwLOiy8oLLRNFT5LDZB\n",
              "YNmBAAAAxEGfr0UVLCv/ABR+TONbqIE0PI7ZbyQ9emCKAqk4p8c4YAH9YNofNHg+pqGpu8FxpgR0\n",
              "OtbdiX0ASaH7vJp/ih7NNKzJpTgVuozLeWpSdfec7yVWq3m8ZtGvtLyVQBFcMGthBHVKYPcakVk8\n",
              "+sT5piYU8b3Wd7JGiDrVHv2D4kinRLDgGyD7h2l2XgKpEKbDeCHCEfqMEmWBPSzxu61PV2LjCfPh\n",
              "S/dyjwm6KRN0O8JcTKZ8pXj6Iq+7khK4uT6ibcJIPmEAAACFAZ/OdEJ/ABpfOSalg/++OAB/PUw3\n",
              "0Cxmp0kWO9K2BiMG9TSoBzEvuUgm44Mij4zoDDJ6U3IAesouFsVbdMvkIikmByuNbWv+iFlcySu5\n",
              "nNvvPQbXxzrwAYVwYnMgdEEI1wnxwm7AYcC/9kNDWvhTyuMmlAT9ZX335AaO4TZLSv6yV/gN+AAA\n",
              "AMQBn9BqQn8AGmeNJuobGYULCAFPrYQfiteTSyzgdJ/I6ZxqQqw0J4hmqcsO49tOhb50JOcKg9TA\n",
              "UYvaUhZ0UtE1/NOnZ2FLe8RMW8i6S3caBBEpYiwQXbdCvOCZSv63yForbiluB3ziDEIAP9DhIjBk\n",
              "U7qQ5ZBI0AA6yNAAVBDwAeSSrHf4gXYTsUOAFeaIKfA6dkjlc5r6SSgLnMqasarMxz6mwCsKUtOF\n",
              "Bu87pBWp98eCYqzWcSVD/oadhrOxcCxvclfAAAABSkGb1UmoQWyZTAhv//6nhAADD3UeALr/GZ5h\n",
              "LfF7uqulRQohpkLy43AAJ2BIELdL1H8ugDhNuf1V2lBaA49Wp4gS6vBf0I+65lE/7TJoAHBLDt7t\n",
              "8KXleY0J0oQqXUTRlYBMv8m4wz2C8cd//UgOIlwaTPYGsQPb/0qPy0W+QKpcm56q2DCkkbGu8yy3\n",
              "+AuVlZnHkHw0VoxIziLwlL4gdaMrF3MZS9dFks/639Y1cEdOh4lBQ2dLH56b8ecuDpZGWvr7RWq/\n",
              "svnSjnX9I+Fr68wIF3C6AACCEi721Owsp9JuLBc/B1XFvDklsn+dVA93JZdNObJBakkLJ+1UIyTt\n",
              "Zp7M2m/mi4Mzu6ck48Fk11pMQhyGow1+TSHQxtpBYK3xbmrj+2ATChTOexoqIAMW/jUdEcbCz5zu\n",
              "kTuxj3WKzfSCSduyjQdXlsdlQQAAAPpBn/NFFSwr/wAUfkzjW6hqXhK2cfLKwRmlhs98rFFZIcfr\n",
              "uYI09b+QAVj6XQL5McPRNANRwW/jiV6kqeUldfJnva3nwjJMdKW7KuVdBVtFNSBudysrqVeG7kqe\n",
              "c5HmK+/1Y/k9RliaDRPI1lMIVnk9kAjK0Vk+tJMDYjCl0xgpzri0crecjEDGdJae6FcYbLUo62eI\n",
              "0arGicbtD86I7Y2PvHigdiHWUrFAuc+qcD9kXNVPXym1Q+1yHijGwYHX+pcvTnz0XVuJUElYmePo\n",
              "6QTildGh24aUSUdYmDProFkI4hownM2Fg46A/kcjyCZDAUx1tZXyXv39ZkkPAAAAZgGeEnRCfwAa\n",
              "XzkmpYVo1UC3GlyBoRQlhwsf+jQAgplJ7QId2jnXxJKP1HCUTFGDT6gkRbQxIjmDchFgANQDjNIK\n",
              "R9GrRZLzWgWpIBG0s1NmXa6jFpvu1xrFrQ5eiTaTBsypnKI0IAAAAGgBnhRqQn8AGmeNJuoh7OUb\n",
              "98VoAbBwRB5swwKTw9egu3skAA///p84+umnR1vLA1+0swQGtzIzOh/d19YwpF/PKYDzGIE7ktnj\n",
              "hQXN2g8rwZShunwZ4fQEkGIyBt1h5zCnHBh+2y7BewAAATZBmhlJqEFsmUwIZ//+nhAAC/8J0hcS\n",
              "lDIxM9243ZlnEhlsm4lMUJpDYcauoIKW9h8JW4pwkoUszJkc+iCG9QkuWEcO4Z0yAwn4J25O+qUv\n",
              "giZayT53uSK4wFvWmV4u3OQgVRAQyWpdAvc5tBUSBPhtkrzNi/9LvL+1L9l0PiRIPbAnf9aLSI1O\n",
              "vvIPoSuqUYkRbdKOEMqbvcjLTlbNXXzQYuw34/gccqIxQ6RaBG1vDC1VkoHksiVXu9woqp5au3BM\n",
              "c8GhLf4JGHZ9x53DsHW3grgWKOHHoR+F4c2Lb99jzEdPApe6ApcwpwYlREk3iJj8lG/Pu2EPj8EY\n",
              "bayFbsBlSyzveK0JTygiSPz9MjmGaOTZdiAezfCAWRubR1rK1NRh3xITJnPD3PDciP+Ul8oBNHLD\n",
              "QoewAAAAxUGeN0UVLCv/ABR+TONbqGo+sPE+jNswiBxpD3QvcY0pdHucoGMVQACIEU2Fdv/wHBVS\n",
              "37GIgiPFswr8eJ3jZBkoTmhg3d3QtR8fl8Pzh9oz99+H+YxTq0T0iUJTIhixYgY3D6GOzcOGk7Vq\n",
              "mTWwzozEoG2Fmu3WTw5dVXpErpY58EOKepziqWnkqYz9WJmbfQyL2fsQmK8zYDdzE5p0Y8mUsU37\n",
              "xBauZ2a+5oy16vgUHoKnMAB1o02rzKd+clM+RtFOsQGjAAAAcwGeVnRCfwAaXzkmpYOXkovnCIgC\n",
              "tJuT+fm1jKbZVEhybi6AAlKLoMUAe84Vfr0fPOUmvlyFvvWzkJFyNX/j82HYYuo3Lg1vxCp/YbBv\n",
              "fIvgFkZ/R2LS9PPO9A5JgqP2RcvuP4EqqB/1ZjOsGflLHy8CQekAAABpAZ5YakJ/ABpnjSbp1H3Y\n",
              "GJHFPDD9JRheIAH+8/q0lv1SKNqdqbGHvw7QMZTJJJMK7PnT4ujbrNcxWTYdieSFJpZ3epR/C94B\n",
              "9narVFK9M1f0HQvmOqXD6sEgFkmtfG4dEEXKGSes0Z4IAAAMWWWIggAP//73aJ8Cm1pDeoDklcUl\n",
              "20+B/6tncHyP6QMAAAMAAK6sc+imSBhd68YAAm4ABWxyKoRNYrK1vAAOIBMAgvamGNE503a5h5ld\n",
              "Zh0c3vepTH1Pcyw9zyPSONZBZriiYgpFnC1XH89m2bDfoeHkK2mp3Z5n2fb0l125g4pVYLr1MM98\n",
              "NeilgtiEROXO0vATgVw/uwJRR1XiEPeMFGN3njT3KEEuSaRWfgoNjyBmBOTX4uEd0RWZEF2ZBHw8\n",
              "RO/fPpYBqE+I2DOBjc52lYPbfjhQyyJoVuNuoippuD6WUuc8UUsLBv9OQKdTPJXcMmYvmLf1pZDa\n",
              "pGTTGMEwoThwV7of7qzeOG1bq08UmsuE8iVNfVGbiSDgndwBljCAdynchS4EkiAAH3R+gc6B3lJh\n",
              "s5AE8YQNEcUChYVhkxw0ioXqTMRL//aBicb1mXFWSX4KLclNxviu3T3+QZ/zNtvE61ZalCzmL6mX\n",
              "FmPutN5dIl5VyVvv3EL4ycI2CENMlo8MlEXYNIQaYNJHHn8zhTEPjrOZEQeHidA9OhDswM7/64Fg\n",
              "BD0OqtgOIlMONN/wOOSMwI6ko+5P+WxhzsRXMh8+1z/NVpM5DWi0KZ7ZPkNOwbNy+gKb8LBdO93X\n",
              "Qqz+F5zU7bapDQbxdVwSGoX9/ASGpheoQt3UdiP5KtwGeS+Na08SdQ8uJyqczD85yYeJEeSlGp/K\n",
              "wFtT60FMRg14q00IS0pHyrbFl+oUjGPjksp0kHdsihvbQQDhT/rPlFl1QbUxflFm0o6SCEad2BN1\n",
              "Ki1RHdWA8FhmQ347S0tNEQ4CfKNrAQPLknZDZ2sFVCvs8RUOUGl3J9lkcNi0+YFALJRjlNwB6m0p\n",
              "WCwNMxAm18LUK+FXk08n5F/ctaMbF0YoCiDgWI9pHqhs+uzfeHtHN+onNxLrzFAi6xYBpJpWnO6f\n",
              "BO64Dlw5BUXgZRnlu1/HygejSY02FJz4LpWEOAH7CaOzCeD8X4Rk4qfJhqdBbN41vbKFlo1ndFsh\n",
              "6fAnIIfT2+RjWLxPpzmlIQoytoUI/eojVr3kYe5vgazr3KhyYysgyhRlqfrSrvHOS2+XhwCe6e50\n",
              "UlocxNkOhHF7TzFRdIcAFYD53SfsJtU5xwc/YzNbaP3QcMGCKm+RSWjlC1625FJmJ0deVr9cBCqV\n",
              "D8EKR7VciCowXU1Cp9wFnQzfocrQzV/+5KDgGovlSinmivhf5MA1LghnHNFL+ltmV5d7JwNjB9j1\n",
              "kxjoj88mqub3jonRPkMkbz+HSnhXLN4inI3GL1MVvUYBbg+wUphOsolVbBmWO+wGw3QTrrPLaEcu\n",
              "3CeTWhZ8BlmdNcy8c5DqQCs/sNuJmXOq8evBTk6yerGpqPM+C/Kn/Ks1d/v6TnA3Ji6UFQKCztIS\n",
              "YFBz1VZiW60HdJ5vwjP+Fuve7n8SVaPMSehLZXQ1rbjRs5/5DKUuODxwIs3fdfj6DClGSazhhN99\n",
              "CxOpqrlZ2WVosrL4ESuFvy2cqafAjEyjTEgyuGoYebKQdE6vqeq523H8BUNWpylbE7nT6tVb3iiV\n",
              "Jf8kfSqHyJIkT1b/Quld+iK5jxbwu38FUb0yCyFq/rct6tH+Rajjjh/v31K27nYwkRFm3PM0PbMJ\n",
              "JwMDNwaQo8+Er7mc1BAkgFIUVlyowCdy7ANi3e6bGG3UyLTHuMqkLbjZ3l+4wHB58+Pg4Y2O3V+i\n",
              "XcntTzzAcdYUKi/hcFpASo4hzWU8M6LnLZU6BrdKvtqFeoyW6S3BubKIJQRfXfQ5JP9a4E/OGWco\n",
              "AckHc/TlxNCZyi1rX0euE+h9CuqaYOAYNeRRdf/sTrmFz/uBgv+H9G2O/aLtOiQ/c4Z53cDzPrTn\n",
              "4SC5VGMoqLF8CM/E299Kjd4dsnmAroBAO1VeI9o8c6koS1h1PepPJpTgxZusxFGNWnLPTSz5TENw\n",
              "w0aGWq33QU/dt3IWwoU3KHUsegFKbI07gWWE9V+V5Fmpdv8F2dJpvri+MV3/GQVUZumcmZgCfYAk\n",
              "9e+1qGbLBsx1mS3VZqOVT7RD5uZYKNCf3SUxe7h0PqIIWmR96N0xJVFtazFruUfHLjZp50ZIDvt8\n",
              "9Ct+elxzOh0nRmUsRzlzzAfffLkvmkrLM/djILO8/dkfAYhhrzB+VsHcrG1uRMShSvY7howHdfvG\n",
              "rH2JCQ7fThBNZ9+Yar7xMQMUnrjildtZgu2L7B2QwX6aPazH4Ozct1pSX3oC8rKy2o8t3AAVXcF2\n",
              "+ItmYup9RYBZQ3MihZR0x0Mlq18gSlGnbz2bG/djQ1poefzPc9QDLiExtFm6m/l0J5Py5d4bQCdT\n",
              "ze1Xv5I0Oxr1HyHWKKez8JXz+YVtzvySwPKjwLfWUNdZpKuJ29WAzR1qGnGfsM0kIz3/uawBBEbk\n",
              "cSqg8xiusJseDpgoBVjriVFyxrHQXwutifN8vVCv02L/m9a2ROwMYwHUElqJvvQjVh/X4aw7P6BG\n",
              "CTt2F/F18DHdIZRrnymn+wTBvwppUtcw/CPRSOQhHw6iSqaPqmW0h7fkTKi2GyoyOCV1UolFqhyt\n",
              "hmfzFG91PuJFumnHKVkK305o18u3NnF4wDlwSSGuCDvZOUeNESfIb+jliSkXxK85qfeHOdpLYDD/\n",
              "Q9G85BoGyCHQ68BraWpUxQbdvd8M4+zH0ZvxKRS8O5C9I66cwo304u9ztpQ7c+kYZXVpTfKqMiYk\n",
              "lVYZGDtJls+RY5su627G9SSPluwmRip352MdfC7NKYyx0pFPuVi2teQO1BlUZZmSK4VoobuF9RCk\n",
              "LKqnHR7O8IUB88Xvkzz11z5CVPociBZhfwpkp1z4DRD2KGL1QHjGupI+GnfhaB1tCbifr+tv3bqq\n",
              "GLsQ2iinWMgHHkUAzhZI8+ULAfq8YrhHtmJfhE5MQuN4Hvwg5mT48Y3GUT3CKE05TEqi+6wccp6b\n",
              "/47Y60QCnnXmwub00so9R3oLv1qh7CO3Q5e8qYHODNQFiBgk2SxRh7z3VLsqK+LHECTwcCl7wZlq\n",
              "/lgDRha7HHnLFqjTE+UycQfF4s0l8JxEeQHq7kck4AhAiOzGxlYEUKU0iG8Fojrslkxf5K0/eQ4Y\n",
              "QWsnQWxqw8fdos2dRp6Hyzn189nkibogVAM9zpGStMwgfI+RZMVrN+g8vBXRUUybavBx5n/M348v\n",
              "VlZ7yUKODVpLiZKMd4tLXva5Q1FcOqimrM6gR2vpb94lYFeSQr71NUfLB/kl2QpnTQgU8aASHrko\n",
              "UmDEVdus5Dqnz4BvOlQR5YZXmUyLMT8AXFlRThjcbfR2K2dvQX/awhNVBdw+CYVIoIZ/ZmEJhlrE\n",
              "L9KbosQX5dRbLWLpONP5GDOFsESyg6YnHFODW1gZVaAwO4n6uar9FYtJSnugLQCY3yydMMvzJpAq\n",
              "H5gmao9VjEsga7KP00LAWl+Ye7i3EwuMPBxbEJyeMGXmAypdmXBYfZSJ51aY6LEzs/eG8ci4EL9E\n",
              "I/ppcx/TQJ0FyoAOWg3HTOOHCDTRy2bOTS3mo05L+DZNPSEmFjNd2OIXAUmH8RebeXQAepGImtAF\n",
              "Rma8KcOD57baCVnUpyI5XEyPeMalzTTOjB/IWnWnioNLl6U2zudSBpfb8FXtoPT86BnRLFVpDFZV\n",
              "5/ooc//LYEh8rx+p6ReO8hKEtSKsjxgljNOVylN6FPXYSCHFFexkoOfjbVzW2Ckfd6nY/BJiE256\n",
              "FcPapqGtGQP3vM0skfoFDEsWIOhoyRbekh68zqmsStRWILg41sl3ddWK+s/Xggp7L3zeRCZJ/Bvv\n",
              "Kbp3OwNflRzhDWY3tnD7OTdfK9kwMQPhtdHH5FW/mAxI5se48ZKSjtqYlBsxXBbFNSkDhsN6foNW\n",
              "4D+lRTlAlgtruAeZuqtuhDNIZKEi0n1DBeK2Zk2jT/xAp92cSwDGg6z+23DBr1LuFHLbRn4Novnh\n",
              "F0OOgorcB0l2eTiROltKyzg+QYLKZhKoCDkotJo7rgIb+yBzxj9NiORsrVVlgGxL9p79MFdI39Kp\n",
              "FkRQVAWM57roT7ht/3octJa/WUUY8OyV6blUz6IUkPAGdMhmPizXcYaJzcodcu/Rdk76G14j7V6x\n",
              "O7TVz65eD2e3ZlsB4LXC/UKRjNk2EETsn6N8NnDaD1DZwFSiFW4Z7+/2gcKl/wGChMuvIkYkCy+N\n",
              "ZQ8y/tiJVmuV9zTduucnFXCE/WuR5s+JnbyUIRMNRvMWzaYj+pIyxvrE8urW+g/NPsgIBEAAAAMA\n",
              "AAMAAAqZAAAAskGaJGxCf/3xAAA8/pqULvWQ7BUviIAIgggkk6DE3MKi+ewM7Vpbh48WYOYxuOss\n",
              "Pa0YOlJovX2OhRMVIwFp7KW2x0pPA8zkIey+EOnk7pLHoazac2vjccLagaVs7tp0i/YIpdN/7IUx\n",
              "yMYKhVHa/0NUYMuAaDbZl8vRO4lU56O4pgL+IMKn4m1u29s7kjnMGjC71M61ViBt14e0bXHRg5Eb\n",
              "9dTnAJEzGnX/zE7h/dNwKSAAAACNQZ5CeIT/AAG6DlIxYYN9QpMalloAGxgZaqkAxY2Kpes8Wj4o\n",
              "EQo/YMdhCgU8SEuNfvC41nTFUpY4QVdM7gx3Jn06EjW/qdfwjhm6qtZ+KXyvgN72pj7CkPCTaZtO\n",
              "YmbtBPA6Y94PTmesGIgaCilh9lq1MbyHZJtpiBdZHx2ncZzeSWSswEi/2n4oFOFTAAAAhAGeYXRC\n",
              "fwABsHWz2C7xsWLqAB/iHCtCkgP81JcfsAmm8549UJgULGQLYamzrVVpS3xT6JyFNWaHiNicM+yA\n",
              "pW+DPl5nie6acPHtXCEKEwWRmS6qclxGO1tqUcuAYpdWyWfYDLXYFN60YbLnMOi+tOwOPUxbk9+y\n",
              "dHfgQhuGm1Jh3l5IGQAAAJcBnmNqQn8AAbYWfDR6kLAkVNEfYAQ+DymNUsqdemjgtDhTZA8yuH4k\n",
              "sdLyDhF/FIybg8jmZbJ3yP1j10XJIxA2tetwE1kLkxcEDBgViMMhQF2SZ9BDVXEXb6aTwFPle+o5\n",
              "1Vh1aDOTXape06An/jQ2rd/yidwwfNJpZbpB6hpiJAYmrfoqJxZ3ft5wR7Y4t45wdADoWgb0AAAO\n",
              "9m1vb3YAAABsbXZoZAAAAAAAAAAAAAAAAAAAA+gAACE0AAEAAAEAAAAAAAAAAAAAAAABAAAAAAAA\n",
              "AAAAAAAAAAAAAQAAAAAAAAAAAAAAAAAAQAAAAAAAAAAAAAAAAAAAAAAAAAAAAAAAAAAAAAAAAAIA\n",
              "AA4gdHJhawAAAFx0a2hkAAAAAwAAAAAAAAAAAAAAAQAAAAAAACE0AAAAAAAAAAAAAAAAAAAAAAAB\n",
              "AAAAAAAAAAAAAAAAAAAAAQAAAAAAAAAAAAAAAAAAQAAAAAGwAAABIAAAAAAAJGVkdHMAAAAcZWxz\n",
              "dAAAAAAAAAABAAAhNAAABAAAAQAAAAANmG1kaWEAAAAgbWRoZAAAAAAAAAAAAAAAAAAAPAAAAf4A\n",
              "VcQAAAAAAC1oZGxyAAAAAAAAAAB2aWRlAAAAAAAAAAAAAAAAVmlkZW9IYW5kbGVyAAAADUNtaW5m\n",
              "AAAAFHZtaGQAAAABAAAAAAAAAAAAAAAkZGluZgAAABxkcmVmAAAAAAAAAAEAAAAMdXJsIAAAAAEA\n",
              "AA0Dc3RibAAAALNzdHNkAAAAAAAAAAEAAACjYXZjMQAAAAAAAAABAAAAAAAAAAAAAAAAAAAAAAGw\n",
              "ASAASAAAAEgAAAAAAAAAAQAAAAAAAAAAAAAAAAAAAAAAAAAAAAAAAAAAAAAAAAAAABj//wAAADFh\n",
              "dmNDAWQAFf/hABhnZAAVrNlBsJaEAAADAAQAAAMA8DxYtlgBAAZo6+PLIsAAAAAcdXVpZGtoQPJf\n",
              "JE/FujmlG88DI/MAAAAAAAAAGHN0dHMAAAAAAAAAAQAAAP8AAAIAAAAAGHN0c3MAAAAAAAAAAgAA\n",
              "AAEAAAD7AAAH2GN0dHMAAAAAAAAA+QAAAAEAAAQAAAAAAQAACgAAAAABAAAEAAAAAAEAAAAAAAAA\n",
              "AQAAAgAAAAABAAAKAAAAAAEAAAQAAAAAAQAAAAAAAAABAAACAAAAAAEAAAoAAAAAAQAABAAAAAAB\n",
              "AAAAAAAAAAEAAAIAAAAAAQAACgAAAAABAAAEAAAAAAEAAAAAAAAAAQAAAgAAAAABAAAIAAAAAAIA\n",
              "AAIAAAAAAgAABAAAAAABAAAGAAAAAAEAAAIAAAAAAQAABgAAAAABAAACAAAAAAEAAAYAAAAAAQAA\n",
              "AgAAAAABAAAGAAAAAAEAAAIAAAAAAQAABgAAAAABAAACAAAAAAEAAAYAAAAAAQAAAgAAAAABAAAI\n",
              "AAAAAAIAAAIAAAAAAQAABAAAAAABAAAKAAAAAAEAAAQAAAAAAQAAAAAAAAABAAACAAAAAAEAAAoA\n",
              "AAAAAQAABAAAAAABAAAAAAAAAAEAAAIAAAAAAQAACAAAAAACAAACAAAAAAEAAAoAAAAAAQAABAAA\n",
              "AAABAAAAAAAAAAEAAAIAAAAAAQAACgAAAAABAAAEAAAAAAEAAAAAAAAAAQAAAgAAAAABAAAIAAAA\n",
              "AAIAAAIAAAAAAQAACgAAAAABAAAEAAAAAAEAAAAAAAAAAQAAAgAAAAABAAAKAAAAAAEAAAQAAAAA\n",
              "AQAAAAAAAAABAAACAAAAAAEAAAoAAAAAAQAABAAAAAABAAAAAAAAAAEAAAIAAAAAAQAACgAAAAAB\n",
              "AAAEAAAAAAEAAAAAAAAAAQAAAgAAAAABAAAKAAAAAAEAAAQAAAAAAQAAAAAAAAABAAACAAAAAAEA\n",
              "AAoAAAAAAQAABAAAAAABAAAAAAAAAAEAAAIAAAAAAQAACgAAAAABAAAEAAAAAAEAAAAAAAAAAQAA\n",
              "AgAAAAABAAAKAAAAAAEAAAQAAAAAAQAAAAAAAAABAAACAAAAAAEAAAoAAAAAAQAABAAAAAABAAAA\n",
              "AAAAAAEAAAIAAAAAAQAACgAAAAABAAAEAAAAAAEAAAAAAAAAAQAAAgAAAAABAAAKAAAAAAEAAAQA\n",
              "AAAAAQAAAAAAAAABAAACAAAAAAEAAAoAAAAAAQAABAAAAAABAAAAAAAAAAEAAAIAAAAAAQAACgAA\n",
              "AAABAAAEAAAAAAEAAAAAAAAAAQAAAgAAAAABAAAKAAAAAAEAAAQAAAAAAQAAAAAAAAABAAACAAAA\n",
              "AAEAAAoAAAAAAQAABAAAAAABAAAAAAAAAAEAAAIAAAAAAQAACgAAAAABAAAEAAAAAAEAAAAAAAAA\n",
              "AQAAAgAAAAABAAAKAAAAAAEAAAQAAAAAAQAAAAAAAAABAAACAAAAAAEAAAoAAAAAAQAABAAAAAAB\n",
              "AAAAAAAAAAEAAAIAAAAAAQAACgAAAAABAAAEAAAAAAEAAAAAAAAAAQAAAgAAAAABAAAGAAAAAAEA\n",
              "AAIAAAAAAQAACgAAAAABAAAEAAAAAAEAAAAAAAAAAQAAAgAAAAABAAAKAAAAAAEAAAQAAAAAAQAA\n",
              "AAAAAAABAAACAAAAAAEAAAoAAAAAAQAABAAAAAABAAAAAAAAAAEAAAIAAAAAAQAACgAAAAABAAAE\n",
              "AAAAAAEAAAAAAAAAAQAAAgAAAAABAAAKAAAAAAEAAAQAAAAAAQAAAAAAAAABAAACAAAAAAEAAAoA\n",
              "AAAAAQAABAAAAAABAAAAAAAAAAEAAAIAAAAAAQAABgAAAAABAAACAAAAAAEAAAoAAAAAAQAABAAA\n",
              "AAABAAAAAAAAAAEAAAIAAAAAAQAACgAAAAABAAAEAAAAAAEAAAAAAAAAAQAAAgAAAAABAAAEAAAA\n",
              "AAEAAAoAAAAAAQAABAAAAAABAAAAAAAAAAEAAAIAAAAAAQAACgAAAAABAAAEAAAAAAEAAAAAAAAA\n",
              "AQAAAgAAAAABAAAKAAAAAAEAAAQAAAAAAQAAAAAAAAABAAACAAAAAAEAAAoAAAAAAQAABAAAAAAB\n",
              "AAAAAAAAAAEAAAIAAAAAAQAACgAAAAABAAAEAAAAAAEAAAAAAAAAAQAAAgAAAAABAAAKAAAAAAEA\n",
              "AAQAAAAAAQAAAAAAAAABAAACAAAAAAEAAAoAAAAAAQAABAAAAAABAAAAAAAAAAEAAAIAAAAAAQAA\n",
              "BgAAAAABAAACAAAAAAEAAAoAAAAAAQAABAAAAAABAAAAAAAAAAEAAAIAAAAAAQAACgAAAAABAAAE\n",
              "AAAAAAEAAAAAAAAAAQAAAgAAAAABAAAKAAAAAAEAAAQAAAAAAQAAAAAAAAABAAACAAAAAAEAAAoA\n",
              "AAAAAQAABAAAAAABAAAAAAAAAAEAAAIAAAAAAQAACgAAAAABAAAEAAAAAAEAAAAAAAAAAQAAAgAA\n",
              "AAABAAAKAAAAAAEAAAQAAAAAAQAAAAAAAAABAAACAAAAAAEAAAgAAAAAAgAAAgAAAAABAAAKAAAA\n",
              "AAEAAAQAAAAAAQAAAAAAAAABAAACAAAAAAEAAAoAAAAAAQAABAAAAAABAAAAAAAAAAEAAAIAAAAA\n",
              "AQAACgAAAAABAAAEAAAAAAEAAAAAAAAAAQAAAgAAAAABAAAKAAAAAAEAAAQAAAAAAQAAAAAAAAAB\n",
              "AAACAAAAAAEAAAoAAAAAAQAABAAAAAABAAAAAAAAAAEAAAIAAAAAAQAABAAAAAABAAAKAAAAAAEA\n",
              "AAQAAAAAAQAAAAAAAAABAAACAAAAABxzdHNjAAAAAAAAAAEAAAABAAAA/wAAAAEAAAQQc3RzegAA\n",
              "AAAAAAAAAAAA/wAAElYAAABCAAAAFAAAABEAAAAPAAAAjQAAABsAAAAVAAAAEQAAAJ8AAAAaAAAA\n",
              "EQAAABUAAADfAAAAIgAAABoAAAAeAAAAtAAAACEAAAAaAAAAYgAAAQAAAAEIAAAAIQAAAKMAAAAb\n",
              "AAABHQAAABwAAADiAAAAGwAAASMAAAAaAAAA/gAAABsAAAFLAAAAHwAAABcAAAB9AAABwAAAAC8A\n",
              "AAAgAAAAIAAAAbEAAAArAAAAIQAAABgAAAGEAAAAHwAAABkAAAIAAAAAJwAAAB8AAAAZAAABygAA\n",
              "ACwAAAAfAAAAHAAAAVcAAAAgAAAAHAAAAkQAAAA2AAAAHgAAABoAAAHvAAAATgAAACAAAAAZAAAB\n",
              "4QAAACoAAAAdAAAAGAAAAegAAAAoAAAAFQAAACEAAAHAAAAARwAAABIAAAAYAAABoAAAADQAAAAY\n",
              "AAAAEQAAAZsAAABEAAAAFAAAAB0AAAHlAAAAgQAAACsAAAAsAAAB2wAAAFIAAAAbAAAAGwAAAf0A\n",
              "AAB8AAAAJQAAADkAAAHmAAAAdwAAACYAAAA9AAAB4QAAAEwAAAAmAAAAPQAAAbMAAABuAAAAIQAA\n",
              "AE8AAAGyAAAAdAAAACcAAABGAAAB6QAAAHcAAAAmAAAARgAAAhoAAACSAAAAIQAAABwAAAHmAAAA\n",
              "gQAAADQAAAAxAAACNwAAAG0AAAA1AAAALAAAAdYAAAB5AAAAIAAAADcAAAHDAAAAMQAAAb8AAACW\n",
              "AAAALwAAADsAAAH3AAAAfwAAACwAAAA9AAACFgAAALQAAABhAAAAVQAAAcQAAAEnAAAAQAAAAEAA\n",
              "AAINAAAAtwAAAG4AAABdAAACCQAAAOQAAAByAAAAdgAAAeoAAABcAAAB9wAAANUAAABBAAAAVQAA\n",
              "AdwAAACxAAAAcwAAAHoAAAGFAAAB2QAAAIQAAABFAAAARQAAAdEAAACnAAAARwAAAEoAAAHJAAAA\n",
              "ngAAAFEAAABKAAAByQAAAK4AAABAAAAAigAAAckAAAChAAAAZAAAAHUAAAHXAAAA0gAAAFsAAABi\n",
              "AAAB7gAAAMYAAABuAAAAaAAAAWEAAAB5AAAB4gAAAMwAAABqAAAAbgAAAbwAAADHAAAAagAAAGcA\n",
              "AAIJAAAAtwAAAHMAAAB6AAAB4QAAAM4AAABWAAAAYAAAAcwAAADdAAAAVgAAAFAAAAGjAAAApAAA\n",
              "AH8AAABgAAABUwAAAJIAAACKAAAB5AAAALQAAABzAAAAfwAAAWgAAADvAAAAeQAAAIIAAAFOAAAA\n",
              "yAAAAIkAAADIAAABTgAAAP4AAABqAAAAbAAAAToAAADJAAAAdwAAAG0AAAxdAAAAtgAAAJEAAACI\n",
              "AAAAmwAAABRzdGNvAAAAAAAAAAEAAAAsAAAAYnVkdGEAAABabWV0YQAAAAAAAAAhaGRscgAAAAAA\n",
              "AAAAbWRpcmFwcGwAAAAAAAAAAAAAAAAtaWxzdAAAACWpdG9vAAAAHWRhdGEAAAABAAAAAExhdmY1\n",
              "Ny44My4xMDA=\n",
              "\">\n",
              "  Your browser does not support the video tag.\n",
              "</video>"
            ],
            "text/plain": [
              "<IPython.core.display.HTML object>"
            ]
          },
          "metadata": {
            "tags": []
          },
          "execution_count": 35
        }
      ]
    },
    {
      "cell_type": "markdown",
      "metadata": {
        "id": "T6BVXDhmCVUe"
      },
      "source": [
        "6. **Tuning:** Now adjust the damper value  to something nonzero, that over 10s shows that the system is settling."
      ]
    },
    {
      "cell_type": "markdown",
      "metadata": {
        "id": "a_yixHNPUgEi"
      },
      "source": [
        "The system behaves like a rag-doll when we set the damper constant to 0. In the video shown above, the system does not behave in such manner because we have set the damper constant to a value greater than 0 in order to satisfy part 6. "
      ]
    },
    {
      "cell_type": "markdown",
      "metadata": {
        "id": "A8Srpde62Gu5"
      },
      "source": [
        "## Dynamics Plan"
      ]
    },
    {
      "cell_type": "markdown",
      "metadata": {
        "id": "3TQVnKSOBBys"
      },
      "source": [
        "**Material Selection**\n",
        "\n",
        "Our team has decided to use cardstock and cardboard for the main materials of fabrication. Each team member will either use cardboard or cardstock to test the dynamics of our system. In addition to these materials, one of the team members has access to a 3D printer. We will use PLA and a 3D printer to create professional parts for our prototype. Additionally, our team is using pen springs, three micro servo motors, a microcontroller, and glue.\n",
        " \n"
      ]
    },
    {
      "cell_type": "markdown",
      "metadata": {
        "id": "tZOC6uQuCFs7"
      },
      "source": [
        "**Parameters Modeled**\n",
        "\n",
        "Because our team has three members, we decided to split one parameter simulation per member. Andrei will work on actuator fitting, Feba will gather damping information, and Charlotte will collect material link and joint stiffness information. The tests executed for each of these parameter models will be explained below:\n",
        "\n",
        "**Actuator Fitting:** because the team is using a spring and motor to contract and expand the sarrus mechanisms,  the team must first calculate the force/torque needed to contract the spring. This will be done with theoretical calculations through MATLAB code and physical testing with the use of a scale and ruler to determine force vs displacement. Once the torque required to contract the spring is calculated, a motor will be specced based on its max torque capabilities. \n",
        "\n",
        "**Joint Stiffness Calculations:** the team will execute a variety of different cantilever tests using both cardboard and cardstock to determine the superior material of the two. Each material will be clamped to a desk and weights will slowly be attached to the end of the material. The team will gather deflection information and calculate the overall stiffness of the materials using equations and data from the cantilever tests. \n",
        "\n",
        "**Damping Calculations:** to determine the damping of the sarrus mechanisms, video software was used to track the motion of the mechanism when a weight is dropped onto it. The video software will output an oscillating signal which will then be used to determine the damping coefficient of the sarrus mechanism."
      ]
    },
    {
      "cell_type": "markdown",
      "metadata": {
        "id": "F5IS5Z1ZB9ad"
      },
      "source": [
        "**Prototyping**\n",
        "\n",
        "Because Andrei has a 3D printer, cardstock, cardboard, springs, glue, motors, and microcontrollers, he will be in charge of creating our team's prototype. The team's mechanical design will consist of three sarrus mechanisms placed on top of one another vertically. The sarrus mechanisms are made from cardstock material and the spring/support system is made from PLA printed parts. "
      ]
    },
    {
      "cell_type": "markdown",
      "metadata": {
        "id": "CJrYnPTpB4RU"
      },
      "source": [
        "**Individual Deliverables**\n",
        "\n",
        "**Andrei:** actuator fitting, updating code, prototyping, compiling information to a report (Jupyter notebook and google doc will be used for this).\n",
        "\n",
        "**Feba:** damping calculations, adding model fitting routines.\n",
        "\n",
        "**Charlotte:** material stiffness calculations and testing, filtering input data"
      ]
    },
    {
      "cell_type": "markdown",
      "metadata": {
        "id": "7oWsdhOKCO2d"
      },
      "source": [
        "## Dynamics Preparation"
      ]
    },
    {
      "cell_type": "markdown",
      "metadata": {
        "id": "Vm99OxQAmxQr"
      },
      "source": [
        "**Overview**\n",
        "\n",
        "The main objective of this \"Dynamic II\" code is to re-consolidate everything learned from testing our system and implement it back into our teams dynamic model. In the previous \"Dynamic I\" code our team was able to model our mechanism with no constraints, essentially collasing on itself, similar to a puppet when the strings are cut. In this updated dynamics code, our system will simulate real world characteristics such as: forces, torques, friction, gravity, stiffness, damping, enviroment (walls/floor), etc. We will still be simulating one sarrus mechanisms for now, but we plan to add the other two sarrus links in the next iteration of this code. This code will show a sarrus link with a compression spring in the center pushing the sarrus mechanism open. A motor will contract and relase the spring with the use of a sinusoidal input. This will simulate the sarrus mechansim expanding (making contact with the walls) and contracting (removing conact with the walls). Frictional forces are added and will eventually allow our system to translate up vertical spaces (when we implement all three sarrus mechanisms into the code)."
      ]
    },
    {
      "cell_type": "markdown",
      "metadata": {
        "id": "Bgv-oUO_m3bf"
      },
      "source": [
        "**Proposed Mechanism**\n",
        "\n",
        "The team's mechanical design consists of three sarrus mechanisms placed on top of one another vertically as shown in Figure 1a. The sarrus mechanisms are made from cardstock material and the spring/support system is made from PLA printed parts. When stationary, the compression springs will force the sarrus mechanisms to hold an expanded position as shown in Figure 1b. On the other hand, when the servo motors are activated, the spring is compressed and the sarrus mechanisms translate in the negative y-direction and expand in the positive and negative x-directions as shown in Figure 1c. This will allow for the mechanism to anchor to nearby walls similar to the way a razor clam anchors to nearby sand with its “foot”. For testing purposes, the team used their hand force to pull on a string in place of a servo motor and pulley. The team chose three sarrus links in order to allow the mechanism to translate vertically in the following manner: \n",
        "\n",
        "All sarrus mechanisms will begin motion in an extended position, with the spring mechanism forcing the sarrus link open. \n",
        "The top-most sarrus mechanism will use a servo motor to contract the spring and expand its links in both the positive and negative x-direction. This will lock the mechanism into place with the surrounding walls as shown in Figure 1d. \n",
        "The middle sarrus mechanism will then contract its spring in order to pull the bottom-most link upwards.\n",
        "The bottom-most sarrus mechanism will then contract its spring in order to lock itself against the surrounding walls. \n",
        "The middle and top-most sarrus mechanisms will then expand their springs in order to unlock from the surrounding walls and move upwards.\n",
        "Then the mechanism recycles the process starting with step two. This will allow for the system to translate in an upward or positive y-direction.\n",
        "\n",
        "In order to achieve this motion, each sarrus mechanism is controlled by a separate motor to allow for individual control of each link. Eventually, an electrical housing box will screw into the bottom plate of the spring mechanism seen in Figure 2a. This housing will hold the servo motor and pulley. \n",
        "\n",
        "![](https://drive.google.com/uc?export=view&id=14OyVayXmyKn6sY9pSST3aA40gDJfQarl)\n",
        "\n",
        "<h0><center>**Figure 1a: Three Sarrus Mechanism CAD Model**</center></h0>"
      ]
    },
    {
      "cell_type": "markdown",
      "metadata": {
        "id": "zoUZstb8nZhK"
      },
      "source": [
        "![](https://drive.google.com/uc?export=view&id=1q6m-grWiyhsKr27Q5DR6yTFuP8tuE1RD)\n",
        "\n",
        "<h0><center>**Figure 1b: Sarrus Mechanism at Rest**</center></h0>"
      ]
    },
    {
      "cell_type": "markdown",
      "metadata": {
        "id": "jENlkjbSnd8E"
      },
      "source": [
        "![](https://drive.google.com/uc?export=view&id=1cBw-21Qx46WWRSQkZwsjYupufQRomJ9x)\n",
        "\n",
        "<h0><center>**Figure 1c: Sarrus Mechanism Contracted**</center></h0>"
      ]
    },
    {
      "cell_type": "markdown",
      "metadata": {
        "id": "EwTmli4VxHul"
      },
      "source": [
        "![](https://drive.google.com/uc?export=view&id=1-WRjsQzo2S2X6_ZZbG98iIefpl5bhzpg)\n",
        "\n",
        "<h0><center>**Figure 1d: Sarrus Mechanism Anchored to Walls**</center></h0>"
      ]
    },
    {
      "cell_type": "markdown",
      "metadata": {
        "id": "xNDKgkYMxKno"
      },
      "source": [
        "**Forces and Torques**\n",
        "\n",
        "A compression spring mechanism created with CAD is used to force each of the three sarrus links in an extended initial position Figure 2a. When decompressed, the spring mechanism has a height of 0.05715 meters and 0.03810 meters when compressed. As a result, the compression spring mechanism shown in Figure 2a is **limited to a maximum vertical displacement of 0.01905 meters**. With the use of MATLAB and physical testing from prior assignments, the team found the **spring constant to be approximately 200.4500 newtons per meter**.   \n",
        "\n",
        "![](https://drive.google.com/uc?export=view&id=1uJuygAjuQitrqtTZ0hjUYvIRA_TbuWlu)\n",
        "\n",
        "<h0><center>**Figure 2a: CAD Rendering of Assembled Printed Parts**</center></h0>\n",
        "\n",
        "A servo motor with a 3D-printed pully spool and thread is used to contract each of the three sarrus links. With a spring constant of approximately 200.4500 newtons per meter and a max displacement of 0.01905 meters, we get a resultant force of 3.8186 Newtons using Hooke’s Law. We know that load torque is equal to force (F) multiplied by the distance (r) between the center of rotation and the force point. Assuming the team prints a three dimensional pulley with a radius of 0.00635 meters, the **maximum torque required by the motor is 0.0242 Newton-meters**."
      ]
    },
    {
      "cell_type": "markdown",
      "metadata": {
        "id": "DYvC-6jHxlqu"
      },
      "source": [
        "Our team is neglecting the spring and motor forces for the following calculations. From the free body diagram shown in Figure 3b we determined that the sum of the forces in the vertical direction must be zero at equilibrium. This means that 2*us-mg=0. In the horizontal direction, the two normal forces must add up to zero. From the free body diagram we see that 2*us*Fnormal=mg, therefore, Fnormal=mg/(2*us). This gives an expression for how hard the wall pushes on the sarrus mechanism in the perpendicular sense. However, the sarrus mechanisms outer joints must push with the opposite of the net force exerted on it. Lets assume the sarrus mechanism pushes against each wall with a force called Fpush. Therefore, each of the two sarrus joints must push with a magnitude of **Fpush=(mg/2)*sqrt(1+(1/us^2))**. \n",
        "\n",
        "![](https://drive.google.com/uc?export=view&id=19T0KG6qzQCcRG7sI2BtEbwAZz6k8SxJL)\n",
        "\n",
        "<h0><center>**Figure 3b: 2D Free Body Diagram of System**</center></h0>"
      ]
    },
    {
      "cell_type": "markdown",
      "metadata": {
        "id": "ho3mZjw7yUeq"
      },
      "source": [
        "# Calculating Youngs Modulus by Carrying out Cantilever Tests**\n",
        "\n",
        "The current plan for our model is to use cardstock as the primary material. Since this is out primary material, cantilever tests were run on cardstock samples to determine obtain the stiffness of the material. \n",
        "\n",
        "**Materials:**\n",
        "\n",
        "1. Clamp\n",
        "2. Four 125mm x 25mm samples of cardstock\n",
        "3. At least 5 weights of varying masses\n",
        "4. Callipers\n",
        "5. String\n",
        "6. Tape\n",
        "\n",
        "**Note:** The procedure below was provided by Dr. Daniel Aukes\n",
        "\n",
        "**Procedure:**\n",
        "\n",
        "1. Prepare the samples for testing\n",
        "\n",
        ">Four near-identicle pieces of cardstock measuring 25mm x 125mm were measured as seen in Figure 4a. One of these samples will not be loaded and will be referred to as the base. Once they were cut to length, they were measured and marked 25mm from each end as future reference points. The samples were labeled to keep measurement data consistent and properly organized.  \n",
        "\n",
        "<h0><center>![](https://drive.google.com/uc?export=view&id=1ynLG-WXk-SBirYwUKMUHDujojH2nz4J-)</center></h0>\n",
        "\n",
        "<h0><center>**Figure 4a:** Three 125mm x 25mm Cardstock Samples Used for the Cantilever Testing</center></h0>\n",
        "\n",
        "2. Measure the thickness of each sample in two places.\n",
        "\n",
        ">The thicknesses of each of the samples was suprisingly the same in all locations. While there was a point where it looked like one of the thicknesses was to be 0.01 mm thinner, it ultimately settled on the same value of 0.23 mm (0.00023m) as the rest of the samples. These thicknesses were marked on the samples themselves as can be found in Figure 4a, as well as below in Figure 4b. Once all of the measurements were completed, strings were added to each of the samples so that masses could later be attached from the loop on the end. \n",
        "\n",
        "<h0><center>![](https://drive.google.com/uc?export=view&id=1Nzotby39dipaw0AVKfaJJ7RLwBgPK-B-)</center></h0>\n",
        "\n",
        "<h0><center>**Figure 4b:** Measurements of the Samples</center></h0>\n",
        "\n",
        "3. Determine the masses that will be used in the experiments.\n",
        "\n",
        "> For the cantilever experiments, it is required that one has at least five different masses that can be used to test the deflection of the sample. Initially, the masses ranged from 3 - 14g. When it was apparent that the 3g weight was pushing the edge of the mass limit, as the deflection was very high, the masses were scaled down considerably, with hte highest being 2.32g, as can be seen in Figure 4c.\n",
        "\n",
        "<h0><center>![](https://drive.google.com/uc?export=view&id=1rDd9WOV62gx1sjLtI2I8zB6QPh-_KXLA)</center></h0>\n",
        "\n",
        "<h0><center>**Figure 4c: Six Masses Used in the Cantilever Testing**</center></h0>\n",
        "\n",
        "4. Clamp two samples together on a flat surface, the top layer being the base.\n",
        "\n",
        ">The base being clamped atop the sample allows for consistent, stable measurements where the sample is not pulled or twisted positionally when loaded. The setup for the tests is seen in Figure 4d. From here, the distance between the sample and the base was measured to get an initial defelction based on imperfections in the sample and base. \n",
        "\n",
        "<h0><center>![](https://drive.google.com/uc?export=view&id=1kyl2vwCS7DPF50r-UdSgjUPjCgvd-foV)</center></h0>\n",
        "\n",
        "<h0><center>**Figure 4d:** Setup for the Cantilever Test (No Load)</center></h0>\n",
        "\n",
        "5. Set up the camera.\n",
        "\n",
        ">The camera was positioned on top of a stack of books directly in front of the sample to ensure all photos were taken from the same distance and position.\n",
        "\n",
        "6. Measure the deflection of the sample from the base when sample is under a load.\n",
        "\n",
        ">Each of the six loads were attached to the sample beam, from which the deflection was measured. Once each mass was attached to the sample, a picture was taken, as seen in Figure 4e, and the displacement was measured and recorded. All six masses were applied to each of the three samples, and the data is recorded as seen in Figure 4f. These values remove the initial distance between the base and each sample. A graphical representation of the mass in relation to the deflection can be found in Figure 4g.\n",
        "\n",
        "<h0><center>![](https://drive.google.com/uc?export=view&id=1Z8fim4IP56-LZHtWyX8cLgP1WSTfVUj4)</center></h0>\n",
        "\n",
        "<h0><center>**Figure 4e:** Image of a Test Run with a Load</center></h0>\n",
        "\n",
        "<h0><center>![](https://drive.google.com/uc?export=view&id=1KARcWBZd8jpwEy8nbhqYidVZz7ZON7ib)</center></h0>\n",
        "\n",
        "<h0><center>**Figure 4f:** Deflection Measurements (No load)</center></h0>\n",
        "\n",
        "\n",
        "<h0><center>![](https://drive.google.com/uc?export=view&id=1Z53lOnZMieCo5OBBttMm6JpKD2CNrUYk)</center></h0>\n",
        "\n",
        "<h0><center>**Figure 4g:** Graphical Representation of the Deflection Versus Mass Graph</center></h0>\n",
        "\n",
        "\n",
        "7. Calculate the Youngs Modulus value (E).\n",
        "\n",
        ">Once the deflection of the samples under each load has been measured, it can be seen that all but one of the variables in the beam equations found in Figure 4h have been found. These can be rearranged as in Figure 4i to find Youngs Modulus (E), using the equation in Figure 4j to find I. Calculating hte Youngs modulus, the values of which can be found in Figure 4k, results in the overall stiffness of the material.\n",
        "\n",
        "<h0><center>![](https://drive.google.com/uc?export=view&id=13sYUqlWbKJajg9H_eO65xmBHBB41wxFT)</center></h0>\n",
        "\n",
        "<h0><center>**Figure 4h:** Equations Provided by Dr. Daniel Aukes for Calculating Deflection</center></h0>\n",
        "\n",
        "<h0><center>![](https://drive.google.com/uc?export=view&id=1S2Un6kaIXa04tkesGwCa2v5waSoU5-8Q)</center></h0>\n",
        "\n",
        "<h0><center>**Figure 4i:** Rearranged Equation used to find Youngs Modulus (E)</center></h0>\n",
        "\n",
        "<h0><center>![](https://drive.google.com/uc?export=view&id=1Z1Ufu6ChbVo5PKFlBfmJfIZv--RuBnY3)</center></h0>\n",
        "\n",
        "<h0><center>**Figure 4j:** Variable I</center></h0>\n",
        "\n",
        "<h0><center>![](https://drive.google.com/uc?export=view&id=1zg9uVHGLA5EyhDm92tJqAw0sQPz2LznU)</center></h0>\n",
        "\n",
        "<h0><center>**Figure 4k:** The Youngs Modulus (E) Values Calculated</center></h0>\n"
      ]
    },
    {
      "cell_type": "markdown",
      "metadata": {
        "id": "mjlFqNbV_Fub"
      },
      "source": [
        "# Approximating Compliant Beams\n",
        "\n",
        "**Note:** The code below was provided by Dr. Daniel Aukes\n",
        "\n",
        "The code below uses the beam deflection equations found in Figures 4h-4j to initally find the cross sectional moment of intertia. From there, the code allows for the determination of the value of x that results in an accurate determination of the deflection and angle of a beam with a single joint. "
      ]
    },
    {
      "cell_type": "code",
      "metadata": {
        "id": "ayhOHz7NiNpz"
      },
      "source": [
        "#The following code is heavily based on that created by Dr. Daniel Aukes\n",
        "import sympy\n",
        "q = sympy.Symbol('q')\n",
        "d = sympy.Symbol('d')\n",
        "L = sympy.Symbol('L')\n",
        "P = sympy.Symbol('P')\n",
        "h = sympy.Symbol('h')\n",
        "b = sympy.Symbol('b')\n",
        "E = sympy.Symbol('E')\n",
        "x = sympy.Symbol('x')\n",
        "\n",
        "subs = {}\n",
        "#subs[k]=1000\n",
        "subs[P]=.00016\n",
        "subs[L]=.1\n",
        "subs[b]=.025\n",
        "subs[h]=.1\n",
        "subs[E]=7.0818\n",
        "subs[x]=.5"
      ],
      "execution_count": 36,
      "outputs": []
    },
    {
      "cell_type": "code",
      "metadata": {
        "colab": {
          "base_uri": "https://localhost:8080/"
        },
        "id": "rAfM90znjqCj",
        "outputId": "7c292391-86fb-42b1-cd0f-22b2432e9ff9"
      },
      "source": [
        "I = b*h**3/12\n",
        "d1 = P*L**3/3/E/I\n",
        "d1.subs(subs)"
      ],
      "execution_count": 37,
      "outputs": [
        {
          "output_type": "execute_result",
          "data": {
            "text/plain": [
              "0.00361490016662431"
            ]
          },
          "metadata": {
            "tags": []
          },
          "execution_count": 37
        }
      ]
    },
    {
      "cell_type": "code",
      "metadata": {
        "colab": {
          "base_uri": "https://localhost:8080/"
        },
        "id": "86ZuSQ_vjt6K",
        "outputId": "e72962e5-7cf4-4610-b7e0-1ac767279734"
      },
      "source": [
        "q1 = P*L**2/2/E/I\n",
        "q1.subs(subs)"
      ],
      "execution_count": 38,
      "outputs": [
        {
          "output_type": "execute_result",
          "data": {
            "text/plain": [
              "0.0542235024993646"
            ]
          },
          "metadata": {
            "tags": []
          },
          "execution_count": 38
        }
      ]
    },
    {
      "cell_type": "code",
      "metadata": {
        "colab": {
          "base_uri": "https://localhost:8080/"
        },
        "id": "oZufn-iYj-Jk",
        "outputId": "332d9d4d-f124-4810-ab7b-79ce48f7914e"
      },
      "source": [
        "k1 = P*L*(1-x)/(sympy.asin(P*L**2/(3*E*I*(1-x))))\n",
        "k1.subs(subs)"
      ],
      "execution_count": 39,
      "outputs": [
        {
          "output_type": "execute_result",
          "data": {
            "text/plain": [
              "0.000110556584514503"
            ]
          },
          "metadata": {
            "tags": []
          },
          "execution_count": 39
        }
      ]
    },
    {
      "cell_type": "code",
      "metadata": {
        "colab": {
          "base_uri": "https://localhost:8080/"
        },
        "id": "lG1-sO1skCoc",
        "outputId": "47b53a6f-c5ab-4a26-c9d6-4a48974adec8"
      },
      "source": [
        "d2 = L*(1-x)*sympy.sin(P*L*(1-x)/k1)\n",
        "d2.subs(subs)"
      ],
      "execution_count": 40,
      "outputs": [
        {
          "output_type": "execute_result",
          "data": {
            "text/plain": [
              "0.00361490016662431"
            ]
          },
          "metadata": {
            "tags": []
          },
          "execution_count": 40
        }
      ]
    },
    {
      "cell_type": "code",
      "metadata": {
        "colab": {
          "base_uri": "https://localhost:8080/"
        },
        "id": "q9ZZvh9TkEkb",
        "outputId": "22d768b8-8eca-4a33-d0ad-8c159a496bc1"
      },
      "source": [
        "q2 = P*L*(1-x)/k1\n",
        "q2.subs(subs)"
      ],
      "execution_count": 41,
      "outputs": [
        {
          "output_type": "execute_result",
          "data": {
            "text/plain": [
              "0.0723611355680998"
            ]
          },
          "metadata": {
            "tags": []
          },
          "execution_count": 41
        }
      ]
    },
    {
      "cell_type": "code",
      "metadata": {
        "colab": {
          "base_uri": "https://localhost:8080/"
        },
        "id": "LIwsPSn1kKz6",
        "outputId": "97b353c2-a53b-44e2-d385-ae02f48565bf"
      },
      "source": [
        "k2 = 2*E*I*(1-x)/(L)\n",
        "q3 = P*L*(1-x)/k2\n",
        "q3.subs(subs)"
      ],
      "execution_count": 42,
      "outputs": [
        {
          "output_type": "execute_result",
          "data": {
            "text/plain": [
              "0.0542235024993646"
            ]
          },
          "metadata": {
            "tags": []
          },
          "execution_count": 42
        }
      ]
    },
    {
      "cell_type": "code",
      "metadata": {
        "colab": {
          "base_uri": "https://localhost:8080/"
        },
        "id": "EPNoRunakeZ0",
        "outputId": "6569d632-163b-49eb-e69e-bcb492f13771"
      },
      "source": [
        "d3 = L*(1-x)*sympy.sin(P*L*(1-x)/k2)\n",
        "d1.subs(subs)"
      ],
      "execution_count": 43,
      "outputs": [
        {
          "output_type": "execute_result",
          "data": {
            "text/plain": [
              "0.00361490016662431"
            ]
          },
          "metadata": {
            "tags": []
          },
          "execution_count": 43
        }
      ]
    },
    {
      "cell_type": "code",
      "metadata": {
        "colab": {
          "base_uri": "https://localhost:8080/"
        },
        "id": "UIUoMr0vkkRy",
        "outputId": "309d1ed8-9a16-4c06-a005-6b8ac8c7f5f7"
      },
      "source": [
        "d3.subs(subs)"
      ],
      "execution_count": 44,
      "outputs": [
        {
          "output_type": "execute_result",
          "data": {
            "text/plain": [
              "0.00270984675940322"
            ]
          },
          "metadata": {
            "tags": []
          },
          "execution_count": 44
        }
      ]
    },
    {
      "cell_type": "code",
      "metadata": {
        "colab": {
          "base_uri": "https://localhost:8080/"
        },
        "id": "pysVCn90km_N",
        "outputId": "30474867-2e28-4952-ab79-548cb11103cb"
      },
      "source": [
        "del subs[x]\n",
        "error = []\n",
        "error.append(d1-d2)\n",
        "error.append(q1-q2)\n",
        "error= sympy.Matrix(error)\n",
        "error = error.subs(subs)\n",
        "error"
      ],
      "execution_count": 45,
      "outputs": [
        {
          "output_type": "execute_result",
          "data": {
            "text/plain": [
              "⎡                     0                      ⎤\n",
              "⎢                                            ⎥\n",
              "⎢                         ⎛0.036149001666243⎞⎥\n",
              "⎢0.0542235024993646 - asin⎜─────────────────⎟⎥\n",
              "⎣                         ⎝      1 - x      ⎠⎦"
            ]
          },
          "metadata": {
            "tags": []
          },
          "execution_count": 45
        }
      ]
    },
    {
      "cell_type": "code",
      "metadata": {
        "colab": {
          "base_uri": "https://localhost:8080/"
        },
        "id": "UmKmrmQMkqpx",
        "outputId": "54e85ad6-5aef-42d4-ae29-f028c9e21ce2"
      },
      "source": [
        "import scipy.optimize\n",
        "f = sympy.lambdify((x),error)\n",
        "\n",
        "def f2(args):\n",
        "    a = f(*args)\n",
        "    b = (a**2).sum()\n",
        "    return b\n",
        "\n",
        "sol = scipy.optimize.minimize(f2,[.25])\n",
        "sol\n",
        "\n"
      ],
      "execution_count": 46,
      "outputs": [
        {
          "output_type": "execute_result",
          "data": {
            "text/plain": [
              "      fun: 3.9928096992175975e-11\n",
              " hess_inv: array([[72.33682164]])\n",
              "      jac: array([-1.02805959e-06])\n",
              "  message: 'Optimization terminated successfully.'\n",
              "     nfev: 24\n",
              "      nit: 5\n",
              "     njev: 8\n",
              "   status: 0\n",
              "  success: True\n",
              "        x: array([0.33292887])"
            ]
          },
          "metadata": {
            "tags": []
          },
          "execution_count": 46
        }
      ]
    },
    {
      "cell_type": "code",
      "metadata": {
        "colab": {
          "base_uri": "https://localhost:8080/"
        },
        "id": "CYWoup87k0Si",
        "outputId": "10a0b031-ad06-4692-e625-2dff5e3ab497"
      },
      "source": [
        "subs[x]=sol.x[0]\n",
        "d2.subs(subs)\n",
        "q2.subs(subs)"
      ],
      "execution_count": 47,
      "outputs": [
        {
          "output_type": "execute_result",
          "data": {
            "text/plain": [
              "0.0542171836310331"
            ]
          },
          "metadata": {
            "tags": []
          },
          "execution_count": 47
        }
      ]
    },
    {
      "cell_type": "markdown",
      "metadata": {
        "id": "IDzjzV5TAA1b"
      },
      "source": [
        "# Calculate Damping Coefficient using Motion Capure\n",
        "\n",
        "The aim of the experiment is to track motion of the joint at pBC (shown in figure  above) using the software called 'Tracker' and to collect data from it's motion. The plot of time vs Y-axis is observed and analyzed. The data is then used in a python program to generate plots and calculate the damping coefficient.\n",
        "\n",
        "\n",
        "**Experiment Setup**\n",
        "\n",
        "\n",
        "**Objective:**\n",
        "\n",
        "To create a 3D model of the sarrus link and capture its motion on video.\n",
        "\n",
        "**Materials Used:**\n",
        "\n",
        "1. Cardstock\n",
        "2. Scissors\n",
        "3. Tape\n",
        "4. Glue\n",
        "5. Colored Paper (orange)\n",
        "6. Plain Paper\n",
        "7. Smartphone with Video Capability\n",
        "8. Black Marker\n",
        "9. Pencil\n",
        "10. Keyboard and Mouse\n",
        "\n",
        "**Preparation:**\n",
        "\n",
        "1. Cut the cardstock as shown in Figure 5a.\n",
        "2. Cut the orange colored paper into three small squares.\n",
        "3. Mark the sheet as shown in white lines in the Figure 5a.\n",
        "\n",
        "**Procedure:**\n",
        "\n",
        "1. Bend the sheet at the marked points.\n",
        "2. Join the ends of the cutout that is 0.5inch, with tape, to complete a 3D model of the sarrus link.\n",
        "3. Using the black marker, circle in one piece of colored square.\n",
        "4. Glue one orange square on point pBC (shown in Figure 5b) \n",
        "5. Stick the remaining two squares below the prototype in a straight line like the points pNA and pNF, to create the base frame.\n",
        "6. Attach the system to plain paper by taping them together.\n",
        "7. Fix the apparatus on the table with tape. See Figure 5b.\n",
        "8. Release the keyboard mouse on top of the 3D sarrus link, so as to capture the movement of the system.\n",
        "9. Capture this motion by taking a video.\n",
        "    \n",
        "**Assumptions**\n",
        "\n",
        "1. The base frame is fixed and rigid.\n",
        "2.  The links are rigid.\n",
        "3.  The joints have the same stiffness and so all results obtained at one joint applies to all others.\n",
        "4.  Friction between keyboard mouse and cardstock is neglected.\n",
        "5. Translation of the joint in the x axis is neglected.\n",
        "\n",
        "**Results**\n",
        "\n",
        "1. The captured video is run through the software, 'Tracker'. The point mass is placed at the joint pBC.\n",
        "2.  The distance between the points in the base frame is measured to be 10cm.\n",
        "3.  The distance measured between the lens of the camera and the experiment setup is 30cm.\n",
        "4.  Since the joint was moved with an object falling on top of it, there is damping observed in the data plotted.\n",
        "5. The damping is shown by the plot time vs y-axis. \n",
        "6.  The plot shown in Figure 5c is based on the x and y values obtained by the tracker."
      ]
    },
    {
      "cell_type": "markdown",
      "metadata": {
        "id": "KJ-ENi2yKClf"
      },
      "source": [
        "![](https://drive.google.com/uc?export=view&id=1YH5650NvPOJbq0qpjZF2BzYd5T-lZB-7)\n",
        "\n",
        "<h0><center>**Figure 5a:** 2D Cutout of 3D Sarrus System</center></h0>\n"
      ]
    },
    {
      "cell_type": "markdown",
      "metadata": {
        "id": "33OwA4fNJ48C"
      },
      "source": [
        "![](https://drive.google.com/uc?export=view&id=1fnWSXjsLTL9qoZ70_ITwTXZUo0D0tD-3)\n",
        "\n",
        "<h0><center>**Figure 5b:** The Experiment Setup</center></h0>"
      ]
    },
    {
      "cell_type": "markdown",
      "metadata": {
        "id": "31_LDg6uLMFz"
      },
      "source": [
        "![](https://drive.google.com/uc?export=view&id=1iDWLbHqGEkDLPxJEz2LJItl5sr8pMGUl)\n",
        "\n",
        "<h0><center>**Figure 5c:** Plot of Point Mass Placed at pBC.</center></h0>"
      ]
    },
    {
      "cell_type": "markdown",
      "metadata": {
        "id": "5eBfAaCHLeY8"
      },
      "source": [
        "**Note:** You must upload the file named \"3.csv\" for the code to continue running."
      ]
    },
    {
      "cell_type": "code",
      "metadata": {
        "id": "xmblHVwG2_yM"
      },
      "source": [
        "import pandas as pd\n",
        "import numpy\n",
        "import matplotlib.pyplot as plt\n",
        "import scipy.interpolate as si\n",
        "from math import pi,sqrt\n",
        "import math"
      ],
      "execution_count": 48,
      "outputs": []
    },
    {
      "cell_type": "code",
      "metadata": {
        "colab": {
          "resources": {
            "http://localhost:8080/nbextensions/google.colab/files.js": {
              "data": "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",
              "ok": true,
              "headers": [
                [
                  "content-type",
                  "application/javascript"
                ]
              ],
              "status": 200,
              "status_text": ""
            }
          },
          "base_uri": "https://localhost:8080/",
          "height": 70
        },
        "id": "sUa-2MSL3BzK",
        "outputId": "eb1991d3-cd46-483f-8481-6da97d07932e"
      },
      "source": [
        "from google.colab import files\n",
        "uploaded = files.upload()"
      ],
      "execution_count": 49,
      "outputs": [
        {
          "output_type": "display_data",
          "data": {
            "text/html": [
              "\n",
              "     <input type=\"file\" id=\"files-a931291e-c33d-45e6-8e23-a46c3e79dacd\" name=\"files[]\" multiple disabled\n",
              "        style=\"border:none\" />\n",
              "     <output id=\"result-a931291e-c33d-45e6-8e23-a46c3e79dacd\">\n",
              "      Upload widget is only available when the cell has been executed in the\n",
              "      current browser session. Please rerun this cell to enable.\n",
              "      </output>\n",
              "      <script src=\"/nbextensions/google.colab/files.js\"></script> "
            ],
            "text/plain": [
              "<IPython.core.display.HTML object>"
            ]
          },
          "metadata": {
            "tags": []
          }
        },
        {
          "output_type": "stream",
          "text": [
            "Saving 3.csv to 3.csv\n"
          ],
          "name": "stdout"
        }
      ]
    },
    {
      "cell_type": "code",
      "metadata": {
        "colab": {
          "base_uri": "https://localhost:8080/",
          "height": 571
        },
        "id": "rO8l1bsZqlFn",
        "outputId": "dc29d24f-fd01-4201-cb0d-c72e83ebadab"
      },
      "source": [
        "import io\n",
        "df2 = pd.read_csv(io.BytesIO(uploaded['3.csv']))\n",
        "\n",
        "x = df2.x.to_numpy()\n",
        "y = df2.y.to_numpy()\n",
        "t = df2.t.to_numpy()\n",
        "\n",
        "\n",
        "xy = numpy.array([x,y]).T\n",
        "f = si.interp1d(t,xy.T,fill_value='extrapolate',kind='quadratic')\n",
        "new_t = numpy.r_[0:t[-1]:.1]\n",
        "\n",
        "plt.figure()\n",
        "plt.title('time vs x',fontsize = 20)\n",
        "plt.plot(t,x)\n",
        "plt.plot(new_t,f(new_t)[0])\n",
        "\n",
        "plt.figure()\n",
        "plt.title('time vs y',fontsize = 20)\n",
        "plt.plot(t,y)\n",
        "plt.plot(new_t,f(new_t)[1])\n"
      ],
      "execution_count": 50,
      "outputs": [
        {
          "output_type": "execute_result",
          "data": {
            "text/plain": [
              "[<matplotlib.lines.Line2D at 0x7f837ec08e10>]"
            ]
          },
          "metadata": {
            "tags": []
          },
          "execution_count": 50
        },
        {
          "output_type": "display_data",
          "data": {
            "image/png": "[encoded data removed]",
            "text/plain": [
              "<Figure size 432x288 with 1 Axes>"
            ]
          },
          "metadata": {
            "tags": [],
            "needs_background": "light"
          }
        },
        {
          "output_type": "display_data",
          "data": {
            "image/png": "[encoded data removed]",
            "text/plain": [
              "<Figure size 432x288 with 1 Axes>"
            ]
          },
          "metadata": {
            "tags": [],
            "needs_background": "light"
          }
        }
      ]
    },
    {
      "cell_type": "markdown",
      "metadata": {
        "id": "E-txUzx1qrRO"
      },
      "source": [
        "After getting the experimental results, the data from the plot above is analyzed and used for calculating the damping coefficient as shown below."
      ]
    },
    {
      "cell_type": "code",
      "metadata": {
        "colab": {
          "base_uri": "https://localhost:8080/"
        },
        "id": "ocEblz4RqsLQ",
        "outputId": "9b6ddea5-e852-4a9c-a5ed-99791f271f71"
      },
      "source": [
        "Td = 2.133/4\n",
        "Wd = (2*pi)*Td\n",
        "x0 = 0.03238\n",
        "xn = 0.03102\n",
        "n = 3\n",
        "delta = (1/n)*(numpy.log(x0/xn))\n",
        "seta = delta/(sqrt((4*pi**2)+(delta**2)))\n",
        "Wn = Wd/sqrt(1 - seta**2)\n",
        "k = 200.45\n",
        "m = k/Wn**2\n",
        "b = 2*seta*sqrt(k*m)\n",
        "\n",
        "print('Damped period of motion is - ',Td)\n",
        "print('\\nDamped natural frequency is - ',Wd)\n",
        "print('\\nDamping ratio - ',seta)\n",
        "print('\\nNatural frequency - ',Wn)\n",
        "print('\\nSystem mass - ',m)\n",
        "print('\\nDamping coefficient - ',b)"
      ],
      "execution_count": 51,
      "outputs": [
        {
          "output_type": "stream",
          "text": [
            "Damped period of motion is -  0.53325\n",
            "\n",
            "Damped natural frequency is -  3.3505085650535142\n",
            "\n",
            "Damping ratio -  0.0022763761387949535\n",
            "\n",
            "Natural frequency -  3.350517246067861\n",
            "\n",
            "System mass -  17.855924673382383\n",
            "\n",
            "Damping coefficient -  0.2723756145753064\n"
          ],
          "name": "stdout"
        }
      ]
    },
    {
      "cell_type": "markdown",
      "metadata": {
        "id": "rgT9M5vDMfCn"
      },
      "source": [
        "## Dynamics II"
      ]
    },
    {
      "cell_type": "markdown",
      "metadata": {
        "id": "xx_JDfHKCRGl"
      },
      "source": [
        "The following lines of code will initialize the code and import all of the necessary packages needed to run pynamics: "
      ]
    },
    {
      "cell_type": "code",
      "metadata": {
        "id": "ph_9ha6HZUlz"
      },
      "source": [
        "%matplotlib inline"
      ],
      "execution_count": 52,
      "outputs": []
    },
    {
      "cell_type": "code",
      "metadata": {
        "id": "I6VZY3HIZekq"
      },
      "source": [
        "#This block of code imports the necessary modules created by Daniel M. Aukes\n",
        "import pynamics\n",
        "from pynamics.frame import Frame\n",
        "from pynamics.variable_types import Differentiable,Constant\n",
        "from pynamics.system import System\n",
        "from pynamics.body import Body\n",
        "from pynamics.dyadic import Dyadic\n",
        "from pynamics.output import Output,PointsOutput\n",
        "from pynamics.particle import Particle\n",
        "import pynamics.integration\n",
        "import numpy\n",
        "import matplotlib.pyplot as plt\n",
        "plt.ion()\n",
        "from math import pi"
      ],
      "execution_count": 53,
      "outputs": []
    },
    {
      "cell_type": "code",
      "metadata": {
        "id": "SedjJZY2M69C"
      },
      "source": [
        "#This block of code create a new system object and set that system as the global system within the module so that other variables can use and find it\n",
        "system = System()\n",
        "pynamics.set_system(__name__,system)"
      ],
      "execution_count": 54,
      "outputs": []
    },
    {
      "cell_type": "markdown",
      "metadata": {
        "id": "db4eWN6XC4YM"
      },
      "source": [
        "The following lines of code will create and store the following constants and variables of the system: frame lengths, frame mass, coefficient of gravity, damping coefficient, spring coefficient, spring preloads (defines initial spring position), and moment of inertia of each frame. All of these constants and variables are in SI units. The constants derived from the methods described above are implemented in this section of the code."
      ]
    },
    {
      "cell_type": "code",
      "metadata": {
        "id": "79HRn-TxDAkF"
      },
      "source": [
        "#This block of code declares and store constants in SI units\n",
        "l0 = Constant(0.0508,'l0',system) #defines the lengths (in meters) of each frame (1:1 ratio of paper model)\n",
        "l1 = Constant(0.0254,'l1',system) #1in ~ 0.0254m\n",
        "l2 = Constant(0.0254,'l2',system)\n",
        "l3 = Constant(0.0508,'l3',system)\n",
        "l4 = Constant(0.0254,'l4',system)\n",
        "l5 = Constant(0.0254,'l5',system)\n",
        "\n",
        "mA = Constant(0.02,'mA',system) #defines the mass (in kg) of each frame \n",
        "mB = Constant(0.01,'mB',system) #1g ~ 0.001kg\n",
        "mC = Constant(0.01,'mC',system)\n",
        "mD = Constant(0.02,'mD',system)\n",
        "mE = Constant(0.01,'mE',system)\n",
        "mF = Constant(0.01,'mF',system)\n",
        "\n",
        "g = Constant(9.81,'g',system) #defines gravity (in m/s^2)\n",
        "b = Constant(0.965,'b',system)  #defines damping coefficient (in kg/s^2)\n",
        "k = Constant(0.1,'k',system)  #defines spring coefficient (N/m^2)\n",
        "\n",
        "preload0 = Constant(0*pi/180,'preload0',system) #defines the spring preload to establish neutral point of frame (radians)\n",
        "preload1 = Constant(0*pi/180,'preload1',system)\n",
        "preload2 = Constant(0*pi/180,'preload2',system)\n",
        "preload3 = Constant(0*pi/180,'preload3',system) \n",
        "preload4 = Constant(0*pi/180,'preload4',system)\n",
        "preload5 = Constant(0*pi/180,'preload5',system)\n",
        "preload6 = Constant(0*pi/180,'preload6',system)\n",
        "\n",
        "Ixx_A = Constant(2,'Ixx_A',system) #defines the inertia (kg*m^2) of each frame \n",
        "Iyy_A = Constant(2,'Iyy_A',system)\n",
        "Izz_A = Constant(2,'Izz_A',system)\n",
        "Ixx_B = Constant(1,'Ixx_B',system)\n",
        "Iyy_B = Constant(1,'Iyy_B',system)\n",
        "Izz_B = Constant(1,'Izz_B',system)\n",
        "Ixx_C = Constant(1,'Ixx_C',system)\n",
        "Iyy_C = Constant(1,'Iyy_C',system)\n",
        "Izz_C = Constant(1,'Izz_C',system)\n",
        "Ixx_D = Constant(2,'Ixx_D',system)  \n",
        "Iyy_D = Constant(2,'Iyy_D',system)\n",
        "Izz_D = Constant(2,'Izz_D',system)\n",
        "Ixx_E = Constant(1,'Ixx_E',system)\n",
        "Iyy_E = Constant(1,'Iyy_E',system)\n",
        "Izz_E = Constant(1,'Izz_E',system)\n",
        "Ixx_F = Constant(1,'Ixx_F',system)\n",
        "Iyy_F = Constant(1,'Iyy_F',system)\n",
        "Izz_F = Constant(1,'Izz_F',system)"
      ],
      "execution_count": 55,
      "outputs": []
    },
    {
      "cell_type": "markdown",
      "metadata": {
        "id": "9kta4rwNn6Dk"
      },
      "source": [
        "The following lines of code define precision of integration and the length/steps of the pynamics animation."
      ]
    },
    {
      "cell_type": "code",
      "metadata": {
        "id": "XZb-E7lkg1k_"
      },
      "source": [
        "#This block of code specifies the precision of the integration \n",
        "tol = 1e-12"
      ],
      "execution_count": 56,
      "outputs": []
    },
    {
      "cell_type": "code",
      "metadata": {
        "id": "EFaggyHPg1lA"
      },
      "source": [
        "#This block of code defines variables for time that can be used throughout the script\n",
        "tinitial = 0\n",
        "tfinal = 10\n",
        "fps = 30\n",
        "tstep = 1/fps\n",
        "t = numpy.r_[tinitial:tfinal:tstep]"
      ],
      "execution_count": 57,
      "outputs": []
    },
    {
      "cell_type": "markdown",
      "metadata": {
        "id": "-KHSEamtoMPI"
      },
      "source": [
        "The following line of code creates dynamic varibales which will be used whenever the system changes over time. "
      ]
    },
    {
      "cell_type": "code",
      "metadata": {
        "id": "ZJZZ5rblg1lB"
      },
      "source": [
        "#This block of code creates dynamic state variables for the angles shown in our kinematics model\n",
        "q0,q0_d,q0_dd = Differentiable('q0',system) #angle between N and A frames\n",
        "q1,q1_d,q1_dd = Differentiable('q1',system) #angle between A and B frames\n",
        "q2,q2_d,q2_dd = Differentiable('q2',system) #angle between B and C frames\n",
        "q3,q3_d,q3_dd = Differentiable('q3',system) #angle between C and D frames\n",
        "q4,q4_d,q4_dd = Differentiable('q4',system) #angle between D and E frames\n",
        "q5,q5_d,q5_dd = Differentiable('q5',system) #angle between E and F frames"
      ],
      "execution_count": 58,
      "outputs": []
    },
    {
      "cell_type": "markdown",
      "metadata": {
        "id": "0pMNBsjTUhhK"
      },
      "source": [
        "The following lines of code defines the reference frames of the system. "
      ]
    },
    {
      "cell_type": "code",
      "metadata": {
        "id": "9iA6ghxSg1lC"
      },
      "source": [
        "#This block of code initializes frames\n",
        "N = Frame('N')\n",
        "A = Frame('A')\n",
        "B = Frame('B')\n",
        "C = Frame('C')\n",
        "D = Frame('D')\n",
        "E = Frame('E')\n",
        "F = Frame('F')"
      ],
      "execution_count": 59,
      "outputs": []
    },
    {
      "cell_type": "code",
      "metadata": {
        "id": "s3XZwXKNg1lC"
      },
      "source": [
        "#This block of code sets N frame as the newtonian frame (see kinematic diagram from above)\n",
        "system.set_newtonian(N) "
      ],
      "execution_count": 60,
      "outputs": []
    },
    {
      "cell_type": "markdown",
      "metadata": {
        "id": "HXi0XIqlUxbX"
      },
      "source": [
        "The following line of code sets the rotation of each frame relative to the other frames in the system."
      ]
    },
    {
      "cell_type": "code",
      "metadata": {
        "id": "Ch4yhMbFg1lD"
      },
      "source": [
        "#This block of code shows frame rotation in the Z direction\n",
        "A.rotate_fixed_axis_directed(N,[0,0,1],q0,system)  #the A frame rotates about the N frame in the Z direction (0,0,1) by q0 degrees\n",
        "B.rotate_fixed_axis_directed(A,[0,0,1],q1,system)  #the B frame rotates about the A frame in the Z direction (0,0,1) by q1 degrees\n",
        "C.rotate_fixed_axis_directed(B,[0,0,1],q2,system)  #the C frame rotates about the B frame in the Z direction (0,0,1) by q2 degrees\n",
        "D.rotate_fixed_axis_directed(C,[0,0,1],q3,system)  #the D frame rotates about the C frame in the Z direction (0,0,1) by q3 degrees\n",
        "E.rotate_fixed_axis_directed(D,[0,0,1],q4,system)  #the E frame rotates about the D frame in the Z direction (0,0,1) by q4 degrees\n",
        "F.rotate_fixed_axis_directed(E,[0,0,1],q5,system)  #the F frame rotates about the E frame in the Z direction (0,0,1) by q5 degrees"
      ],
      "execution_count": 61,
      "outputs": []
    },
    {
      "cell_type": "markdown",
      "metadata": {
        "id": "KFZMKY4FVDzG"
      },
      "source": [
        "The following lines of code defines the vectors that make up the system and their cooresponding center of mass."
      ]
    },
    {
      "cell_type": "code",
      "metadata": {
        "id": "wYQR2ZgKV-h0"
      },
      "source": [
        ""
      ],
      "execution_count": 61,
      "outputs": []
    },
    {
      "cell_type": "code",
      "metadata": {
        "id": "wJr9g_9Zg1lF"
      },
      "source": [
        "#This block of code defines the points needed to create the mechanism \n",
        "pNA = 0*N.x + 0*N.y    #pNA (point NA) position is 0 units in the direction of N reference frame's x direction (0*N.x) and y direction (0*N.y)\n",
        "pAB = pNA + l0*A.x     #pAB position is pNA's position plus l0 units in the direction of ref frame A's x direction \n",
        "pBC = pAB + l1*B.x     #pBC position is pAB's position plus l1 units in the direction of ref frame B's x direction\n",
        "pCD = pBC + l2*C.x     #pCD position is pBC's position plus l2 units in the direction of ref frame C's x direction\n",
        "pDE = pCD + l3*D.x     #pDE position is pCD's position plus l3 units in the direction of ref frame D's x direction\n",
        "pEF = pDE + l4*E.x     #pEF position is pDE's position plus l4 units in the direction of ref frame E's x direction\n",
        "pFtip = pEF + l5*F.x   #pFtip position is pEF's position plus l5 units in the direction of ref frame F's x direction"
      ],
      "execution_count": 62,
      "outputs": []
    },
    {
      "cell_type": "code",
      "metadata": {
        "id": "xwuFXNPog1lF"
      },
      "source": [
        "#This block of code defines the centers of mass of each link (halfway along the length of each frame)\n",
        "pAcm=pNA+l0/2*A.x  #pA (link A) position is pNA's position plus one half of l0 units in the direction of ref frame A's x direction\n",
        "pBcm=pAB+l1/2*B.x  #pB (link B) position is pAB's position plus one half of l1 units in the direction of ref frame B's x direction\n",
        "pCcm=pBC+l2/2*C.x  #pC (link C) position is pBC's position plus one half of l2 units in the direction of ref frame C's x direction\n",
        "pDcm=pCD+l3/2*D.x  #pD (link D) position is pCD's position plus one half of l3 units in the direction of ref frame D's x direction\n",
        "pEcm=pDE+l4/2*E.x  #pE (link E) position is pDE's position plus one half of l4 units in the direction of ref frame E's x direction\n",
        "pFcm=pEF+l5/2*F.x  #pF (link F) position is pEF's position plus one half of l5 units in the direction of ref frame F's x direction"
      ],
      "execution_count": 63,
      "outputs": []
    },
    {
      "cell_type": "code",
      "metadata": {
        "id": "PNPRYkZP6Gmr"
      },
      "source": [
        "#This block of code defines the points in the system in order (counter-clockwise)\n",
        "points = [pNA,pAB,pBC,pCD,pDE,pEF,pFtip]"
      ],
      "execution_count": 64,
      "outputs": []
    },
    {
      "cell_type": "markdown",
      "metadata": {
        "id": "MUmlSNr8WA9C"
      },
      "source": [
        "The following lines of code defines the initial angle values taht make up the initial guess for the system. The values stored are then stored as a list. "
      ]
    },
    {
      "cell_type": "code",
      "metadata": {
        "id": "qI-gHJW2g1lG"
      },
      "source": [
        "#This block of code sets the initial guess for the mechanisms starting position (in radians) and velocity (in m/s)\n",
        "initialvalues = {}\n",
        "initialvalues[q0] = 0*pi/180  #optimal angle is 0\n",
        "initialvalues[q0_d] = 0*pi/180\n",
        "initialvalues[q1] = 45*pi/180  #optimal angle is 45\n",
        "initialvalues[q1_d] = 0*pi/180\n",
        "initialvalues[q2] = 90*pi/180  #optimal angle is 90\n",
        "initialvalues[q2_d] = 0*pi/180\n",
        "initialvalues[q3] = 45*pi/180   #optimal angle is 45\n",
        "initialvalues[q3_d] = 0*pi/180\n",
        "initialvalues[q4] = 45*pi/180   #optimal angle is 45\n",
        "initialvalues[q4_d] = 0*pi/180\n",
        "initialvalues[q5] = 90*pi/180   #optimal angle is 90\n",
        "initialvalues[q5_d] = 0*pi/180"
      ],
      "execution_count": 65,
      "outputs": []
    },
    {
      "cell_type": "code",
      "metadata": {
        "id": "5tN1G79ug1lH"
      },
      "source": [
        "#This block of code orders the initial values in a list in such a way that the integrator can use it in the same order that it expects the variables to be supplied\n",
        "statevariables = system.get_state_variables()\n",
        "ini = [initialvalues[item] for item in statevariables]"
      ],
      "execution_count": 66,
      "outputs": []
    },
    {
      "cell_type": "code",
      "metadata": {
        "id": "GMVxUwza6_mC"
      },
      "source": [
        "#This block of code declares the independent variable and dependent variables\n",
        "qi = [q1]\n",
        "qd = [q0,q2,q3,q4,q5]"
      ],
      "execution_count": 67,
      "outputs": []
    },
    {
      "cell_type": "code",
      "metadata": {
        "id": "Cm2P6Mde7CBs"
      },
      "source": [
        "#This block of code reformats constants\n",
        "constants = system.constant_values.copy()\n",
        "defined = dict([(item,initialvalues[item]) for item in qi])\n",
        "constants.update(defined)"
      ],
      "execution_count": 68,
      "outputs": []
    },
    {
      "cell_type": "markdown",
      "metadata": {
        "id": "0QsPbr1IWlrL"
      },
      "source": [
        "The following lines of code define the angular velocities and moment of inertias of the systems. It influences the physics of the system by determining how the system moves under specific loads."
      ]
    },
    {
      "cell_type": "code",
      "metadata": {
        "id": "H0TW2wo39vkk"
      },
      "source": [
        "#This block of code computes and returns the angular velocity between frames\n",
        "wNA = N.getw_(A)\n",
        "wAB = A.getw_(B)\n",
        "wBC = B.getw_(C)\n",
        "wCD = C.getw_(D)\n",
        "wDE = D.getw_(E)\n",
        "wEF = E.getw_(F)"
      ],
      "execution_count": 69,
      "outputs": []
    },
    {
      "cell_type": "code",
      "metadata": {
        "id": "EfQvRu3Wg1lI"
      },
      "source": [
        "#This block of code compute the inertia dynamics of each body and defines a rigid body on each frame\n",
        "IA = Dyadic.build(A,Ixx_A,Iyy_A,Izz_A)\n",
        "IB = Dyadic.build(B,Ixx_B,Iyy_B,Izz_B)\n",
        "IC = Dyadic.build(C,Ixx_C,Iyy_C,Izz_C)\n",
        "ID = Dyadic.build(D,Ixx_D,Iyy_D,Izz_D)\n",
        "IE = Dyadic.build(E,Ixx_E,Iyy_E,Izz_E)\n",
        "IF = Dyadic.build(F,Ixx_F,Iyy_F,Izz_F)\n",
        "\n",
        "BodyA = Body('BodyA',A,pAcm,mA,IA,system)\n",
        "BodyB = Body('BodyB',B,pBcm,mB,IB,system)\n",
        "BodyC = Body('BodyC',C,pCcm,mC,IC,system)\n",
        "BodyD = Body('BodyD',D,pDcm,mD,ID,system)\n",
        "BodyE = Body('BodyE',E,pEcm,mE,IE,system)\n",
        "BodyF = Body('BodyF',F,pFcm,mF,IF,system)"
      ],
      "execution_count": 70,
      "outputs": []
    },
    {
      "cell_type": "markdown",
      "metadata": {
        "id": "ziOxRGXEg1lJ"
      },
      "source": [
        "The following lines of code add forces to the system. "
      ]
    },
    {
      "cell_type": "code",
      "metadata": {
        "colab": {
          "base_uri": "https://localhost:8080/"
        },
        "id": "3Yx6k47cg1lJ",
        "outputId": "d9b5df16-d6ad-4ce3-9e9d-946e0f898480"
      },
      "source": [
        "#This block of code adds spring forces\n",
        "#The first value is the linear spring constant\n",
        "#The second value is the “stretch” vector, indicating the amount of deflection from the neutral point of the spring.\n",
        "#The final parameter is the linear or angluar velocity vector (depending on whether your spring is a linear or torsional spring)\n",
        "system.add_spring_force1(k,(q0-preload1)*N.z,wNA)\n",
        "system.add_spring_force1(k,(q1-preload2)*A.z,wAB)\n",
        "system.add_spring_force1(k,(q2-preload3)*B.z,wBC)\n",
        "system.add_spring_force1(k,(q3-preload4)*C.z,wCD)\n",
        "system.add_spring_force1(k,(q4-preload5)*E.z,wDE)\n",
        "system.add_spring_force1(k,(q5-preload6)*F.z,wEF)"
      ],
      "execution_count": 71,
      "outputs": [
        {
          "output_type": "execute_result",
          "data": {
            "text/plain": [
              "(<pynamics.force.Force at 0x7f837eb5ebd0>,\n",
              " <pynamics.spring.Spring at 0x7f837eb5e3d0>)"
            ]
          },
          "metadata": {
            "tags": []
          },
          "execution_count": 71
        }
      ]
    },
    {
      "cell_type": "code",
      "metadata": {
        "colab": {
          "base_uri": "https://localhost:8080/"
        },
        "id": "bu1YOKTTg1lK",
        "outputId": "14e1081c-0241-4ea0-b422-be9f49f732e7"
      },
      "source": [
        "#This block of code adds forces and torques to the system with the generic \"addforce\" method.\n",
        "#The first parameter supplied is a vector describing the force applied at a point or the torque applied along a given rotational axis. \n",
        "#The second parameter is the vector describing the linear speed (for an applied force) or the angular velocity(for an applied torque)\n",
        "system.addforce(-b*wNA,wNA)\n",
        "system.addforce(-b*wAB,wAB)\n",
        "system.addforce(-b*wBC,wBC)\n",
        "system.addforce(-b*wCD,wCD)\n",
        "system.addforce(-b*wDE,wDE)\n",
        "system.addforce(-b*wEF,wEF)"
      ],
      "execution_count": 72,
      "outputs": [
        {
          "output_type": "execute_result",
          "data": {
            "text/plain": [
              "<pynamics.force.Force at 0x7f837eb4e710>"
            ]
          },
          "metadata": {
            "tags": []
          },
          "execution_count": 72
        }
      ]
    },
    {
      "cell_type": "code",
      "metadata": {
        "id": "cawZIcSlg1lL"
      },
      "source": [
        "#This block of code globally applies the force of gravity to all particles and bodies\n",
        "system.addforcegravity(-g*N.y)"
      ],
      "execution_count": 73,
      "outputs": []
    },
    {
      "cell_type": "markdown",
      "metadata": {
        "id": "0qigTAnlXGOK"
      },
      "source": [
        "The following lines of code set the constarints for the system."
      ]
    },
    {
      "cell_type": "code",
      "metadata": {
        "id": "ArEXfk7tg1lM"
      },
      "source": [
        "#This block of code defines the closed loop kinematics (vectors) of the sarrus mechanism.\n",
        "#Constraint 1:\n",
        "eq_vector=pFtip-pNA\n",
        "#Constraint 2:\n",
        "eq_vector2= pDE-pCD\n",
        "#Constraint 3:\n",
        "eq_vector3= pEF-pBC\n",
        "#Constraint 4:\n",
        "eq_vector4= pDE-pNA"
      ],
      "execution_count": 74,
      "outputs": []
    },
    {
      "cell_type": "code",
      "metadata": {
        "id": "Hy1gJo51g1lM"
      },
      "source": [
        "#This block of code defines the systems constraints based on the vectors listed above\n",
        "eq = []\n",
        "\n",
        "#pFtip and pNA have to be on the same point\n",
        "eq.append((eq_vector).dot(N.x))\n",
        "eq.append((eq_vector).dot(N.y))\n",
        "\n",
        "#pDE and pCD must have the same y coordinate in the N frame\n",
        "eq.append((eq_vector2).dot(N.y))\n",
        "#pEF and pBC must have the same y coordinate in the N frame\n",
        "eq.append((eq_vector3).dot(N.y))\n",
        "\n",
        "#pDE and pNA must have the same x coordinate in the N frame\n",
        "eq.append((eq_vector4).dot(N.x))\n",
        "\n",
        "\n",
        "eq_d=[(system.derivative(item)) for item in eq]\n",
        "eq_dd=[(system.derivative(item)) for item in eq_d]"
      ],
      "execution_count": 75,
      "outputs": []
    },
    {
      "cell_type": "markdown",
      "metadata": {
        "id": "YTWC_KcUXSdI"
      },
      "source": [
        "The following lines of code create figures and animations of the system. "
      ]
    },
    {
      "cell_type": "code",
      "metadata": {
        "colab": {
          "base_uri": "https://localhost:8080/"
        },
        "id": "Gfsz5gdWg1lM",
        "outputId": "9cf9f3c0-53a0-4fff-934f-7f76f4f833f9"
      },
      "source": [
        "#This block of code calculates the symbolic expression for F and ma\n",
        "f,ma = system.getdynamics()"
      ],
      "execution_count": 76,
      "outputs": [
        {
          "output_type": "stream",
          "text": [
            "2021-03-31 09:03:45,732 - pynamics.system - INFO - getting dynamic equations\n"
          ],
          "name": "stderr"
        }
      ]
    },
    {
      "cell_type": "code",
      "metadata": {
        "colab": {
          "base_uri": "https://localhost:8080/"
        },
        "id": "QFCBzjyEg1lN",
        "outputId": "c2880bfc-89fe-4df1-d4b3-0b4b1572cc42"
      },
      "source": [
        "#This block of code solves the system of equations F=ma plus any constraint equations that have been added above. \n",
        "#It returns one or two variables. \n",
        "#func1 is the function that computes the velocity and acceleration given a certain state.\n",
        "#lambda1(optional) supplies the function that computes the constraint forces as a function of the resulting states\n",
        "#The below function inverts the mass matrix numerically every time step.\n",
        "func1,lambda1 = system.state_space_post_invert(f,ma,eq_dd,return_lambda = True)"
      ],
      "execution_count": 77,
      "outputs": [
        {
          "output_type": "stream",
          "text": [
            "2021-03-31 09:03:48,081 - pynamics.system - INFO - solving a = f/m and creating function\n",
            "2021-03-31 09:03:48,120 - pynamics.system - INFO - substituting constrained in Ma-f.\n",
            "2021-03-31 09:04:00,937 - pynamics.system - INFO - done solving a = f/m and creating function\n",
            "2021-03-31 09:04:00,940 - pynamics.system - INFO - calculating function for lambdas\n"
          ],
          "name": "stderr"
        }
      ]
    },
    {
      "cell_type": "code",
      "metadata": {
        "colab": {
          "base_uri": "https://localhost:8080/"
        },
        "id": "XZTcadaMg1lN",
        "outputId": "02d5f1d7-aaf1-4ac6-f929-923149b70e9e"
      },
      "source": [
        "#This block of code integrates the function calculated above\n",
        "states=pynamics.integration.integrate(func1,ini,t,rtol=tol,atol=tol, args=({'constants':system.constant_values},))"
      ],
      "execution_count": 78,
      "outputs": [
        {
          "output_type": "stream",
          "text": [
            "2021-03-31 09:04:00,957 - pynamics.integration - INFO - beginning integration\n",
            "2021-03-31 09:04:00,959 - pynamics.system - INFO - integration at time 0000.00\n",
            "2021-03-31 09:04:09,033 - pynamics.integration - INFO - finished integration\n"
          ],
          "name": "stderr"
        }
      ]
    },
    {
      "cell_type": "code",
      "metadata": {
        "colab": {
          "base_uri": "https://localhost:8080/",
          "height": 281
        },
        "id": "EpYdCIVzg1lN",
        "outputId": "22d79720-b47b-42c4-e20c-a753203aa39a"
      },
      "source": [
        "#This block of code calculates and plots a variety of data from the previous simulation\n",
        "plt.figure()\n",
        "artists = plt.plot(t,states[:,:6])\n",
        "plt.legend(artists,['q0','q1','q2', 'q3', 'q4', 'q5'])"
      ],
      "execution_count": 79,
      "outputs": [
        {
          "output_type": "execute_result",
          "data": {
            "text/plain": [
              "<matplotlib.legend.Legend at 0x7f8382f4db90>"
            ]
          },
          "metadata": {
            "tags": []
          },
          "execution_count": 79
        },
        {
          "output_type": "display_data",
          "data": {
            "image/png": "[encoded data removed]",
            "text/plain": [
              "<Figure size 432x288 with 1 Axes>"
            ]
          },
          "metadata": {
            "tags": [],
            "needs_background": "light"
          }
        }
      ]
    },
    {
      "cell_type": "markdown",
      "metadata": {
        "id": "o7CaAy17Xm9l"
      },
      "source": [
        "A graph of the energy shows the energy high when the motor is contracting the spring and slowly decreasing as the spring is released. "
      ]
    },
    {
      "cell_type": "code",
      "metadata": {
        "id": "C9sczuc64_g2",
        "colab": {
          "base_uri": "https://localhost:8080/",
          "height": 297
        },
        "outputId": "5e84e02c-7c59-48fc-da3c-a06c53397ef1"
      },
      "source": [
        "#This block of code calculates amd plots the energy of system\n",
        "KE = system.get_KE()\n",
        "PE = system.getPEGravity(pNA) - system.getPESprings()\n",
        "energy_output = Output([KE-PE],system)\n",
        "energy_output.calc(states)\n",
        "energy_output.plot_time()"
      ],
      "execution_count": 80,
      "outputs": [
        {
          "output_type": "stream",
          "text": [
            "2021-03-31 09:04:09,745 - pynamics.output - INFO - calculating outputs\n",
            "2021-03-31 09:04:09,943 - pynamics.output - INFO - done calculating outputs\n"
          ],
          "name": "stderr"
        },
        {
          "output_type": "display_data",
          "data": {
            "image/png": "[encoded data removed]",
            "text/plain": [
              "<Figure size 432x288 with 1 Axes>"
            ]
          },
          "metadata": {
            "tags": [],
            "needs_background": "light"
          }
        }
      ]
    },
    {
      "cell_type": "code",
      "metadata": {
        "colab": {
          "base_uri": "https://localhost:8080/",
          "height": 313
        },
        "id": "SI3yNvQng1lO",
        "outputId": "cd027bcf-dbf2-4a05-f270-933624acaf8b"
      },
      "source": [
        "#This block of code calculates and plots the motion of the system\n",
        "points = [pNA,pAB,pBC,pCD,pDE,pEF,pNA]\n",
        "points_output = PointsOutput(points,system)\n",
        "y = points_output.calc(states)\n",
        "points_output.plot_time(20)"
      ],
      "execution_count": 81,
      "outputs": [
        {
          "output_type": "stream",
          "text": [
            "2021-03-31 09:04:10,258 - pynamics.output - INFO - calculating outputs\n",
            "2021-03-31 09:04:10,348 - pynamics.output - INFO - done calculating outputs\n"
          ],
          "name": "stderr"
        },
        {
          "output_type": "execute_result",
          "data": {
            "text/plain": [
              "<matplotlib.axes._subplots.AxesSubplot at 0x7f837ea08490>"
            ]
          },
          "metadata": {
            "tags": []
          },
          "execution_count": 81
        },
        {
          "output_type": "display_data",
          "data": {
            "image/png": "[encoded data removed]",
            "text/plain": [
              "<Figure size 432x288 with 1 Axes>"
            ]
          },
          "metadata": {
            "tags": [],
            "needs_background": "light"
          }
        }
      ]
    },
    {
      "cell_type": "code",
      "metadata": {
        "id": "AUr6M3G15SSm",
        "colab": {
          "base_uri": "https://localhost:8080/",
          "height": 230
        },
        "outputId": "f4a48321-84b1-49ff-facc-48d4b20bbeff"
      },
      "source": [
        "#This block of code produces a figure of the animations end position using matplotlib\n",
        "points_output.animate(fps = fps,movie_name = 'render.mp4',lw=2,marker='o',color=(1,0,0,1),linestyle='-')"
      ],
      "execution_count": 82,
      "outputs": [
        {
          "output_type": "execute_result",
          "data": {
            "text/plain": [
              "<matplotlib.axes._subplots.AxesSubplot at 0x7f837e994e90>"
            ]
          },
          "metadata": {
            "tags": []
          },
          "execution_count": 82
        },
        {
          "output_type": "display_data",
          "data": {
            "image/png": "[encoded data removed]",
            "text/plain": [
              "<Figure size 432x288 with 1 Axes>"
            ]
          },
          "metadata": {
            "tags": [],
            "needs_background": "light"
          }
        }
      ]
    },
    {
      "cell_type": "markdown",
      "metadata": {
        "id": "ud6geaCTXrp_"
      },
      "source": [
        "An animation of the sarrus link shows the motor contracting the spring and then slowly releasing it. The sarrus link starts contrcated and touches the outer walls. As the motor releases the spring, the sarrus link will extend vertically."
      ]
    },
    {
      "cell_type": "code",
      "metadata": {
        "colab": {
          "base_uri": "https://localhost:8080/",
          "height": 308
        },
        "id": "97wloNlTg1lP",
        "outputId": "cac1ee7d-906f-40ee-fec6-48db773332c2"
      },
      "source": [
        "#This block of code animates the figure above\n",
        "from matplotlib import animation, rc\n",
        "from IPython.display import HTML\n",
        "HTML(points_output.anim.to_html5_video())"
      ],
      "execution_count": 83,
      "outputs": [
        {
          "output_type": "execute_result",
          "data": {
            "text/html": [
              "<video width=\"432\" height=\"288\" controls autoplay loop>\n",
              "  <source type=\"video/mp4\" src=\"data:video/mp4;base64,AAAAHGZ0eXBNNFYgAAACAGlzb21pc28yYXZjMQAAAAhmcmVlAAD6WW1kYXQAAAKuBgX//6rcRem9\n",
              "5tlIt5Ys2CDZI+7veDI2NCAtIGNvcmUgMTUyIHIyODU0IGU5YTU5MDMgLSBILjI2NC9NUEVHLTQg\n",
              "QVZDIGNvZGVjIC0gQ29weWxlZnQgMjAwMy0yMDE3IC0gaHR0cDovL3d3dy52aWRlb2xhbi5vcmcv\n",
              "eDI2NC5odG1sIC0gb3B0aW9uczogY2FiYWM9MSByZWY9MyBkZWJsb2NrPTE6MDowIGFuYWx5c2U9\n",
              "MHgzOjB4MTEzIG1lPWhleCBzdWJtZT03IHBzeT0xIHBzeV9yZD0xLjAwOjAuMDAgbWl4ZWRfcmVm\n",
              "PTEgbWVfcmFuZ2U9MTYgY2hyb21hX21lPTEgdHJlbGxpcz0xIDh4OGRjdD0xIGNxbT0wIGRlYWR6\n",
              "b25lPTIxLDExIGZhc3RfcHNraXA9MSBjaHJvbWFfcXBfb2Zmc2V0PS0yIHRocmVhZHM9MyBsb29r\n",
              "YWhlYWRfdGhyZWFkcz0xIHNsaWNlZF90aHJlYWRzPTAgbnI9MCBkZWNpbWF0ZT0xIGludGVybGFj\n",
              "ZWQ9MCBibHVyYXlfY29tcGF0PTAgY29uc3RyYWluZWRfaW50cmE9MCBiZnJhbWVzPTMgYl9weXJh\n",
              "bWlkPTIgYl9hZGFwdD0xIGJfYmlhcz0wIGRpcmVjdD0xIHdlaWdodGI9MSBvcGVuX2dvcD0wIHdl\n",
              "aWdodHA9MiBrZXlpbnQ9MjUwIGtleWludF9taW49MjUgc2NlbmVjdXQ9NDAgaW50cmFfcmVmcmVz\n",
              "aD0wIHJjX2xvb2thaGVhZD00MCByYz1jcmYgbWJ0cmVlPTEgY3JmPTIzLjAgcWNvbXA9MC42MCBx\n",
              "cG1pbj0wIHFwbWF4PTY5IHFwc3RlcD00IGlwX3JhdGlvPTEuNDAgYXE9MToxLjAwAIAAABOIZYiE\n",
              "ADP//vbsvgU1/Z/QlxEsxdpKcD4qpICAdzTAAAADAAB4HShe6DhKq9DAABtwAHcp/weIz8wFFyd7\n",
              "vieadJrAtwS6ZpwVwINrqX5j62UsTqeb3F2NN9aFmLqgoQu69KREQjQilCTayPn8zNN/nvm678uS\n",
              "JRFsx5M2l9vbJ1cCz2m5hlliofSYX3LuRB+FLJR+e147DnYTqJcpltS54xIOUgpgWyIdyrqcMRUW\n",
              "isAXoc2bjzbKfaCk4twwkIxGzml0JOHZAStoKVYvolfNPn9LFtn4tOQOWs8THX70ZouKHd50tKaj\n",
              "l6jYcjPAY8Pq9qJ3pXSErRcLOroEgMDK/+3/oJijU6uHijB07593YjMqTlp08a8fVupseYywmblc\n",
              "6H8LLgeutjq5WCc8Zi7XdSxjo0AWn+GmcmepOTvZH7xlQClKu6MmoCx4Ad/Jqg9/At9HbbOgOQuw\n",
              "jbgp+C/S/dgJCW07TGbbYpPTgyQjXXjeaMBakJjofp07RCp3qEksMtqzzx9zKZZdlRBYcIyMPD/8\n",
              "v+zMbVvjh/zzSAwyfOBVJNs6m6P6g51Eklbmp7wat6ehIqm42KE5lHl3G8jcZj38fJHq/NegxOU1\n",
              "mQx7LEaprIFqKX9sw+wtZxCI24/ThS3Q6lRVjuLUQ17gVRrL1osjkFXj4tE+NXT/wBepQ+Kng32+\n",
              "fwoOu22m8YyjhJKNbEaNQmRRfsp9YEAJMwyaqW8TCdZM7cjPehU1jlQnh+890URZOfQtBbehVNyH\n",
              "qfMC+wKKNfTlhXc/o0h6/Jdjj15o3S4HhnjYeIrpnc3yuuBxDoc3pMRRhATg9lRQNCncQWhOPySq\n",
              "RZCR6VmzLPoK9bdP8ne2escKnKZeJYxzKMU4rUSxvKJlypK6WAGl708NRC7h1RGdbvguzxPfo8Xy\n",
              "UL8YEfwi0Q5+t5v/hv+mpefwc4Bl7Jg/8P7t9VgSzbj8XvqbiucAJ04kGBAnT7GGQ4SS6uQ8nYWe\n",
              "VaYQGNG+LolgSDc1HBk0UCFbDpd9lA/b+cpdnLkNuXoIy4NwxArMX5YW8T42NKxKr1pjNELzIycg\n",
              "AYjjKWISe3E/GLydgJueoHjxhAeNPbFEYn6pZmqXswCU8i4JLA3vENcAsd//CumIan3yMHUT6f2x\n",
              "vTNM6YDXK8Z+QVlyO3rgVd9FW+/g7uMATbtiRUXqWdYGCkBjCBY5ssmWksDp2WKxaeBB4StdWlku\n",
              "bJC+heT7NRg7JXxdLKb3az1ZVa65QaEuxFk47gkUb7kwcTGI/6sHaOJsdz211bmql4tm99djAR71\n",
              "DblsSHJTO7lUx+QeUTQloJI9qd01+yEGo0bzSqwjuwYZR1fNKsfRYOK7zvfxVErOzgge7fp3Cjls\n",
              "C/9QCqkM09POJoIj8h8bXdZaBuzm4uvvtRpW/BWk3FGA0W1IYqW5aSCoRMaHIaXu4DzhD9ewOPG2\n",
              "y8Aoj8FKiEc00qnA5TAol+FSIZOvG6xdkJR6FZ/QlqOKIfH1g7NKcPAi8izkNQ0iB0vDDsYE4yND\n",
              "0+y458EelWAEoQ5Sfk4m0M+NJZqtd7+P4FoqfizqQn9b6dgM3xFP7MU1OnRsZDDXUZE01L4Zki2b\n",
              "tzAWNVoHRM2X0Q9MK0qK7gaUj64tRvczGlqd9hTNGDOBE7ZIA/p1jEZZ0c1HLpVX5xAlatUZjLmH\n",
              "mOU8kh1zSXlvR71r34kOZgxq/gQVY585stcestEDiUKW119QluLmBUNKlc88pgC8im9HkPuwJ/Kb\n",
              "YT579OJTXYx2HxTFwMDSRJOkPw12FJiycqDWERFuoaR0plqUDAeRecfBp/UnVE4XOkZcvtWxS/Zc\n",
              "2pcMhZlpNVCXFglnCKA4mBvCyQFOt8ajZlhW0ZAQKZ8ejaz4zSMD6ZcAAAMB88Y0uEyRKblguVxI\n",
              "m9NAD7M5dq2aIeb2Bp2v06KTWoTiNsz/j2gprMEEGDu+j1AWcRjRhb31MRtsT7Cy/6VvgTLA43a4\n",
              "uvWVcMY3ZuMwLho3sOhuib5CtGs25TgdlvMwpv0IUCRc9iFMcQ9SZZVztKmoK3olPttYHGW0nDHW\n",
              "j1qu3WusJ8ZkysMofGwfgMw11qsE2zZniTfKGNAL+e3u6XBOAOBzyXpfUNbX+7fy7Ns7iyGp5tmV\n",
              "SvRDDXzrXkG5xmAj2eGIusa8gYXM89IX/iPMxkLUrE5acFnyU6eUCncFxDVXKbtr1h/kgVd01dKm\n",
              "aSX8LFBhBw7pNGuIJxkjCfqzwFru3EhVN5z7aND/WQfjtEXCwYJh/1KpellP48uqhhbCcqy0cljO\n",
              "rrSk1ZBHlFMYjhSTkOY7GmjTeevi+c8EGV8lvZcbAMrnIjWu9REAGMDoyA2SAenNJwa9GXJLhAGF\n",
              "ilsyj/Cl2Y8Plq5UWyUTbDIpnah5PJMjjQxMn8tMeljtkr9600+M4LkEHxOYWZV1E/DROgIm2Drg\n",
              "R7urOONW07cy5fpmYyUx7RE1dztyjp52q+x5UrkyuiAQDD5TytVRfSX9iP3qlKeedzLwcUaChHhH\n",
              "B93BOK5Xqwm7KIDKIXdWM13tVjHKH0WkXd5frux4Z9onWsyJ6vtu53IWFaFnVldr1Kiwmn7QLSa1\n",
              "Q2zYTsiHlU4F8Ym7fV0QCxXDLxJpr5TtAlYG1c3msKzXk0UKD+qvWOonhFkZxH65sKxsFylMD2NY\n",
              "e5af2DFhLah2AwdlUWLF/oJr2Vj3Dk76kPeT006vdLGmHEZ6UJ+L+e+jcHGGlugfrONd5qAkoTno\n",
              "gkdWtAg3B1dOBwaCLli7wjPgfmobBVIYtY57szY7M7ds6/J5krqI6C5/k2ze1ToAAcO/Qe6VzGW9\n",
              "hXwv6+Y+WlpMNUGn82/DFHabzpEgi22EvhW9zf77CgJ/b8jqGIfchFrrS88SuVN5iAPr+t0s7WgQ\n",
              "FUeRjzGzJocDUm9f0ivx1L7yWGMekZQVMxIxM+UWMIlLbgj/yltbF2jr+gPR4kktMVo4YcdKDOWl\n",
              "J3eCAVbs56BUmI7Y/1pr7of/f/nvik80ivWLY7pEX1SqaZLEld8rfU1C44qJaRPpy9heAJwtHxm/\n",
              "cIuYjmqvfgZngayGNxbWUG0fuKqilJ1MppU4ab42lYv2u2+frdt99cB5FZgvMcmHYxPooPK21Jrs\n",
              "RB/K0cUGyVPvebh7MDJ/pGjizFCbU1djwPA9HnPY4N1a888pJCw/0F2yg0rwVbaOJ+dlUKKaE9Cp\n",
              "5areXqqx3XL/mHHazq2pQvwBy4DV2J2kykiSfGNGG+mtfJDV5X4FmVV7dFhn9lD8+l2b+7mvkHPW\n",
              "a94UWOrg0QcjI1k65QJeCsptACtZCwAT7+TtQGOZxK5J/5Wud2kAMk69MHI+yboHhfUx1iDlAikb\n",
              "US3Qn3NeV4kSoBiFzd7zCfWvMn+z4J//99cjVks0XpW0StvsA/TzIwWDl7Ejm8hjxpqQDpWCG9wJ\n",
              "uXH4bWAiYWmGxYpEeyrWpXg9woMjanyejvVjC/J1HAK8S/rmdHgUeyApH2/kfkJHuHr4XDoFKkM0\n",
              "7EtKYLxf9H9x6DuwppOiPeXvu6j7q6nmkWkpMnMiur2oJ5WDoakDUPTfIre4xULjIQpa9Qp+MOYd\n",
              "UsZ9Qz/cJCTfcZPLTFOltv0LGLCbn2AYluPRQ5R11WuPyNpqs0XTBjA1A7erZQI10O9uYmQh7Iw+\n",
              "zLB0G0G9rvyG4OcROZHrZQKwLVauhxhvylDntYVuxLhTRF5cjBVGMVJLkkRbD/uLBisWcBABXiv8\n",
              "bYeHOtMIHxT97KtaleD55/4XZpYQ/62kMavjN5AjF/pwdhAoaUWeMkOCFYqOTy6mBKDj81ghx64i\n",
              "bYL9pzQJpxy+YHdkNjvw1noyEb8dpSKM5vjA9ghWN74yI6JCDrlGEfMisSpU01MjULjev7gTBJEP\n",
              "12kFcXOU6B5FO+cTCu73yURBj/wDutwIQJsUwXiQtu6PW+YA0jEqFRbI7DllQsJtjnsvTzkWZ7WI\n",
              "s2osOwY/E3m9CwBMw7G/q7K/dl4TTL9rVV+9Y18JMFf+AXa+T0EKARF/G0XS4R8irjo4nLIy6MfR\n",
              "BU0illILEecfWrhxcPG8pAAi6+6Qcei6/IXdK6+cUMxzJFBUdzb2rQQ/ki1DhjwDNp4up40/Rvnz\n",
              "eSLCMJYb6W6uO1iGL2KrB5HX6nylrBbcNx+lgo5EJAAjmA+yt/2CDzLs6aIx8BLwreNMjdN2u2H4\n",
              "qlwxbGl/gRmVA/xrHOiAJREmSmB1VuUjPJjYvXZnMZkFM47bJu8BXXc3GLk8luQ9xZO0rG5C1+to\n",
              "H9vonobUYyyum9tWfmr6Ust9ES/nbj2w19D+pygJBx9uzNPhv1bJnpvQGY/yOxOehxSs8NAtpwT9\n",
              "Qt6XJGBceXrhixtFYguuxQ0botd3t8sGywj2Uhn3J9fQo4WIGBIqdUw657hJRu7LsNFWieVC/CFv\n",
              "6yt/IWR8tunlIiWNigii7HnY0szBgt1w3g9S9FCAgIGA9ip7awqkzkzRFynybZBEB7Ag+fX3YGlJ\n",
              "FdSJsWfRFJIhwsi/7z7fCLbLhzJNYVqWBvMaecPv4bmtjEHNWStvgQhPEdLc4tYXMNxPZ91JtDYQ\n",
              "v4pKxo4l2NAWExm/jlHS7MUXkghPfm6w6hCL1bwRLBh6U6c80Dac0Dk4CYxwsQL9ZgS3wSgG8Uk+\n",
              "CB8RtwkEEHVIJr5yU6JJiaSXKBN0bzQoEpWS3NsnMIcl574zyv8Io2MVYT26Yh85dqn1FBQ/VPHM\n",
              "vcf7hr2PsE7vgGveqoWTAWMB4rZxeZLw718wcknVvbecJghaVO3XLAJFpRLmCrMjupkRVm/jUp1t\n",
              "vYDSR9PUYCkaquzMvDy4FzI93K6ol+uB/KQJD9szx8ptNLGgQ2PDQLihd8lIN0RpneF6fPG8f/8W\n",
              "BQR/65fU906jmdKJzGfOzpLT16VctIAFndfZcLWn3MFqXIPTQ1tIEQoytWibz53LNtOsQz4ejyqQ\n",
              "AhtsXlzmzoM41M+XoGoxYzv0FpKUr9w72tZqKkaU/j14rMuTxBrbm5NEVnjL5O9D3oTnvoM9Ows6\n",
              "vvBvSinUf58VAZPE1ygO7V1YNeJjTP8r87CoWe0Il5TuMnJUL50tRzN0Ls9aA+Bu/tKbvkrIAH15\n",
              "WUyiCK79SbnJ9lBynha8W4b1N5b6QpFolAHIc6VlX/rty0PLi4IQ++f9eH2Ux53kRljapgDa2JXL\n",
              "X+W2xG/7V592de7hKg23fKKexHvDJx90ppzlZoWPO0lD45oYPILwmDysh4Ta92TlGNVtzVGh02ov\n",
              "ymVoo3GC/3YDr6QFfMEe2aP8cfMAfNAZt9DgLScgOkqIhkYQY+klSfa9HhX2MP3X7v5/HQPMXs/8\n",
              "oOegJ5yLhGjRAMOWwfzjKnHENdL9LaJqjSxPLHiUwMfV4QQ3kiSUdleYpHCF736pO68tM+9z6ouJ\n",
              "Ilp2pZLnDhtRccEGF/eD701gWZ8eJ6/kAyXA5IjZrX5bmaHtgHxXqTmP0i5Zdvs9Nkw6a94T40EI\n",
              "ugjbts5aT7y3chTlfE9MGHMA0EmNGsVQO1gyYiMK3QjiosrOCAtrdok4hZuSEm6DSgqR1p3qHc1d\n",
              "7No5phekMcy1YB0m6MbqLdIoIBfOWT5SbAJRMBGWFeKEa9N0XiNd8KYe7eqnRUto0dfCbY7/DMzD\n",
              "2yR2296Df5u4qencsxNmC/ToWd7DK6YcnOd0/SfEeUiX5TJ9LGZScqU2fiop371ckhGEhggPwmql\n",
              "2pB37EBf7UHafeh+rwqWiuERcNjNCGyxvBYCDpkYl35b8/0rKK1k3ILuvmbV89NijXaIg78kOaJt\n",
              "vuIm8sUA20+hPFpyBBlT2vgkOCUpn5NWVWPwyhrm7lUO0ggiQiKe2APcVbnOWV5dwW+wNeIG62wI\n",
              "Qf+wg1+6u19OcP3cf+gZ302uzOes+CH/ywCvXH/ueY6CIVEF4zTk6EpZm7YDTki7chcCDcLeuEF5\n",
              "Ra7y1b8U0bezNy3xTy+RJKgyVyKu4sxlZsI9WYO05+FPKIV8dXTJWUKViG9z677HqUcAaO/WvbF2\n",
              "QScCCL+iiJ+wPHVI4LGIi9PGtULI0RCQmH8aoP8Jgl+Lxqh1FZ5Xy289fdNtEENYdzcavIpFctVj\n",
              "UbTvNSImBOuVFaNTRxgt+HYZGb6LDg9FBlrarLw97pAezYoznEQl8GOfMRtYzvt/WD3AkqPVNiVY\n",
              "LwDlYvxuLgKqPv6WjHhkeomZ3gwa+5/8EbgPziBlcMezf7AOIMB4CTRFuqc0QQTHTZqBCNveoPtN\n",
              "0Trzss1u1GZ0OrAy4eYliwQo+17c085FZv8hxHP/RPm9B2qG+U+ZIFjI38xhNFiY82+mFoljiN6y\n",
              "hzaRw/Tz463JkgqTPdLG3BIYcQUgl8uOrBE4aRWZ9F3e2+6hxnn40jMrGb+RQHBPKde/tissQ9tZ\n",
              "ZztNEJNpQmmjqDu7t9b02haF1QfpkakfcVgN1wlm2ndXaxvAakmaQsli1eI7QL5SaYUjKIQkcs40\n",
              "HNacfhnhLzYi6LIausJe05YiGcW5OrlSN+MAXe2ReTwBuWGTk/9KqMqpEHRKGcuBV6PfYJDHnR/B\n",
              "9eSXAVD4DrP6RycbDCZqc+d4NH8hD9tnLzTAlRma4LT26qj/0H6qMz7m1o/gFASOesJcYv8GT9dT\n",
              "1GblukB6O6X7VGK+OAxrosD4q+f+MgC83B26Y0fLCTAGYAAAzIEAAACtQZojbEM//p4QAfBSHID/\n",
              "PuE/fWhk/nhevUz6Wdcmti3ySE5F2GFXXt/slJZde/GG9sQ31KlPjBA1FdR3U1iA8XrXYaj3WyVf\n",
              "vCoXx2DZ4/S7doGbBfmvaPpTBfvJ5nR6eSsWmhDfBf1+QSNWid8kdkgvMwgXO931GxCC5EXf0Vnb\n",
              "AZTemkJcMVT8eYHQzDtfiVlW++DN4BuU2ozBck+B3HXO8KFas62oZGlgZnYAAAArQZ5BeIV/AFil\n",
              "HsfZYpwOA6HZMojSJBWC97I2La7ypG0nWAv14QH+yyBhcQAAABkBnmJqQn8ANM8mdFqCD9k1iYPu\n",
              "cU0D7iZgAAAAXUGaZEmoQWiZTAhn//6eEADDvVrgC/GqT6RUsNUxBuKRF2ubeWKRkHG5mXTon854\n",
              "KuU6ExLvPDcPSK+WdL5NtDzyGE3896GeFKuN0ze24G2bi7crGKkBw5l001OtCQAAAOZBmoZJ4QpS\n",
              "ZTBREsM//p4QAMOK+sHgAdI2hzvcvXw7JN8jiyBnRhHEm1IGrXSz3cjyKigqlC00HW2W5APHKYSf\n",
              "adYE0aeaJvQVv5/AffRWlkKzO7gu8iiypSYAw5/3+7anxYv5IhJVX+zJkAIMBLaNvl7DI7w6WwG6\n",
              "vAgNPt3bBR2Ukuk1gotv68YqG2QeY3R8ZNtNoYyUhNvDWRKrOShpjY+PLNQkqupUKIgmLnopBgQe\n",
              "ZpWZems0+u1T5YgqbdQhSUayKjfkZJRpzrpYP88FCzs6h7UmzOK2aoaVmhTiwt3XSNBZwQAAABgB\n",
              "nqVqQn8AcSbveCHzkPjVOjs2iMu7RX0AAAEIQZqoSeEOiZTBRML//oywAMVAQOATXgpnXNnit/sd\n",
              "HPbD+qlN54hq+iMaDrbVcjqfnoE797PMvRSyZ/4ynj2svIvu60dUaxqDA8VsIxVbV3LaKPH3PhoY\n",
              "Baz1UxeE8rcUGaltO9LbXih2/dtSJtIuHY8sDGfp0n/5Ik8dN9/e8AAAMBY8QyZ83wvMEzlBNiXo\n",
              "Gr7iixjfAoW5nkGggGzBQ89tUAmQINdnrapWHQLuXZi44VDN/Kg4z6vyK5Jeosm9hJEw4/mYl7nf\n",
              "UqAcodYlSImUCfaZcJSTTrDPxQ3O6/MPXP9HXpF51+NwA5RmeTNF0PMjOub5uUymEDc1o9MAnwDY\n",
              "/VPSvLKnAAAAFwGex2pCfwBxJu94IfORFgEeuyhQkSvwAAAAk0GayUnhDyZTAhf//oywAMVAaZAC\n",
              "EQVfa4Qs3TiDKqt/la2iWBv/1/7jXU+kno30HGYrwmVA7auT36ua2AboZjxQoyLxB8WnqzasYE8f\n",
              "TpG/OPXabblwCXMtCPXeyJaT9QtbVY3Ck6Bu5jtqoentDz7UvxUobByjksvcllaLkO7CKHf8bSbz\n",
              "DSrELgOX+DvCXECLgAAAAP9BmupJ4Q8mUwIX//6MsADLcJz6DFAE78+sTyXLC0pJUsA4pRkmdHhq\n",
              "E0+95gUMvBCDRwCbpfQlmsWtqh3uI8dlmdkWoUbAKq6VOWnNIpq3XisxoyoJD5TQyhpp9szJyvM0\n",
              "ApbisddVjNgWPU8JQIf97taXuRhEm+VafimBDwGdZmC+S7i7VjBaWubDf3Jckh7BqY9FRmE1azhz\n",
              "w/lfGdsgu2DIkzeySiVe+kGYKJyUJiVLTF5wq8ZWZvTjJvAkLd69tIhntq/5M98AcKAPFuMtOl6a\n",
              "aM/nk/Tun+K7WWqKPPkpxfTdQ+nUvf+IM4P2Z2xnofLCSvWWxyJ7jGNQITkAAADvQZsLSeEPJlMC\n",
              "Gf/+nhAAw718cAcJCmHU5scm1Hp4VG/m2ITcgoBr2PnfsVKWtpt1NhTBJ8pYauamguBeU07bCKCU\n",
              "2eURdGgDkf/NStgzhPLMWvOkCd1vQEVOnGScHh7pSKkNC8/dzbDhLdxsU3J4L65pEv581L7/yHzE\n",
              "+NmlFTV+e15d/PV0uzYYogotxdpmIoCwVw780DDtE6NqIciOv74R/FN5Nbsv5qcerBRZW3PaohsI\n",
              "BoC9iKOoSxyeW0So4fQiF0NddziA9zVo2JcjytcPt6/CIbb+SqoaRJV4v18f+rX17MCkgzmXDrsK\n",
              "dUAAAAEMQZssSeEPJlMCGf/+nhAAw793wBfuvgTdbih2RTL0POLg2EIIHzYjdif+zdsf6r5rT3BN\n",
              "ukREJUxgefjDWU3TgJyF1xAcykASgKKmuLeNC+yxQvw/mQhaM+TfNDB9XDs6+ydF3IZXV+7pk5bC\n",
              "D863Xs7tZp5pzbJdIu4Ne1rpqy3LLZkpyfFXTDqf2PxlcrS3d1ep01YeU5hM6GQpcTjcKB10fWuP\n",
              "Ix2nSFXGh4sKmtSlKhUoqN7kVKnwqIHfEL0zKuF0Y8Y97/7BBfaLXAINg5ZacTLW/GhG0+vikaGm\n",
              "eNIGelZyNQ7pgBARAzVHeTguHyXZ7qniGHkJ+bhe4ye47puimBAuo5PdjsR6EAAAAWRBm01J4Q8m\n",
              "UwIZ//6eEADDvYQAAV0vV6eHyCm9IongG71ERfgXgcSRSvhP3O3zKWe7keRUUFUoWnPoOZDS6yHR\n",
              "scAAxT3VNmilq0kVrKrwK47QBqKa0VlmyXBmzmbIwvdLtyDjEvYrlODHFHfJWSmhoeJHRdzX3u1q\n",
              "ZkCERHnhDoc0tWMT8s9MIcMabHF7mXtoyMvxQomacvfKFnGUM18ngPuGUmYN0+fmOxVcm2FR21IC\n",
              "DKLX0+1R0Xptvxt+OPnDOd/4rVqccDNTaYD3eQQfqcAq7uhHH/jkN6+pmIXiB29k/4T6VgctyMOS\n",
              "QJ7FJrplce+m5a9J25GUkXuuOdZwAnAYzEbWk1d+2XzmYqokHU7YsmjRsa8SBl92IOxrcABImNcl\n",
              "cCqDBmP5I8tM8tZZeBDBbWABVtuUAGs/rM/CQ7kvq9nnBR2+FBC/CJXu0anMSrQx7EvEu6li5QYa\n",
              "EZtonCBmQQAAAZFBm29J4Q8mUwURPDP//p4QAMn/R9jVwtXVZzzAcXBFiFunbwdPUlCDxXpPYVQ+\n",
              "694Lf2aYzPKdUR+ez/SFTe2FB0Tjmudh6soGRGsQ0U7E3w6qowb5I5WxcK1fel5QEx17KT/Xsz7x\n",
              "ax3fcM+2G07hfuoQ2BJCCosLoSVubXJJ8NnxQZ5oCQ8kxJSxRdb0ppF1weozNrRb7tagcWW0Q9xK\n",
              "Nm1wbf97qaCJzSbPWfEqe4f8U4Wsapp6qcC/yXKftoBXWJTL9sM0uOtW+9p9JJcd2Eic8uaZmoAq\n",
              "MlFf478WyMB1nIkqQyaI1zyGksfHli+DByatfrrVjRotB0/V8ZV0S7x2x2tDLMEKbAxm+Sz5ZC8n\n",
              "QiFzZ4ibSS7GTKOugAAyLjkK0ODJ/Hn8l3n6r50pkkafEM9ImzWsK+AvUZbfr5bDlksM4QcGnUNK\n",
              "Uck7vAbRNIO1i1f3ceYFgpvyq7INZzjp0GV05SssEr//ZGPJnGuPTKg/CtQBFNMIO5oL+M3sLI8e\n",
              "nnKD1CARnhIX/sBewQAAACMBn45qQn8AcSbyN3JDD1ZfevmKzEn1q1ek71fwXUPA6jqggQAAAL5B\n",
              "m5BJ4Q8mUwIZ//6eEADDv9KUAX7YCg/MnlsJ1PPTZt834Sjk9+X07oulRABNn566KCtpUyEyLlEp\n",
              "GX5l+PyOHNOGHLCOIPRp+YgXd3wUy8vEYjr64btwcD6YinxA67PPhndtTU9yS7Gqdmqu/bP79/AN\n",
              "tRslll2ZTRHxDqxZctjJmzCUdfx/tisULrYcRp3IFg7LN+14Mw/qZMRifGOxmWfXtt6KuWU8RRBD\n",
              "wQqV/1CmGu+ViCv9NZAb6GNwAAABPkGbsUnhDyZTAhn//p4QAMQQOQ4A5ZOKpdvq7kT2AORf2bPT\n",
              "+Iu1YnjO5+F/Gaa/7lnUXI8iooKpQtNCo6+PQAXM+5XlUbYnk99wyHUVJKtXsW2+NtBDqEf2AutK\n",
              "9TFaSHFKpWR3ttRL3wK/0pRx9iYjlk3tJlxEElnJ/X/zEzmVD6wwKg90w1Bf0+t3fuY5z2KZQbms\n",
              "F8NO9NbYzKAeoGdYbh6hq7lkYUBTAHgq2Z1dveJRWuXPU4FaAkCoIWezAvhBY26koLnpHByO68XY\n",
              "KpMz+QmJIEX4wZJRABiQILWrJ9ZO0+MYAkBi92hgOCnbtOoaHG+Ih/IFeyfsleVCbqqjmOSEPf7U\n",
              "myA2kNT7tUWl5/mbzvDEqLH9NEMwDbOHSizC1UAgWMhvE/bBFSDSPoIiuv4iwfnmNCD3rADv4QAA\n",
              "ATVBm9JJ4Q8mUwIb//6nhAAzv9H05/m2MeLmBsyOGKv45maivpm1skmXtY8a5L4RWuci0t9Harzz\n",
              "DUcScKLCUWDRhjgR/ESBkBWeXMaTX6kFP/Jq5soqxP9lK+izqPhWJv9GwL8ot+4xrV0OCnsKNXgJ\n",
              "2SVvdtlhVLeNvo8d1an9jBt9Gbt8ffgzU1L6bUcaDIAAAAMAEQMGqJEieMXLF2YeF2SMZZ3I/o56\n",
              "UxPGtliQv29mPX/ZgQj3GuhyqdhUiE9I62c/HEiwRHqxS8eh9SbMMCX3TGbYv4BFxEDWabQY00o5\n",
              "rFNPy5BBDX0/21gR6UtmegOfHDvf3KHmcQYQkFVeCByh19dT3NROjy0VrOXAADbHmz7MhMkdNrMG\n",
              "OY/io+Zwa9hCjJm51gF1Yx4QonLpl3NY180AAAEZQZvzSeEPJlMCG//+p4QAMjGkCAI1P6rZQFtQ\n",
              "d+u9NPWyA1uxra4b9SZuXrF0Gtz1QiBPSGdoemjbho0ElGU2Kp4aq+GHz6YfbE8h1QTf2TQHmBe0\n",
              "kaPUuluku75ht3nu2pHtZ+icSUE9TPgDtK6G8U9jFnWwuH8AfpenQDZxyIxVO5rh7BMmhNk+Fyo+\n",
              "ERkkPcadLRmdnd8q+hdYJVAbgYrORWbNTQukSFQPFjdfd6DfrlTq0dIBoeHGFX3L5a259iXt3Fj5\n",
              "IJC2XsWP633Nnmz8fZj/xyik/GvusvS2MMCddLexuJHYjzZyGCqbLlTa/r+UpEBsG4Jvsh48Ro7e\n",
              "G76Jx8/G9dcvZzehB03dN9kQXnJ6rwCDUyoAAAIAQZoXSeEPJlMCG//+p4QAM2veEDZ4Uf2MO1+Q\n",
              "UALCjiFFMsEUIAFTcarvtwLlyaaPTz5h8BG3ZFDvaSnDrY7asm/dCgktKLTuH0bxkoClLhSPERHn\n",
              "b/pYkxCHc4O5FupSrzqgjWGi/WCCtO+5omscxM+z/XS2QzSSthGoWfioNOxmEyZEo3HTJgBAc75G\n",
              "F8GG1KntJD8P8lGaqoTxaE0/8EXHdtofVG1UBVPzQ98JX4xc+rIP1GMYddnJ/yyxdz/O66KVROu1\n",
              "ZINK1n9t2e4EM9T9r2W8Pwob/AV6PDoUhjCUvK/48Ioot2nNYpvhKXsXIkwWNRccjZJhlz8Kq4nr\n",
              "Ry2NWopCGLG/aDkNdvsowE1R8OlcDsqQAdJPm80kYUFhHKKPpW19FO10XfncJ2LM9JD2v64e+7wR\n",
              "CRBGGWZOrOSzd++0t0eOX0eyFTKu287dPBNGJwlModi4a+ewE+Sl8ObeWdgG9A8+7xvA6KmxQgAk\n",
              "Jrj86C1hFur3HQuQhbZ6PfWZsVkjJb+wf0w4ABYetOhHoyZ9dnmc6BkctWN8es8d5oyXlzr0kjWM\n",
              "z/ZpLqi39yAnRTvGOtgdBuwYCNBVIlnRUGNdv1pYvgp4ix6V3oNxStwbJgvAq4IOmHThvuWs/wVV\n",
              "wTzMltheTIGn5WnlEyj9vfT0xRWFjrOxzYX5MoAAAAAuQZ41RRE8K/8AWIt9oRaXMp2xGueydmQA\n",
              "lZ9ySz6ERW9dfpMILLjD0uprYZ0g4QAAABQBnlR0Qn8ANhMxJJoPb3K7oJzruAAAAB4BnlZqQn8A\n",
              "TXcQyWEyxWhomaGceXjXfaxT8BRzh6UAAAGsQZpaSahBaJlMCG///qeEADNq8FJTt6+gPYBAsjIH\n",
              "D4csZpVlbuqOYgNp2Igi1ixXeDomu6A8pU6FeQUvhJ/7bgGw+b88FCjnh3I8XEx22P7ctDoYCq56\n",
              "WV4LFleKPjK+HgVsdzTSWKLxPCMkIn21AGzomwpZILIDQGnlcfO9RdeY7bGqbGjJiP2HC8yT5CkM\n",
              "4cog46gLx59YQIZTCW92tDlj+xpqdUSlBIGx9oTNOXCF7LQXtx1wXydGiRyoYqBSeUuZVXMv2hLL\n",
              "Ty95NzZeZRhOVa/hnQtla76p6YmT/KyEkOjWuBBJtn/10IqCs67bzg5YLn76Md9/AS7zH4ezR/cj\n",
              "6TWNQ9aqfxAxNQuvLRbrf7ESLsOeQ8NBGZSReenMm/1Jb1rglIghRtRrDS1ZHirX8J+N/6sCEDE+\n",
              "I7LXZGWqU5vVprTzLlg0qdYd0g7qlmvyNK6ncy5KxyUXtdhkEeeFMKhkRznGJFfgLQkDqpnmcVNr\n",
              "oSMVBvQWfL0upor1X2uZ6OTsnV5zL44DmE6/vX/kFcArMDeK+5jF+Qm6bLdDNdoW/3vax9GedMEA\n",
              "AAAcQZ54RREsK/8AWIt9pzHOxxDw0eL04wVLETrUPAAAABMBnplqQn8ATXcCq6aEZ5pon0PRAAAC\n",
              "VkGankmoQWyZTAhv//6nhABkbPqeiglEu8x7T68jqMwd9tNmFEzoyaq5WL3saYKcAVBM3QHiNWEt\n",
              "GyHSIJPQWWvbSXZiF3APy5kKIRJer2iTq7BM/SR0XbhlojKd661Rz/52DoXWgrLcsVhwc49Q/8C1\n",
              "0JLt81Cx1G0QoqNzn5dLMUcXWplxfoljALxvzxyxDQZ1OF9zDQFC/iWl3AqNhOlidGB6iyjmrOOQ\n",
              "K7ckLQ8Dz21SLGhsgp2LHyQJGbY0M3/OSYpdoiarmN2R9sH5OJZ/1IOLQQAp306+iA6wgzzuU4pj\n",
              "TIjT1j1pOX8q76qbpbTEK0jbdDQNe0uLEOIS4bK07R0igzYiIpOyehiGMvxzL+eWnT3xOSLcixMG\n",
              "Bv66fhy8kofAvmO4wlG3lAGRyef7EazAD9QGi5f8+tSVqcHg7hzkGNmK0B8wIlmBgtxp7gl4l8x8\n",
              "KEMV+O/hTRLHiDKjU/I1mzs4ZJWuT5PTv7i0x3Gm2d4L5URbPDNNMCk75Ab/BIkM600NzX0e34nY\n",
              "kV54eDuXdTb/k++RaJZ+NgoGy8ZcZCeOqHE9xQl97wmolM0N4sl3epS+t8OMtZkoAKNsbVJJqFy7\n",
              "zrPquevP02j1ijsnG8AToGx2Qe78AtgAq2UmbHkPQckqY5wQSaZSjLdn6w0iNHppauORVZZI1Uqi\n",
              "PkCFGIRBV7ZTLmUH90iwIARO1JNQuEvsT8Z1zRphiQpUffbcaajy8lqS7ADz4Hgr1/zz6Ji5+uJ4\n",
              "0u9Hx5ppzAqlBDz8BI1uIEetvXldJDYiQlWSlOAAAAA6QZ68RRUsK/8AWIt9pzJb3loNtDwo+ABb\n",
              "6y8+vRdzQYPwRxtI8Z6Z7pm7DurWO4zDVZhbndOUSMpFwQAAACUBntt0Qn8AS33nl8p8T/RaJQwZ\n",
              "wAD7k6eh4LueoJc2GLvCAw9JAAAAIQGe3WpCfwBMlLxobF7X1XQktzBkYezhLVhl0gjatupiwAAA\n",
              "Ae9BmsJJqEFsmUwIb//+p4QAM3h1xkQGMvIpPkOfzgp6FucG1AVpOkp5vM/L1yjzH/w1Qanxy99l\n",
              "EAqtfrnZYrxSfcahUlWbvZN2uroNMKiS67B8Pm8MHOFYYfQ6AcvdiK/7ecQx+kgQlri/mQsUNLcW\n",
              "/8ggoTIDZm/ZdspVLgof33MgR888Gtq/VQDj3LUhO57+6GkfOUmBk9eat/8T3bU68Ln1PFL8x7TW\n",
              "f96zLBERCXKxCgt19Pv/Su+lFTA1i+rDbYXcIC6et1+4jrU0mDuv2ecL6IfdHsEQAijQln3+02+t\n",
              "1wrZ2dx8ZR3kG6go29lW+624AjizGBoakQ2gKKsr3wsRoWXz1m1LS7vYwKKZZ6Hn+XKNUK9fRh+c\n",
              "duepLVJfu+nnKMfNtpTY27PFwheJz65rdXo45B+DvL7AbJKhozV7Y/e3sM4biLQE8id8j4JlcKZp\n",
              "rdyG2GN4qPs4zeTszg88CTz7GfRzs+3YWcSn688YtIJ0MbSodM0GCndNgjKY6v14XhsAbMxvx39h\n",
              "nxtb+rW3/ATf9FvibhPc9PjULSJ5yHuzS9twydIEAGpjm9KW0uqtQV9We6Aqb+nuVbK2N5Fwmf9i\n",
              "71T/p8bqZE75LXHotL77KLOEJYqWmlLWJUV4BXMasiGoS7dyQcDJ5tAAAAAlQZ7gRRUsK/8AWIt4\n",
              "DvPtWcITbdY1UBlFtpZKJ7Jb4Ur1sjQW0QAAABIBnx90Qn8AJK1M32kMhpBgUdMAAAA7AZ8BakJ/\n",
              "ADO+EpACan5pLFsxFkS99BYBXhDKr6W1JqHa2SjiMh8+STvcuzhUxmH35dy+0kvsT4gfxQUAAAHy\n",
              "QZsGSahBbJlMCG///qeEAGT/vwA1bTG38z4RDNaWQnukjjB0zZSt77Y+xZCIyeLqlNhx6Yg1YcLY\n",
              "2oe5pJkQewr6tGkMhpdN1D3gaJPHIz/r6VRLcFU5WnoOLQWHSPyaLblWRWGIckLCDg4AXYpbCRmg\n",
              "dEWuQuJNGZrPQG8Sfgy7Xrm4xZlTWndrlKG9BRDa1mJyzdIrCYTbMhNRFS4rcHJ3LRU3bcp1LRqk\n",
              "dILaMAwmbuY7/9knUQg2hARlKzQtERceokPtaHr8qAfI5R7yyXMMNY2vJtSFrCyjcjZn7/4f2hva\n",
              "hoEnx8zxgltXQe7XEhKFNDz5ZFBi4fCCwAVKra5qY0/uVl6wpMdzBn7ISnUNAcQ/kZLf61AFPllt\n",
              "+uE3N6xMmPcBw77KxRE5vzffkJm4lnJbFJGLODe3W/jSfBgZf0dquhe04/x3RL+oz0Izup1WB3d1\n",
              "sgfu4qiuIIg95d78tnUPOD8a8cW7ty9fIyps+9IqsWbN4VO8iWCPcd2e6YnaNffHet20YDD5TF+E\n",
              "8UzEdOQWEBJPmTCU+1WNAI5P9usLmo2D9wQwicP39OYe8KyMJ8M40q1hR2i5rwML89SZ0VXrnT8S\n",
              "1cyrcd9e2nt+2+2j36qRnRtiTelAAMnr49L0jtvQkbYxgkXkyaWLLIALAAAAMUGfJEUVLCv/AFiL\n",
              "eBfn6PegA2RTU1m3NKq+uPZxtele9L8KKKNExHjvqHup2KHuMTcAAAAYAZ9DdEJ/ABHWphQJMz/n\n",
              "IgrGdc0xplr9AAAAIgGfRWpCfwBNYjFQzc3RsylMoF3q5oQKeAz4G/70pAHIEvEAAAHJQZtISahB\n",
              "bJlMFEw3//6nhABJSt+M2WCBNcISzTQxatj2p8jOCKOPQIx+M95+IrOyBychej1QAL6hEhL4BrKU\n",
              "METrR06s3QlX0GCGVjKTRbELOi8973G70SVHu4ysgRT+xceIUmEx1S1U+a9g+XE+qK22kbp9jsT+\n",
              "FJt+jn5O/PtLuSZeWP9X7MiXRBPIhULjqoAvlbhaUssQSZvMwbQYFfGKpnQ+X+lreKZr9frfv/dm\n",
              "vRpKWU8xTVeIxGphayXxc9Ufvxr0ZMCn5rzVwmht/+9tUlshUmny1e8HOO/FKnL/truUwEIYOzb2\n",
              "DkIgABghUAEtgi76VBlADgPsVa+4i0lr+dUrrapjLGyjGLA0mmmjzUzEx7PA9N/VRw5Czk7JjUHj\n",
              "l4eCLOtlf1l09/btIQV7DlBPrFuiEri39Zctt2gySsCzcmJW2CsHEy5DMnfW9o0Mk89emD06a8ZW\n",
              "xP8i8qG79fdiCSwc1qvudqCwpZgfXJ6jnZgJgQGbaYFqn4NGNtuP+ZStYO1T5A8+o+PT2U61wQpO\n",
              "38MX0/zXTLZ6TxMXVW8xwrAmDMzBb/ZdyJXmYzLLte1IvT3qKVIDtv9pV2+/R/TVPywXgQAAAB8B\n",
              "n2dqQn8AcW96s+bIQdT3XGed/9N/TvwPE7+s/gR8AAACMEGbbEnhClJlMCG//qeEAGRpWRgCZGfs\n",
              "+Kj0M6HSLoe+CaW8/xMygD0bMg9C+I99hZveQ/q3ZaW6TNDl4iQwk2r20TfL0cWXyCbQOzXn4iTR\n",
              "4KyeMKwhHP5LVYBkk4DpwCEcMp6wCSIei3dJnHy4vYvO22jlDTW+el5YxKkUUNRqB1WZRxyhC2lz\n",
              "XGKi6r3mVOMwDFQTGGi1gxscnRHr4si8+nyQXXZhS0+b8jcrr246VWIReD21Rt9CCdvy6qyzDIkH\n",
              "m0lSWtVpjEicwa0wntBCShnZakB8wBvx3+AS7a2RV2c7oWCV289QpW4lYDRr+YWKa7zVCCURHsZQ\n",
              "lqLbslJioXFjAChhlC3sXwbGSHixy1hmkTAM3ZyZB1G7i7gweLCMUMq60hQIsohl2WyoDZe11Gvv\n",
              "zMiGa5jJ4pQ8Q1Vwtmnve7TlzAG/ygkhqo3nIzeVKYX/hVmy9DniE8Fj99kVdcGsenuzNT3q3BPu\n",
              "FQ49ClWt+seUx76uU05KxXqOB1CsWNGNr6lh9e6VzcceeTHWBD7sqWBWiK4iQurAkMsT796eWhLT\n",
              "pPSAy/8cm2e9eE7oZKVNJTFcGeH1FvDcttJUHnFGeb6NIoOlTkPyVIF9DwFMQLVXFlT1MwiNJGYi\n",
              "MVD0xcZpheuLyIa2nAjlfRD4v70ddLL+gjWzg34PhXD3E750QkrbZ/Ow3LKUmuzdWozxewd9m6u1\n",
              "7OqktQpfA42FleyXwCtWHFMFfgLsqhnwAAAAOUGfikU0TCv/AFiLjhZOIRkqx2WUECAC4srgQS2B\n",
              "DsPf9ebpskpMqfHYRszdN9RR1NwbW/SCgGjRiwAAABwBn6l0Qn8AJL73jy6c/+58+pOLRdTCBak+\n",
              "ljAgAAAAKQGfq2pCfwBpnkzotKb2RSIAIWZUS7ZcUQqUOt9RwIn+rGmbSo/R6GBAAAABtkGbsEmo\n",
              "QWiZTAhv//6nhAAzeHWswAchxoYEz6yIvfGenjXSJF94K88oL6E9cUc9m7Ot2MTPRa+k8icTJIF1\n",
              "L7l9Q8jIVZMPr7Cf2PolZXB9mTV0Kkc6T5JP0gMd3KV0JJ3UnOo8HFkmj83azlLtmyRMazjq3SZT\n",
              "Pug4FLOvfBue7+kE8kDeCMOu2rGNAowhwrqaxOA2YcMV33dtTx0qclk/dkkb3Jeo+72ehs/OGMLY\n",
              "CkLpVuSJ2T2qNZiBZQnErYjKAMEA3ZsRvQ7ZZEAd9jCgtJ9Esel/7L5lcnRwIf5VJeV4cOSsdXDv\n",
              "evqp1jpX5Hmevxj7Z/2vLmiCSUZBYmbBsic4XbvQe+I6YcfZ1793Ac/LvvfPWZc6lPqYt1vb1ebP\n",
              "WihJPGO6xw8MLuKxUY8naesodq3i2onkcV5Zs6BukHD/4+1B2lldo1jK835sotR1JhMK4/kA43h1\n",
              "//5ABkGhoExTjcpMIMQa7HglYQciW25XFEs4AUGIEZTAkL5d2ETMzs2F8wQ/3KXuKMR9O9VwAEVI\n",
              "YqsXiipDJt+0Xy3ICp2Ez5gs0u8IB+lOWvsn/gNLNIUNaQAAACdBn85FESwr/wBYi3c0k7YRNkYX\n",
              "6ZNIP4A4aS6MIqVP/RIiHELg9IEAAAAUAZ/tdEJ/ABpfPbyjGJHwvsArcM0AAAAvAZ/vakJ/ADO9\n",
              "+oAHfA/8nZ773ZcCvOjYdvDOPMTUmG8tAfnctz6R/w6VQqEmCggAAAHQQZv0SahBbJlMCG///qeE\n",
              "AGRw61mAFM++MttEgXNplCe0z2YhFubH+LWzzmg4ni1m1xdBpZUSXW4HhjAc+tQyuH+gv6OJhVoZ\n",
              "Ss5L7ufPsJjX8SUDlbzYfPNUWLPXm72bINU3PCowN5qsfNA/4DT8Z6Nee6oRrTGZABhU7438mbxU\n",
              "CV486uNSF7t+PUih1YGkyBcit7POr+gcCcmp9dKCjeEjO0m6pFE1Ob4uHxRqW/P9Rqc0Q/dpN5hT\n",
              "iFMpK8gypy+XdajRaPgzIYHo0WQkFqQ/KRRyY5RMb7jchxdqkh6UVavBRZevHRxBXE5qRRXATv0w\n",
              "5zxr0mHHswBK1NeRPIGciJAwlctlWHH60Qh5hziLauOKbSZ3qmHGRkeX4rJO/kCGFymrSKjfu0RC\n",
              "cqaYqmK5EPiiNwyUj9dRAGjzNL0mpSBtllQ14sORimuhCib9W1WjYsXmWjlwzNreyA4+PfUQEFEH\n",
              "C9Z5sW0wLqT/t8gRTmCoQNjhV/mujKwZxIAjRxSioMQhVmLlyh8dXiG5MTwKEUwt0sZeF/XJvpLb\n",
              "Kjvct8BBgzRbB4gzWRBmUfzD/+DO9KKxYvOO7e3IDa2SP4fbO3VXCNhY8x42nImV9UAAAAAvQZ4S\n",
              "RRUsK/8AWIuOFlHxF811UO9ABp2aBl4BmjC4+WVs5SMbcpREdVHgkVFDpB0AAAARAZ4xdEJ/ACRJ\n",
              "VxYNYNVcG8AAAAAfAZ4zakJ/AGmFeZgIeu7X4BcbEJ9ID3lRxWGzfTzZFwAAAitBmjhJqEFsmUwI\n",
              "b//+p4QAZGLkgBuECoLRqcxfZYGGuR/jbO53XmEEURppR+E9Qc+nTa+2wMrL+8U5WcQo/YupJEzi\n",
              "2bCkUz3FOExaaDwv0R98WFST/yt881UeKm6BsZTa6ZdL9YJmPFZHZtDXsVgOgidNA7e7VyzBvhO1\n",
              "ZVJrjAqRGe1h22zyB8M71BTKXTqvdTAgruIc0Od/3eMBJP0zfmsaW13hqmyLAOsN0PmIimau0cUJ\n",
              "pgLPtGVz9icl2v4m6YowdrQk3cixWIIleVSlbIoi6gXesSs2ievcewRQbdMW0RtgwrZKYtK6OMAR\n",
              "329qdf0MZfM7oxZWKDxfroIdN3K+TJLeT1ufWYp97qPkMCReWYfVeNlOk+zyzmemJZo/pnnM+B7d\n",
              "xIr0aMgsdWCAvhTddXRCRPwI7UQwQUZQ3cYuye2zO3lamgC1eMiuK4N4h6GP3x2mKzXBybcjaWg4\n",
              "KLHkkmFBFVNek3KRWO9VBG39k2SMdzjVrY5SOjS/FXlMDkTKjYhBNAAMTBdZjqJgHhAKzzmNkxPr\n",
              "AAAXb9r14VRoPVE3cnAVu0Sy9jq9nxG/gl9MR+3BQj6UJirc9vGPKLvakJhDhCirn6oTAKg2GCbf\n",
              "s494XNs3KMFk3+UAWcwkY/o32N+UylDLJF1Y/hZ+r7OwXbTLELvbA8tGTmJDup7RcD0NSULQUyq0\n",
              "ySad9BD8NkZ/XBwBjdKeIMSLtUc/WuWyMPMRlsd1FVkAAAB3QZ5WRRUsK/8AWIuOFfTgkaf6u4y3\n",
              "PGfhoBo0Rreu1jPOC/f/e94NC7ayAINR71wBBOjX9jZ/VLIeD6zWsmNUAy6jbNW1OgZ0+5DBE7Yj\n",
              "rx/qBzVlYPyhlycSbkCmkOSt8h6f3DGDDvGX3tQ2XVvnXO53LNfQsoAAAAAXAZ51dEJ/ACS17Iu5\n",
              "2NxOjrlVtbLp67kAAAAcAZ53akJ/ACSxVUW4oBkkJJds/JfzrPaBFeFFTQAAAdVBmnxJqEFsmUwI\n",
              "b//+p4QAZG6yswAchfb4KQtGkLDj8etsVO4vP5NxQV45tr/AgiMYVEV5ajjZQYTorGxMqnd0357k\n",
              "xRlv8MmQi2Qyc0nt0D83nPRSSYfDkR+K9eXDVOFfBScML3onIlOwa/KdheAArgA+oHN4QVbZTr5V\n",
              "crvB6bLXZa0zp2XPEX7M5jRozBux82kdwjNlAZjiRPPkvev6Wvy1HehM6Y2tJp4wdouda7iS5R0j\n",
              "hzAsjITUTmuSHUK+6iBrK4cFSH21SUWOWEHl3tlHFEm1HEOEpvdEvhx6RV7zktZAbcO50HpAEwOe\n",
              "/+cYC4T02Y1FdZdv9nlZtBPLBC+mFdSnJMYmvqO/91ZIe4BKWuyRi6Vj1Jqxw/QHbD1Wd/5jI/g2\n",
              "/RVlqyud5K+cnqXnJtygwtqN8M2ie60csHIuHQpC3tCkzn7UNzAh1neFCAPAy/O4lhRtxHAedjyS\n",
              "AxZkHmvAaGmH7fBZwc3jkZzEC6gtOxZK4f+puFIDu/10049KvX7Savs7ElQ/SHCBfYonfXELQKro\n",
              "tK0dRFD3729b0t0fmEXXfoYNJ/OsysOMlsNtH55OqIFAvPKGLHpYWwep/1aGJoVQMsgFopFQ/KN9\n",
              "+AGpAAAALEGemkUVLCv/AFiLjiWM4vX8TMAAs6CWV5cxQSEGTIA0hy57KelZrzVZgJOBAAAAHgGe\n",
              "uXRCfwBppmwJbzUYugMzBBaRvRnnTlbPD/OB0wAAAA8BnrtqQn8AAIsLxa805AkAAAGkQZqgSahB\n",
              "bJlMCG///qeEAGRw61mADkexHZZPKdA+4F3Em58tZ/4Fb8iFahrlUcXOi6VKy7an7QUfujpiK65b\n",
              "8ekkFb6UN9oxV2putRwRS5okjsFfgUGoe4nJHN5tx1MX/a+kOJzcSVDJ7FPr3aUiDKsUtqYJF4bU\n",
              "5T7BRZ1+NQ4vxKE+cEui8CkRrjnYD8AT5p3duRBAa4bcQ1j89iLbJY7unhad8MsQFQgLaO6DUg5Z\n",
              "G5fYWPXP532dso0BV7GmG/2Eomfx0kDMsbPwhDIKmfHfIORewHKeIOunfx6nWaF/7qiFso9j3uUQ\n",
              "+zKonllyZmZDTXVfdmDxhItYj7rHVc5fhdnf+LsGzUjWU4cIVgL1rUhO8d4Fk0zrSAAAELGFqCmn\n",
              "1zuWUpztaSAfUEDSYwJIMBGuR4Rr6c9nTHvTHeEv4rylXhe0F3uj7HSYJPn6qLFC1bel4J7k8L2Q\n",
              "QUDu8CFJKy3M59wCuV1Ma15ygUcHt8gpLJWdsxLSS4AmEfbIP945FzRSMXBgutJ4TdbEYd6UYWhf\n",
              "dphSioyrqlJQ9ji2nBeBAAAAS0Ge3kUVLCv/AFiLio+rgAcJxzixTBxHJy3alTpxrFIPBBp6tyeb\n",
              "awidQn76MV0xRR4BnwmW51OSWZjI3RISU1ro27nhK5ml+BStgAAAABIBnv10Qn8AAdCavREHCsSg\n",
              "aP0AAAASAZ7/akJ/AA2AqRmy+i5SWAqhAAACLUGa5EmoQWyZTAhv//6nhABkkVxIwAKf1gD6RIJ8\n",
              "fMcZ6b3/qQmD2owikBkamf4z13W2B9lVmgZS9V/tL71qpvcoLC2UNj45kZ0nwgT7ACNkmZ3lrF0b\n",
              "8MsU+xWCJUwxkHnz1wsLQvDIvbyeJkX0mdTav479GMvODhaaEh6IaajdW0lfdCLNsk1p8prJGOeA\n",
              "FC1w+/+x6vPzL0ch7zsyMnszWX1sli06f5DG2Hvu7fQh0MJK4uQ6n0J1YWCSmPYpgxe3Hc/vdaSI\n",
              "Byq7Jf4VwIFfJ49diuxjBhdGYuxTK7+YeX1ISZO2Y512V8QwZtHjoKUj8eFdDTc5i7SVL9qjDJsj\n",
              "4TWOhixSN5kXsdxmR1vLzBN3HEqZgTjPkljf7obyDLjcB7kVv24TDO6FLbY6GxO5U5+/cLpwbKiI\n",
              "KJM3TTl4eKRoke4E4f7ksd9ZguJAPu5wpimEJ28j7Sgf8WY2L7e12z+Nu4VGM4+yZ5ocYeYTMo+X\n",
              "i1NqNGo7IJwYrcywzKR+dyYLH3P51IEkvo1y3WLakYX63sYBKgpKmLFN+sdtCUwIXAKnEAqfuNTe\n",
              "B4V4woTLdw0IoeNEqh1GdmaROZkLnnTZBrMq7Ie8asN8iNPXrOvsQQH9YHv0d2oS43yRosDjkIQw\n",
              "LE8jlalCWOriJdv4lAqzPpCU8U+OS1y956KDeAdFtPSH+HH0/iKer7WC29YkyZSAqs4Ejv69N9EW\n",
              "G1sVq92zk6nKnM0/aNlTAAAAMUGfAkUVLCv/AFiLjfGmXPAA/mCbExI6SwHmEpXrgYy8daK5iioy\n",
              "MhklQK192KclGz8AAAAhAZ8hdEJ/AGmmalH35/4HiIn2Lh8G69atC8CyKoApn8jAAAAADwGfI2pC\n",
              "fwAkwvBy1zAtcQAAAg5BmyhJqEFsmUwIb//+p4QAZHDrjIgB0jdmwsUncoXP/5Q0cIIWCJbXKUes\n",
              "v4Vp8BsgfZVZoGUvVf7TdmKbYiLwA70QxRuQMKF2J/+EV1s4jB16eSTscXE6/MZ3D4CaUnae7q3/\n",
              "1MdGyNFra22nDOfGLlPjkN++7cgC7RsyUEVke2y8bfQ6jo3By3YoWMScNXHyWuB4Lhr+nepbVhU6\n",
              "BWAAf4hxInttT2rydo33YzIuF4g6/2m8kNp9Nc9KdjKi+iTUhhuOVNKpryX9NZCtvJSyPHcdbyRD\n",
              "CzQwh+vdDCl7A9LAsZ8ZYRTz4qRjDwTQaaOU9vvJsvKwrOQ22jLvxik1RucdmIU40YdYWlmO1P/j\n",
              "PMyEysXfeCr66CoVIsDcwl4uw7nQBsxX/aFcTrk4NQvZtsU40oGrYZoyt+2GGCe05VcxqdU+i4l6\n",
              "NzN3GeFqY9JhKRyDV4m0t1LrcEQHrHO3CzoP5vIK/7NfJ8xxxfiFCZpcqzSoa8zrXE0WQCA8gec6\n",
              "NiLqVpvCoCoGaGmDCxrKkPLWTHZsX1Ic6jRDpqwJcBxCcagt49X/vWRJagvf8/4o6I3bH0cnEyHp\n",
              "i2ysWh4r34RK3fXAFceSlbY6QDzk8mYPGNgqbsgEyrm0mI3druGfJr1yz2P8CFBDg5VNEBR/gWs2\n",
              "F2nKLWVsabKW6W+jG4e8DfV0/EDMoO9hjxsxAAAATUGfRkUVLCv/AFiLeA62OGh+Nq8NkULGCpqm\n",
              "AZsDYIbwAQ8AmgDOAdoAADGn0bM8Swn+rxx8c7XPDoRjDcDiy/pg0ZSmce+nUgWMYBGxAAAAHgGf\n",
              "ZXRCfwBnJfhbCcBiClU5oV7AANN0TzBAixYq4QAAABMBn2dqQn8AJLuA1xIJ6Uzc4l5MAAABy0Gb\n",
              "bEmoQWyZTAhv//6nhABkcOtZgAuN/BkyEXgYoENPfeytIAQj2TNri6DSyokutwPDuEAhF6Aq9tC+\n",
              "pdAnbfpi9PzQVZj6tEU4/Eh8kIq73sKUjE/dsWlCRHW8gaa6QXF+6/BrFqoC6dHpx074v/XMjoYo\n",
              "Q9UNBWA90VsnkCc0xX/D0nEgpgO5/GH0IDR+omw2rmpdQaVHvSDNbeuAOve2qf5R127yBsDu0VhJ\n",
              "lS88UEDwcpiKWuxldkwQfvYyWOGsaB9xNmHeTCWjk1nV4bVQIzAv0rpPUvE2ZMfyn2Xf4dmf8gz6\n",
              "G0GLGSn6hr32UyaayYkUGQHn6SA2aIaC6HZTiSHnNYzzW3rw7vZNM8us764JBbxNSZcrGNYi3AZA\n",
              "kTEGLj4uTscEll/M215Sv4KLW+5helmkdzkMeF7X0etJG9LjhQ2eUHqmz0fRR8uo/Xk78SSW/A8l\n",
              "wr56AcalJ+Tzq2eQIcKhviGF1VL0RR9qFQdewJx45mw8318o9+fTzN59Nojb026KfcQrBJmk40cZ\n",
              "NH3GZa/qJf5CQ7h0cSAsfTM6M9C5LkVJj4bPz5dfcmiZibfAi1G1c5e0Ria042fhj45165EpEzia\n",
              "EAAAACdBn4pFFSwr/wBYi43xoCqMZwAStY8MhmZEV0GZn6pWgwo9wtpsCXkAAAAgAZ+pdEJ/AGl8\n",
              "+7c5phjHnOkDHQzibNIr6rJHswaCP8AAAAARAZ+rakJ/AADYXv9klsOeWrAAAAHkQZuwSahBbJlM\n",
              "CG///qeEAGSlpnkYAFVHI4Vc9N1hCNCne/+/vZM2uLoNLKiS63A8NbNHUrQL2G8gr0NQ1LMidfUE\n",
              "BSPZcwqwn4gk7pB8Irrsz7p4J4VecS5P4zEoIud6dJph1skEuodcSuIXFO6AY8Oc+sRs+D590dOC\n",
              "+B5Zicxh5zU/Wq47GnEUkvCbyAK56ixKSuBaXlK2tt7ao2s93VyL+nz10Vk3eMWWMVk8s1D9FHfm\n",
              "P7aDiXd0bXXfucORhevoq2EZhbitMQ9a1pppwFAzYMPs+nch6EEgXAuhyFvCrHKxITftRNiKd86/\n",
              "nGRoY61h4QMkMc/7YAeYsCCL5qVWRReAMKZ7PgI7Z2yFoMZadUaGp0rf5Usy/11YEOM1ELXuGQed\n",
              "nixxKNb+io8Be0i/jm9K7bm3C2xvF00wrVm3vJjGjy+G2H6g+PLzCLU+MqLdffVywrYP9uWc0PWi\n",
              "O0xcX/PI2531C5yOXfaFxtKA6GP0Q0H3bNQndZRkQb/yR1xkQqrJQSXhCee0LaXsNuDn4nEhiEmK\n",
              "WZWVEBYT6Zv7uNRhB85UAqArJTlJWjs8JoVdzAeVQ3Ljwhy3zPWmYl10D93s7T9OoE/iUl47moFZ\n",
              "AyBho9S8NGGhUbCT3plLVpEpgQAAACNBn85FFSwr/wBYi3X3X/lc3C3YABOmAB+4A0/XzvPVMbDu\n",
              "gQAAABIBn+10Qn8AEl95A3qFPNdDBz8AAAAUAZ/vakJ/ABJdwUnTVNuVDS+nm6AAAAH3QZv0SahB\n",
              "bJlMCG///qeEAGRw61mAC/RQ4DHjbsbogLbcFh5kfXp+3UJ/IQeyZtcXQaWVEl1uB4buTVEVxr4w\n",
              "th8oLYe8SigpBg6ZfFMDuvWt67quOYCpomeTfL6iC7Y8IBAiyJc21LGo04aPAwutcZNWVPG+zzyy\n",
              "2FyyDu2lgDkodv0P1v/nuEib3ZPnuyGIeGVC1zun5hMOQ2MCElDJQbr+N1BGAYvY/ZkcTuOM30mu\n",
              "yNeFebhOAVBLnAUexIFAQ8MVOlP0Ap5/z/ae5A8X3FxsYDewEaqsTtg9ZCEQCB/7DVrKDm9hGJbj\n",
              "DpJdMnn3j0Hwovhl8dY1VjaD8JOOImrL9kkRsAac3DSTprvQ9YbgMwz3xUmbvHz2aHyKLSX7R7nm\n",
              "0dDT3JYTMP/kKzpg8RFmPrgexrDcTbOx59qTrSv1s9DRGPTGXyW/bRmFTrze4xabA334H4ZMWs6g\n",
              "DGnCxZNzCiDBmHcztVBpRyRcw0nREPDlHMuBoXVH3iTjtD4dTledi6T7ejvyVTjvQ6IAczO5p4Cc\n",
              "5e1N9pPsxAYPxfQUTWYF/NKlc+uScKmwBPn7p5WE8DqFJKt/NVOg4IXF5byBaafSxQXPakFci1nD\n",
              "ADvYp2aaPx+o5VgDSObbQ6sT1UFMivij0bD+iCCNekEMtT4xwZgpYEAAAAAoQZ4SRRUsK/8AWIuN\n",
              "nFBAxFj4AJWfgBH8NaUjMi9x6sjmQtUo7ATDKwAAABsBnjF0Qn8AaXz8FGgn+1GejHvk/d+KXshB\n",
              "g2YAAAANAZ4zakJ/AAAku4COwAAAAPBBmjVJqEFsmUwIb//+p4QAZGLkgA6PUqLbHp83NthHBQyE\n",
              "p7Jm1xdBpZUSXW4HhpipEvxFLvFRv/R892kNm1leL0A6J/P0F5uDhV/z4IywYry5nD+ZHGybk3ES\n",
              "dBN8NFtzTvc9skeeNUu1pZPJHyCWBvrTby87GfORqMbdK/m7AixyRLo7vXWm1P9RmwNZVzsZgEKp\n",
              "8ahR47Qo67Wa5rQVz9uiQ/zRTngSIDJ9i/X1M/t/IRRiff0WeJ9IwzJcpySOHjkU3Dlt+m+RJf/s\n",
              "FYXjEAtoUkc1plRgQwlvE0S9yy59gcPZEZZqzPgHpJGOhE0AAAJkQZpZSeEKUmUwIb/+p4QAZE5r\n",
              "nUAGoA44LBDsjtwKfksd26i5LLG9Z8AfsE18pa9tML2wUeDf4ondjeJBTBvUfVEGEp3Hw64REq1a\n",
              "TEIdzQ7gOthDHW+BHQhEZLLxne/NIzkQfWVVcvssFML6cnYdmAf0+rj9c7hlH2fGdGwmbOTtn3RB\n",
              "JEa9MiyYPqqjV2Dj6b3axmu89+v80tTHu5/Wmzqs27YcYoK8MV2nY35iDH6oepuoKRvQxE/RM9a2\n",
              "Wdt5ZfDe6tDxAfij66F255mDUWj6DsJbpspWukAnA3KxeBEigvO+nfnHySOddaMyBDG0gkFIbUBM\n",
              "/ic+nYAbNbSKU/8EQaBjgWFxjH0aCzRDyM0JbT7d5TyD5pw/udPPHEl1qMmXGiIB8nDzexcsKVw8\n",
              "Nd+76myilnnKa9z9u71FuuvVtUaqDFD3pUyQAE6Xaca9meCdDh7G1aO9TmugPJI0QbXMZJWuAWMA\n",
              "xGeTw5WQZ8umsyhD3KfEQl22msK1D3wgjI3F3EI9QNzxqR9+dxF2Qmfx7G9AlCTHXqTh/HD3RjhE\n",
              "1dLzbXa5LqHeVi7Nlf6AUuEE5qFC5cgMXfdM7JnNAKaRi8wr5MblQeq8+A8Rvi5FdOBKyqcf6kHE\n",
              "4Tziljz60w6Iai9mrin3Jap3iDuBqAUpTD5q9sFrulIzuAguF4urP5fShbS6FiqaVKk6A03q69tf\n",
              "ykJgEbL5DGdyFUjIpuBBbYBO9zQ0BpqXeu8VP0kMiL9OXs0mRpAAAAMAAAMAAgl+K3z++i3Q/JoA\n",
              "8VcWOYpyqiYeGUyP5SQRHwbcNMmHGWSsAAAAMEGed0U0TCv/AFiLjIty2rs0+ACUaXxy4IzT4DM9\n",
              "Hfef2Z82tW/FMO+i7NsmKVC4gQAAABgBnpZ0Qn8AM4gpMfh155iLP4EhPI8wBQUAAAAbAZ6YakJ/\n",
              "AGmeS6g4Ja/erZVNyrLy1aQqwEjAAAABtkGanUmoQWiZTAhv//6nhABkz0BI6AHHXdax3ShA5gY0\n",
              "0D0DQ5/jh9w6gMcOZshCZMgHn5Q1lt45JTDpj288JldOLx2GDCmMQwwWtVwgK3mBJ7N7e1MVSSbe\n",
              "j22oniwD/BKcht4NH+Th1B0P2AECazwQE/fWwuTaQ2sX7RziskXamB1GbejUBKBYOUke/pWl5Sfe\n",
              "F/cxcBcLXjqn7vLYO+TPtyPpC+qlo50j63y+STrTbCSAbehPRAA0SFSy1Wo9rW6lcpVX81Nmc48O\n",
              "aPFDNWTn8N0Uanlw8d+mcVrIf63EKFtrM1CfdKMTn0Rvbyi6pl0NLtVCy1mN8bMRtWtFwMf8CKwS\n",
              "QUb8Uj2TsBUW8NAbzhFd18eAegYGIZ5eLZyuJFF04R/a6s10nbZD6R8UfMo2WrdtX4k/plcJRm9G\n",
              "Cn/9tnqOx5jMw7uGYDa76gV31T3JZIbICgccj64bQ0WI7+1SHiR+5zlfHpORNlFj1Jyu6eUlV8Ek\n",
              "ZyiQY2KbpQY6lxy6Wi9vc4G3Jfmqjn55JxI/03Pok+zQR39iEinKjLBQsFLSroEg0V1E5p4p63d6\n",
              "qAv9HLYUwQAAABdBnrtFESwr/wBYi5DEMVnrhg+CQoaLKAAAAA8Bntp0Qn8AEdamFAkBOaEAAAAT\n",
              "AZ7cakJ/ABHdwEG6djh/vVjLgQAAAitBmsFJqEFsmUwIb//+p4QAZIh83gC/3NXJ4iig9gZDk/yj\n",
              "Qf8cocaPVNx/URGGaakygW82zuCFyLxaza4ug0sqJLrcDw4qJTN9eoimWGrYlUuT7AIg655hmfGy\n",
              "uizvm5qRqBVcXbxhhO12gHwVk8hGgHoNM1uKPsy2ihKqEj2mkY1f6Ya/0mg92svClB6nqfoZVkDn\n",
              "trHRQ977QoauBzBp6H2kRbti/mHhXLzxQDCY7NRXsksZ9FrZzMyKMAt9f2ioJ19VzB6PqBuESGsG\n",
              "AoutJxPVdjsz+NWU4ZXekCOvXOM8VYiNdkMHPZZPKymI0y3wwGJM1HI/bNGEq0Garl7Ke3owELLB\n",
              "FcMFzBQ6Dgt3BdqD9IjGC1d+hMJC4/awRFJb9DPh3Kv3x2dluDhuvfW707qzsuESrWaBewTngXW7\n",
              "/4gQsi4ZGJWMfWlLDpdOUZxaa67T3H+ltZAVUpoH2uGDLGe4lCXu9vG26WepEGpdCxRm1yZ9vXBZ\n",
              "oUaY4H4I2BSLDPPSQzfnO0vWKPFoDTsA7Wx7hocCp5jGqm7JplSX+b65hVnr6xWJ2qf1XxjlGsM4\n",
              "3uKt3Q4zhKrGW/qi+pBezCYnB6lLh5XnwBSR+SGpgEoAFVEfsTJS0x+AabTpUUe97AtEmi4ebsyb\n",
              "p7S12DsU05WH8/mbAjq3GtF+jFxt+X+rVcf0QFA2qT1eux8kO1fECv+PaHBFy78QG3ljddA9adDA\n",
              "o9nv/13O8qAAAAA5QZ7/RRUsK/8AWIuQ3NqsvcAJVhm6GtIKTaGL6SdqQd6dOuh75XMR7bHHXrie\n",
              "T+5/ZOGrZRGzJGVAAAAALwGfHnRCfwDJS/C2E4DEFmTRJp3M/UdLcJw5DlL+teOB5+0/u6Wn+EAs\n",
              "FjgN+BixAAAAIwGfAGpCfwDJCZBoWBhaDpwn1NNCt6QXzF0yilKXFlhcrNSAAAAB5EGbBUmoQWyZ\n",
              "TAhn//6eEAGJPPtbFgEI9rYJsNxXzJEjRwUKPatCyTi06CoIimoQzy8OkdJszHteSSXm2Zya3EKC\n",
              "fy1AYGlqwNdP3I4Of6WZd98V9Ye+gG5+PSl+LW0MAXI8Zha4bzQTDTdGgZFfOA1vpaOFQuk1yqDp\n",
              "708MDQQRxvqV6i8s6vAPVO4FKe8I+9tqQqi2VR+/YL0JkZ5C4yECCpaHd76HlchE5huPcsvBmiJs\n",
              "4o8stm+WUBl+HxZLS99UKqfrSbh4Rg1GFyLsw1F6f5oChoo2xICnzQvMs8z5Ih71EUGry/P8VBn5\n",
              "g4Pip34PSj8t891FlYN562xn0nT2oRqlzpHiqjvfmQdRZXareq2/TVt9hZuerCCD68txY5KcIMNJ\n",
              "asQ8WD1qQnmhPo2ZMEZzwQ4C8YWIsDMM3NnwrnKqqhlRi/AJdtodL/py4BXp52ZJwuZxgpRf+pD2\n",
              "CtxFMOqr3OYWUsmUznGMAyv3RD0vtTf43mQPjgIv/3u4SJlbzHBklUEcdJzI492paoxA6006+1w5\n",
              "l9Sr9prG8712rcNqI8Rvktw/XfOp3iP/zmRFie9bRoTPMKNpsow94Ml6pmKT0XXmEp8uo0T6zvar\n",
              "fgs6Ga9wE1CHMnxcoztMN/w96aEAAAA1QZ8jRRUsK/8AWIuQ3DYMnOoASxUXOQTpGUSmq3Vkwcu8\n",
              "eSnZ1C+D3fz7Mah6UELv0+S+f4AAAAAaAZ9CdEJ/AGl8+7c5phx8J41CLbrvTHgiEasAAAAVAZ9E\n",
              "akJ/ACaxVkKcNcbXjwjcXDPTAAAA6kGbRkmoQWyZTAhn//6eEAF9eRxAEQC+Ds3J1MMSgAhvCYL9\n",
              "LY0ayaUv238ebYzULilmmWLGZ8swi6F8aqjikuJEoYNep4WA121yabSk9yg5GJtv20dv8d+3eLBl\n",
              "AjVdvfwZbEvxa/dKIaMY0tXuk1E9R63o0OeSIjGza4HLl+qKf38BqB4rCA1MWA8ANbpHMMM0vW1K\n",
              "qYEkvheqgzkQpifSSMy1hsIVHiBYVpB/VjP5rk+bk4ptdYX2crMJMLJ8IJujO1jjIAjGME8Sb8q4\n",
              "SIXqlV/yDDdPtN8K23pAxVKrgLTyBGf4zg5FTQAAAOxBm2dJ4QpSZTAhv/6nhABkY0gQBf7mpfoi\n",
              "+fm/+0rooyey9noiJLPq5D00bcNGgkoymxVPDTDgueUDPHbnoEjGWWBcoe0dqSOFXgRR52mGJTS+\n",
              "q4drZzHF3bTP7ZajRR05ZZFNG3ljys31UePetQ+CzqOa+XEDwZHE92wLJcwoJk7mCUtHoaIVRPxg\n",
              "b0eoWjfiNtN0rXfrcySFh5B3HKYVkA0KvQnzrraPOB9s2lKPr8SoC6gSW2gd9lxYaSp3XYfs1j0U\n",
              "cxrkasvPo+SY1YYCiLdvEGB+q06yzhJMrWbCIS9Z6C8vgipx/84K2QAAApVBm4tJ4Q6JlMCGf/6e\n",
              "EAGIRt2rrYAuaxBISH0t2RCtth6B/VkjVj+PbkIQhC2y5LFtixE43V6ART3cbKQzNE3uiz2lLP4L\n",
              "FZoXDSe8J9IlsKdm3khwI++e+AGVtGbB6MUu/ZmRpM/ooM/8j5I/tvYzTKpZrnma0r1TlBbJliq5\n",
              "9SFzuOnYkCsd85Nw3VegIsOd+VW32hc7Hu2nbvti9YED5hzTu0N140OT+hlrlANDMUsyO7YI5s/t\n",
              "5kFqTDaPTP6DIr4Sn/kKfJz5WLJP01VbkvueXkgbz0i1FbBL32tb3OevscB+QJN0RdTjUbjo7f/R\n",
              "L+Cg3IIQbAQ4+9ZgTXxF42UcxfZA1QNgG+n66Z3iGtNZLfIVx7UITA9yFnqHoM3sKAd+6aVRQZxI\n",
              "+HX4+Mlz0CTaXRYsZbC7ePXh981a3PbnBuGa4WXbMzGL1L0orDWUf6kTHmMUaoDAlPqnvaNwP3a/\n",
              "D89gPJaF4jXIF3GpXW+eDo1gRJvp4Gpdh0OEtS0kvz7qBr+CWYy+SRIFcQtWb7s10CBW6kDCfibr\n",
              "Fr216ghxfCZiHp1vvtMJJ3i6GguYQY4p32b/vi0zS91OpitkmSjbrzpccgNQdek8tZaMDGwWryrG\n",
              "fCW6rSA6R7CfpX6o4EpazLf1kHjhk9d8t42ZOX3AOntSKLQZmRPo3Qc4984+eJbllo5vRHyVD/cm\n",
              "Myk4laDDtNC3U7uCa2Mev8LF6Dc/ZyghTDyBMVujEYYUqOBeWtUr8RC3CKhmLHFkZMIu2vFbu+qC\n",
              "+XeTf+UMnBzsWjQZ54ddLpjL6kpra3hULXXBiDt015AeLDt0FuUPW4hE2uhIcl1cPBCd2m8GnGR+\n",
              "m9mqrzcCfVLe0YqtfIbojSrpSemAAAAAOUGfqUURPCv/AFiLjHD1gEgAW3VFiCRdw2ijA+OLN++D\n",
              "dhdS1HtE2rGcaKVU9o+IYjWoviWa2ryLgAAAACIBn8h0Qn8AElarPTLDERU+ykZam5LFT2rD1kPd\n",
              "VZdd6w+ZAAAAHgGfympCfwBpnkulpAlWcAq0uYqfl/LpalQosm4N6AAAAPhBm8xJqEFomUwIb//+\n",
              "p4QAYeOPwBBnFBHGDQIPdQrJivG4ztyUJIOFXF5/JuKCvHDGhmxx6MlDrSZ6U+HYj5Be3dVTe2qh\n",
              "uqcSc1ccS0GDMQN08pbp/Wod+N+Sgd/msLCkSYtRM4EuipCU0guzTu7ZoPe9fWuKkcDXr/GmlDPK\n",
              "Ik5PZcbhFtop4O/j1L/ypxOYR9GH5gZ6UIQg9klAWDNVFQxElpF1SvhPjQwQU1YvCKz1upO9Ubfm\n",
              "coO5IOc9WfFaoL8X0+KoJ/Oa2hukoYGLQ83HnEOHjUAirvO9iItW938bkprxUgHMdQLnYSPYAw16\n",
              "jGePlwC0gAAAAchBm/BJ4QpSZTAhn/6eEAGHGGI4q62ALmmqpQ53zZe/Q+X0KG1GE1fo9lS2XF5t\n",
              "K5tg79i/MsUa4zMKM8V2g3HX8NOI2SQ7zTNKUrgNUgRMmn2be8Pakwyt2pqrUpXzvaFRDqP1uavk\n",
              "CcAfTA9AaSRPG7Aq5Ad7tZ0fyV4tTdjazsyLajuftKpMqGQcZjiHCw3aZgmBDmiRe5Y9NtC+LRoN\n",
              "n8/PcMJbcAgE6ybOVVb4llHyUi60dOjmIKnEBwreQNrw6YyTEWxObQuUZefjHbOMSsWs7wTGfl3G\n",
              "G/s79PyZFYj8NtiN5WImrShBOEwXWP5BF0cj0H68zr0ulWrAh07doCjOSOe33lpCVh55uKZHkBSQ\n",
              "QxmSwYvAB5rEbDgi+ZWUIrV4wTPEC53kQv9d/O7DBcw1W6+xQL2epFZrAapldDU1fdIkhjQ/5su1\n",
              "BfDShh3RaYGCGbaai+yBvFKR5pUF95G/gw3bDyS1HU7HzPHZvNFde3sArJU9kAgAKmTSAohCKc1Z\n",
              "WpNxdkeRP8wrr8GPJOpGvmDyU9ex7UYE6EEXbqF5/DLXB9HWERr8OhDOmCJECS4b0VS2slqnERMZ\n",
              "GGc9Hr0x0dxa3XcAAAAfQZ4ORTRMK/8AWIt3Uu/n/FZuXdSwCE4N79SC48LCbwAAABcBni10Qn8A\n",
              "aXzoCCWF0UQrosETcEwNaQAAABYBni9qQn8AJLFRrifd3EEGxl+ZGZnAAAAAqkGaMUmoQWiZTAhv\n",
              "//6nhABnfgYA3O1dreIk9J9BUDiWQtGfkY4EPDA+6oBMcX2J6g7MvNFodPYudqjxCiOjEc4UULCz\n",
              "AzH/xDpce3tVOvVpLoZZtqv6bX0Kx7k5hllRdEIBTMSqArX6dOW8tcNaJiGeG0bDpuscxrFtbWji\n",
              "bkFzFIm8qPpEAdDGVHawkvNQHN34fpuBW1fSdW6JDD/8m/2asyE5ydJBH/xcAAACJEGaVUnhClJl\n",
              "MCGf/p4QAYh118aoP44A3tOgQaZ/Qcu1IpH4XdZbbKN0LreWQkjm0AnrpugYGudWVa6We7jMwozx\n",
              "XaDceDSDMBlzx/15DEhmQ7bpwBe6Z2w9GQUpVAXKSIK+wNSf8ABLR1cCdJVVQ7P/WarOV7XQL2Qt\n",
              "L7/rS/CF/n56hg6p22rfExIMlPLJTv0Iy7j369qXEfYMb+G+ux9OfNsSWxmzHUs1S5cKdVQYN7OS\n",
              "jp8ZiVWB115ZLCvVmFzeSh1DSvzhDEDqXZuW7WNtQsbAuIEB8KR8BeQtUfnYq/obwVxOf5K9Zrse\n",
              "UaEVu6vJhPXep9dXBJCK+ps4cg23IRGaQ6oMjmoJ3OaLH3Zm/i81SZZf1wg976h9neuD68/A7S1a\n",
              "JLKGd2mmxevsCIonHcETm0tFsQoKHBS2z4UfkC6XeAtt/ZTYZxoy/nISBRvOMBOHuLrrn6wWSaNM\n",
              "MFTTBijU6iYMyV3FesfH95B9NUDc1qvVTr6q2jIikDD9fGE5opwkm5m4QyT4KXUDMrmnf4PG5nOu\n",
              "/V4JbixhSpr3RP8/HFrbilhOJWeDwUgk5PaA5pmFBc4BmsYZlxvfdhe9L3lu//DHSBql6LAUYny4\n",
              "UTfqG1dwA/8YgtdyTg56iWbPHkfantTEea35qN7cnhgIjoX390idBtQ1uYwKPTSkby8rMHlvxTjb\n",
              "3YVp40PArnBdqYncz7HthrMSVR4UzVHAMspJAAAAMUGec0U0TCv/AFiLjI4FPACCmIu2fJ0CSb+1\n",
              "9gjsYoLiV9oXHZdIYoNK7qIKCC40IVMAAAAjAZ6SdEJ/ADN+T3jP2dQJXE2domhWCAuHjhRP9YHD\n",
              "Dsugi4AAAAAgAZ6UakJ/AGmFeC8MwABOnw0RiDa+bgZ1qfmDraPfddMAAADHQZqWSahBaJlMCGf/\n",
              "/p4QAX15HEAREADWPEt9A5JFflzhmEqSe5keRMUFQoWmgaa1+ajs8u90dtsH+uC4Z6AKz36k5XNI\n",
              "Wz8IpIFDTBTh3bUA8HE9c69Et2TRHXUTMGhXd37sF+3wo3PVk8HG1EwttzZnfViiJUwnMHyqUngV\n",
              "hxtsXINcFj9ZL6XVamI3utS6chTEczfBXmqV6Yg2dgTSs7/9cSz5tkPoX/6Sbu9rA3btJQ1a9LYn\n",
              "xYKDBpk/+hCX6CGY3xkDFgAAAP9BmrdJ4QpSZTAhn/6eEAGHeLIAcu7Ra2WWK6v0EEtnM9yiRMBc\n",
              "TyeLT/Uhhq/IpoDbn1tQORDUr9Pqqyjkys24TuF+Xiy8n4eqWPm2wWsPVnbf5BUvfwc/d35Qqt+O\n",
              "btF3f/6l9uf65GJ5zweMfWKKOnfWFMHYV6Kip2JFKzpxkP9w00ty4kyC/luerrK28poVPMb4+8wv\n",
              "dxt2ISAsYRh72PiYCHs1dXLs6vKf8Sl95VMgMnu0V0iLKfbyfJK24p8tGUqkcUBSpXBSgxbczD8r\n",
              "J9VwLNt9r4i8is92r8u4pyi1i1RViPREAFQ2PJutCNZr5B+FKaSBnQL3PPZgccEAAAD8QZrYSeEO\n",
              "iZTAhn/+nhABh3iyAHKlj8aQp5Kyx0DqGQbO1ucItpTNXuWdRcjyKigqlC00LNhgz2BmJeKxCKB4\n",
              "6yrc1QZYb/eevfTSv0J6OVrB/6zPBPc+gERnhRMFP0N7u2o84s8eBWzeZRxn3uPunuw5kMM1lG+w\n",
              "KegUeeL8nenhU1DeyLd0OQYLI0LmriOpxMR44bvmowSnlOLSbHSEaJ4z1wZ0UJij0ZO5KN0mupIU\n",
              "u/jsOnxMoEFV7fx3wAOt6MVsdmDIfQgMjJTpgM18Cu0WeNbeDAN7F6ayCmpFKylAm4wuS248juP+\n",
              "R3mXudf/y+SEBO8HotYDvau5AAABdUGa+UnhDyZTAhv//qeEAGRjJcALDnFmjLmJSM9cS+hY1QjP\n",
              "0hB4dHeNEoSEAqdMGWVx7sVL7X8oy6m0TDEprWw8vIp03IonS945pma6AaC+PRmlca+Oh8WBXyy1\n",
              "jjvqF4HRnBZBwPl7KIk0BgKRKyqdO5i/FGS4fk/oPqgjs7bu6NZUWdQUotMNASJB40KCGr2QhaHU\n",
              "Q+i24p9L3F7LtQyg4WdjzKeOvjyJNHFrKjUw6/kndhtlac11b6Cw+4MZFEpvFz7tDIc10ZvGeahv\n",
              "asgv7VW/iO7fQptFcgszve/r8SLDX3le/DG5FUT0a1bbSi/wcg0BdVG5SSkwpBRhsgMKa3yRt5qp\n",
              "Wt70eqxLRS0ZN5YQBrrqGq48EKQ0D+Iot1bHtCDIj7Q4oT7tvdKUWIMo5+Zy0xoj+wLFOQHIwkpW\n",
              "R08e6v25P1WnjfQwwWvsIpGXn2bFVCh21Q3p79fTTdS2AExLP3raZ5tRA5LCl29Gfxgk/6AAAAJ7\n",
              "QZsdSeEPJlMCG//+p4QAZE2FEi5TACPkCoYF8f1DWHKLvZoaueFVWCZNrQsN/2kF5yJvXEssXIlP\n",
              "0foIsBiSy4aV9QhNgkyh/4gSYAiKMdIPkmJ0IBKRdQdunxDW/oRWb3WOA67Lujd5KbjxGkq2IugG\n",
              "BK9wccutJJvqiwTDQs/O4koqyyF7ZO9a4KqbCIf8Th5YrjeGbq16PdlQ9qHgM/Hp9jHXn2El8NoI\n",
              "KfbvYG92sUJlIh/d3S57wVmwg1sz7hzYLTeNE/Yphs07xD2L3WgmvfS8QY+LAab1vMIyaJmO7DWh\n",
              "swDH5r8olUBG9jYBj/PAXgNO+4OAhCvjhiXxcDAjAaWP80U0k3qlpdkCxZn/OmKAEpPYQcD/M9tD\n",
              "WYlmLkWHILnN8MbnqiaoHbNfC478pOJB0NLkmWyc9uykCi2gn13t6PhpmATxwFR538Fg3XgNz+mb\n",
              "xCkjpFRFh3Tf22qmhCf9jQ2JmmMbrmNdD6B4Nsv454AmCxCCte3DYCtySDNm0QumcLLwkTuXyhII\n",
              "CcA9LKXwadYOeKx+SFd5vVGRoQRtYt2UG6kv0emAZ3HUyVVaUBZd6fygHxL1i5CYPqB+Bjk6Stve\n",
              "C+g/x1XSPXRnKOZdqNhWfFmvsyib8q8L9jPpGEbM8NuYfJ34Fkjhpi1Jmze9XGFwxdm138EyuLfx\n",
              "g/FF4mDcz8ua09bQw+KRxH+OosGA8cx8JZ17PjIZfZym5v0n77/6WhG8l7O//hrdCy3YoaUIAgou\n",
              "Ozl8RgtCon9pHIjFPm2uxi93IvxdgtX3hxIDrsvhvaxrt0n+VaaqE27ubo+n/sesAHJJy8JNIPfe\n",
              "52oh6F0ItIEAAAAzQZ87RRE8K/8AWIuQxI3OO4I7t1Ven+stku45ZteurTjoI0ShRjjxL1eIjup4\n",
              "S69CQpZQAAAAHwGfWnRCfwAzfnPgFKGopv8jdI4faexbdtBI7GEegWUAAAAZAZ9cakJ/ACfXAayk\n",
              "MpKAfCjQzYd2QKEU0QAAAbJBm0FJqEFomUwIZ//+nhABiEXIAAADADfKbyadxQwOM50ZX2Wk3yF1\n",
              "0uRn294eDMpZ7uR5FRQVShaaFIJVz1F/57i+lDO7e5zMksVo51tTWspA52DnimvHhWKdcb4YbO/5\n",
              "nNkhVAxe2sBJnUk0+I6tOyglpLO/ed2sEVMIpe03HXP6E8ZMwcP+jyy7gN9ht6GHldr0s6xnAQIR\n",
              "7EwFzXbCnVeqZ8d/jlwPDC7h0vBaTD1pJDaQweTUGW2aIWWmsqidpnQ22HL/GfYSOA+RcqIyiSvT\n",
              "ewG55nhLIk5fQuVr7y4rGj4IeLSK3tnBOuS1csT0q/G78q0NEYiMoOYH5Wv7trIDz+izo+t8Ll5D\n",
              "8Aohr6CeB5GANVcqknBbFVtJy6Nhk1PcOz9R0MG6XZzzg//isTMrJVLo8U3O4PYFwyDYSvTi/knM\n",
              "ZWFyrNDobb8zN7NVVx/H2q9s/V42fewaxOOAv+65n1iT2gUJr8ghxJRhjmcJC1byHJRc1sJPzV4W\n",
              "2YbfKgc+92aW/WFwFsThcIeR/nyzwDk9mfy+S+jTtkLapYixXBb71XVFNgBfuli+uLVJlwAAADhB\n",
              "n39FESwr/wBYi5DcWRRHE3AtcAFzu8SJvnEec+YaF7evnHjM22dhFYsmJx/VGtJ36wK4uVZaDgAA\n",
              "ACkBn550Qn8AaUYbguLDRPGHPsNTRk7YOENw5GQ/+HLpD29RenIQeS2kPQAAABkBn4BqQn8AEqUZ\n",
              "RBVaOrSbAaHjKa1Oqg6YAAAA2kGbgkmoQWyZTAhn//6eEAGIIEUOAHRcVzFScXFh/Mp2qCofBwrC\n",
              "4ACiYPGQWTxwLsRvPfBTYrQfiTfQaEZdeVBWtTglaI3oPkRV9FdLQxyHuVeJLfIQOxxF9lTB+Ig2\n",
              "JGApn8BkofYqvVRJyq2uC6YMYiYaw2iTVjOFvZlRfchtJzx63WHk6QblNmCKyz2MerESykikIa1l\n",
              "uDZL6qrDr9sDa4nawif2/RuwcN7V4Cv+fyX24Tuq5AutlCayTTkV9huCfEK/UkZGa094xliUxbB3\n",
              "enJ04cN7cIOBAAABA0Gbo0nhClJlMCGf/p4QAYd2L0AW4N4GhiCcT95mUE7Zj40vFMnqw5wPcjSR\n",
              "R0PIcMpurKnvfQ5eh6A6/vi7DimgVWGPt/8Kl9zCZOj4EXLW1KQG+bzd0WUb6saz4Q3+N0qsmgm3\n",
              "LFq4fGLtdaFiygLpF6oB6hke99Y0eLP5a+w1UEo8/kgi1b4YXW7ZHWoFUC+kWuvF3V++r8XElS7H\n",
              "olW21xa9/c4JIN2QHfH/BKMiRaUMdk08wkwjnhqnaWF/6snHzWgh8qltcuHz+tcibl6NW7FYqOyB\n",
              "mJy8tmUUxQFsc8YNIVy02Rp3oQtUTz3PC6B5yCJuQ75fFIDW9EN7AqugFJAAAAExQZvESeEOiZTA\n",
              "hn/+nhABh3+lKAL/GORrYQbU9T8EA3Ctckn4LIALzDJW82P0kHTJ/41+VwCbPz10UFbSpkJkUxwO\n",
              "IzmWKN0yKolauJtd7QBydt/k78OS6jHUDNCC8WXFoHNb3US4clW7akJGGbLAIIqPNv5cMkmazdkY\n",
              "VRHXuHcQaIUd4pviU4yWZe1kmSWH20p83g6lW1Dt68DNPK4m2dwtX57G7OA3aT2YTuGl4mgE7r/g\n",
              "Y8MrC+dm+KvfrebAawQoIda722UkiahKEPzXecK0WMJS/0DKkQDa5PnCRHnc29xk0hs2CTDmsalY\n",
              "PACFZ5uPffShtWs3327lxvQMnSwu30Y9a4CgaDwQ9N/sp/ArjXWbqNof1CkZMpTdoj8NlW8ULwNN\n",
              "BaUtxTqva7uCX70AAAILQZvoSeEPJlMCF//+jLADAVZvTuscoSU9vvgBQbQRKoh/BiTTw7ipHV/t\n",
              "/vNGg592CPfnytbAu772bIvJxa7fgiQVk8SvcoymfzwmFseE4PuR+oPem0kaFXXDhLM3x3zkDDig\n",
              "4J/0op2A1rSqF94VHlS2FmmFBeFcERmuOknTKw0lu5bDvrnclc6Kqzc+kkZ6iU3YCzSDFa+W2Njk\n",
              "KoJVD0Dmn/J9p2vdI/NqHZV+ee2p2V5I95PUX89R4pNnkxZ8MB6UKI2w4UTXL93Bord9Y016pG0D\n",
              "KgpuXNvI15urN9w6o6ASDyH9Kbr0KpV/Tr023JBNbABeCFt8m3OnjSR4tWtxWiSxt01n8dbV7rVM\n",
              "1EF9Bl58ZhnrjnI78DMsSQEQLsN3IZ7rQ0eo5NHlYjMcTuh62Mon2iWwz/N7PsYCbxnS6SLUF0T9\n",
              "ovCnCNC48QrIR47CXSYBY0+uH/wUJSqSD8XbBFdOzLrAA+EkfaP5ocvZbkbOv1iIdoMmFu96mV+8\n",
              "O847svqTzfFJr411oXD0OaoD3X6wCuWCn7QoRolnAXJ4TfSgzMv2pPLq0PViKOsChetaMFK1+LVe\n",
              "AZEwwZP0cHBGJzbAHIjW1AV9BpFSnUMeaRKt5coQgyYAC2ARkkDe08D/DUK49XQj9sukg9hj0vN1\n",
              "W3ExwzvYo93qW9bLZVCesDqdrWCLdPU+YQAAADNBngZFETwr/wCfcmp+9XbxsaQixBAYAW27vzng\n",
              "TtzcEMKUpzoffMoKS3pFLHMXq67g9IEAAAAfAZ4ldEJ/AM35x70qKbR5Erw0+wYlmxaMsq2XNuhd\n",
              "0QAAAB0BnidqQn8Azjx0zsxtIlEsskUqpEf0VN5yD4BZQAAAAOtBmilJqEFomUwIZ//+nhAC9+rO\n",
              "TX1IA3jwm0Tgy8tj/8MgxyO+HuHoxrpxhn/UL5mPvE9K+iBw4eroYsfZm5i80aLpJY94jvpcQZeh\n",
              "FmWFfnTaRDTkHphntJNSnWENWZvrevFj2vIiU+Ihgnu421p+k9nuYAdUpoPrmxpjhDRvQweeN/2C\n",
              "ILhnp0HEQihuWKhF/t9yBSzXkS0PkB2t6NtDamZm9Dj3pr0L/u3bZROYXXJ57cMGAp6qq1dzPDEY\n",
              "0UPQaQq529OQiJOZxO2rLKbczuLrHHRgqn8t9+2yiTN7VjXOvgAvgkgXV7FgAAABD0GaSknhClJl\n",
              "MCGf/p4QAYd4sgBxNucBWgb2RWjUarK+VKvXV2c/3/5xD8CF5lijXGZhRniu0G48E3UJJ/xvq3oc\n",
              "cvEcCfwywVsltG8FDkp3liN/zwg+fOdlaEhBix0tjB7taI3w8mHJrKyAfbziGlKDjMKwCz7gSvJr\n",
              "dsdMEBkTGQaRjcL60KCGA7/hbOrjJLN8gadrcZPUJ/9FCNKEHvHdQ8ugTspP7o9RcVEQTfEfoHHF\n",
              "cMGZqqOxlM6NnVAnjYUH/ap+d0PCCAaRcp638/slMXHesze6Iuvag/P++EFebPL+VD96Y5gznN14\n",
              "61XoBSgewHFtIBF1VSJdCbhA4MmtgYav9yL5Ph1/4qXlpuEAAAE3QZprSeEOiZTAhn/+nhABiCB3\n",
              "VADpHemxmtGcTS0zBqe9lsLy/95Nq/yxaZZb85qn8KhbZ4ylygRrwSFO0u3YMHmkLqfWg5RsTFGt\n",
              "qfVdxJMQrnyIjStDsoWYUYKxkWrhVfMn/UnFR2Kaa6RgRZjKxJmWrdT/S+y2hWC62/ePNiR0H8if\n",
              "rLC/qcH3sNStgLhSD61VsveOWB6JEMmLc28dvGr8qiYdcXOWgKg+HEIkqDo5/jKMUXTLR98xky9X\n",
              "MKGEzzTWeRfKZhIhclcUSx9yAojDY99iY/vzR4p7qlaRzjyR4ZORO/kO2j4TziqtBhlPYXg3H5Pi\n",
              "m7A15p9pbSYczhF0PQNb7Hcl4dKVYqhQ9yInRz0KwQqtBy64sPjwsRaM7VFVlrdabvDZ5HCeYqn5\n",
              "RR1Hln9wVMAAAAFFQZqMSeEPJlMCGf/+nhABhxnMkjABynzT/ir5PxHNBkygl5XUT0vFc8O3GsNP\n",
              "AFoyPgoSpjA8/GGspum8wNS8djts5zg2tsikq7j8ApTfOGtWx/xsp+NyS159/8FcTZu0tgju1pLC\n",
              "r8uaP3ogP5pe03RrnVRR6qE3l1+ZMWt39/1gW/FrGj5TUg7M8op+rNEBvRKAZtPzzL74IJvkHdx0\n",
              "ovsga0CqZIT8qHSPyhqudOAJ0Lve4foyEUX5RXhlWMWeL0xoJ5jsKWu9k2OPlJ7vHv9NzscDzjsC\n",
              "hMD/ivXOExEjAluPgYuz+F0o8yhDtC+tV7/fuFPWF0evPwqvgxVHomBgWwuFihtIevY7hIWlR8it\n",
              "vZiKzTESFBFbwWvox/kpwmxNbkyj5kPq+Ui9mqhxlEeYLR6yn1NJ5NEwR/82YlLlOXRLKAAAATFB\n",
              "mq1J4Q8mUwIb//6nhAC+AmZ0jl7aIRd4u0NsncxLoAHDDX2fn4ve0F49VEbgLOhyLa2wMQejyUUo\n",
              "jnVg6VoZYsytavvV65auyPk1rAek3Ydlg5Ih+2qfeTEO9OEpZBVvrRhA8Y2pOtHDrEsZj1rBeEtA\n",
              "p38MjZRHtZOpQMmtd+Y8O+diGzH9QEDiD2RJNFpj67FoE2wdgpA2Q27VQOh0L94MVDb+pxCkMuZN\n",
              "fMRZYzVpCDTctVfsIbuCW3wo/PMmoUxRPDtv4nnCJqaZ76J0NTx1N1/73S2RkkFt25rgrjQ0nVhs\n",
              "K84u5AYfSakN/Yyy1pFx+CmAW4kYwstHbeJMTg7vZRRmR4NxMcS69KbpML0IF1BIE2kUaTenynri\n",
              "IEnujThImFA30QXOj4yl7SfTcQAAAjlBmtFJ4Q8mUwIZ//6eEAGIANsDl3gDmHw7UDZgkTwDkJ1k\n",
              "vzyTfQU0SzLqbykDoU8aWTKhQQAQvXGcU3YCjStMoD+pmla6We7jMwozxXaDdZo2Wux2qqpJt4Ee\n",
              "Bhp01lgAGhIZFaUVM8p1TJ7gD6MjbgUTlOd2oyw+owigWupaqegSWyUQg79S+ZO/oOhY1DhWm6ZE\n",
              "BA+ost/1mJ2pLwQHTvdrG4IP5OunpbMKl7KE/bUnzmhwVeN1zXmnwzalLwLAHPqE4TN3jI476Elv\n",
              "1WJUIm/0fZimDF3fe4izzR8AXOYMFx3sLkEYTjSitJpvgLsJH4QmPPvEzQ6c+HemyTLmQ7jAHSW0\n",
              "PgYLcQcm3JEtsiPXz3iLbuUwAQn10wFOHgICWUaiNFJNWR+9rd8ovOO7uwoeb4Rooc/Zbg/4Ru76\n",
              "FrqVl2SDDUp594FprxDMjB9V+ph4tf5exy1bk2u+S2BEz78NvZLDawZDIBpj24UAKdq7lw0x7Osr\n",
              "wE1zWB+TsHHqJERaOTMuffRYNzjJlmXjROYo9p0ee7Opa89RlM0HunJ6E9qMDEpTX/qGkyYJLQDt\n",
              "VofeSG9sKclvlZnIIuQP1/M1I2HtXbZPOkC0FAHh6h32+IGSBDmp4bw0Oguol/12T6nUZHtITeB9\n",
              "B6YjqocuY/r0UJ8RJ67WTQDTFlb7rsskSNQb9I6DGaG5gzVLTQ8eI5U888G2zVlAN3baSkUFwqPW\n",
              "42nPHofQMJAzT/UbdrdKuVCgH18OmQAAADlBnu9FETwr/wBYi49jlpmXRi6fiZLHK1G0j9L4AOBm\n",
              "cxRcEQiKXSzUfaHMxYaAYuzPrpb+spHDGZEAAAAlAZ8OdEJ/AGv8nzruAMUTNaQdIzwjeu9uPnu5\n",
              "5cAoPZbdhgtW0AAAAB4BnxBqQn8AbB41IUhQVPqftIcFqmIzo8uEO95ZP8AAAAIQQZsVSahBaJlM\n",
              "CF///oywAYtJiFG6AIRCrujG3yt777u2nSS+7WSnigSLhf8xc8vXqgAAAwAJt9a/+7pIerau6qXc\n",
              "VjYzk71bOa90/4rK3TGpAUxDgOdhgRzv+305OKibmqe124Mn95p9sHHFB8rlvuArGjt5cFPAy+4z\n",
              "gGzoMMrQd1g5rHxReLJGI5QRbJHW92s9z/yV/HnlfAFg3F/zw3iYg4VlF9BZ/Yu+xR8S3TPSR85N\n",
              "FPAwEL/Y43NXPsYvE5CLBYRYTih3HcyAiVE/dhkQPS7yd4z8tQSs/Ept6GVKngPdr0NPVxv44zvS\n",
              "gfpKbeFbxkisuyo7URHyLrkW1GvUBAECpRW6KlvD2fqYCOoKC/yA7JJY7Jt0sEDeknFpXoIU801h\n",
              "A6qodLGsislhHeyyLOX/vDXVo75FrOnREq9JRU0ocr3YO6hewlns0ACa8NMXvu4zErEJQHAwH+3W\n",
              "NoZkVSreHiQ1miWpYwDvr3dNRsSC9FQ1ZzBCo2o/2s8JSkpbASbKdOH/C/I7q1FhI0guHUL6mD7y\n",
              "M+SSSMZ3dvHsfkbFAfrIRfHhdc7EfHAcHjHCAII+NDFE+jpfVOE91rzDGIjPPUqGpBQ9DhTm8eo7\n",
              "52zRM1sEvVJDTLPCAY7xy5CKP/8BlMOsaEH31RQ3u5g4SrOGbmZXUQGYXO1b7ZJJSed0LEjz09Wi\n",
              "8xEHHQXhAAAAL0GfM0URLCv/AJ9YCfMbTuLigFFouEAH6EqqXYH+sj+nuz2gzrCN4VUvQbnLBZBw\n",
              "AAAAHwGfUnRCfwBppmpM0YW/Vffj10cWHjzNHYlw0E7ujYAAAAAaAZ9UakJ/AM48Z7yUWd3O3Xoo\n",
              "IzPbz/xQxLsAAACwQZtWSahBbJlMCF///oywAwFWb1MFRgEwDLBp6NuVXRNbE4NAxT+qPCqKpr6B\n",
              "dqQ+rYM+eIFbeTwzo8Bg3eJigdb+eQG/A6gOUrVNk3+4eWKetCBQzTEZpALWsRLsS2qCobmkdL7W\n",
              "b8VnRFVc0ABlEJlLSp4nolclKsxno0xRdmp0Q0mntxpe3cw7Irf+BRCUx13mfu8JS1qHJVm3NbwE\n",
              "RDKxG3hsqJveY2eYXLRfR8wAAAEqQZt3SeEKUmUwIZ/+nhABh3+lKAL91yppS97EYjHfAAAFf39w\n",
              "ADADLOi3XGIVMq99dQoIsJ5k2KDVxmFpc7AVkQGOHvf32X3ExOzMsm5aeZXnR2sXvZ072S+TsCjV\n",
              "2BWtE65rtCvTYAuNwKrCZAQvZD3dMforgJOKBFG3PhoO7ciBj5hQvyuV/Aei2kb99Ho5Y91Xa5j8\n",
              "k/fSp0oytU88wRmdB7glNn8nP1orxGcO8bDQcOa8IS1TCTtTW2I/3MQFTif1/uhVTMnac4FWg/1g\n",
              "iTzcvzKtigsT7TQUd5bPvpyR+CImPp2oo4h1iVd9Y9ZWyqThdTCn1jYoIpqIXG83KojkwGQCs4IF\n",
              "8ag/bjQ/zx9iY7dQTUzj6vNgFJxwDtLUv/fTf/OMIwqoYQAAARpBm5hJ4Q6JlMCGf/6eEAGIIHdU\n",
              "AOiFYYTwtjfMAQK+tJKwypr9Gmj5v3yjQeI5WuGtE/ltGLIhKmMDz8Yaym6cBEeCiMicKE66gp7R\n",
              "gf3wvkEzf+bBgRmpwClze7ao+GErQxIeXhs+cuztg2j4Pf9KTzbxQY2A71nCG39OpuuWlr0djzpH\n",
              "g/bLRx8Y9PADBdHr+rcWTHbCwARJemU7muOLDKrIctuDyYpbyvtIhkvIzen5M+3mWEctCYNVK7wE\n",
              "NObCo5DR2IvN5y/wZWK0WMrZQS0laJPuvg+E9L5I5oU0bn5/Bnr8WiFNhS6eowJWCho/+iICB0Vq\n",
              "GGDGQVLSvUimLkepnbcJA20PCalut/0z5BoVkrrfuBADOOEAAAFJQZu5SeEPJlMCGf/+nhAC5enq\n",
              "UHcg3Sy1T8gsIEAItgSFE3+n8L1O2nWp0LPe2MnqYJE2jqNgOS+CKs5eLQSwpUiR5iV2UMSvi6aY\n",
              "nrgEwyD4bmDFa/kGL74yQYlg9tqOIkppI/iTUFI3ow3ra3RUvFXJtbGjqRQVks4snq/qtGVjGtnd\n",
              "3i0FNmMUM4ZaQk5oKEZOpAMMH7s+juzgoIHncZ/nVlfLkgXVWyBBgfyA3qf/oFxtJPQQG2PLdyZ/\n",
              "KImlgKBlqUNXw2CBtsWo92h5hKps7US17kIwOoCe53GmUwSpYyJikV1g3XosrVb830ATyHiFN9Kw\n",
              "T85TuEQt3emZxmnkUDfwrUbY6BY45V7BdTPq8LBcOnGKjmmXjW/1FqkNkkeB11b6tBTETsyi8urF\n",
              "IKz6b147xELZFsQe9rE0gT1mWaKI/6BwYsAAAAFKQZvaSeEPJlMCGf/+nhAC5g77KqO+8PDUS9zi\n",
              "mm20gByyWITQwTYXAae0RuRsyfoOIix/cCpUkxpn2ITDrRr60m7WV1kQmT1MEibR1GwHEuyewzRp\n",
              "8NHeAFy6UlS52LJr8J95j+h+wUsfHDE1MAQPbVS9u/5Ihh5GM14xuowYYAlpTxTW99ZAC5cu2HMT\n",
              "BbzsYqJGKB11ZhhzIoComkD6NlbqTJi7sNEvgi51kTGqSPPONfWl6rZczV2UHYs8VPSXnYFFeu/i\n",
              "FTSiDDFqMMRfQioPKgA4bGo7/GKmFbBrlAQxVZKtIEs4vuJcruorLQvL/BufYxfM7h/c1eWekPEY\n",
              "qrovs4VBN4/ttE7dWGRjCsVp3T5IuF/dxjy4AnmRQVrrmAFq07nCSfOKFZDPntRvp6D21uA2ZPwA\n",
              "NaLTNe3/wW+8pBWVleH/rOmBAAACNEGb/knhDyZTAhf//oywAYtuemBElNJAEHlMOXyw+x+sV/EG\n",
              "qiOeXWHsYg15gkggLiLkXuu7814Ppqd9/xNpQR+X72UGbSx7i1fGU8e1l5F93WjqjWddhj21KymL\n",
              "G/YYHqOnAUbf1vhWVbnpEt9bDmsiZSo01MGd3DY+lGEx7D3qdMBXALk2O8TEgjyk8XX/yqskCWCy\n",
              "GzJ1jUGM5c7dfDIz6WaefzvbrPSY91S7yxAop+JX/OH/QbFfzSXpptIhpXa+YTkupBq2v+yOdF5y\n",
              "ue/kAq2D/6H+BVz/c+rC8Zgt8S2c9yndgr6qfDjJvLFri9BRbX2XSeT93LTg3dqnKdf5Rg9J8q7M\n",
              "9VaF42yR5N5sZXEH7jgRcFTmGalggXyQDvqnmpUGnrb0r53/jf7W0q7jRKa8X6xF6y0PN62E7JtE\n",
              "WhOJSoABHSg+BvoG+I97OFnig+5D+3Lq+Hj20glxUTBG3esmaYTAP6ZZXfp1PMtYvH3hZ6IZnid+\n",
              "HgJLYp8IubWP2bdCiGN1sqfPeFwJ/C9iI18RF8qbrf5rQZAiKgSl/PNEROEk8WdQfNplCwPibqWI\n",
              "POdyAP5Vo84eOSobHiU/1mfxdmWuIRPTiUvizeBK+jC7gF3FiUfDmZR3oT760u8mVeG4Km9Slc+l\n",
              "B1NrqEWL+velnto6GKjmIQncKv46q/DCUpkq0lOVJFv7kJWTz/k8iRs0QFdw81SjdkcxO7M8/iLp\n",
              "s3yeSp+uEqNXg1Otq2K4XwAAADtBnhxFETwr/wBYi49jh7+rW0d3IYSAEpLWKNM41fvYZ/IX34Tq\n",
              "xOAOU1BlXJBPlLRNb8gFcXzfE3XLiQAAACIBnjt0Qn8AawddeU7t1Awdbx9e8Rpcc0YRP0pvwJ5X\n",
              "P3HBAAAAHAGePWpCfwBrB1sTmAcBjlbeeOZ9IPOa5i0Qq4AAAACHQZo/SahBaJlMCGf//p4QAYd6\n",
              "tcAXYW2rH9CQ+djfNq8AuYKUtPfVen8z4uguiMG2ieOWkM4FSlwESHBVu77f0uHCd7j34yss4SqK\n",
              "K8QTpA8/jK87m6fZLNvIA2RB2/XeutED0ceJikIQDzgaTJvndkUR55Pk7EsTzuMNJ0pu2B4eqkto\n",
              "AIaMAAABMEGaQEnhClJlMCGf/p4QAYd+74Av3aBo8arDjKv8VQA9XrMOY2nXA6N1O9QRB1q7T1Qy\n",
              "tpgy+9a6We7keRUUFUoWmhaob73FRfrljGKp7LR+tLb5uue9yXfDXr1GSI0Fe7WkokKDr6r57kB8\n",
              "wcIFiwN4E1S+AeiN5u07qmKYmiuCcSk/Ytwqc/bULI9pLK8whXeYsq+3iNFlcLNR/Ni8EyLdkclZ\n",
              "xthBDz8RUBYGj/FzgY/1WmwUVGbb9/zJE1ItK/IiIil7dnQWCAh0S7Z9W3XEouQDCXZyFhk/B1Hv\n",
              "8YSRb5ZkVgyFMhLxr/qniSaDt+gXmNI/odEYFJ2VhPi273cVPAAy06g11Cin4wFdLVhjjhtn5yL7\n",
              "1i1sFDXY9W6PJO9u80hn5XUSyv/9PXvXMWEAAAEqQZphSeEOiZTAhn/+nhABh3sIAAOiGvLLnwj2\n",
              "Up9d31AnzmPL3Xl2fqwAaC9yzqLkeRUUFUoWmhaoajQBIxiuxRv4DOdy02+TSncUr2W9LXyJQzSI\n",
              "PRnr+eJUcoDfDuY/d6X7u2pqd6JL7MdXws8uJpoXQ14U1PYgpsJ87TmT2egdw2IUvopp66Ue21V4\n",
              "jYMyww3BglQXmnvAnv6JODIx7h7uWKfYf2YSoqxzrxar73Pz9MJnjyPS6gqnD+1iF8rT6DtI89Zy\n",
              "lR9xYwKfr2dHJk9ahfreyVW9rPsZrvs2g3Lg4JAzZzod0vRehv2PFJu+vY2reDFas00Gs607G09n\n",
              "Om6F9R83s0FDHG1gRau6hlmNugT7kzvNFSkt6RWSS1jskE7TV/5y35P4/wAAAS9BmoJJ4Q8mUwIZ\n",
              "//6eEAGT+DS5XABfXgbLv+hyO1LyZKEPp6h89/ef7tHRNiHP+HzN/eUY+q7PrzM/dP46bYjpbWRO\n",
              "DKFT3p0Xc/Dh7wyWeEvVElFlU0qFiw22XDmZQ9lpMvxhCwJ6FARmBvpCYf5d3AVOUyjvZ6IxGmP3\n",
              "joZeoOzNxRLK9/JftT+q5hVYQELXbO+6qz+glLM4j68YuBn+DRqIebhJKFQsqBaAuXlTehoUOCxt\n",
              "Lz6XwwKxFXBCEkn8WS3GQ36obrDbL9/0vj7otOKNLn0CiKFYslomgd9a3HE35Mk5jUSilM2om8XI\n",
              "kLy+eNLhLBJh7Cz8Hs/y3iUqC1rPXLXeFf3AGGbDKK1rHal0Na8DUl9iJtuqfGM23fzrvhivtLXS\n",
              "t2f+7HzQtdEAAAFEQZqjSeEPJlMCG//+p4QAZIiPepAEemDvEGHzUp/bcQYj1JD7CWX5/H05J6RW\n",
              "6Hpo24aNBJRlNiqeGgxFHMpQo6RMiH0XVSy0eS/GqjGG+d6Eb5Ar/3RDAlFqNZWt7taIwM50HK0S\n",
              "ob/XyQ1alx53UKbtOB0pIYpC92dJ1rkbWBvZUczH4HMHkElJbsuvJVDEGANIygOY7LFdZRzHXYjd\n",
              "EDed70evXIIXwhZ/H9UPYcCSNts8Bi08zycxj85t7OmcxERYWEU+9ewXBaNdbC6JtasPZH2jsCBX\n",
              "f1g12O/Fds1f+ERNY4heNdEB4iN5ScxcLLUqfVXaeXLKN1IBHs5weyb3vXHA7PXoaTDkNJfCOOkp\n",
              "TJfDuWX9VjstXrvlQcFWj5HCw50MxeovgtDg0ryVtYoqSvUNAYBKDQ8PihO3EwdEpYtIAAACHUGa\n",
              "x0nhDyZTAhn//p4QAYggXQABXOByG9Qy94CExMxMfx9l8ElzOf6O5ghPv0VWQLZktrpZ7uR5FRQV\n",
              "ShaaGATJivdTQ4UZVLvDVLpy8Lrv4YF94N+fK/p1vsCP1/YzM7v8WGVoqwJYQQ5iDk5qhCKfn9C2\n",
              "6IhQN/qO7We8cfvVAnrJ1H8dJk/XoDhdaekIdarTlOzih104erNOfrPiqbA+FeYvMcyiGTdIgGau\n",
              "sOI/Db+hoYwAMrb0jSdE6CXaTTGck+v44tKnpp3AGgNS42JJeY5VQVqzOvCssAIQANa8jIF9wqTu\n",
              "xKWu1JpsL9258TuIGTvatBe0QjgCeHjRhy8o6XTwFkBm+rFVyBNOBb/PNR/sHu/wcKKRxmY1zmiU\n",
              "zH8sWRq7fY1t9+KLGknw/i7uVbHFqAvzWk3Mj4YhvUDKEBH1FAkb6PQoVzrs1VpieoWXfLa18Laz\n",
              "7DGREa46+LOMHtWqnNuM+iYOkH3+jUF65t89dEmGCAdNGNEx+C8ffVrzs/vOfTJoVFklcB4kc4Wz\n",
              "IEQkVRoK6W27XI6ct3qcq6NJMsgADfOcdFcTG5+2JDnAAkEDSGJ1I+37cVA9uCuCbgCBfKfAEN//\n",
              "Ep7uLnEGz07sg4Nrd9ndumNqpchNLApKSxESxVJu6ht6RpYgcPMOOBOPTkAUky0tNrs5i7r1HYT4\n",
              "xC0DV83yuBw7PAFb/SQRGiQxPxSTmX5+MqcAAAAnQZ7lRRE8K/8AWIuPY5aUNt91pJcMW4qFVwvP\n",
              "Dcgqeim/eSZBTqOvAAAAGwGfBHRCfwBr/N5mxaV7Dh7HvdM+h1bB1NDZgQAAABsBnwZqQn8AbB4y\n",
              "/vegE0A+VtHPyy67Vw0joWUAAAC1QZsISahBaJlMCG///qeEAGRjtugAiliduCoYZWkWWGPmR39N\n",
              "Nfj0WdyRnItgBubPVl6ygEjg532ko0hxIsNR5ELIXzu+X2TWj7FqieE9JDgRKP/25Sout7taG6pZ\n",
              "q1dAYRj2YRU4FejSyAC3XSk/ETMeL/ndd8MinTKcs5CbToaN60KRzOCYezXHTv/dr4JqxyyVtwgp\n",
              "LTvxp4aU5jTzHoeYSFnvWmi6i7tDUPtS5dQu+Fsr4AAAAh5BmyxJ4QpSZTAhn/6eEAGJgnrl5Gzo\n",
              "ACw+vEPMk7GecutUIfvDUkMdW0VkCFW8mGBYpicfRtz6nml8+tyUHmWKNcZmFGeK7Qbj1DqaJ5Na\n",
              "FomDCoZKxZVKotuIn1IbzUhJurHQKR4pn62y1pt7TfB31AdNHMZP3Vnns65umKeamlDWZCl3/QCW\n",
              "14b/fXdrP1Szp6Fv0sWNS3g4iByVkQs4Y43YW12Ymcfd5WiK0hfKM03R+8Q/3ThcUlkeBYR6yJTW\n",
              "8JnW9fzhRwn5QyzS4yHR/EhsJQN0BH8yMHp7yo0No5NlAGN5nB03mBcVhD8ASautqO6lHJVBHiRs\n",
              "iNs74SEATnmpI9gFI2U1ZWvRPTFgKIbkYlGAHCs6WeAfy2EhtvI4sseOrvOGwycRxrHjRXgf+P0g\n",
              "VM4yXdfqLUAg/a9e3XNkEwvKqSaCif85bGlIEsdhb5nUIo3BdBKxMgryNnK8dkVWBZ7YSrm2UWk+\n",
              "R5Wks4rvBrco8iavS0QLRB/yquwe5MkvjpEg7RnjtIy/7ND7yOaRhkZDYn118IkTHWRyeJsZU8yq\n",
              "yw57dS55hhcZb6p6O1mMX+vi8qFmE/ZwRWpiN5wRX9f7oHW7oIhfNSGluEMn2Y8obYQPBOuO4b2B\n",
              "rGwtzwJCQx9qZ1XrqCH3VBU6T6ru+NaSLzfpRAwdInfK0eGFiq1+7H/wSwuPsStuq2BG+sb5hpA3\n",
              "t02N9qgh4AAAAC9Bn0pFNEwr/wBYi5DQ4XHy7y5ugAmQDZcoqTbG3sBric3BQnHLSIN2sC1Xb9Bv\n",
              "QQAAACsBn2l0Qn8AawdRhImbCiAOmAE6cU6YPbm9KI7l2OVV8EIfzyf7MWpuoSpgAAAAGgGfa2pC\n",
              "fwBrB12afF4mKblaXCF1Z+Pgw7SoAAAAeEGbbUmoQWiZTAhn//6eEAGHerXAF6BEJ/hYGF7npVem\n",
              "QkFnZV/c9uKs/hJXrm4JSTZxCFQJrjtcwTaNbeWdEzFvzg5xRL6BbpWzGmosC7Dj6fMrQcWTu7Oo\n",
              "vF2KFAo652Vz/io2wVNW0YYKsGMzWiYoSWPwShRPMQAAAYhBm49J4QpSZTBREsL//oywAYoHSU2F\n",
              "AF1dM09AQyh7/wP2eIuU+lEgAQqRpuk1Fu+WiZvQASSMVjqnGOCSCfhuyB/t/GEMMFFiaaB4UNhf\n",
              "YUC93oEWBU4izu1tKpd3TsACj4xiPG2G2GI5zkbET2MZ397tqPQSLXaj5jT865Q1Rjllzm2VGUem\n",
              "L96UaCmcYAnxyooONXSxit0wNSJYQ1fi8mIlmGtpHz8+SoRGgx8dkL8HX/LwLJx9aYviaL3A+3E+\n",
              "oJTL+BXix/XEUuGyzEDk3hUww2LFgsyMZnXt6hPPWrcgJHBWZqGkdua569COdzSyq2clcNtnn34j\n",
              "IEqN6cTck9dD1OP4vjs8LzdAfIVjhuHSyuT2Qknl/cD7v2xqxgKNB0W96oPk8w4RJpEsz2RPjAPA\n",
              "3Jr876Of9eFmxXD+cGXn5Laxms04yQN1Sjdem83Ykbix0hes4DvyroU+0eVVDsayhi4tI6cOaQ1c\n",
              "5JGKN0Jea0R8b3U/Y+OzNFnRGRgW0qT2hjb1gQAAABEBn65qQn8AcSbudMnkDZaMNwAAAKZBm7BJ\n",
              "4Q6JlMCF//6MsAGAhnjAArute5FbhLEI7Z2qEcxVCQqARIgEloe/ZbSnJa7I4HnDTA6Y1MUnyAAt\n",
              "m1wXf1X/XgNiBcWVIOdo3UWnrmibcw4d/noDGoFCqwmCtIan3uxsVEZ5um29Z5pfwi4NmHhyIYWn\n",
              "o6iWplhTT1rNEThKxM/BMI6Nx9xfOBz7K8LYaIIeXtSLTtaIG3bydD1sdHIwyrM+AAABikGb0Unh\n",
              "DyZTAhn//p4QAYd/X8ARposaf3h4kgqWo/gXwwhVC37h3qc2hHx0RRlS1FRHxbZt7AEDYoiERQ4x\n",
              "QAuNV2o/8u7nusC81S8TdQOoCJLSi9QCXqSzrXul6Or5vI5LTyrIPgSntuI6ZJAlHUc43kaN7taI\n",
              "icZRoPCXJVuG31QxJk6Vckfg+/tGNW5Kr2hV4e59cvmOu+GHDcA7z/ojP/gqrfgiM5/F1nnNn6pF\n",
              "3nv9RwOOMLSx/vKIvGTU5jxWu0R1sVTWf76bp/ECRL8X6zMMr9YpamCbDKUxay4Neny/z+530py2\n",
              "5v0ezKV4R8jsZ3P6gpRNKujQ2h0JwAnQNGMzMnlvdanCm0A2SMA3wCTkLnDv3hcs/WLB/FH3IW7a\n",
              "XmYmZXRtiGt1iBy8eDWAhylbkIbS6yE5RBd2C5qq10SjX4MCnvHlLJ7awwBhBaL9rkcVbyVu7283\n",
              "MdNREOC6USOK+1jZRCqUuchGymZw3C9riif2OdP6RjdMb+fzCkvAyeBP9LC6zegAAADuQZvySeEP\n",
              "JlMCGf/+nhABfYU6SAIiAA6KOBlWQSriwDbveAD3HTTdhRv6bI/Fum1fMbqKryOl7B+vCnPFrF4q\n",
              "cwMDhKqURUS7bKjRaZMLjgahyDcCH2R4J5u0J1BZMyAze5K3lazXTsd2uSCxZEwTnQPn6WtnkplC\n",
              "jgHiOnwWJPs1uj6Xf4gQubvkAfgceK7mGMhtk1pZnaD9KtBHS5BhwC0rKKHkVfU1wh+YHVCA+iuB\n",
              "V5uSZYn7j/tN0XEIUlXKVlEKKLd9e2pJCb4FTG/xAKj6cgv/xzdcHsIrbx76ho/qUesramPz5j5v\n",
              "NC3VTQAAATVBmhNJ4Q8mUwIZ//6eEAGIIHrjkAR6PWCnrWsdFqww86omDH/WlvEVwPW7Hezxxei5\n",
              "qIgzi858DN5+sUbJC1I1l0hmie0Lk66j2WnmMist5cm0G8N0UUjsp+N2XnGo8+wKCGoKOzg3G0GB\n",
              "pBBIt7taTvVmQodLMx0Zp7x4DONMcefF0r1PgF/exPdMZiQ9SSj7F50/VQ3H0c+XrDlFZdJUoGYP\n",
              "+OrBcjJ38dEuUJ9JuFLz7TcUF99ZsXI9hqlMmd6+q7j4bKrAwpmpoO7HpITJrPN2z6iMrKiWMtz3\n",
              "dnBsdPlbI3saTKrw+boPSBu6wKNbKsdtodqJNcwuzM9Z+ugIi/eudQelAhLkRqHDdfB42xVEUBWy\n",
              "1AnE/K1zeajxHE+UJgO5lI1oqWYNdysAW+sn0pMETKgAAACpQZo0SeEPJlMCG//+p4QAYeZC8AAu\n",
              "QAEUFB2wuQTPjx0OsfTgTQJLCwXsoIo54oXY+frt3fZRwVcjVSRsIhsHo8Jg2/8xnIn7oV+qhXqm\n",
              "/kAIGtLNCwTYDfG4Y3pt9hWhJdii745/K9iNLRWkSR3E9Gd8bm4BOnEayfXYmwqi83HePkIDuhZf\n",
              "DUtb2Fh0goiiqCnWuwagdsImrimbbI1S4ZBXCn1Rx6i7oAAAAldBmlhJ4Q8mUwIZ//6eEAGHPtaJ\n",
              "TV9jgCrcFOH2iElRLbh8tnxzjfc7YOSNwdzVNYOtowfBMMzK/rblFiMtnLX2IO20XBEAikXSOCTx\n",
              "1Y8Cf7lZbsbJC1I1mXPwKDxZ+u5OpuxyGqT4/T8Jm3ixQSrSA9hUjC3legLTJ4KXodIqkOfCnZwS\n",
              "QmLUqUCGdhBZ1kCm+kIGxFJxL7G4BZ3VxYocki54LFqgTEMSwrrHGMpSZRvWBRgM/YBL1ga+AwFx\n",
              "kEJdvIbFRVfxmOnvuc9fU/drP2THeoMphNWNA2Z0RsGHefL76s5LkDcRQn9UOZanw3awRim84AUE\n",
              "EzTdLkQeoTgx+DzA9LB0vhQTBUJ2Z/YWNvdctXjItQ/yOqxYAcjmIu9sjD0NzoJeNZiicbB/lUYz\n",
              "/3ZAkH/1idqwFoIfUNASry9Wlvq/avEgSwmlnJ5kaHjPr5EGiJfmGURLB1YnI0PGSM+XSLWcXhSG\n",
              "JecSlQy7AApPQWr4a4Qgcl04A1ToF2BT3/U/UXNT/xO7d9Zk5bgXq69gUF8g+EJFUN14OAp+vMix\n",
              "t892Lws2cGA8oYwwitf66s+D1nJ3x9lJn9XHDO/28b4wp1Yde4gstbX9rtK0aSOoJUnObu8RGMwS\n",
              "wKtgX4FVe4T0ZP/WB/9mSNVccQIN1PnzSxwIHPcGuPJoasx9Un6lUjhbrnznyXu9BqdMsD/HBDed\n",
              "5mtfHyYh8O1oE50PdU2PdmOvzlwj8tXcvDUdOW7ZV8ISWdTzArqxikQw+9EJ/vgFj7dlJYmpZpOq\n",
              "K9IlTHg34QGYsQAAACBBnnZFETwr/wBYi43xoBy1kKAEpgCyPI1+l9NWfDyHgAAAACkBnpV0Qn8A\n",
              "aENCroxc6fG2e360q4KU5KmhpfmJdQ47u7yIZpndHH1AwQAAAA0BnpdqQn8AHFeMoEHBAAAAekGa\n",
              "mUmoQWiZTAhn//6eEAIt3VUf+6ye7EmCSIZqqLM7jGqTyveC+D23A+RlKsE9LsVQ0L/+rF8W6IV5\n",
              "pI3ssRsbxVqOdu2Whz+PyZ806Ne8jumdTb8VyjpQDc/baQzsuWWjMxqi6lz6o9xxb8QRrXd98IM4\n",
              "zTZFzXZ8AAABLkGau0nhClJlMFESwz/+nhACLcefWEIde4W68rp4F1hhCl1yF8yXVvCzbjexgC+Q\n",
              "1o1Pba3aLB8dPCLi0NdhSlBAEcoLIQlG3XADbCRJ3A6qNpRc1BjsMOAiTjAlFswaMhc/nMqXFziM\n",
              "Mtdv2n9RVD7WzASvZaeCf91qLOSoR+w41Qcnj1QaHmuHp6rHU3OCjoZiClDxd0/2ZFuT938qZvmI\n",
              "OSNDG2iVMyr5ULdx9lQTbP0JZDRlQJow+k9YdpchBtGe2TzHaN6SGyABksLITk6T9Qimt6m9Z+6t\n",
              "5weFwXj6LaWNEv9Xp9dSXd0ST64Vwu0S5M4AwZCUq5QHBe1JvMSuKncch0wS4NBgVCfY07XsTdkc\n",
              "bQUmQjpBs8YUX7ilp182xdxwVs4idHsliCthAAAAGAGe2mpCfwCXC9M7zYu80nhyEbfOYcbRgQAA\n",
              "ANBBmtxJ4Q6JlMCGf/6eEAItx59YQh3y5JN7UfYszAhMtcGeOJbe8a5rzZWXruq1RqIMeF6g6l7H\n",
              "SnNHE+//nCfQf8d/qfb2bxrhnq0ZfwXDRXbOZCwUBlO5c81BrNKiK9g6Sl0pw32FlWQYUTiBs7sH\n",
              "Dc99vfq7SXDOTXZ0rFHGtc/3iO7OpAXwIqt1RBV4cU9wKJ8CfLAiGgbCuI259L4oFZBPR3MQAgw1\n",
              "9wXbXT/PGbedRY6oFiQRiHmBR6t6lSPA7vb+LZftufDcd0j1nhlhAAABpUGa/knhDyZTBRU8M//+\n",
              "nhACLcefWEIQi33pu6BIDIMqQBFpZlMxoabV9ZAVLyrH+5sniQxM3GUi2U2ElNoj8DDDo4SKAzIn\n",
              "M5rMfw6S5xsxs7rkMUpkFdfwOuUrxbv/vNRIHAtoFZmq91t4QRgWWsbP+ztBNd1mQrHKzjs3/bNM\n",
              "N7rUaFlCSbRZSDGcVDbAYy5fNUWsac8WGL2Gree/D+tO7x9LXBO4G2XtFhbp9hqYFkKewowBzJ5O\n",
              "F/8eK1oK4fWhXmkAbFLbyKyn4hTpnJO0VH8lrWL/LrFcG5ZXz7gzqW7rjqf9vMmPA3hXPWlx5HNS\n",
              "QgqM4daBvIammCAOeuuJHAy1ZinfEfLe0e6nvMP36Q3DUNXDFNfrzrSMPPnluKFaL9yhdtYczjVp\n",
              "uCA7CoXTvdH6c4pvGUSwS5PX/lnA/PP9ynzjLwbb2OcMmoXxDd1h4zqKR4RLNzXBHFeRk8bmCOyt\n",
              "UiKQnhXL3uA73DqZzGviUthX3wk6+BQrmMG9oAUkQ9p11kY6KIv/KI1ZDm8jIV8DKmtUZ4S17Rim\n",
              "BqivYbPA8YEAAAAYAZ8dakJ/AJUpeWLvZUhQZ2XGAZicPCxYAAACB0GbAknhDyZTAhf//oywAjPG\n",
              "/1hDCPPE+lv2sBUFM6IBgzdxwp6zirI2ypWqosHkm/18s9Lr+dvsthsIZnuVHsheYLQd2h4UKVpj\n",
              "F5Xgl9KRlvH5Zt8JcVyPSQtYbzxMkrZCvz1Sbx96YkEBDZFxWYwEi6tb6YaRP8tRRePtqkOTbpIP\n",
              "3T4uUf7MlcJlZbhbSTEKp2Luhosx/sSyKSKpzr4Y4kSF2nbQj5PQa1E42DA//NW4rJmpn3I9XzWH\n",
              "444gGxWgEt6XIOQyP2BN907ZnlhGusWZ0eTDfd7Fo8dfj7Jrn9aEcV+8VxTUqRobG/JsQhuM3MwK\n",
              "h2Yhifm5MxdjYVAuZdsOwbh5Ijfcc3Lx349r/dLfngv4B9KwDUA8WBvx8dqF2nAbJYMlrC9O0sRp\n",
              "TSIhCBCiF8EZ0sCDzTAqCiQ8kC8WMGwefJyBLtM7G8hEDEd8JW0sFktbD6vA696vQLOobqgB/RPc\n",
              "ZfeC/yFrSC5OE+EFxssZER4aCpMUVWwnnxcMLtD0WMAFCAwa6kCKxcn/SPKWzTxCb98gkb9l7bYg\n",
              "cFGULoOQcLIxLe16yCwRLPcRvIn9UIvispzJjz/pDmOFmQ0DKoHeKRT7ueqNZ3bU1zd9RgP9zRcc\n",
              "spo+1FFzPjKDZ5mp4IQXvcVl26irBkZ6Og7HiO+VeAmviPHnM6dNo3Z5PYehYAAAACFBnyBFETwr\n",
              "/wBy1i7SmZ/5jdcZxQFfLexVQhhy2U1gVsEAAAAZAZ9fdEJ/AJa1KLVoHB/0f93K0JmEMqaJmAAA\n",
              "ABMBn0FqQn8Alu4EBOoX60qVxeDBAAABIUGbQ0moQWiZTAhf//6MsAMU7tsBQTQwrUQsf2CKZgTI\n",
              "J7EV1Yapx5fnFVkLTpoe7DEi4hJeirJGiE5QvDQWaQdhPyxA5Q4/uz6+Bo+3ev+RTMkRaemEEkdk\n",
              "9Q8t0/qVb/0u9Xha33I3dYSA43EUTmPI7WoCO9/mnnwXRH5CbCYXHJAtDR0hcHpa57d+Tk2iImPN\n",
              "uHBM34AVC6UHgzmhtCLcFVMiF+7RV1gIKChINR/YIpcuS7E+a8dH//A1FCgreqDq9tUrBQksnT3O\n",
              "hgzn6yN4EXj1HXKdvPTWJt95w2ucHeM355aT2koNVdC9oXYTQ1vNVug//i2MQViBlHEF5UAkU/yW\n",
              "8VgykXhddIv+eLq6VJI9DKPtKz1lUzBh2gvu+MAAAADhQZtkSeEKUmUwIX/+jLABint0QCWwiHfh\n",
              "8qNLjQm/gjX262iqWeOze+TGqews+sDHgpYy/SRcLP267BqzQDFkERS+HzaUr8DYsN2DFCsQWRfj\n",
              "cslqexwuXpkpP8p918lPBWoiQHKN84qVlW4DAZS8ByfqoqY+pVeZKtnmRcFq9354v2jMWSZ8x6a3\n",
              "qRYlk+1U4CF4fLQISgp6L2PhO9FeS8CTxyJCb2UVyC6NCC3ZwRC5NQHEMsqa9g9CNcMjsJRjMjLr\n",
              "/7w5isgHam4QVEhW6+bTq3kvQts20GfTWNZyhDjhAAABC0GbhUnhDomUwIX//oywAYoHRkShcAlc\n",
              "9kkFlcdGiZOGtaLlzvzKeVxVXe1yQAXA7fhvldH8SUtytruXQrgJZTISaUZ2uAT54Im++cMhHv2W\n",
              "8BQVw6Pyk1ziXzwXt1o+4aQOW0I95+cvEf4LX3KmO1LAAGBJCkorX3s0UjR5OB3IhiuZ3IwJxne0\n",
              "HdN2rHLNOMakiZX5J9R5WPa7MYjcyEAvm5MTy9i/LrFdsJ7HsCqZm5yha5vAYYrwsHEgjSLtftrK\n",
              "fp81xdu/o1nVy+Ga3MLJgWMoGAbi9JBomAdWArd8HE5R5e05fih8P7joqjNWzdR2h61WVkSM3RL6\n",
              "mrn9L+z0aShPAVYYD6RBgQAAASJBm6ZJ4Q8mUwIZ//6eEAGHFfWbWADiF8CFfTQGdRjc4Yma/auC\n",
              "tzJ9O/XDMj2oSp3F5/JuKCvHC6vWnoGKj/eCidjRZUBvPDW5L9CWuuT6mx+58B93Y17O9DQ9h6BV\n",
              "3ZeQz/O921HxxI4hDGgbSDNvqA4E/IBVgmk3uDtUKVFI//eRUZ0Izg5wEMTlgq85fC+oKUUGqKnX\n",
              "TR27IOSCIP5e7beEBNPmvYidPMady5id3YEaAqmyiMgIG7V//kE+j5YWqystIOYNs62EK6R/VCgv\n",
              "IgpaB2HAQBEKOCmigD0IHJgQ1VqWHhX3/l34HwCocAnesPo4H/p5f/giUjenLfELLYogudaDxl2H\n",
              "lAZMshk1R389Aqy64Qb8Vgqc76LWRCTgQQAAAPdBm8dJ4Q8mUwIZ//6eEAGHfj3ADh2JD6Sgdpkk\n",
              "qpSucWQmd1vc7QMdqnBFMhC26LhAjf0sjJtzzXM6AkLFAFShDkIBtcrsP1Uyepj+xA8i6AULcVnZ\n",
              "4VcQ/yHHblr/vjeXoSrE7ideryc/PD5GqfsiqKm8E7EhcI4sCP2L71egxnwvfsxJcWfbrHcNxmFk\n",
              "K0/SiO3xpI2aRsNneEnzdAGlvmROYRhK8bn3r8WJoKQQUfxe2iAfBqgnbMy/DjyO22wHxOnXaquB\n",
              "35lBJ/WsYiAa2xHLroKhl5euweinIsO05d4j+CxNSejsV9wIfF+pAcB6PuuJRdiBAAABBEGb6Enh\n",
              "DyZTAhn//p4QAYeGbgAF+Xt+7jOuRiMPY8romI/tmUs93I8iooKpQtNC1JwfGosHanri1jI9JVoa\n",
              "OaTHdvvtqoKTOm/+cyL8x+ZosxAS1qmqgx96BuWvOZpmCOGPde3dG3w92zZmi/7qYX9VlDK/B82N\n",
              "DM+op3WUsNsxzZKPA0bWqodJclhFSFDfl8ng8GrQX2v+QOQCX+cuAjWeT/oOjiXEDCZY843CrNNZ\n",
              "JTAame8zrLmaIT3vbN8cPObnGLr2ob0LiF7AzFI9Hp1hGhknIPNgnDV9QjpEPhvoui94RsCGsHJr\n",
              "pP3EJl+IJj+ItLfg39zzaPmaxiTce+hD5sJUAAABP0GaCknhDyZTBRE8M//+nhAC+/12IBaGw3TE\n",
              "DhQRLatk9cm0Wnzsaz1pzGkPG+eXOaMSMU9JixUN0HdGpBaWiafJG83hqCUsBsjOUr8CJ3SULyly\n",
              "gWgnivQhEOM6Z4/SiRTZDi8mluu05YgONeuQ74Cw9tUlBnFrPIwVMNvGJABVTXEH32TPZMF3fOJc\n",
              "msL5SFfQ318j/wC4u2/9uaqoADvExZZCGGuIE4n8lga455i22oKezPbGs8Q9qKA7IHukEL1+qEfl\n",
              "moP1rIYy7WGcLtIFIO+h4M49CAtxXNzn9K9jscXpKYmnZM3qdqAMoDdt3s9zc6tt5luroKNOmKDC\n",
              "pWhBvunrFCchdgfzp3q6AFXQU0YA9KEnFFQf6nWycNc62ZwbU+r44eEFvAzXgGwS/ak1U5bkl4xT\n",
              "rx6eDBkV1qQAAAAeAZ4pakJ/AHEnIL+tYfKZSdRletCh+Tr1Csk9rLtRAAABgUGaLEnhDyZTBTwz\n",
              "//6eEAGHFe4TUoAuakPJPR1UTwFzzVcxtcBnDycTzZUqhCaZlLPdyPIqKCqULTQs60Xe9CofjIAt\n",
              "U8gKML1Dv8TwQF4c77ap/Y4RYPjwuAQdICZ3N5FFNlGIIGZq6JvgLAI2ytvpDm9stHToa3vKeGGM\n",
              "n1uT706jmKRudE9fmVKATcDRqYDVfJgA19V7ugVRDUrzRPd52hkKdRyb1gCJTnfdfNAyBGBQXHzi\n",
              "335cnerkb/ORSVR/jk+u8VleIPHIANS+V+6U7i0SceJwhsRRUfpscqjmdy/iUyhd/buthq5Bn9ma\n",
              "3sHIJlzHggL81NkWjpx9zFqVA/GQh0a1IjiEG3yJcg2k0MDp31UtCn0mwBKsi1YMCe4oVsH4fm/Y\n",
              "5xvy3m7yEwQTBj93fmcH/JUH7AOQDcnO2VBkS+agMjD3l2XFYelLCBnB8q0409VpULbMnYNrGRQ8\n",
              "PwD72A845aHrmj0O0ojWBjcn/NcXOEPpcRYe5GvITpgAAAAfAZ5LakJ/AHEnIL+tLYCCbfJBnxVG\n",
              "Iee6F8Ev+oBUwAAAAN1Bmk1J4Q8mUwIZ//6eEAL70/iBi4mYqkfZ2FE9mqq7XaqCl/JF0cyWIDbI\n",
              "iweLjxkHUxpZG6oMfPZpS/F2nwLYIFL9ZeoabGKaTXNVwnORZvyt1qGTwlSMvQlDpz38FAxFzlw8\n",
              "4/qAKv5JHInSphcy9KZT4wghO5LlfH5CGB+Cmg5LhFl+bXGL5YJbtk368nTkoTc5RKQH/O8APS0s\n",
              "XdWHY3IDwpFtPVfqXGFOBrV3OmDf+d7ZsfCQjvUp/8SRJ7EQ94rmTYhFH+CWnDl08Af1Zr8pDvEZ\n",
              "sODozkAELQAAAV5Bmm9J4Q8mUwURPDP//p4QAYggetHADk1gH2fFXqwhJ9t70sjBXJHFlxVFMT3O\n",
              "P7cD6Pwhdp7qCS0uWMbCScQ1nXuxnDumh9a4GUYeoL2icmdqUN5xAilUMqz0GzZZWxLFAVbABTzz\n",
              "ST73XSQvdrQHfzOruZGC4gsaEjt2lh7eKRx4nQqAUVgIs+rUaWEFEoaMVKGJfkGXP5T7BFcMBClk\n",
              "mFUqrwbfljA7jgPXEfob7Dtf73uvk4XPNJbxn6r+Ea//b+B57K7mKAp1mpxt6mOb5wkcGlszUm5b\n",
              "MPEu/z6hr5gBJrmi7gEAiSMBbTbmCDRUjRn+Zrrers5c00JICry/HdbyxnTqCTtxwwaPhyyUQkUx\n",
              "Gxswugxmx5Yij4piwGsw70hD44fZwb3/lgnG9tbqAlFoMNi99vG/c/uEt7lfGzI6F5JEu9RqB1ET\n",
              "xAcP7PwVBnFekjnt7dEFOHNywQAAABQBno5qQn8AcSbs1IKnbQHQE0zIBQAAAIxBmpBJ4Q8mUwIb\n",
              "//6nhABkYXoACmBDoyIAGhKQPnzJpLsP1e0oDDSBLKZRKZK7m3mDNGjY9DXU219vIRtOxPxYf42N\n",
              "Njq5k2T6uCXBmaPjZFwfNvvSDCbppzsX8+W3FS6fburwsZWAAXig6J4aihf/4Lm2mJjhcJjekrcs\n",
              "5JhvCPi5bUfsl4rDGfpp6QAAAiZBmrJJ4Q8mUwURPDf//qeEAMfFLUAcs7/OCm+f+Pw0utiBuSOR\n",
              "VJC/29Pzr6HSRktZo5GqEN8Bwi5PBmGX3HLwyRUy0ZAQ8SbTnhvf83SMzZ2YZRS2T6KTj5Q3qy+u\n",
              "ujA6UllswygK1ddU7eItgqSi63xroAlYexGS/fFw4S+FubRMatg4+1uJLGoUhJPSZM4aZhS4VEpv\n",
              "I9JlJyxBCm2cE0qdkJH7k7CAh0MXG35wJNSIeEmNugDFO/1tM8p8t30fqNW6YQOkeKvTVJhptE9Q\n",
              "GqaMthKG9QiSwB2WNOJNKo3XA8ee4e7ZJ7i39B+9I/Y8N1JLlnhlNvDnYJ/9KM407wh4oijYKMkJ\n",
              "tBHdHYfbVSA0gt/cvjZVg9nsAKqKfPVGKLEX6xMrXRURE9BwBx3kI3kDcILJ/hVxmMocyIsIyC0O\n",
              "3CYb2AFz5V/btmla0w4wc9fLz0io8k8FBRrPxWSAu3dFWn4Mo0IawjHHya2m6BqxS8Qc701D7tcc\n",
              "MncEJSBtgNl0bSNsQSVQPk4SlbiuANvu61/dIDro9xzbrVNoaIPv/XoQShp2L0o/DJ77AsngR4wu\n",
              "2Z7pR60/Wp0+ZFeqB4uQ+dhr1eVQ11QjzOL+54YBU78VKJ/Mi6AAnEbIC5bXANSO38jrTqcQMnSq\n",
              "kX2t+vI2P2VMFBwKfsuzBKmzPWGPlBDSJMnab2dyyXnHHPB/V1m2N6dJq82kMnoDcjU0LdlIoww8\n",
              "AAAAIwGe0WpCfwDTCvMwFfy2yrjaoaD+t/FwdY6dLeE1PlLfnf3dAAAB3UGa1knhDyZTAhn//p4Q\n",
              "AYggaFUAXtgYHfAbQK/lYF0TlFkkt7vdwaw+6qthp3ulypVHxj5Ip99e1ldfn162zTwdqH5p1wfW\n",
              "9DCXZMakGcJS4DYojoEZGXcIhcxTob5jlYOggIWx9ImCX65fH1yt7K0dWF+Y8S5D4ndtTWfeDH7w\n",
              "VmwTHN9yHd1ZvwPM9ul50UavB919vQzJnZvwKWQ067sg1wmV4cueCuSwU9FKn+LyLJnXOCXFTdAg\n",
              "5BMKiJU9z5YVaTP+fZj6+oJguWPupQfPgsfa3iQMSu4L05+uKEffbt0HfYroG9STROfDUsPIspBi\n",
              "xLUv8tBz7WWTNuwAu/SNcKU6O3oCjyf0bTy5pQX4E+9jDqoawLD+4x25Da9fFgcyJw4ovdx9fq/L\n",
              "lfUwAOT/ULT35AQuTke8rntL2k8/dQzTQtn0WfxVPLr4ulbG1shvxOftz3XsUXuJmYR0Tl9EXpXE\n",
              "anCVmDYhCcNWLeW9AhzEmLr0klnw/GoFlMXkG3vikVK6r+PdPBMkV6ahn0TmrGZDkJUjdM7/W66h\n",
              "JFongNf/1IuFkAEmtL9/p6DYZ5a6MAmbHUgluDRcKBroF6dUBVO3SvaRX1kii7LDX5oW3/+zOU4u\n",
              "sJfW2We0cAAAACBBnvRFETwr/wBYi3V0TAekBJgHS/rzfF5oX+76TiAFtAAAABsBnxN0Qn8AJK1M\n",
              "FtkkZPuNsX2P7AjiBUfAXcEAAAARAZ8VakJ/AAEl3Bxpl1jzZdAAAACPQZsXSahBaJlMCG///qeE\n",
              "AGd5zPexqI5OpoCDWB6XT5yMPdOc+PqMLkUSVYQxjoACIg2A2fZO7Pl27FDL55kaXDwnZl/gjoM5\n",
              "ClLAmxMDrjtnL120tDhCThl5nntpDiiB0FVgEYYYg2Ew3If8GBML6GfUewq4BLDtpDRoMMTjziaj\n",
              "4sI792pr21NBVY50K18AAAD5QZs4SeEKUmUwIb/+p4QAZGSckAXOfQ3CHiVv0yCTVBbg3EQW2YEP\n",
              "eihMngXr826oK+csU8GRvkW5bm1MsssfY4rkzcBmJj2mGaFC/491HdrRoLSzGp5HA402duME0YWr\n",
              "BVvaGIr7H1XA5PAeupoJhDCfJaQN9XzCW0Z4iyz9U2A/v7TFxdLfHsrD0aqR/jo6KEWijamByr+2\n",
              "q3PsLBnjhMDDi/3QAXr1hAPawJgFzBZLsh97rThXtToq8OBRaj8+UpqE20PNQJZRi+6yrXlMyYnL\n",
              "F7NlmpXfpNGo6NLZ/q3OQiwMQX2uPWMA+4seYMMo48diu45jp2c3AAACQUGbXEnhDomUwIb//qeE\n",
              "AMfFyQAWH2xsIW01rJfi6upBwq4vP5NxQV446t/jW5lCkOTJdYA3mcMlP8zU7crepd3A1h4w6bk5\n",
              "rOXyKMeoPC9gOTpezwwNgnggxwE0ivuvkdznhSVLVBiybbOngU08Fd7ohMMThIIE5DOjsl5HBgPi\n",
              "GEOuP0HZIJNkjhEq61cjDh6RvU591qii29bzgAplF2+cTc6JeyoetGstll7vAFK5r3w1N9XMA97+\n",
              "D8hIva1nVlw8WiEQuA/FsRLd1JWlrwnpp18GdBYux37/i+Ek3mmoB7m0fkvqut12EAxOrgz3gsnd\n",
              "rS6ZCrvXO7l3kdCGPRTcutBDCE3b3yJz2T+gfnM5sSuRe909LN17bPPUfDBWjnhn1hkKtka/cXwF\n",
              "v93NjW1sozP0V2o2YP7h4btWgST34auGUH29aqrbZBh33ueEiX2hmu6ekNYI5+5pbFwbQUI7S6xk\n",
              "DuiFuGSwDxTjVQjzaBtWeioGz/ckgrAsdfJ6XDAd1xm6jCRjciXuFi6n20i2BesJLvfTV070ypjv\n",
              "utH5mNwWOpTIq9Pk7QWqd5jiBl5ecXaep+gbnIbODnS1gA9hBLmOSQJ203FsUCmHYtjP9JyViaL7\n",
              "FPlNYcDqygoc/putOB9VWkngaHky24xbtc8BWnqVwTsfpGBd0IY1XHWh0lbuBXA4IQnB6xH9mN6F\n",
              "6YzP8GwHO73/w1lJWKCr4KuCpA8irR4K/gEHsV34pUFJPWXosLSlRUcKNedCPavY44AAAAAlQZ96\n",
              "RRE8K/8AWIt1m0t3V+c1PtrkOy0J/8aCpBOC/rmoLH3KSQAAABkBn5l0Qn8AA3PnO8F1e7CSjswR\n",
              "Vui2pFutAAAAHAGfm2pCfwAHFeQS6KCbk/SKZcCt78txexrUFs0AAAH5QZuASahBaJlMCG///qeE\n",
              "AMey4kAHQ0c35CTSrh6IDvK91Tgp1DfDLRgiuoEkaAA9ViPcM5x74NOHHaqvG3qwecaTeoSp3F5/\n",
              "JuKCvHHaDPuDvOsvU4tpZWAqX4iRkgRjjEitXJixg+kjmP7KERxBicbhhRZqcVPamdvES5pF4LQy\n",
              "J/YyaiMpSgbaDFLfElJ0FbgjewhlIHjc9YoEG29eWu0hg1I4BI6U+T2yMpJhlao+tQtNj2/AGGHY\n",
              "Y8ykgFLVFH5kn3jPkYv8mQVK3LC2mgiz/uNNJZtkJTPJH41tHfeg+KV6nmcuklW5l/pZnGI4QjXE\n",
              "RSWoLETAsuXBiGzgWlMyAZ56ypkzJGYB3tql40yjRja02X9S4UUsX/phYR6GjwyJgAZNNeGs2Z6s\n",
              "1zVyJnR/PzdsW5Igickg2klACBOQC+wuhSSOVofM5tI1JZH4oFM7M2C83WVzgyyeABpKOnRfGCG4\n",
              "OzdUzhE4gxN7tJmfkksUFTe81/YxBqrSmSJKk9KhArgogiC7/H7nIngeehFQRN3RFDXTvhESnNVu\n",
              "4ZWfd61eJWI7oR8ftNaaGdvyEbsPo2kAimTZnPp6jT6baITnOs/sDS1NeJj4leXngoZhDmLs48sy\n",
              "Lyml495EAZKSSpJL2DWMoO2pUwRd8qoBDM15+9uu74d9OwAAAClBn75FESwr/wCj2B6K1TnYIk7r\n",
              "pYIoTjjVbEWpkdcVcxval3yCpfdB0wAAABcBn910Qn8ANf5xuWyu06RxFuhKGU5HwAAAABwBn99q\n",
              "Qn8A0zyZtd6bJ/qM5FCTKIWsPb3tUJWBAAABxUGbxEmoQWyZTAhn//6eEAMK69AAoNs1+FLFJtZZ\n",
              "4QfBNrz1SSTHTvBcsq3bWrISJqczjzlWXeJHxrCPzkH9KjoPS7FuMRj3ckHORnjJm3tDGfjL9ZAb\n",
              "nDSGCrSbw/xVoi+Au0/hlth4QfNaaTDsZyQ7/NLWmzLv8b20fVntqpxJv9bqhq/B0PCCcP0XkyzO\n",
              "mU7/y5ZQ1IDG730dJ6ZH5xk0vBacuwrop7H8WbGUxCjtyS1cSfXK/Ea3ajJJnGOUv5om97UT0cCZ\n",
              "iFMrmveZMF95UrDGMSL2MzRXQSPwPQ3kthtt0iiuAcuwRvb1xXMZCGZn8NFZxTPb58rncIlBBrl1\n",
              "lreyrl1h+lfP6XO8e0Q63ONrhqpChWsRzOPOLLHus+fghWKnAE70F5iIS5bRbxHzxEPD2Q7Bc4yX\n",
              "/Mkg1IOZwNe7DSFL/riUm01y/dlUWW38MH730c56tjdOPXA3MNmC04bX7i7FfjCOIL3N2OjLezQz\n",
              "aJ6oaHGcci65iCRKuiQCxfAwAYuUqiwrxwi5gSfYpgkyDA0J6yE0do9rUmK3Lq52mLBimXDg2H9U\n",
              "zQxRm1FhNf3x+vqAhFT0R4hDXxu+kTZAsAAAACFBn+JFFSwr/wBYi3w/QW9f6ZKANZIVlGpXCm7g\n",
              "zchYuIEAAAAWAZ4BdEJ/AAcTZvHsoacqAjgEyNFvzAAAABMBngNqQn8AA3Txu9SNeTIcutAhAAAB\n",
              "LEGaBkmoQWyZTBRMM//+nhAC+77+sFoagAvkfeQmiygN8yVPVtJmIkQy0viUTJbT1QyAgx07Nw52\n",
              "d9iZggZaWgtSk19rLbTV4DsZzlBizuoQAx5rEqTIErvSXe7tot2PgKyjIUqDXfzOL2XNMy3huKer\n",
              "tIGCZfWhiyoGrbWqklt21fsM1NceBGqYy7vKm8WsUQGAKDStV/g37F2OzF1/Uyj7iY60toSd4ys3\n",
              "GB72LP4v5wPZzXNwgqEsH2QzBlnma187kyfeE2WT7JtzYr4v4TQdlcco3vpW6TDQJk+ntMDbqcOG\n",
              "vrbkf15MxL6AM9lFiKj+Nf8Gknf0O0YcbBXIzMp4nzyVeOQBNKqPYBj/8l8xHvX0Bgtkx8Aw6svP\n",
              "4jqWYooSLu3AJ+nkeVY0IQAAACABniVqQn8AcW9/v6+SaNAxRfDV4x7+Mo7exv1kyICkgQAAAOJB\n",
              "midJ4QpSZTAhn/6eEAI6SHgAOKdyZFUtbmYlh4WditrbhYjKJfPeIU7XSqZCKm+76gssboY40tQt\n",
              "oSDgN586i1sujKo6aht4aM9c8ivbVPxSHdw1TjmcJedBtzOT7kAFHc5usT0OF+bM0XJm+3Oy9hft\n",
              "f4WURLAjEyWW2bLMkmmpfJ8jJkMoneF16d1zCwnD6sgnRCfA2+L6oLA+HU3iz5L+7C7TZ2HiT1Vf\n",
              "r48Mer721bzWS0E7JDHmZalieCcfNEF21dnaVJwUax8v+7vnbTJPoiJ/nRlxjGIocMkzQaHNAAAB\n",
              "dkGaSUnhDomUwU0TDP/+nhADCuvQAKDYnMDlRV6knuZHkTFBUKFpoPc7dhhkf4PR/KIoyX+vADca\n",
              "Usf/Sn40uoShipXSdIBh5RI68j3rj3FusSgVFhmYeACB0J26aOWgzmM42xe1GyTFGjWcFnY3gsdG\n",
              "VVb3sFPZoX8XcIGTROTt2kO6V6lQfbVLVVU0TWiQL+RX1kIVQK0dtJaY8luNnqCp9G1LeMfVbpt7\n",
              "xOVDJFE4f8tpWVMkt2FPNW0DrsfiMvFl2digptsAd79YsbA3F8Vb1UU2sZ/Gpr/5yIlFXTu0uCQK\n",
              "Fpa3Aloiwvu9wkQoiMa86lYcvKOuomV6g97gE4GCjR1KICV0gKUq3VAs0icFyEE1/TwVDvYpYrs4\n",
              "KWQL3V/1gyLQVuIP0Pl55LSDFCeF+C4xqbWCcDdCYN1CqYIWLOZgsrEj8W50NeJjFuh7NKMthB+J\n",
              "vA0/oMTpbrD6B1KHit0G1UBvMnRr6cJb1KFcE/v/LhRQAAAAEwGeaGpCfwBxJuzpnqX3/550q1gA\n",
              "AAFPQZprSeEPJlMFPDP//p4QAwrnXAGVdrrHf1gvKkqQomDioBNn566KCtpUyEyKXVzO4bZZaOBa\n",
              "/xGyF3vrJoReeKujNMNCQHDAiQZb+u5VwQdvkKn/x0Si2vHntXEiuzyyRQLARvVcL86G2RLAPdan\n",
              "mdYB15Vj18Hit0/wjMcZ+FEn+sI+plsHxenlKqXiM4uKQm51PMkQuI1YtUi+U15xGS3CQVdyjJ31\n",
              "Nln8Q7y9aPnVEoX29BzkMRL9PCFJAK2im7i7UtoOLv58zKcN6n59hTIgRSddFIf0FIfsMXnbhJYV\n",
              "etKdwyGKBYQPBgpdxY1f2N9CUO32WJWkK5HC6OE2juWiyZ1lgXGxtE7ZYNRuZzilDflZYV1VC2Te\n",
              "C6ivBBpem5RqhonNy/vapD5hQ0/fRGnvNcEPbTqBooF9z7QeZ9RprUyO4YEz9uYqBRtg44EAAAAN\n",
              "AZ6KakJ/AHEm7HA3oAAAAMNBmoxJ4Q8mUwIZ//6eEAMK69AAdI9VjP52tu7xLeJdB07fLUdjkf9M\n",
              "x5SGua6C9zQs6cbQBg4aOgeht1X6Za5epVEE7oaqkNcZrhSq6+Xe45Vt2QIZ1ZVJag0kZcTBXhtR\n",
              "d8q7fesT7olIBT9FNJB5J6br/WXUO54ySnU/Y71Qs8Oprq5MwkrJ/kn7MiA3Oi6m2HotrHROJfya\n",
              "z+Ry65foAoUpXoCDXoWuQHWb6CdLxMh9Bfd8HpPzkiMRpvAq0bnSu1IAAAGfQZqvSeEPJlMCF//+\n",
              "jLADFO/+IBEWfh1eqL9YKenTUtZVd+iVQzCZypFKu1HmbFGAOpZdj8zhiplesFO40clCbLmeDinS\n",
              "eqNVkHchE2+Oc0Vh6qwESHAnYW9KhYKBLIJ7vPclovDU8H7tXRK28O+LZ+K7iR/KMLCHJ31j3R/m\n",
              "be0XSaqlVdqV5rv2mfPIHvq7NwWU+jjkQzRqoMXBEc0LcKJFVd8t/9pXrLij1WtEBkKQU4Hp0WBa\n",
              "ySKpsy1+p4gDa4r9RtuDzG+E9UrUUsxy+M4zowDdXvMUGaZQ6rzs/S8GKeZD3M25PAw5rubFkeXb\n",
              "wnOmbi5Oq5DoGMKLNztYI/2GkMJUk4daRKWcA05Sk5q69h+aSPApo4wFyPGHUbNnew8kN9uA6EyP\n",
              "9eEp0uvZM/KfCv3oy2OEJvKD8cFdGBfyrso1rFH8wt6kjQQ8N0ymiaUEL/TxlcxMe0wp8Kei/gE/\n",
              "pF08r/ArGDa3GDOAmZNrGv0+acscRHk++szluQq+tylQl68h+wADBKzvj8jE8MJkNONrWPA711N1\n",
              "tSQ44QAAAB1Bns1FETwr/wBYi3WcGmHGPwPK/j++fWVnbF6MXQAAABEBnu5qQn8ABxQjJimC2FL8\n",
              "wQAAAQtBmvBJqEFomUwIX//+jLADFBYvBC4AbRvFKRBXFaLoR8YTsh8soUHn5PP6ORRBvdUJWiM4\n",
              "2/zq2k8gb050LIhf6Bb0w0Rcfbgw88u20T4wZKcqGRYRoMRYh69nl/lS5JBjMU2OyKmNUPQSyitx\n",
              "tQ5oiJbQwr65rzCVR4NC0NhVktqRnPhAjSycNRCi5QiFYpY43GCnR6fjSZ+xskGtv9/jal32FmKY\n",
              "l7lLBy22UziP7hhNCo+Lp3tgysMFh9pW1mOjkPeCguEEHSp7Fg9wQ+UQeNT33THXsdf31DgAXtUP\n",
              "a6UH7S+41KttwFIBZ6WRsO2ZhsIbFP2iaWXI4o5bs4ujpSMQeMg/LaTnMlsAAAC8QZsRSeEKUmUw\n",
              "IZ/+nhACOkoXAC1oMm+XINJ0V+xO8fzs9d94If2P1W1MMy3w2GtWjl6FgzB/G+iIboycFuM3TyvP\n",
              "bvA5IsH8h4DXSIU5fiUYCXFo0eUi1Vj9JqjDpnwkftHpWl7fmW41baOSr8d5qYjE7QuAOoI7cGJJ\n",
              "Y5k0Lxp0a8xTEJh9wt87KNVurT0NgYeCffLrCEKlcHgzGCoPYDwDl7/Wu7WaF1HczrOFyerDniBi\n",
              "YXH9919hw1IAAAD/QZsySeEOiZTAhn/+nhAC+/2/wAbH79SLwaKsLx+LrP1vcaGGCLlIT8wjVATn\n",
              "0Xh8AXtfPpHeHOnyipMB6TYgFGTz4V1FwRJ4rWsEMlctzh1JMwb9bimn5gMJc9tbVINqnYSzGecT\n",
              "6rv9OjHQ2AM0t3bVI+lhcnsJ4NpxbHyAJhsQzGembFT0O1ZYAS4GKuwBqu/ZzmEZ6s3mB3zfIvXJ\n",
              "wkGCg2F1EpurDHZxVVw6nQPxdoh36CZJNXw9KOeJR+qht3o+ez3vdvSOumhTlI1COq4AB3buPZhf\n",
              "d7tAME8NwVQrIJ5SGQkyID7wqMRLq82ldF2bK5bBw2E1+MvJWE2hAAABD0GbU0nhDyZTAhn//p4Q\n",
              "AjpK5wAOJV4vVGrZiRGIA3LZ89hZlbHtvwB9YFG/pUbEEULTIm9rkJumCIrwcfWgI5MWvhG5ZkcE\n",
              "E2M9IFW3RyJSN/wUDzOGca7W6LZgkXAuPbVIpjaAxQWc2WEt0dm0n7qB2H/cVbWYPqgqfAWRR0vD\n",
              "NmUbwMFwYq+Bj2yx2kASAg0Cdp+C8LvSdr8B+vwKMeMot3CvcGD8XSdElEWrxjIzLApIjObqnCUr\n",
              "ZacpBLZ9QKHhIS4TdFSH00gsgh9gRzWGj0pa7LMbX4prqDCGvYcZ21kQYpERhhgY0uzRRR9ek4Jw\n",
              "t34N7d8VdN2/EJQmznEPLkx4WSbyK5Wvu8EDKpAAAAEwQZt1SeEPJlMFETwz//6eEAMK69AAoNLn\n",
              "815f1lE9HDxMG9QkTuLz+LbT9eN+ra1PHRQUHb3rqlrYhDumuEP/FrWBtsLT+u2WNY5U+nESre20\n",
              "N2l7B7Ywz3cKreN0zKRQJEKM9Vu7Ab11v8UBSVe4VPrJqOd/gCg1PLX8sguPZRQrTKg1xGQHcaFu\n",
              "7GIxLVC4yURMr8977ochdXegElWGdFCZb8s7EyoO9N92Khmgc6qW0nvb1V71Ed2vwk5AprnLiKTm\n",
              "OTHOgCf5TucxYKFMxVetlS3fkQJnE64r2rCk/FN1jMkaVEz8lus7pPVA5mEGFg6Q1pt4+xC3DLxl\n",
              "jBPZuPKNfrcYMPelSj5vSXc2Y+YHF7U/S8Kb02cMKxNF0SXyQjwvNY3NnsOsLNHLoZ6nugAAABsB\n",
              "n5RqQn8AzgmQaFgYWgXIP6xMt+hXhaLgyoEAAAFLQZuXSeEPJlMFPDP//p4QAveRZABCVXi9P6Jw\n",
              "FNe4dDTnZBOa2ELZoio72dkEMVmAzYtqDzGHB76drSeVKpK8w+8pcmuXWNMzRdEZ/ODznfNHYN44\n",
              "ILnailPWVVHXUHBkh3Mv3NKYbYEfWEtS0+FYOGt7WkmqJhKtuBOKw8ZlS+bGornGzBoM+M6S/fAG\n",
              "Nb2gT+kUJJG+YK0xx7DvsndX7zx/L0FEU46Zl9PXHWlTHQ+D3y0ytXlHILpyn9ApdVGOP4LAo+tU\n",
              "WUYVNFoRd83ypWwgMvBlZHHeCo8GZd7oibiXThc6SoI1wqPLLOl58AI19lzps7KnRnLrwFpks3sw\n",
              "G7Wcvpl/9X4EHvXVGkmoctrbvG0J5IW3XlBaWIhcs7KcBz7YAq/dDhKolmu1r/o52S40/R9HkyVo\n",
              "P12kbDSNX/pjbAlEnUgc0TuLgAAAABIBn7ZqQn8AcSbsfEZpSPqNWrEAAAEDQZu4SeEPJlMCGf/+\n",
              "nhAC6fDbail+61M2Mb6LOSLMhOPyyAIvU3gB32ayIUm98FWMqSs4ZmfPrcpM+d3zRxCBnU2N4JR4\n",
              "rM/XbywICmNWvitiOzLtYcTxLgq+2e1TndM2wuWBPE1H16e0YponpYdZpa7YW7MOQSCI38WPobIY\n",
              "s+P8+lt20+YNfZHomIPbwE8GRTtQmVm3/KTNmDDiBM7jH3OYgjGWL7NSjQEm67p3bcxR7AEsB1GJ\n",
              "/vJ2D1oQbQHlvYIt74BoHG8RBQaTDSnvNVptnuQWlAoRTTVQ3jtVhtCI+lzfW1iq+7BiO13qpuwE\n",
              "N9niTPIH3zau9+cfRAa3pPYOmQAAAJlBm9lJ4Q8mUwIZ//6eEAMK69AAdIhtz5LS6nKSgqxY0uP+\n",
              "KN5fVVMnQ1S7w/HnvlVJjc56dOorEWK4e584QKRXJuzeGuyeMnUibwoBGheR2k/tuECJnLOXuCzB\n",
              "6ju4q8FeHkz8tbSZL+RoV7w+FXEMrXqtPK3oUIIiLfxcKTO0uOdRD5dISQJ9M5dg78tUdQXbTd19\n",
              "9WDGkngAABb+ZYiCAAQ//veBvzLLXyK6yXH5530srM885DxyXYmuuNAAAAMADN2InuDwrXQ9FeAA\n",
              "ICAAUTkf4ebj+ABs+FTpEmHxPfww3BGSVzRcUnGeNALjJUvPb01+OpJbbxbBffyjZqkXDawHht92\n",
              "9hmqjMPCl6+cwD1T30gvZYxBDQykbOqNp+wrp2YfW2jGFdUywj/RUn2emaFRkw85QF9NaYkpnNQK\n",
              "dvF5L+pYS9k/AK6JAS5mcfqwoa+7FUOl4Lh9qvpi682VkkDl4AZLys7M+mG3fx977XmZwEtxBRo1\n",
              "jmNq+D1SKCi/Vy6o7h8DP0Rd1sT/SvOefv2Ax/akCYrKi6Pzu8uK98jQDsCe2Lx4CqfJ5Ttp4aeY\n",
              "q5oypZKkEb23v8tdiwzEI1PjTET4E+/4xlYnGgxC29GDyHx5gi8zmSj/jWGC/KA95gYcnor/I30A\n",
              "/OyS5ajrcDGQYH/VD6iEs6+YG/oI3x7DcZ31FykwZmfbICDde/eGp7KwkWAu0fSwiIfww1manp4p\n",
              "353s8B7wANJzxyHoxIsSsJ+pT+awkEYixAgqt3kj5r5VSOYCerOHR0jaE5zGdf/VrFNC+hg6QWAh\n",
              "rStzf0axLmwVnrb1WRbFWfmJeyMJTRuatYnceurY71y1TQb3ZQR1xeGndL0nVeJGkQIO6H7nx6mt\n",
              "GSdOOYoZPihn9/r6fXTGLUK7098R9j7jIMAnKg3JZD/PaRQuWu9IADZ1Azzlj4P2lyu2kB9JCN+W\n",
              "niS/s3j2J3IAG6ikzQPdhWJOIb1VZ85+D7l9GPVLjxbLtea5GZCnXHW74FoAGkJFSW6weZsK0ItY\n",
              "n4mZF9skx4A33kjFrv1Y9Oit2u4xiTfmV/3rvz7nihyPBDKAK0/p9viWTUeOp/YNUETaMudScGkb\n",
              "gy0a7NezSoXKKk0OTBaM1aOeK7vgJ+3V3iJXIwf2pJQY4GSEa8kgWdH3ufmyBnKCeN9fUOs3O+qX\n",
              "WCNsJwcT6lxx663kpY7Jj2udruvHQEbdgYsflvczMpoeFtGMgaxdJaS0Y20Y8v73DjByRHVjIcCN\n",
              "NxE941q7h/+qzb/q+6Npb0M1wboJBhyGMAsJ9v/tAisE9maplq2GSlmVuMwHy0Kz2++EfWHGFbTi\n",
              "di4I2jPbyliXFJchE1sJahyeHOfsFgota2OMuyzC2pxhvODoQRCLvTxd0G7SWx8J6whTW8HAax59\n",
              "3+d5nx44P1MHS2vFZGXzFgEniaP+avo6Z5X3pb4d2P+IWHBMdZ9AUaww1OMa0GWWobSyugGHI19i\n",
              "ZHAoZ4A1hH+xWQuv/UDQvKtREYb5UcNZ81fsmtVNmqTG0sx5si7zlvVwyvd0hGo5IDjlwceWEABz\n",
              "COlUPYr1TbalX0kHZm8M/5uDqAi+Ejy4gwMVRBf5TbBtVewtwR+cQz4T6ziz1RyZzqB2m5rOB4b8\n",
              "Ldjc73E+VWlCFOhmPbvNAAvn63y0GcZ2HUk1xBv14xe0S3j+Q9blQOvDVtWWFPF7G3/Q01dIR4Hm\n",
              "/JkylwlPQpenzIAJfMNN95j8Rlc/Ks/BcM4EbR4xLd2Gqtl0K3IY09+RAK8wvUVftmT+IZDDbKrI\n",
              "ZTP0i3hTmdK2gW0K0fIrboU/HMUC5KC2Xbp3Mcjueh/FpnubmkZEikv+c1//5ZM9phQG3Y/+jey/\n",
              "M0oLR0Z+vyLxhequMR8J6U75x3cFbcZj5DDwAAizbgSEjUaWtOjx9z83dfTTA08C87VJCjL0LEPn\n",
              "HMgorxpUDN0GGgDIs0mHW7eG80Twq6yKbjl17Ri2LRoWdlDC8W9bzqVRdDT3sFZxeBJLOOmS8dCJ\n",
              "k8cxgfsFGEzpA/9cWy644lpzeyShk6INPFqJHW61VLXBracJH4SsaPCMcz+QGFLViEs8JDRDmxzD\n",
              "iFtqUfgdNTPk1kSQ6VIzV6CD84XTahSNC7egcnzfoJ11Ngy86cGYgheQYSWrZSaj5FEHXC2w+Pbm\n",
              "KeW9njIyayM3LIQ70ZuENi0SY3rKrBjC7fooqygzr2jecI135eeqUzRIXRKRLsbjJN6EqI4KTJ4I\n",
              "vle53gsxN8J/DEAs4EuQHFezFWj+Akp3S5qJnt5QjjORuY9Sq3zftsXZ/UCqYB5y0SuWURaJxLJW\n",
              "tfibdX8tnVjge9qbJXENWWo2rynslN9iqNag9LLTVf8K6tFaa4X+x0n5Fy8z3n7UGLqlGqgS1ITY\n",
              "nohhyYM3+4T5ViXMeG44F1rf/c6ziK+y9mHDhxHUEfoAQxSbO2BOLrpSOjtu2y14yELewWwERYaJ\n",
              "HkMH+gF0inggPiAEs59kfx8K2h9bPQtjAkcHrRjnp4B9uk6QAt0N28GoNP2hXFxZu6U3ukuKexZm\n",
              "gNNBZZazdZr6xciMZpJthF62AZUuBnC5EjwG0Z8Fd4JFQVwQFF49+5LQD/QWKX/5fKqSqWG2IWB2\n",
              "gARQErRI6TG5rtOYYXO8FTGyrYOxLTTQAwtyG3F+xyL5Cc7HbP6usHMHOvzXNMStGWYyZn17W527\n",
              "PpFwf5gkGfArogyLmKCR40ggvvW9PbkBbemNh/jV0qbe5yBr08qua5VWcCEqAgrZuTK3Tl97e8Wi\n",
              "ljy96zp3eIvinaQbd+B9Ls9ao5+H10Zut563A40xotdcAAL0huYfrCcbQq3Inov+PT2JuSbAl1Bn\n",
              "+7KNe8sVjw/giOp/jb6287CoJws9X6S++LaQq7rRVn+GNBIC+kmvYoRdC/8B9gu0p6epFwGdUH9X\n",
              "ReawJcMfeUmslj28RdnUkxDHDL67wFrV67iC/anIIfcQP5GkbpRpLmB7sT3Ka/RXkQzb6NPs9WxM\n",
              "B4EwN9ZlCxnPnbuYmnO0CLDkcoryB4iL1pmCegw7ax0APlZLK1nirH6dEeP/kGBmSQaCmf+DsSoG\n",
              "0rfsj9qtF1MZFg5u3DZtwQac4NSlMHj/BYa2b+JRgLk9u67tR6bRR2qauFOF7KOZhjb2rf6emVvJ\n",
              "tsq3nk8QY3NsNAuWaoQyqlpNc5j7H+w5ln3V/RMbxJ3E3wQL+ih7A16Uz7bWO1QQ1dEkJL4K6Xx7\n",
              "n0ATujAOY3y7mNZRhzeKKqp0mss+UZWQiEhGLhFscKUOYPNMKU3QvreA+a01TVmPsvyrD7YOD/c3\n",
              "S+0+wuQqr0dUYEqwdX9DVmXvDlA2CahvZxzNbgV4M46qtcOfMuqz7fl7ajsa1ZP7CU0qG673oQhf\n",
              "AZ8xogKTZM2pKg4KZSVoW/hZFGDUrxyJVb0mvKi6Va0XuAAAWtma+No9Q1O9tywCfwvrJE1Sl9kL\n",
              "mBxYi2lV2eJlTn1BxJCVw6q9oQvKvixq46AePfXZHPJE5U2xz9533BysGCxcvuOjbPEx8SVBbgOe\n",
              "bU6Wgbpdgx3CnnVuXIvNoF5Bo5fBNRPBgm8rk5avEWVa4MDWcHgCOBB9jvE1ZfaTaERVan0q2gA1\n",
              "dyeGRsFy/NT29KksbWHfkS6NQMWgowt+5lcQOx/Fy6mPpCOF2Rlpe6FU2F8nhOCg/FxSEsP/I7m2\n",
              "RA43GlKqMasdB0SZ5qP1fZ81cbJABKK6jYm5e1H8Eui6i4MWpQvQ7Jh8vB613hEF+YFP10Iam4ME\n",
              "qu9q2vtbiIxfwiHkZBRIrzastI1XZRpzXm1sBeoYBsvpiAFJiZEXWQP/pu/vXiNW7BsAQ11NY/om\n",
              "ylxDF8lk58UwOI/lWW4V+wxzX9IcSc9uCpeTJs4nu9QXazB1WzOC/2TrrHW2G7yXRHvoBAw910Qw\n",
              "A+FS+2WKPO0ItcnrnZclTiULH757jHh4TSDNS8HM279cHN37BSLF0IaI5XG3zRklRz/L1Sek41GE\n",
              "MRktQdgrDtAmrBo/svOzgL6fWR+5adScTNxXH8opRhuoHyyeM6wB+sMnbVHIIR4HuQEyakwT9D+e\n",
              "Ev7qoTX57tHxHYQVpER7njyLTi5vDQCKWrVG7JMF/PqK6KC/TjRPI3/3Bo6SKTHGrOiSGo42f/2S\n",
              "ZW+Jkn8f2eYena4D65LBt8W3SL1xXKaY5TdgsiHrJ9Kt2D8LovtzfS4B3RdA/c0stpUeVtyDWaYY\n",
              "xRt0eeDrKRRJPehGUyjzRBBC+TS55mFaVYmrxOHf6yUx4AY22VfYIAfm984GpY5YXPzIrAKQ3Abf\n",
              "t/EWqjaD7lDROAGiFQrhULBUAqcUEGoeVzw8QeZqXwBkBZ2hd+bd9sxLnxyyuIwgVY+g5WYKNJmG\n",
              "/+OK2Eg6KMRBp7ozwI/YmhX2ap72Oxt6+y2IJhNHs0/ijdSvLMRP6hVjjam2ySl9myDznrYmkFZD\n",
              "ZzhniC/cSzrMYfI0sC3k3btvEakhK+HR8F/ilLCs5+d6yIZ5ixYm3tL81VL2rkcUM7GJBP4JJKHs\n",
              "a4XhqmdusZQEyj6h+Vi699bQsP0avCmBykVLQQETcZijTPd6hixhasQRI5BGKfp35fVNDUjwwG16\n",
              "6b/ryZOeZKv9uhLFJX6k/1ju0UJlCCQt4eq4+jr7KLhKBTjt0C4zq+eMG4e9Gheu0cpymeDtyzuz\n",
              "4k1ijcB4tfAzbEXFVewGKuS7HgipgwwbxummDjIdP0a7EWLgKLhYrpUzwqM+sTM0N7+G69FaJwRL\n",
              "7PO0ncZOJFaC3rWxaMHdsD2hT1oab2eDnyuwFnMNNhpoZTw0+ICAGFcy81CPTa3nZetV/V3RFgKN\n",
              "az1ebXyY+nropOFV6a22djFQ8vremqqgDAR7Id/dHCPzVU/WqeFh4TsFUonwWpRI+TRulzXN3qsh\n",
              "G1hhjnrobxmF/CboGtDL2UQ/ptNoATZGrRQi3sfSkbYW5zA9a/musUDKb6Qe5Y2O31626UENa5Wq\n",
              "uumCHmrii3+V+8YirJhfbmt/sW1HbthzMDykBb81NTE+rg2Vm00wJd6GgzYpOlm/Not/SRBrqrQ8\n",
              "V3vIoiQ8qxTKSRvQswM3ZvNaCYoY2f4HGop5uFa+Nt/5iVVKhhp/uKzHE3gqxQpdIQUbCCz7tXvf\n",
              "SbA/HwtuiHDnHKRoXNNBXOHx65v3W7GHYxpXXTVatFCz9wEIvmPdnyewNtqDbR6fEBGsdOLQYFgH\n",
              "Y2Sf+eEd8hR6epKnhWum6fLogtuzJheUBDdTO8f7vvAD2kmy7nO8WXMRh6mXGtKGKypdiLDwm6oA\n",
              "Ei/416XHvMnaGCnD88kEh7qB1UR9JsmRGh1BJEkeIMbllSW6is5yfsdRXe0ohYceLJ+EcLFsDMRF\n",
              "nSOtNJUrm9g+9+xEPGoLikEd6n50qyXKQKXmIKaEKyL/+r066r5zL1QXhw2hUiUHQu68aQpZ2FeH\n",
              "A+Qg8+umnrBYAm+yoM8fDz4EdG+MdX6w0TDYjCraO8x29yfpKeovftH6q10rpRQwhId+oDT5f3/X\n",
              "uH4As0AfJiRJTeofsF1gwo0VZwVL6kGcu7udCgTwqpG0eqBF4wQ5EoD8OO7H6p84fQjL4OA/J5eh\n",
              "0rNEybyeMrhRlynrbUeMI+IN7fmTe9ndZOFMjbEaHJkX/2w2BqkoDAMRpMGWoxEVouzO6AYDJO0+\n",
              "M5naRWjA4ik9iC5wvx2o+D0kh6PYgeA3yJLogXZBKYjxOB0wbmJM2IhsIYsW7wcS9l6QaHFk+t/I\n",
              "SodPnLSGagBF8eZbUVJlChzxLerLPMaJTp1Xl50lWmx448h4L1C421/YRO5EQ11/3kQrHZ9FWXiT\n",
              "fCaDiFYtX53R8NHHjvbox+u8dt55oqMjliA6wlydDZX4Flu+uxnc7hs3WwxKnTuj4N8pmueEW7eG\n",
              "5JEj7wpBXv8as38mcQMDjZOPOCsaz7NY6NnRF+gcx7FFK1paZpN7t0GSLb+41pA1J0hjShCmz2GE\n",
              "sO7nUs2CtVwMWkz2UdHbDKYRd17YcOCfLqHZ/mwUTF682l7ZCzfeUDSS8Fn/6SeIMr9IXdSTRIZv\n",
              "aO4/8Ihx8uyFQXKXtf///xH3n/0saX3X+Sy+gmdQz0c4Fl2GL/WeggsCWPc9MnLsi6VtEt0cLoor\n",
              "+Ic33tIYKjon2ZjalC8O2SJY3d3bSEKNynuO4gVIE8djKUgXi7qPxHhzwmkBg8u0oq1W/Z4oaZlK\n",
              "/jjmQrGjcHTiu29lYBNYIGky+xBZjJ34QNRFcQfRJoD96TbpWD7lzhTWhC3nXviiITsiMm80+jXn\n",
              "rxjAw1r0bNBpAG0x9dDGfiQ6AxLOGdlOmuSPtQPFNTP3nzTIb0N0L+xJ9hRMjSdcGPRFpIyk8tfx\n",
              "PsFAAiQsYM+hV8NRFRSxbIorSblRN7bg2jVQ96VSQ+5yg7Vz+l5V8dfn402m+nPtgOoNe3amWxvR\n",
              "FGr0UZCQjIdgMJR3qyeJ5S1WY72IEqOTyA4FN9tsFDYkGAjq4VocrQHvvDvJXiQg+LiwW/m38LRM\n",
              "UEqGlknK8lfkiYUbY4PNIjw/B9PqKZDOAXLuRLE9P00X0qYH5PwN12kkCUGj/+qGgjMNSsGt3sTB\n",
              "3IEBTcwlqtgidUACnFTyWbxbtgnItqKkwUVQjACocMcbNO4mwkm2hml25w3KOgWilXlFmhokvntI\n",
              "nHZKR6RyA2k112Kd4UqEoMeDuQyomhZQQ5n+c+sbseo8VWM6qLDN9IvzLkhw6jx/v79oYc7M1oCu\n",
              "VXmpuyzkznrKrzB9hxbN8Cr2QdWNTVpN5eAtxgovL5jBEpwQ9T/goTOJC7MmTTCzNdBGu93Slu25\n",
              "ZLI4jz72nhsIzd/btL0nL4gpjg0g1Jr/MbLrqIidAimj8LECGZIeTo0ZWNVeesRv4M+R6gmGFUQB\n",
              "YnVIAKlsIq+Dca/PYzj6HDdLnEKnwNtL/427E4R17gF0f+4U7ef9mXxXx6jw8UWglHqI5CyoNAFO\n",
              "AxFevUnICIT/AFaSdtnrBCfo67g9Ww3Cov7zCZDolZZTq6nEzVKnCJhfmX57iQ8c81P4B4hXqjJm\n",
              "iGUzP8YmYs2CyGGa4Osh7aDLIa9zUeOA/AixU5d2Sn5Vu6Haxz9j6gdfgF9rpEEZMFccgQ8bwcEs\n",
              "CUXmyz+6AwyuAuJ7b/L84bjLstVcQlAKGQwPOvhCWJytY1vDzH3kXXvEJCcouTYXEqRp/zRuD9lB\n",
              "//ShIrzHD5RrCF+pD/nGaU6PwOn9W4juJ9TbqgBRiPjU0eW/ljo6QHy1U9y/GMEys16pd+4QRuRN\n",
              "jFY6vb0IQvPKEUGs8/LZnA9hj+gXiJLLRQnnjHUmWD/ULDwAWiXyMpRPQAvGF9rKmJDsEOLMrP2P\n",
              "0oBUmxGADxrRqlZnJXG1REnlXitD3eze5ZpICywikHNt1uxu1exNrm2+ZM3OS1Px0VkdSuXygpre\n",
              "JtNXS0hFOHYzWCA0cipzhGPT4s/n8O0rRUrrZgKGp6wK/4s1DDdC8vdp65/ziXu6Bv7KH1smHmr0\n",
              "wwSzLPOYi29M/bfXo4FAeLqVDauUP7hD+OCJZq0fI31XE3rydtuErIpQzlMvuSmoXGSJRCQCVYN5\n",
              "Oq02lyQpv3SoWxqZGdCoh02vUhbPS1BB/RIo2X1/PaibhFFola2pPxE3TdOXtyCTpVzt1GhVLosV\n",
              "0Wj5Y8QolBo92eMxoPYFZbZ8eoH6TC/cb1hyuqVZIGlXVw40RkMhEw+eXdUHPn6dK9jBx6PnT7M7\n",
              "/xKbNUjxnI0uhTxRwAmmLTuaypR8giNhR5brlJYZRYJqsHRuPwMygwnjMsjkqJ5S4JgRSMMFCsOn\n",
              "uEg+ZyNFEE6UYrGxBACpo7Q+RkKkt9Jbc1pKgYQfaU9C0b8XpoPk/+jHky5TIbRCXbX23tFjMFef\n",
              "/mUVCe3of/8ZxH/HJkbpnFqEc1vEKRb0xtCgME5K7zWr8K4d6g5tFAOCzpTqX77v6JCxupy+joK6\n",
              "HqrdR93GFX6f2AyUh0Q6EpEDR3Q928ZzvzsLkqaDTFVuVj1qxP3IIFxQz4JmK+Ffa09MyXsXBDab\n",
              "1xqyCzUJ42yLiEiphnMDyXK8AFeAAAlZAAABYUGaJGxDP/6eEANdCphEoCFW4nN+4qhscXQrFoLn\n",
              "+ZHprFiSrJw8ha2PXKn7EbhjdKJHESY03moGN1e1h6EJuEFYxcJnaun7RaZB43JBxlyJtwwnhm8g\n",
              "Y85UitivDRXhEwA2qnjpoRutPNb4W9hH5dI1nnCYtZKt2bDB6YJmmaEobCq9ce21U20Gyqi3q8t3\n",
              "BRxaRAadeUBx761vwPkTZt/u7xrA2IbHWTj8n0usZ7qVYZv4HODQf+7n3xYXIVOfxAx5HYBJWfin\n",
              "FvVN2TZ8Vhpn17TtXxoBaprnA6iXsGv3Vb57RidqcG2hysWqaFXWVYZOJWDbRWdCb6n5IdOW6Gu0\n",
              "csgBP7t843fOmPch9kWRJJqPronPOvorCGODAzUa09UA8LSJkO+I7rd3tjwclGHYaMR+cdgN8HPQ\n",
              "Gp7QAzlRfTgJmF07DDLh4kjO5iFGCZA3AIqrWtx7CRCLHbJRj3uAAAAAKkGeQniFfwC1tZY0TtO8\n",
              "Sm/vLG4xOGp8XjFPiH+zS6PkDmdLlNJSocAPgQAAAB0BnmF0Qn8A5+2K6oY3vTyrnkdsf9E2jS5R\n",
              "7HqwQQAAABoBnmNqQn8A2DxvhSBSXZX/kKo+mLrSIeLogAAAAGtBmmVJqEFomUwIZ//+nhADH0rj\n",
              "BeoAC1EQ2U0H6LOubtf9MPT/NjhO3oyVrZLHxVe+3gPErJDKW4NNee2phDRXdQ5imqY8M2c3jgLA\n",
              "h4I7iYMgm9UYyr97ZyfqI/TM9Rk5LHociwA3DoDUgAAAAYFBmodJ4QpSZTBREsM//p4QAwwnhBwC\n",
              "ZI52ZtQ1p8GQ8MI6JmRxKAO1/N+pWN1gKwOAQDlFRAU++vayuvz69bZ3G/WBEF+If5tEVNA7dkwM\n",
              "gUG3N5fEP9LUUwSujW+acW9/Xld7JXSCgA+/yzVD1aI3ndp2ygk0Sl8MaRV8zcSag9bnZcIsKxxB\n",
              "kyyKFTmvVYykRB1uAh0s/Qvv12HvXp9uKod3XCta1MiqXzITj/h8mxJzAbeQMHSW0vDp7s3NwM/u\n",
              "ZDHHwjN6qZIV4fEAYYwhwMiNlpVGfoiIFW15G4Fg1ocu2O95EPYR66NnyjwWNScrXfzKDGrd1I4t\n",
              "tUDafhfsijiz06blE/eN7hlG5jOFbeO9vjAY3grBmCjF4pp21N4StCr3b/8WYEovteaJyS5CsLvG\n",
              "h+kMaOwSP+v8VXxq3JOHlJvW2tcr+yQ+NHfjH7TVuo1kCIBwGkX1L3pJvPYsdQFY/VCO9BWsLhKO\n",
              "29U4oxxBZdlJJ8SXdEZBR3MIFSphAAAAGAGepmpCfwCW7iXDx4KnJaYZTUOulpTmzAAAAIhBmqhJ\n",
              "4Q6JlMCGf/6eEAI6SHgAV5bBBLGJycY7IyYxhuroQOYervLsu19dbrGk80TPakB6ZOsgy+e56y4o\n",
              "uQb+6670loWBAqXYtDITzWY4yVKiXRy2t+ZikLI1tQAvNW43SKpN247RUm6wuUx0ml2GD5bZ1RhE\n",
              "Wz6Tx4EBTV31q+X1hnvRQETBAAABbUGayknhDyZTBRU8M//+nhADCuvQAKB2ftbjDHWr/OfhK1GQ\n",
              "CwrStwxbqEidxefxbafrxv1bUnt1wAk9djnIGwbSapn1GvuCzJH2Da9HbVRDrCvuBRdqR8QfE7kl\n",
              "7tlutcYECkrpgoQISllAir4/RdT+9PA6mvTytsnX/hyHJrWLc6qBVEH5iSvlmoXR3G3uaJK8Ekpv\n",
              "YZrlrOrHuJt6/dOgmSlkTZBhrO0/WldB6/wHf7VsPfVghK8cMCc3hJU/Gky3kF8vAKOuzsWwEiVX\n",
              "wRDs8D+26E6i96jmeUTNnoUndth9RNpPd53d+XBO5TuKU8Kof6w8fx57gxCAVizJXwwtefJHbjDh\n",
              "AnXNiCDWhzD3H7VY48Vg49QEUi1UOc4XeXGZHPgKcKwLd2YGbFtt6wPxY45SpvE70Qp3x8jmDqze\n",
              "j48TDnCVP8E78s7mN5/+fFfXJCchyk0RJkTKcZzh4T4J2Z/8/WQ/nCyZCoHwAAAADwGe6WpCfwAH\n",
              "Do7cbhCvaQAAAGVBmutJ4Q8mUwIZ//6eEAL3kWQAiFM5BLF8J+54gADO+J0w03QYLT/BLgvbJcwz\n",
              "X+LWBcPV7Kb2qq75Mn5cuZSHNIpNdn+dGrIRJ4g6xNUCqPYCWGJ6IFIYkCeSzHwTYLSPxCeh4QAA\n",
              "AOZBmwxJ4Q8mUwIb//6nhADHxckAHR6WbLEXceRS+/oDqB7Jm1xdBpZUSXW4HhprNAxL5RkQjbl3\n",
              "KRCMGwJKTs1auvI80ZblD63O67m8ga+cLDx6twwNtbZWrG1MMwR6rlmKzNysBZDxvMZ4Gm3sqiLW\n",
              "3IKnYWFDmulw+kz1HvjUASOqXuduEdu0GrMFz4VvyMkvlZsPKgQFbjzGKhJhVbXnzAlx/9ulhmfm\n",
              "foD30SpiVNvtEIM2WFmzylPqhGHnU1QMnGGQuO71mveZYgDoEDCl4DXQBYx18F7tPfjxxKlGoFe9\n",
              "4K6tlQAAAahBmzBJ4Q8mUwIZ//6eEAMK69AAoHZ/l+vUgbVhKM3CBQEjl0y7UViyVBPEoSJ3F5/F\n",
              "tp+vG/VtSby1T6mJqLa36k94fLlXDlrqzXFgNaTR3bl7xZWdAPYCtcyA/4CMlkX6Egvemzed2LoD\n",
              "9ZCoLbhULhpPQNvxIw45ZJyZtrIwpDG7S0O10lQ5MCS6iHJ7apauK1gEauEvxaiw8ujtlzKErZ0l\n",
              "s6rnndzeurPxF9tdsOW5feM+W5/bSNaFQM6m37IvIXCX9parw7gloTbM0+zvZukWsfI+wLgc24+H\n",
              "wphmXQeVeNmIIXf6be2JeDwrYNbMcYJ3vcM0oGMY9wDwFEDMVpQKgdPk0lefCquep3RORN7VV4E7\n",
              "Vig/VKzmASDvMDN0OBNnoI/LsuhWfat0SMsr5kQlN74nS4G0u6zVcp3FVwagExwK0OldhQpI2O4X\n",
              "TVSOQcgqmAhYqTRlZCASwzuiU4MaYxGjRhD32RdYFblFtdkmhB3xL7YnAwN0KUAtVcFpAJP/M7VK\n",
              "mfDnSEkzCOICV9mRpBRUbSyG1deeHJqv7aT9jvWJBkhdAAAAD0GfTkURPCv/AABunS3z4AAAABcB\n",
              "n210Qn8AA3Pnk7Q3Yps+ud4SVKWhCAAAABEBn29qQn8AAcV5D3FOGtImLwAAAEBBm3FJqEFomUwI\n",
              "Z//+nhAC95FkAIfpWYub2RB2GSP4678/lwar6uWP52cghTdBo1OSlaDIH0aYDKnlD8yexyNaAAAA\n",
              "2EGbk0nhClJlMFESwz/+nhADCu3HAJpvzj3W032+xbgycGYTaLpPV03QvIktbvLMYJcx4b/vSulK\n",
              "GFpSTqBT8P3nKIeBqkclr8YnJilcKfR/FiALFtSSsAOJEQ6aJ4U5mtoIyqsGDSQmSY566xmagV6A\n",
              "ivKa6AslrAo9YP90ISPrzihbhwQr5TRH9gbMborlTnSvs8FQLqz79+yezBinRhAgsS2DW9E6mOqv\n",
              "c63F9QW9SlaedSeBvXH8BlkNc8YcsoVDtSsReVitfT3RjgjDywoE3Ks9iQwL/AAAAA8Bn7JqQn8A\n",
              "msVB8Q7g9cEAAAEgQZu1SeEOiZTBRMM//p4QAveU2iAIJMB96uuQezjqeGxepJ7mR5ExQVChaaBp\n",
              "hH+VuBFf10G/kRaYVJyglMWfIP3a0lZ0dLTyedOwZTEFJY21XnCGtF/FmEbU4PifySmStpBgE5zb\n",
              "L+R44jpViWtAmkfsN/kythuI3I7on06M5KsUsD4HJP/LrLLLcY5kUxP8G30dllpclCPCEPhuuSgB\n",
              "eqzj56b9UulwXxxb3wgzLRDuZKphi0yuqApXerves13hvFAW1GTkRvzapUG45dMJX+ltvsLExUxp\n",
              "NLkkm4aLSDvmdTqh3THA9O14hlHc9mVcGYoPnZk9o7gfmBZvTsibqTYDBGxp+o12RwKcjBPBmRj+\n",
              "+HcSja+3xrVbpIZiVuw9AAAAHAGf1GpCfwDJCZBoWBhaDmtUZ9IooHwa2t2Ch4EAAAD1QZvXSeEP\n",
              "JlMFPDP//p4QAwrr0AB0j1S0jEW0U805iNzN1UrAIskmBpRy8rZVz3OgnmgDA8KmIk5gjxUPlp/P\n",
              "8UhCdZB4A+xpuZdcXVTv9heRU9/4CCg3uXAuZZWmieznG/XOlguVgYyOFgqGWsWm8TSvl0MvGhmp\n",
              "Cu26gcpEqUXdN4Xp5FZ5eVKccCSNbNgqM45eKUCzKM09xAXSKw7Ge7a4eBdmj9Bps/KcW2jmRZ+a\n",
              "qGt6EeyCKTBEX0FK0/rsVZwPXkc2r7uppIp2juqNmNgkcKKIf5GGKNTiRNneU8usTjHpixZCuKuW\n",
              "lAupfDmdhkPjqrgAAAANAZ/2akJ/AAAkqFONwAAAAO9Bm/lJ4Q8mUwU8M//+nhAC95QcAA1bie4f\n",
              "IYRTrTDWmGIlIXqSe5keRMUFQoWoyvrAn8LR369PoiKwJwVHHxfn8x3EjnAx+zMem2qRMmzHq8z6\n",
              "qwjaUMl7hhMHiOQYEMSEMPqlkbSM4xzqIAOyQ7oUE3LP3OhiBBGCrGkGDuERcL66h40jL1VijJ+O\n",
              "Qn57BhSkAipzjVyrWIxu0F5I1rNj2NCvVt3HMdKS42l0m2N1d6eBG062F0A2+UuptJ+NnBj+0sWS\n",
              "F7PTozrhb8Npdt5pJoxqZKfuN5M3fKUWv6Yzz4r1QkkjdIPD1R6lkNUnIwAAABkBnhhqQn8AyQmQ\n",
              "aFgYWfhnw6p8g4KMnIOAAAAA+EGaGknhDyZTAhn//p4QAwwXdnAHKN4CauRgsDLSxo9gs0QsX9jN\n",
              "RRsDGQD7WdrV5H9R/+b46IuWyWaE+YEOOVfmayQRNew8CSk8wp/BxtvJkEu0wNoQgxX2fyz1VHFC\n",
              "4EDJbjxaEHl0Ic+/FkJQwh2HtkqOfAe4LfhM3NWAkGf0/RYxYpe3A4UrWklk7HhAPCw6CMxCYnNr\n",
              "cfgGv8fkPAGtwE4i3FRX6IyAhSS7Rcm9RIHb+x95bbWiy6kbukjQXKCfi8qtnfmxETrc+TrM1kej\n",
              "KFcHV0aPcxBAKk0VVjY7YQqmt3WnJrqT9FBoc60nCVTt3CMKxs8wAAAAo0GaO0nhDyZTAhv//qeE\n",
              "AJKXVEAIwWPDY83ELyCuOvgreKTkGpsHjyzrWjljPTzWL6+aNb+s4zeS21JDcbC4Jmqwkj9ZXsu0\n",
              "dvPENG6Vb4e/3Q3ZdJYU/8zSQU3JJQTiT/803Zpz11ma8F/tWrLApMddwOPTUeOkiU5kfgv7B3Ak\n",
              "dgbr92KnOIj9q1ZaLLtLDUsiezAGY8tIu9OUMyRDpxD9EHEAAAEpQZpfSeEPJlMCGf/+nhAC95Qc\n",
              "ABCrUADHyWUT2ukCTiXdx1SXSZ8NACVJPcyPImKCoULTQNMSaW691/CUpxYsQuvPfBEqcDipi2Rn\n",
              "PyQpoWPIpjHi/7yLt/GTkkGMn+9/zKJ2mz5o9rUf1DgIhH/HoNwMp1edo5KfieifpFwQaZVsPBz0\n",
              "7MLZQuq0pfJmsqKRLRQLG+T+tAuSeBHqnpbrlJHMVK1l3HdYoDXsn76MBgOkRzG7kfQNiKOjqtYS\n",
              "oRKDg7F4/jQAwyYbJrTaDfWBnb8joDYTAwIX/hN5vQG2gNvjyVbe8HcUSvptLPL97woaHFKAZQcl\n",
              "fsqB2IelrLrnwJmb6CP6w8LLhWHbRiRXZgDwjzgpsqLi+cZbnPBJzT2vj5DZZR/Z5DXHAAAAIUGe\n",
              "fUURPCv/AJkr7VODhhqaTAdWF5Tx7THw5Kvcs3iB6QAAACABnpx0Qn8Azfk94z9nUCVnkAqXyBox\n",
              "w3wgfpGKqJAdUQAAAA4Bnp5qQn8ABFYprox4QAAAAF9BmoBJqEFomUwIZ//+nhADDBdSgArVSxTK\n",
              "p+RjClBJ4b36b7N52Yq7yoQJZFWqSXjIs17fpPAg979ZewYMvwhT7zMWjj8tlehSSw17yhRnM0AU\n",
              "wGicXaP9uXxc/svpuQAAAG9BmqFJ4QpSZTAhv/6nhADCxx+AFrkCAbODHoMzlKTOK2mjCJWQsVu0\n",
              "9J7jLydYHF1sT5urLG87I1PARfjb8VV1/fWZ0h7uXxFX9S83dh3Ap7GvSO7DQWAODwaVHV8bMzT2\n",
              "zPqzTfazZY5kTXB/CBMAAAEFQZrDSeEOiZTBTRMN//6nhADCxm2AAuQR7PIsSMJ1EuS6jt+XtRG2\n",
              "DPoJJ8psFRwVe/V1sR+D9BGOuaj49I8iprOg1XXk9ZUpAvdtUM6G6AI0gj75VDwDnO0iVqmHCdxw\n",
              "3g299DNiZW37FPLr2GrYOO/lNsCJOvzyt0CH74L52JUxtsmZYZleltoPkk8+URebw7qnkVPOhvY7\n",
              "+A5Ybl4s9tb4WaiytBwgzDVawDBbQSy+fvrm+tA0rm/CZu3urOhSejHC++zBKBt61BdUqsopmUJK\n",
              "/s4lMW81n66dcpNngw0s02oqEgXdLHi43WamAG1UTLzTs2ROBlLnd+tH5O9s4JMnFj0hAAAAHAGe\n",
              "4mpCfwDJCZBoWBhaDoYFU/SCXhCMkCQRjmkAAAC+QZrmSeEPJlMCGf/+nhAC95FkAG48jfYMNPWv\n",
              "sHDlxtvluoyssdedKWg6nIhnBYssE+5ofxJIqVomP+Eu5MhdHe1NzjoqI+y4mYY2bxWbwDI+fSrE\n",
              "H+csEy7M61zUQWrZxv7ZfOVIzSarIaRMh90bQ379prMCsYavZl2XctXyQin4pdKSS01OJeWH59x5\n",
              "fNN5tc3PM2AViqGFoLn1sQY1iYWXhBIl0U2tcpHA7V99/IImSUyiWEf5v7TgjsDLUAAAADVBnwRF\n",
              "ETwr/wBNmHOtro2qXZcOhRtjo1JzGPhpB+BOAADnAAbQAKcANMA6OqV5wvrDWlgdMAAAAA4BnyVq\n",
              "Qn8AAcW2zez70QAAARJBmylJqEFomUwIZ//+nhADCivbCMADjQ57hkJrd3ySqz3L3oTfIyqMu0Hc\n",
              "m1UKdwkXcWtosPQdV/6qbDs1PZuR78Egz6n/61uJGgNx9Yp7dC7b092rIaOMHWxBiBk0MyM5O02Z\n",
              "GIavGfT9/XktqiD0MvlNBpnteEhXKOsUQhrVp7uV6bRwoESsZmOX74L6xJh9o4e8UiyXJxl288cR\n",
              "OEGMVB5A+i/4rF/AHqElNRW2pz7eyRIl3uKjCzwJQkN69fyHW4bQ0pbpjA3qjcXGUaQlPdhtPqbt\n",
              "8UrUIwqlFtqcNGA2UARk9qj2hMdCKoW4bJtK3KGmWowIstcantH5QubXM9+En4m7OCQCCDQWfYvc\n",
              "EJSMAAAAIUGfR0URLCv/AFHafz3LrOsP+ZdZeVrO4HRLz8lGu3hDwQAAABYBn2hqQn8ANM8aPfOu\n",
              "SWgxFYOKlQ0IAAAAXUGba0moQWyZTBRMM//+nhAC95TaIASkMsFKg0EFcrTI6puZ6nTRgfBSMP3A\n",
              "CfrtpbDs4rDWzV7LgxqE2lgg0wOkXgFbJoyGiBs3/3U69mtIew/EYqh06+9tMTeaQQAAABcBn4pq\n",
              "Qn8ADi4qLreVaWmbLdNs38yD1wAAAH5Bm41J4QpSZTBSwv/+jLAC8b4+sFwagAvipwzmOjeYkHUC\n",
              "0Yi4xGt8LSQEl1fab/S3UaL+d5uSCpHJUJQsWvIg6HzzTs9prgQdy4czAH+b/8ipvurQv1wtmbWh\n",
              "MK0Hx7VUfiq4dFe+CpOJxhg7cFX1xPzjC2YwTuxZbmB0FTEAAAAgAZ+sakJ/AGSw/wXKB3Het0zL\n",
              "+qfHLaWJmmUV1PirLaEAAABwQZuuSeEOiZTAhf/+jLADFitVrgBbhpNsCBgnJ0OL4dqU7m+FdFDF\n",
              "O5Qo0TT+ifT/e6/y2gCpyp6MdtmVuh3CQzlUdIwOBhTfpPTdEqwSRf5j3t5VuzgHiEdjs2Yqy3oC\n",
              "JXztUtX8/hNRWYuajNYPSAAAAEtBm9FJ4Q8mUwIT//3xAButTcsHJswAmkKyjO+6Yhm/ERiZKFa6\n",
              "XoYpOW3SlTkGsP3PHZp30dtP2jS5sBryw5irWK7k8x0Fhia4YMAAAAArQZ/vRRE8K/8AT5lqrG1L\n",
              "wB5OZgVjmEdq09SfiLbCpfN/+XW0nsHJNeuB/wAAABkBnhBqQn8ATXcRM0yVHF0kttULaIbhm1lA\n",
              "AAAPum1vb3YAAABsbXZoZAAAAAAAAAAAAAAAAAAAA+gAACcQAAEAAAEAAAAAAAAAAAAAAAABAAAA\n",
              "AAAAAAAAAAAAAAAAAQAAAAAAAAAAAAAAAAAAQAAAAAAAAAAAAAAAAAAAAAAAAAAAAAAAAAAAAAAA\n",
              "AAIAAA7kdHJhawAAAFx0a2hkAAAAAwAAAAAAAAAAAAAAAQAAAAAAACcQAAAAAAAAAAAAAAAAAAAA\n",
              "AAABAAAAAAAAAAAAAAAAAAAAAQAAAAAAAAAAAAAAAAAAQAAAAAGwAAABIAAAAAAAJGVkdHMAAAAc\n",
              "ZWxzdAAAAAAAAAABAAAnEAAABAAAAQAAAAAOXG1kaWEAAAAgbWRoZAAAAAAAAAAAAAAAAAAAPAAA\n",
              "AlgAVcQAAAAAAC1oZGxyAAAAAAAAAAB2aWRlAAAAAAAAAAAAAAAAVmlkZW9IYW5kbGVyAAAADgdt\n",
              "aW5mAAAAFHZtaGQAAAABAAAAAAAAAAAAAAAkZGluZgAAABxkcmVmAAAAAAAAAAEAAAAMdXJsIAAA\n",
              "AAEAAA3Hc3RibAAAALNzdHNkAAAAAAAAAAEAAACjYXZjMQAAAAAAAAABAAAAAAAAAAAAAAAAAAAA\n",
              "AAGwASAASAAAAEgAAAAAAAAAAQAAAAAAAAAAAAAAAAAAAAAAAAAAAAAAAAAAAAAAAAAAABj//wAA\n",
              "ADFhdmNDAWQAFf/hABhnZAAVrNlBsJaEAAADAAQAAAMA8DxYtlgBAAZo6+PLIsAAAAAcdXVpZGto\n",
              "QPJfJE/FujmlG88DI/MAAAAAAAAAGHN0dHMAAAAAAAAAAQAAASwAAAIAAAAAGHN0c3MAAAAAAAAA\n",
              "AgAAAAEAAAD7AAAH6GN0dHMAAAAAAAAA+wAAAAEAAAQAAAAAAQAACAAAAAACAAACAAAAAAEAAAQA\n",
              "AAAAAQAABgAAAAABAAACAAAAAAEAAAYAAAAAAQAAAgAAAAAFAAAEAAAAAAEAAAYAAAAAAQAAAgAA\n",
              "AAAEAAAEAAAAAAEAAAoAAAAAAQAABAAAAAABAAAAAAAAAAEAAAIAAAAAAQAACAAAAAACAAACAAAA\n",
              "AAEAAAoAAAAAAQAABAAAAAABAAAAAAAAAAEAAAIAAAAAAQAACgAAAAABAAAEAAAAAAEAAAAAAAAA\n",
              "AQAAAgAAAAABAAAKAAAAAAEAAAQAAAAAAQAAAAAAAAABAAACAAAAAAEAAAYAAAAAAQAAAgAAAAAB\n",
              "AAAKAAAAAAEAAAQAAAAAAQAAAAAAAAABAAACAAAAAAEAAAoAAAAAAQAABAAAAAABAAAAAAAAAAEA\n",
              "AAIAAAAAAQAACgAAAAABAAAEAAAAAAEAAAAAAAAAAQAAAgAAAAABAAAKAAAAAAEAAAQAAAAAAQAA\n",
              "AAAAAAABAAACAAAAAAEAAAoAAAAAAQAABAAAAAABAAAAAAAAAAEAAAIAAAAAAQAACgAAAAABAAAE\n",
              "AAAAAAEAAAAAAAAAAQAAAgAAAAABAAAKAAAAAAEAAAQAAAAAAQAAAAAAAAABAAACAAAAAAEAAAoA\n",
              "AAAAAQAABAAAAAABAAAAAAAAAAEAAAIAAAAAAQAACgAAAAABAAAEAAAAAAEAAAAAAAAAAQAAAgAA\n",
              "AAABAAAKAAAAAAEAAAQAAAAAAQAAAAAAAAABAAACAAAAAAEAAAoAAAAAAQAABAAAAAABAAAAAAAA\n",
              "AAEAAAIAAAAAAQAABAAAAAABAAAKAAAAAAEAAAQAAAAAAQAAAAAAAAABAAACAAAAAAEAAAoAAAAA\n",
              "AQAABAAAAAABAAAAAAAAAAEAAAIAAAAAAQAACgAAAAABAAAEAAAAAAEAAAAAAAAAAQAAAgAAAAAB\n",
              "AAAKAAAAAAEAAAQAAAAAAQAAAAAAAAABAAACAAAAAAIAAAQAAAAAAQAACgAAAAABAAAEAAAAAAEA\n",
              "AAAAAAAAAQAAAgAAAAABAAAEAAAAAAEAAAoAAAAAAQAABAAAAAABAAAAAAAAAAEAAAIAAAAAAQAA\n",
              "BAAAAAABAAAKAAAAAAEAAAQAAAAAAQAAAAAAAAABAAACAAAAAAQAAAQAAAAAAQAACgAAAAABAAAE\n",
              "AAAAAAEAAAAAAAAAAQAAAgAAAAABAAAKAAAAAAEAAAQAAAAAAQAAAAAAAAABAAACAAAAAAMAAAQA\n",
              "AAAAAQAACgAAAAABAAAEAAAAAAEAAAAAAAAAAQAAAgAAAAAFAAAEAAAAAAEAAAoAAAAAAQAABAAA\n",
              "AAABAAAAAAAAAAEAAAIAAAAAAQAACgAAAAABAAAEAAAAAAEAAAAAAAAAAQAAAgAAAAAFAAAEAAAA\n",
              "AAEAAAoAAAAAAQAABAAAAAABAAAAAAAAAAEAAAIAAAAABQAABAAAAAABAAAKAAAAAAEAAAQAAAAA\n",
              "AQAAAAAAAAABAAACAAAAAAEAAAQAAAAAAQAACgAAAAABAAAEAAAAAAEAAAAAAAAAAQAAAgAAAAAB\n",
              "AAAEAAAAAAEAAAYAAAAAAQAAAgAAAAAFAAAEAAAAAAEAAAoAAAAAAQAABAAAAAABAAAAAAAAAAEA\n",
              "AAIAAAAAAQAABAAAAAABAAAGAAAAAAEAAAIAAAAAAQAABAAAAAABAAAGAAAAAAEAAAIAAAAAAQAA\n",
              "CgAAAAABAAAEAAAAAAEAAAAAAAAAAQAAAgAAAAAGAAAEAAAAAAEAAAYAAAAAAQAAAgAAAAABAAAG\n",
              "AAAAAAEAAAIAAAAAAQAABAAAAAABAAAGAAAAAAEAAAIAAAAAAQAABAAAAAABAAAGAAAAAAEAAAIA\n",
              "AAAAAQAACgAAAAABAAAEAAAAAAEAAAAAAAAAAQAAAgAAAAACAAAEAAAAAAEAAAoAAAAAAQAABAAA\n",
              "AAABAAAAAAAAAAEAAAIAAAAAAQAACgAAAAABAAAEAAAAAAEAAAAAAAAAAQAAAgAAAAABAAAKAAAA\n",
              "AAEAAAQAAAAAAQAAAAAAAAABAAACAAAAAAEAAAYAAAAAAQAAAgAAAAABAAAEAAAAAAEAAAYAAAAA\n",
              "AQAAAgAAAAABAAAGAAAAAAEAAAIAAAAAAQAABAAAAAABAAAIAAAAAAIAAAIAAAAABAAABAAAAAAB\n",
              "AAAGAAAAAAEAAAIAAAAAAQAABgAAAAABAAACAAAAAAMAAAQAAAAAAQAACgAAAAABAAAEAAAAAAEA\n",
              "AAAAAAAAAQAAAgAAAAABAAAEAAAAAAEAAAYAAAAAAQAAAgAAAAABAAAEAAAAAAEAAAYAAAAAAQAA\n",
              "AgAAAAACAAAEAAAAAAEAAAoAAAAAAQAABAAAAAABAAAAAAAAAAEAAAIAAAAAAQAABAAAAAABAAAG\n",
              "AAAAAAEAAAIAAAAAAQAABgAAAAABAAACAAAAAAEAAAYAAAAAAQAAAgAAAAABAAAGAAAAAAEAAAIA\n",
              "AAAAAgAABAAAAAABAAAKAAAAAAEAAAQAAAAAAQAAAAAAAAABAAACAAAAAAIAAAQAAAAAAQAABgAA\n",
              "AAABAAACAAAAAAEAAAgAAAAAAgAAAgAAAAABAAAIAAAAAAIAAAIAAAAAAQAABgAAAAABAAACAAAA\n",
              "AAEAAAYAAAAAAQAAAgAAAAABAAAEAAAAAAEAAAgAAAAAAgAAAgAAAAAcc3RzYwAAAAAAAAABAAAA\n",
              "AQAAASwAAAABAAAExHN0c3oAAAAAAAAAAAAAASwAABY+AAAAsQAAAC8AAAAdAAAAYQAAAOoAAAAc\n",
              "AAABDAAAABsAAACXAAABAwAAAPMAAAEQAAABaAAAAZUAAAAnAAAAwgAAAUIAAAE5AAABHQAAAgQA\n",
              "AAAyAAAAGAAAACIAAAGwAAAAIAAAABcAAAJaAAAAPgAAACkAAAAlAAAB8wAAACkAAAAWAAAAPwAA\n",
              "AfYAAAA1AAAAHAAAACYAAAHNAAAAIwAAAjQAAAA9AAAAIAAAAC0AAAG6AAAAKwAAABgAAAAzAAAB\n",
              "1AAAADMAAAAVAAAAIwAAAi8AAAB7AAAAGwAAACAAAAHZAAAAMAAAACIAAAATAAABqAAAAE8AAAAW\n",
              "AAAAFgAAAjEAAAA1AAAAJQAAABMAAAISAAAAUQAAACIAAAAXAAABzwAAACsAAAAkAAAAFQAAAegA\n",
              "AAAnAAAAFgAAABgAAAH7AAAALAAAAB8AAAARAAAA9AAAAmgAAAA0AAAAHAAAAB8AAAG6AAAAGwAA\n",
              "ABMAAAAXAAACLwAAAD0AAAAzAAAAJwAAAegAAAA5AAAAHgAAABkAAADuAAAA8AAAApkAAAA9AAAA\n",
              "JgAAACIAAAD8AAABzAAAACMAAAAbAAAAGgAAAK4AAAIoAAAANQAAACcAAAAkAAAAywAAAQMAAAEA\n",
              "AAABeQAAAn8AAAA3AAAAIwAAAB0AAAG2AAAAPAAAAC0AAAAdAAAA3gAAAQcAAAE1AAACDwAAADcA\n",
              "AAAjAAAAIQAAAO8AAAETAAABOwAAAUkAAAE1AAACPQAAAD0AAAApAAAAIgAAAhQAAAAzAAAAIwAA\n",
              "AB4AAAC0AAABLgAAAR4AAAFNAAABTgAAAjgAAAA/AAAAJgAAACAAAACLAAABNAAAAS4AAAEzAAAB\n",
              "SAAAAiEAAAArAAAAHwAAAB8AAAC5AAACIgAAADMAAAAvAAAAHgAAAHwAAAGMAAAAFQAAAKoAAAGO\n",
              "AAAA8gAAATkAAACtAAACWwAAACQAAAAtAAAAEQAAAH4AAAEyAAAAHAAAANQAAAGpAAAAHAAAAgsA\n",
              "AAAlAAAAHQAAABcAAAElAAAA5QAAAQ8AAAEmAAAA+wAAAQgAAAFDAAAAIgAAAYUAAAAjAAAA4QAA\n",
              "AWIAAAAYAAAAkAAAAioAAAAnAAAB4QAAACQAAAAfAAAAFQAAAJMAAAD9AAACRQAAACkAAAAdAAAA\n",
              "IAAAAf0AAAAtAAAAGwAAACAAAAHJAAAAJQAAABoAAAAXAAABMAAAACQAAADmAAABegAAABcAAAFT\n",
              "AAAAEQAAAMcAAAGjAAAAIQAAABUAAAEPAAAAwAAAAQMAAAETAAABNAAAAB8AAAFPAAAAFgAAAQcA\n",
              "AACdAAAXAgAAAWUAAAAuAAAAIQAAAB4AAABvAAABhQAAABwAAACMAAABcQAAABMAAABpAAAA6gAA\n",
              "AawAAAATAAAAGwAAABUAAABEAAAA3AAAABMAAAEkAAAAIAAAAPkAAAARAAAA8wAAAB0AAAD8AAAA\n",
              "pwAAAS0AAAAlAAAAJAAAABIAAABjAAAAcwAAAQkAAAAgAAAAwgAAADkAAAASAAABFgAAACUAAAAa\n",
              "AAAAYQAAABsAAACCAAAAJAAAAHQAAABPAAAALwAAAB0AAAAUc3RjbwAAAAAAAAABAAAALAAAAGJ1\n",
              "ZHRhAAAAWm1ldGEAAAAAAAAAIWhkbHIAAAAAAAAAAG1kaXJhcHBsAAAAAAAAAAAAAAAALWlsc3QA\n",
              "AAAlqXRvbwAAAB1kYXRhAAAAAQAAAABMYXZmNTcuODMuMTAw\n",
              "\">\n",
              "  Your browser does not support the video tag.\n",
              "</video>"
            ],
            "text/plain": [
              "<IPython.core.display.HTML object>"
            ]
          },
          "metadata": {
            "tags": []
          },
          "execution_count": 83
        }
      ]
    }
  ]
}